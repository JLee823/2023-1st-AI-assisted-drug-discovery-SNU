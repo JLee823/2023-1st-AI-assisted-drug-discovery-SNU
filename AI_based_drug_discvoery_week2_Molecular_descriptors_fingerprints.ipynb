{
  "nbformat": 4,
  "nbformat_minor": 0,
  "metadata": {
    "colab": {
      "provenance": [],
      "authorship_tag": "ABX9TyPewLEafMPGWi5TnIgLVUrR",
      "include_colab_link": true
    },
    "kernelspec": {
      "name": "python3",
      "display_name": "Python 3"
    },
    "language_info": {
      "name": "python"
    }
  },
  "cells": [
    {
      "cell_type": "markdown",
      "metadata": {
        "id": "view-in-github",
        "colab_type": "text"
      },
      "source": [
        "<a href=\"https://colab.research.google.com/github/JLee823/2023-1st-AI-assisted-drug-discovery-SNU/blob/main/AI_based_drug_discvoery_week2_Molecular_descriptors_fingerprints.ipynb\" target=\"_parent\"><img src=\"https://colab.research.google.com/assets/colab-badge.svg\" alt=\"Open In Colab\"/></a>"
      ]
    },
    {
      "cell_type": "markdown",
      "source": [
        "# RDKit 설치\n",
        "------\n",
        "RDKit을 설치하기 위해서 condacolab이라고 하는 패키지를 설치하여 rdkit을 설치한다. \n",
        "\n",
        "**Note**: 만일 에러가 나면 아래 셀을 다시 한 번 실행시킨다. \n",
        "\n",
        "기본적인 RDKit tutorial은 아래 사이트에서 찾을 수 있다. \n",
        "\n",
        "https://www.rdkit.org/docs/GettingStartedInPython.html"
      ],
      "metadata": {
        "id": "xSe5dsOfNqMg"
      }
    },
    {
      "cell_type": "code",
      "execution_count": null,
      "metadata": {
        "id": "iGcCUlMBLwbs"
      },
      "outputs": [],
      "source": [
        "!pip install -q condacolab\n",
        "import condacolab\n",
        "condacolab.install()\n",
        "\n",
        "import sys\n",
        "sys.path\n",
        "\n",
        "import condacolab\n",
        "condacolab.check()\n",
        "\n",
        "!mamba install -c conda-forge rdkit==2021.03.5"
      ]
    },
    {
      "cell_type": "markdown",
      "source": [
        "## RDKit 을 이용해서 분자 읽어들이기. \n",
        "-------"
      ],
      "metadata": {
        "id": "A07ruDlPNo6f"
      }
    },
    {
      "cell_type": "code",
      "source": [
        "import rdkit\n",
        "import rdkit.Chem as Chem\n",
        "from rdkit.Chem.Draw import IPythonConsole # Jupyter notebook에 분자가 바로 표현되게 하려면 이 줄이 필요하다. "
      ],
      "metadata": {
        "id": "Xjqq20ceNaw-"
      },
      "execution_count": null,
      "outputs": []
    },
    {
      "cell_type": "markdown",
      "source": [
        "### 1. 여러개의 분자가 들어있는 sdf 파일 포맷읽기\n",
        "----\n",
        "sdmolsupplier 는 SDF 파일 포맷 (Mol 포맷)으로 되어 있는 여러개의 분자를 읽는다. "
      ],
      "metadata": {
        "id": "3UtvuuCKO4LF"
      }
    },
    {
      "cell_type": "code",
      "source": [
        "suppl = Chem.SDMolSupplier(\"drugs.sdf\") # sdmolsupplier 는 SDF 파일 포맷 (Mol 포맷)으로 되어 있는 여러개의 분자를 읽는다. "
      ],
      "metadata": {
        "id": "I0YW7dDOOhKt"
      },
      "execution_count": null,
      "outputs": []
    },
    {
      "cell_type": "code",
      "source": [
        "type(suppl)"
      ],
      "metadata": {
        "id": "NLeRR1urPZvn",
        "colab": {
          "base_uri": "https://localhost:8080/"
        },
        "outputId": "942333da-5a13-4ebe-8c29-b3b746c3d01d"
      },
      "execution_count": null,
      "outputs": [
        {
          "output_type": "execute_result",
          "data": {
            "text/plain": [
              "rdkit.Chem.rdmolfiles.SDMolSupplier"
            ]
          },
          "metadata": {},
          "execution_count": 4
        }
      ]
    },
    {
      "cell_type": "markdown",
      "source": [
        "sdf 파일 안에 있는 첫번째 분자의 구조식을 확인해보자!"
      ],
      "metadata": {
        "id": "kH1tDs1feesa"
      }
    },
    {
      "cell_type": "code",
      "source": [
        "suppl[0]"
      ],
      "metadata": {
        "id": "7ZtaGGUPPbJs",
        "colab": {
          "base_uri": "https://localhost:8080/",
          "height": 167
        },
        "outputId": "fca5a679-170f-433e-a62b-70f39d421fa5"
      },
      "execution_count": null,
      "outputs": [
        {
          "output_type": "execute_result",
          "data": {
            "text/plain": [
              "<rdkit.Chem.rdchem.Mol at 0x7f27a1de6210>"
            ],
            "image/png": "[encoded data removed]"
          },
          "metadata": {},
          "execution_count": 5
        }
      ]
    },
    {
      "cell_type": "markdown",
      "source": [
        "supplier 안에 몇 개의 분자가 존재하는지 확인"
      ],
      "metadata": {
        "id": "0-2zEAyJebLj"
      }
    },
    {
      "cell_type": "code",
      "source": [
        "len(suppl) #"
      ],
      "metadata": {
        "id": "sr02P9V1PcqK",
        "colab": {
          "base_uri": "https://localhost:8080/"
        },
        "outputId": "35710ff7-36c4-41cd-b780-396d95c37f9b"
      },
      "execution_count": null,
      "outputs": [
        {
          "output_type": "execute_result",
          "data": {
            "text/plain": [
              "725"
            ]
          },
          "metadata": {},
          "execution_count": 6
        }
      ]
    },
    {
      "cell_type": "markdown",
      "source": [
        "101번째 분자의 구조"
      ],
      "metadata": {
        "id": "ZR_KQNTDieVd"
      }
    },
    {
      "cell_type": "code",
      "source": [
        "suppl[100]"
      ],
      "metadata": {
        "id": "84zB6vkhejSG",
        "colab": {
          "base_uri": "https://localhost:8080/",
          "height": 167
        },
        "outputId": "4b146a7b-bd54-4063-dfab-cfa2add7a6a8"
      },
      "execution_count": null,
      "outputs": [
        {
          "output_type": "execute_result",
          "data": {
            "text/plain": [
              "<rdkit.Chem.rdchem.Mol at 0x7f27a1df08a0>"
            ],
            "image/png": "[encoded data removed]"
          },
          "metadata": {},
          "execution_count": 7
        }
      ]
    },
    {
      "cell_type": "markdown",
      "source": [
        "### 예시: 분자를 구성하는 heavy atom의 개수 세기."
      ],
      "metadata": {
        "id": "wm4xRTS1j8Vj"
      }
    },
    {
      "cell_type": "code",
      "source": [
        "for mol in suppl:\n",
        "    # mol은 분자 정보가 들어가있는 mol class이다. \n",
        "    print(mol.GetNumAtoms()) # GetNumAtoms는 mol class의 method이다. "
      ],
      "metadata": {
        "id": "uEwql4rljzOB",
        "colab": {
          "base_uri": "https://localhost:8080/"
        },
        "outputId": "8ccbb260-baea-4f40-cb66-0c74a5cf8585"
      },
      "execution_count": null,
      "outputs": [
        {
          "output_type": "stream",
          "name": "stdout",
          "text": [
            "25\n",
            "11\n",
            "13\n",
            "19\n",
            "36\n",
            "10\n",
            "13\n",
            "16\n",
            "21\n",
            "21\n",
            "25\n",
            "26\n",
            "7\n",
            "30\n",
            "23\n",
            "19\n",
            "20\n",
            "10\n",
            "18\n",
            "19\n",
            "17\n",
            "17\n",
            "20\n",
            "17\n",
            "20\n",
            "13\n",
            "15\n",
            "29\n",
            "16\n",
            "31\n",
            "20\n",
            "19\n",
            "16\n",
            "25\n",
            "16\n",
            "20\n",
            "21\n",
            "24\n",
            "10\n",
            "23\n",
            "26\n",
            "44\n",
            "25\n",
            "21\n",
            "9\n",
            "17\n",
            "24\n",
            "16\n",
            "21\n",
            "19\n",
            "21\n",
            "19\n",
            "26\n",
            "18\n",
            "30\n",
            "12\n",
            "23\n",
            "12\n",
            "11\n",
            "14\n",
            "20\n",
            "32\n",
            "16\n",
            "17\n",
            "23\n",
            "13\n",
            "28\n",
            "19\n",
            "26\n",
            "12\n",
            "35\n",
            "20\n",
            "28\n",
            "39\n",
            "13\n",
            "14\n",
            "20\n",
            "25\n",
            "27\n",
            "21\n",
            "23\n",
            "30\n",
            "19\n",
            "16\n",
            "36\n",
            "13\n",
            "13\n",
            "18\n",
            "28\n",
            "24\n",
            "12\n",
            "32\n",
            "34\n",
            "31\n",
            "20\n",
            "17\n",
            "33\n",
            "18\n",
            "20\n",
            "22\n",
            "33\n",
            "24\n",
            "27\n",
            "199\n",
            "28\n",
            "12\n",
            "25\n",
            "22\n",
            "40\n",
            "10\n",
            "34\n",
            "28\n",
            "22\n",
            "30\n",
            "30\n",
            "22\n",
            "10\n",
            "30\n",
            "26\n",
            "14\n",
            "20\n",
            "21\n",
            "24\n",
            "20\n",
            "22\n",
            "27\n",
            "19\n",
            "41\n",
            "18\n",
            "24\n",
            "28\n",
            "43\n",
            "14\n",
            "32\n",
            "29\n",
            "16\n",
            "19\n",
            "29\n",
            "30\n",
            "10\n",
            "36\n",
            "19\n",
            "34\n",
            "22\n",
            "27\n",
            "34\n",
            "31\n",
            "22\n",
            "37\n",
            "35\n",
            "18\n",
            "16\n",
            "33\n",
            "46\n",
            "13\n",
            "18\n",
            "24\n",
            "22\n",
            "21\n",
            "28\n",
            "26\n",
            "22\n",
            "31\n",
            "39\n",
            "19\n",
            "25\n",
            "19\n",
            "32\n",
            "27\n",
            "22\n",
            "15\n",
            "51\n",
            "15\n",
            "20\n",
            "26\n",
            "12\n",
            "9\n",
            "4\n",
            "34\n",
            "22\n",
            "14\n",
            "34\n",
            "31\n",
            "31\n",
            "17\n",
            "35\n",
            "36\n",
            "45\n",
            "24\n",
            "19\n",
            "25\n",
            "39\n",
            "32\n",
            "27\n",
            "29\n",
            "32\n",
            "26\n",
            "21\n",
            "22\n",
            "17\n",
            "23\n",
            "50\n",
            "17\n",
            "41\n",
            "22\n",
            "32\n",
            "33\n",
            "23\n",
            "12\n",
            "11\n",
            "28\n",
            "23\n",
            "17\n",
            "45\n",
            "32\n",
            "21\n",
            "19\n",
            "28\n",
            "25\n",
            "19\n",
            "33\n",
            "35\n",
            "26\n",
            "15\n",
            "30\n",
            "28\n",
            "10\n",
            "15\n",
            "11\n",
            "19\n",
            "16\n",
            "22\n",
            "54\n",
            "22\n",
            "15\n",
            "9\n",
            "15\n",
            "40\n",
            "21\n",
            "13\n",
            "32\n",
            "20\n",
            "21\n",
            "16\n",
            "26\n",
            "18\n",
            "37\n",
            "26\n",
            "19\n",
            "17\n",
            "35\n",
            "31\n",
            "11\n",
            "28\n",
            "31\n",
            "23\n",
            "22\n",
            "65\n",
            "14\n",
            "22\n",
            "32\n",
            "40\n",
            "19\n",
            "22\n",
            "26\n",
            "23\n",
            "22\n",
            "13\n",
            "10\n",
            "28\n",
            "15\n",
            "36\n",
            "21\n",
            "12\n",
            "17\n",
            "46\n",
            "18\n",
            "14\n",
            "22\n",
            "13\n",
            "21\n",
            "27\n",
            "10\n",
            "24\n",
            "27\n",
            "36\n",
            "23\n",
            "22\n",
            "29\n",
            "23\n",
            "16\n",
            "25\n",
            "31\n",
            "16\n",
            "29\n",
            "23\n",
            "32\n",
            "22\n",
            "18\n",
            "24\n",
            "19\n",
            "14\n",
            "20\n",
            "28\n",
            "35\n",
            "65\n",
            "22\n",
            "23\n",
            "14\n",
            "21\n",
            "17\n",
            "27\n",
            "25\n",
            "29\n",
            "30\n",
            "23\n",
            "41\n",
            "37\n",
            "19\n",
            "15\n",
            "29\n",
            "51\n",
            "18\n",
            "19\n",
            "16\n",
            "39\n",
            "31\n",
            "30\n",
            "20\n",
            "14\n",
            "29\n",
            "51\n",
            "27\n",
            "29\n",
            "22\n",
            "10\n",
            "31\n",
            "20\n",
            "21\n",
            "42\n",
            "16\n",
            "16\n",
            "17\n",
            "23\n",
            "37\n",
            "14\n",
            "39\n",
            "22\n",
            "80\n",
            "27\n",
            "17\n",
            "22\n",
            "23\n",
            "26\n",
            "33\n",
            "14\n",
            "23\n",
            "11\n",
            "17\n",
            "19\n",
            "16\n",
            "42\n",
            "18\n",
            "22\n",
            "32\n",
            "16\n",
            "20\n",
            "33\n",
            "31\n",
            "28\n",
            "21\n",
            "23\n",
            "7\n",
            "32\n",
            "41\n",
            "34\n",
            "15\n",
            "33\n",
            "19\n",
            "19\n",
            "32\n",
            "21\n",
            "19\n",
            "30\n",
            "13\n",
            "31\n",
            "20\n",
            "26\n",
            "29\n",
            "30\n",
            "27\n",
            "11\n",
            "17\n",
            "42\n",
            "19\n",
            "20\n",
            "24\n",
            "24\n",
            "24\n",
            "30\n",
            "65\n",
            "17\n",
            "18\n",
            "35\n",
            "23\n",
            "40\n",
            "14\n",
            "18\n",
            "40\n",
            "23\n",
            "6\n",
            "29\n",
            "10\n",
            "39\n",
            "11\n",
            "8\n",
            "24\n",
            "25\n",
            "20\n",
            "16\n",
            "29\n",
            "23\n",
            "17\n",
            "19\n",
            "14\n",
            "24\n",
            "37\n",
            "19\n",
            "9\n",
            "21\n",
            "24\n",
            "31\n",
            "21\n",
            "19\n",
            "31\n",
            "23\n",
            "29\n",
            "31\n",
            "26\n",
            "37\n",
            "33\n",
            "15\n",
            "11\n",
            "9\n",
            "28\n",
            "50\n",
            "31\n",
            "14\n",
            "27\n",
            "22\n",
            "23\n",
            "35\n",
            "28\n",
            "23\n",
            "26\n",
            "28\n",
            "19\n",
            "16\n",
            "38\n",
            "30\n",
            "13\n",
            "27\n",
            "33\n",
            "18\n",
            "37\n",
            "30\n",
            "24\n",
            "36\n",
            "25\n",
            "32\n",
            "37\n",
            "31\n",
            "21\n",
            "14\n",
            "23\n",
            "16\n",
            "10\n",
            "12\n",
            "33\n",
            "36\n",
            "28\n",
            "31\n",
            "35\n",
            "11\n",
            "13\n",
            "22\n",
            "33\n",
            "23\n",
            "21\n",
            "9\n",
            "7\n",
            "23\n",
            "21\n",
            "24\n",
            "22\n",
            "20\n",
            "40\n",
            "26\n",
            "22\n",
            "16\n",
            "24\n",
            "21\n",
            "23\n",
            "29\n",
            "27\n",
            "32\n",
            "28\n",
            "29\n",
            "29\n",
            "11\n",
            "11\n",
            "33\n",
            "9\n",
            "40\n",
            "19\n",
            "25\n",
            "18\n",
            "22\n",
            "30\n",
            "27\n",
            "25\n",
            "12\n",
            "23\n",
            "5\n",
            "23\n",
            "33\n",
            "25\n",
            "25\n",
            "37\n",
            "7\n",
            "23\n",
            "19\n",
            "35\n",
            "41\n",
            "5\n",
            "25\n",
            "17\n",
            "10\n",
            "41\n",
            "13\n",
            "21\n",
            "25\n",
            "13\n",
            "21\n",
            "28\n",
            "28\n",
            "15\n",
            "19\n",
            "28\n",
            "61\n",
            "21\n",
            "22\n",
            "33\n",
            "17\n",
            "20\n",
            "10\n",
            "21\n",
            "30\n",
            "20\n",
            "33\n",
            "30\n",
            "23\n",
            "25\n",
            "23\n",
            "29\n",
            "42\n",
            "4\n",
            "25\n",
            "14\n",
            "16\n",
            "15\n",
            "12\n",
            "15\n",
            "17\n",
            "12\n",
            "10\n",
            "21\n",
            "17\n",
            "11\n",
            "18\n",
            "20\n",
            "25\n",
            "22\n",
            "30\n",
            "21\n",
            "42\n",
            "49\n",
            "26\n",
            "21\n",
            "14\n",
            "19\n",
            "9\n",
            "19\n",
            "21\n",
            "16\n",
            "16\n",
            "36\n",
            "28\n",
            "35\n",
            "17\n",
            "19\n",
            "20\n",
            "16\n",
            "26\n",
            "24\n",
            "29\n",
            "34\n",
            "50\n",
            "33\n",
            "15\n",
            "30\n",
            "28\n",
            "7\n",
            "9\n",
            "17\n",
            "22\n",
            "54\n",
            "16\n",
            "14\n",
            "27\n",
            "27\n",
            "16\n",
            "10\n",
            "39\n",
            "23\n",
            "18\n",
            "21\n",
            "31\n",
            "11\n",
            "23\n",
            "10\n",
            "8\n",
            "10\n",
            "17\n",
            "27\n",
            "25\n",
            "34\n",
            "25\n",
            "19\n",
            "32\n",
            "26\n",
            "37\n",
            "21\n",
            "17\n",
            "16\n",
            "25\n",
            "31\n",
            "30\n",
            "35\n",
            "19\n",
            "21\n",
            "23\n",
            "11\n",
            "26\n",
            "31\n",
            "21\n",
            "65\n",
            "13\n",
            "33\n",
            "21\n",
            "19\n",
            "21\n",
            "18\n",
            "28\n",
            "33\n",
            "26\n",
            "21\n",
            "13\n",
            "41\n",
            "14\n",
            "33\n",
            "17\n",
            "22\n",
            "25\n",
            "27\n",
            "35\n",
            "26\n",
            "30\n",
            "31\n",
            "23\n",
            "34\n",
            "49\n",
            "35\n",
            "18\n",
            "19\n",
            "25\n",
            "15\n",
            "29\n",
            "28\n",
            "10\n",
            "21\n",
            "17\n",
            "34\n",
            "17\n",
            "33\n",
            "12\n",
            "21\n",
            "19\n",
            "40\n",
            "26\n",
            "11\n",
            "5\n",
            "20\n",
            "41\n",
            "4\n",
            "15\n",
            "14\n",
            "11\n",
            "29\n",
            "25\n",
            "27\n",
            "13\n",
            "17\n",
            "19\n",
            "29\n",
            "16\n",
            "37\n",
            "21\n",
            "34\n",
            "17\n",
            "10\n",
            "20\n",
            "26\n",
            "25\n",
            "22\n"
          ]
        }
      ]
    },
    {
      "cell_type": "markdown",
      "source": [
        "### 목표: 원자의 개수가 30이상인 큰 분자들만 large_molecules 라는 리스트에 저장. \n"
      ],
      "metadata": {
        "id": "EZrtZ7Fwj5d3"
      }
    },
    {
      "cell_type": "code",
      "source": [
        "large_molecules = [] \n",
        "for mol in suppl:\n",
        "    num_atom = mol.GetNumAtoms()\n",
        "    if num_atom >= 30:\n",
        "        large_molecules.append(mol)\n",
        "print(f\"Number of large molecules: {len(large_molecules)}\")"
      ],
      "metadata": {
        "id": "-QRKM-a5jzu9",
        "colab": {
          "base_uri": "https://localhost:8080/"
        },
        "outputId": "195bdb39-12dc-4e68-c479-add5b877a9eb"
      },
      "execution_count": null,
      "outputs": [
        {
          "output_type": "stream",
          "name": "stdout",
          "text": [
            "Number of large molecules: 181\n"
          ]
        }
      ]
    },
    {
      "cell_type": "markdown",
      "source": [
        "**큰 분자들의 구조식을 확인해보자.**"
      ],
      "metadata": {
        "id": "Zrfvl5JomQog"
      }
    },
    {
      "cell_type": "code",
      "source": [
        "large_molecules[0]"
      ],
      "metadata": {
        "id": "gWFNN4VMmTrc",
        "colab": {
          "base_uri": "https://localhost:8080/",
          "height": 167
        },
        "outputId": "2a20c9cd-aca7-4354-bf3e-332f43ab98c2"
      },
      "execution_count": null,
      "outputs": [
        {
          "output_type": "execute_result",
          "data": {
            "text/plain": [
              "<rdkit.Chem.rdchem.Mol at 0x7f27a1df7da0>"
            ],
            "image/png": "[encoded data removed]"
          },
          "metadata": {},
          "execution_count": 10
        }
      ]
    },
    {
      "cell_type": "markdown",
      "source": [
        "## List comprehension을 이용해서 원하는 분자만 골라내기. "
      ],
      "metadata": {
        "id": "8QoXJjPFpmnU"
      }
    },
    {
      "cell_type": "code",
      "source": [
        "# python에서는 list comprehension 을 제공. \n",
        "large_mol2 = [mol for mol in suppl if mol.GetNumAtoms() >=30]"
      ],
      "metadata": {
        "id": "YT8aEXuOmWWV"
      },
      "execution_count": null,
      "outputs": []
    },
    {
      "cell_type": "markdown",
      "source": [
        "큰 분자의 개수 출력"
      ],
      "metadata": {
        "id": "hYWYTY37r0JR"
      }
    },
    {
      "cell_type": "code",
      "source": [
        "print(len(large_mol2))"
      ],
      "metadata": {
        "id": "j2d-aqJUpsEq",
        "colab": {
          "base_uri": "https://localhost:8080/"
        },
        "outputId": "ba0d0018-f839-45e7-c7ac-df3347fe49c2"
      },
      "execution_count": null,
      "outputs": [
        {
          "output_type": "stream",
          "name": "stdout",
          "text": [
            "181\n"
          ]
        }
      ]
    },
    {
      "cell_type": "code",
      "source": [
        "type(mol)"
      ],
      "metadata": {
        "colab": {
          "base_uri": "https://localhost:8080/"
        },
        "id": "X0tH6pJ5gYyp",
        "outputId": "f4e0c847-c069-40e3-fc1b-3ab7543d8fb8"
      },
      "execution_count": null,
      "outputs": [
        {
          "output_type": "execute_result",
          "data": {
            "text/plain": [
              "rdkit.Chem.rdchem.Mol"
            ]
          },
          "metadata": {},
          "execution_count": 13
        }
      ]
    },
    {
      "cell_type": "markdown",
      "source": [
        "RDKit Mol 문서\n",
        "-----\n",
        "https://www.rdkit.org/docs/source/rdkit.Chem.rdchem.html#rdkit.Chem.rdchem.Mol"
      ],
      "metadata": {
        "id": "0cQmYU8hg5XE"
      }
    },
    {
      "cell_type": "code",
      "source": [],
      "metadata": {
        "id": "XWWBr4-Hg2oC"
      },
      "execution_count": null,
      "outputs": []
    },
    {
      "cell_type": "markdown",
      "source": [
        "list comprehension에 관해서는 https://wikidocs.net/22805 참고. "
      ],
      "metadata": {
        "id": "21bCV949IHMJ"
      }
    },
    {
      "cell_type": "markdown",
      "source": [
        "# 분자를 SMILES로 부터 읽어들이기.\n"
      ],
      "metadata": {
        "id": "pGfvO9dHISBh"
      }
    },
    {
      "cell_type": "code",
      "source": [
        "m=Chem.MolFromSmiles('C[C@H](O)c1ccccc1')"
      ],
      "metadata": {
        "id": "GLxnfa5Crzge"
      },
      "execution_count": null,
      "outputs": []
    },
    {
      "cell_type": "code",
      "source": [],
      "metadata": {
        "id": "HNyQN8nFhGXw"
      },
      "execution_count": null,
      "outputs": []
    },
    {
      "cell_type": "code",
      "source": [
        "m"
      ],
      "metadata": {
        "id": "IdlVjb95IYsf",
        "colab": {
          "base_uri": "https://localhost:8080/",
          "height": 167
        },
        "outputId": "5623db47-a67e-4fc2-84a1-4f668f3d7c74"
      },
      "execution_count": null,
      "outputs": [
        {
          "output_type": "execute_result",
          "data": {
            "text/plain": [
              "<rdkit.Chem.rdchem.Mol at 0x7f27a12ec300>"
            ],
            "image/png": "[encoded data removed]"
          },
          "metadata": {},
          "execution_count": 15
        }
      ]
    },
    {
      "cell_type": "code",
      "source": [],
      "metadata": {
        "id": "L29gr7PphH5C"
      },
      "execution_count": null,
      "outputs": []
    },
    {
      "cell_type": "markdown",
      "source": [
        "## SMILES에서 chirality 표시하기.\n",
        "* @ 는 반시계 방향.\n",
        "* @@ 는 시계 방향.\n",
        "* chirality는 필수는 아님. "
      ],
      "metadata": {
        "id": "A_nhVYTEIf6E"
      }
    },
    {
      "cell_type": "code",
      "source": [
        "m2=Chem.MolFromSmiles('CC(O)c1ccccc1')"
      ],
      "metadata": {
        "id": "yn_ApIuBIaf7"
      },
      "execution_count": null,
      "outputs": []
    },
    {
      "cell_type": "code",
      "source": [
        "m2"
      ],
      "metadata": {
        "id": "8uz79fL0Icrh",
        "colab": {
          "base_uri": "https://localhost:8080/",
          "height": 167
        },
        "outputId": "75c1a7ad-360b-403c-9e91-1399789c56d5"
      },
      "execution_count": null,
      "outputs": [
        {
          "output_type": "execute_result",
          "data": {
            "text/plain": [
              "<rdkit.Chem.rdchem.Mol at 0x7f27a12f28f0>"
            ],
            "image/png": "[encoded data removed]"
          },
          "metadata": {},
          "execution_count": 17
        }
      ]
    },
    {
      "cell_type": "code",
      "source": [
        "m3 = Chem.MolFromSmiles('C1=CC=CN=C1')"
      ],
      "metadata": {
        "id": "iHvZgHS5IpAo"
      },
      "execution_count": null,
      "outputs": []
    },
    {
      "cell_type": "code",
      "source": [
        "m3"
      ],
      "metadata": {
        "id": "Tb9PZQEFIw48",
        "colab": {
          "base_uri": "https://localhost:8080/",
          "height": 167
        },
        "outputId": "30740385-0b81-4813-ecb5-ea78b6ed1ce7"
      },
      "execution_count": null,
      "outputs": [
        {
          "output_type": "execute_result",
          "data": {
            "text/plain": [
              "<rdkit.Chem.rdchem.Mol at 0x7f27a12f83a0>"
            ],
            "image/png": "[encoded data removed]"
          },
          "metadata": {},
          "execution_count": 19
        }
      ]
    },
    {
      "cell_type": "code",
      "source": [
        "Chem.Kekulize(m3) # aromatic bond가 single-double-single-double-... 이런식으로 표현되도록 한다. "
      ],
      "metadata": {
        "id": "Zj-vs9-tIyH8"
      },
      "execution_count": null,
      "outputs": []
    },
    {
      "cell_type": "code",
      "source": [
        "Chem.MolToSmiles(m2)"
      ],
      "metadata": {
        "colab": {
          "base_uri": "https://localhost:8080/",
          "height": 35
        },
        "id": "1piRfqQzhakt",
        "outputId": "75f8dc45-af9d-4d67-f16b-19aafdb8c223"
      },
      "execution_count": null,
      "outputs": [
        {
          "output_type": "execute_result",
          "data": {
            "text/plain": [
              "'CC(O)c1ccccc1'"
            ],
            "application/vnd.google.colaboratory.intrinsic+json": {
              "type": "string"
            }
          },
          "metadata": {},
          "execution_count": 21
        }
      ]
    },
    {
      "cell_type": "code",
      "source": [
        "Chem.Kekulize(m2)"
      ],
      "metadata": {
        "id": "5Yde7bWJhgvO"
      },
      "execution_count": null,
      "outputs": []
    },
    {
      "cell_type": "markdown",
      "source": [
        "# 여러개의 SMILES를 읽어서 mol-type 변수의 리스트로 저장하기\n",
        "------\n",
        "많은 경우 여러개의 SMILES들이 하나의 text 파일로 저장되어 있는 경우가 많다. \n",
        "\n",
        "이 경우, SMILES들을 순차적으로 읽어들여 리스트에 저장하는 예시를 살펴보자. \n"
      ],
      "metadata": {
        "id": "Erno00r035KF"
      }
    },
    {
      "cell_type": "code",
      "source": [
        "mol_list = []\n",
        "with open(\"drugs.smi\") as fp:\n",
        "  for line in fp:\n",
        "    m = Chem.MolFromSmiles(line)\n",
        "    mol_list.append(m)"
      ],
      "metadata": {
        "id": "4Oi5-Jt_5rxx"
      },
      "execution_count": null,
      "outputs": []
    },
    {
      "cell_type": "code",
      "source": [
        "len(mol_list)"
      ],
      "metadata": {
        "colab": {
          "base_uri": "https://localhost:8080/"
        },
        "id": "1V4DFgKEiRFn",
        "outputId": "378ea226-be22-476a-e4ae-b3e9938d44c4"
      },
      "execution_count": null,
      "outputs": [
        {
          "output_type": "execute_result",
          "data": {
            "text/plain": [
              "600"
            ]
          },
          "metadata": {},
          "execution_count": 30
        }
      ]
    },
    {
      "cell_type": "code",
      "source": [
        "mol_list[1]"
      ],
      "metadata": {
        "colab": {
          "base_uri": "https://localhost:8080/",
          "height": 167
        },
        "id": "2VWmAxySiTf7",
        "outputId": "e7bc05e3-5126-40bc-82f5-c6c507b7da53"
      },
      "execution_count": null,
      "outputs": [
        {
          "output_type": "execute_result",
          "data": {
            "text/plain": [
              "<rdkit.Chem.rdchem.Mol at 0x7f27a12ad5d0>"
            ],
            "image/png": "[encoded data removed]"
          },
          "metadata": {},
          "execution_count": 31
        }
      ]
    },
    {
      "cell_type": "markdown",
      "source": [
        "# RDKit에서 분자를 파일로 저장하기. \n"
      ],
      "metadata": {
        "id": "9DthjowJI43p"
      }
    },
    {
      "cell_type": "markdown",
      "source": [
        "## SMILES로 출력하기. \n",
        "\n",
        "기본적으로 aromaticity는 소문자로 나타낸다. "
      ],
      "metadata": {
        "id": "8yCMEPrKsoH2"
      }
    },
    {
      "cell_type": "code",
      "source": [
        "Chem.MolToSmiles(m)"
      ],
      "metadata": {
        "id": "b84aPb8qI0kL",
        "colab": {
          "base_uri": "https://localhost:8080/",
          "height": 54
        },
        "outputId": "3a273c17-fdb9-4894-92cc-2380e7ddab05"
      },
      "execution_count": null,
      "outputs": [
        {
          "output_type": "execute_result",
          "data": {
            "text/plain": [
              "'CO[C@H]1/C=C/O[C@@]2(C)Oc3c(C)c(O)c4c(O)c(c(/C=N/N5CCN(C6CCCC6)CC5)c(O)c4c3C2=O)NC(=O)/C(C)=C\\\\C=C\\\\[C@H](C)[C@H](O)[C@@H](C)[C@@H](O)[C@@H](C)[C@H](OC(C)=O)[C@@H]1C'"
            ],
            "application/vnd.google.colaboratory.intrinsic+json": {
              "type": "string"
            }
          },
          "metadata": {},
          "execution_count": 32
        }
      ]
    },
    {
      "cell_type": "code",
      "source": [
        "Chem.MolToSmiles(m2)"
      ],
      "metadata": {
        "id": "6fydhZcoJTYv",
        "colab": {
          "base_uri": "https://localhost:8080/",
          "height": 35
        },
        "outputId": "9b63ea97-2d77-4f36-af53-38e30d10b500"
      },
      "execution_count": null,
      "outputs": [
        {
          "output_type": "execute_result",
          "data": {
            "text/plain": [
              "'CC(O)c1ccccc1'"
            ],
            "application/vnd.google.colaboratory.intrinsic+json": {
              "type": "string"
            }
          },
          "metadata": {},
          "execution_count": 33
        }
      ]
    },
    {
      "cell_type": "code",
      "source": [
        "Chem.MolToSmiles(m3)"
      ],
      "metadata": {
        "id": "JeJEBlYVJWNa",
        "colab": {
          "base_uri": "https://localhost:8080/",
          "height": 35
        },
        "outputId": "15f91462-e7bd-41f7-9179-c1da8d030153"
      },
      "execution_count": null,
      "outputs": [
        {
          "output_type": "execute_result",
          "data": {
            "text/plain": [
              "'c1ccncc1'"
            ],
            "application/vnd.google.colaboratory.intrinsic+json": {
              "type": "string"
            }
          },
          "metadata": {},
          "execution_count": 34
        }
      ]
    },
    {
      "cell_type": "markdown",
      "source": [
        "### Kekulization\n",
        "------\n",
        "single-double-single-... 이런 형태로 SMILES가 출력하도록 함."
      ],
      "metadata": {
        "id": "3s8uK-4vJfQm"
      }
    },
    {
      "cell_type": "code",
      "source": [
        "Chem.MolToSmiles(m, kekuleSmiles=True, canonical=True) # Canonical SMILES를 출력한다."
      ],
      "metadata": {
        "id": "CDdR85ONJXS7",
        "colab": {
          "base_uri": "https://localhost:8080/",
          "height": 54
        },
        "outputId": "664cb9dd-38a5-49b2-b6f2-b5f07be5cfa3"
      },
      "execution_count": null,
      "outputs": [
        {
          "output_type": "execute_result",
          "data": {
            "text/plain": [
              "'CO[C@H]1/C=C/O[C@@]2(C)OC3=C(C2=O)C2=C(C(O)=C3C)C(O)=C(NC(=O)/C(C)=C\\\\C=C\\\\[C@H](C)[C@H](O)[C@@H](C)[C@@H](O)[C@@H](C)[C@H](OC(C)=O)[C@@H]1C)C(/C=N/N1CCN(C3CCCC3)CC1)=C2O'"
            ],
            "application/vnd.google.colaboratory.intrinsic+json": {
              "type": "string"
            }
          },
          "metadata": {},
          "execution_count": 35
        }
      ]
    },
    {
      "cell_type": "code",
      "source": [
        "Chem.MolToSmiles(m3, kekuleSmiles=True)"
      ],
      "metadata": {
        "id": "T8MkUB7pJd6y",
        "colab": {
          "base_uri": "https://localhost:8080/",
          "height": 35
        },
        "outputId": "8f5d858a-934f-4980-af7d-33d3da0be6f6"
      },
      "execution_count": null,
      "outputs": [
        {
          "output_type": "execute_result",
          "data": {
            "text/plain": [
              "'C1=CC=NC=C1'"
            ],
            "application/vnd.google.colaboratory.intrinsic+json": {
              "type": "string"
            }
          },
          "metadata": {},
          "execution_count": 36
        }
      ]
    },
    {
      "cell_type": "code",
      "source": [
        "Chem.MolToSmiles(m3, kekuleSmiles=False)"
      ],
      "metadata": {
        "id": "lxPrdX6dJ20S",
        "colab": {
          "base_uri": "https://localhost:8080/",
          "height": 35
        },
        "outputId": "179f4d35-9dca-4b73-ca2f-00f836f5e3c9"
      },
      "execution_count": null,
      "outputs": [
        {
          "output_type": "execute_result",
          "data": {
            "text/plain": [
              "'c1ccncc1'"
            ],
            "application/vnd.google.colaboratory.intrinsic+json": {
              "type": "string"
            }
          },
          "metadata": {},
          "execution_count": 37
        }
      ]
    },
    {
      "cell_type": "markdown",
      "source": [
        "isomericSmilles = True 이면 chirality 정보를 출력한다. "
      ],
      "metadata": {
        "id": "EVavPzyvKcU5"
      }
    },
    {
      "cell_type": "code",
      "source": [
        "Chem.MolToSmiles(m, kekuleSmiles=True, isomericSmiles=True) "
      ],
      "metadata": {
        "id": "s9Sa0k4EJ5Cc",
        "colab": {
          "base_uri": "https://localhost:8080/",
          "height": 54
        },
        "outputId": "8cf85425-c046-4a19-a702-d809f183d778"
      },
      "execution_count": null,
      "outputs": [
        {
          "output_type": "execute_result",
          "data": {
            "text/plain": [
              "'CO[C@H]1/C=C/O[C@@]2(C)OC3=C(C2=O)C2=C(C(O)=C3C)C(O)=C(NC(=O)/C(C)=C\\\\C=C\\\\[C@H](C)[C@H](O)[C@@H](C)[C@@H](O)[C@@H](C)[C@H](OC(C)=O)[C@@H]1C)C(/C=N/N1CCN(C3CCCC3)CC1)=C2O'"
            ],
            "application/vnd.google.colaboratory.intrinsic+json": {
              "type": "string"
            }
          },
          "metadata": {},
          "execution_count": 38
        }
      ]
    },
    {
      "cell_type": "markdown",
      "source": [
        "isomericSmilles = False 이면 chiraity 정보 무시.  "
      ],
      "metadata": {
        "id": "beUDsLlQKj_m"
      }
    },
    {
      "cell_type": "code",
      "source": [
        "Chem.MolToSmiles(m, kekuleSmiles=True, isomericSmiles=False) "
      ],
      "metadata": {
        "id": "Od3rjqdNKVIt",
        "colab": {
          "base_uri": "https://localhost:8080/",
          "height": 35
        },
        "outputId": "06861bb3-f830-4155-f5b4-8b674be55d58"
      },
      "execution_count": null,
      "outputs": [
        {
          "output_type": "execute_result",
          "data": {
            "text/plain": [
              "'COC1C=COC2(C)OC3=C(C2=O)C2=C(C(O)=C3C)C(O)=C(NC(=O)C(C)=CC=CC(C)C(O)C(C)C(O)C(C)C(OC(C)=O)C1C)C(C=NN1CCN(C3CCCC3)CC1)=C2O'"
            ],
            "application/vnd.google.colaboratory.intrinsic+json": {
              "type": "string"
            }
          },
          "metadata": {},
          "execution_count": 39
        }
      ]
    },
    {
      "cell_type": "markdown",
      "source": [
        "### MolToSmiles의 모든 옵션은 다음 주소에서 확인할 수 있다. \n",
        "https://www.rdkit.org/docs/source/rdkit.Chem.rdmolfiles.html#rdkit.Chem.rdmolfiles.MolToSmiles"
      ],
      "metadata": {
        "id": "nf0J4rqIKqlG"
      }
    },
    {
      "cell_type": "markdown",
      "source": [
        "## 2. 분자를 Mol format으로 출력하기.\n",
        "------\n",
        "Chem.MolToMolBlock 함수를 사용. "
      ],
      "metadata": {
        "id": "0IHWIRw8Kxps"
      }
    },
    {
      "cell_type": "code",
      "source": [
        "m"
      ],
      "metadata": {
        "colab": {
          "base_uri": "https://localhost:8080/",
          "height": 167
        },
        "id": "wZNMzgvjjCbp",
        "outputId": "eaea6707-59f8-4ac5-a873-762970721f99"
      },
      "execution_count": null,
      "outputs": [
        {
          "output_type": "execute_result",
          "data": {
            "text/plain": [
              "<rdkit.Chem.rdchem.Mol at 0x7f27a1243710>"
            ],
            "image/png": "[encoded data removed]"
          },
          "metadata": {},
          "execution_count": 41
        }
      ]
    },
    {
      "cell_type": "code",
      "source": [
        "print(Chem.MolToMolBlock(m)) # rdkit mol instance를 Mol-format으로 출력. "
      ],
      "metadata": {
        "id": "tCu5iMdjKhHf",
        "colab": {
          "base_uri": "https://localhost:8080/"
        },
        "outputId": "3b3a31b5-04c8-448d-fc62-3abbcb89a91f"
      },
      "execution_count": null,
      "outputs": [
        {
          "output_type": "stream",
          "name": "stdout",
          "text": [
            "\n",
            "     RDKit          2D\n",
            "\n",
            " 63 68  0  0  0  0  0  0  0  0999 V2000\n",
            "    0.4940    8.3646    0.0000 C   0  0  0  0  0  0  0  0  0  0  0  0\n",
            "   -1.0057    8.3332    0.0000 O   0  0  0  0  0  0  0  0  0  0  0  0\n",
            "   -1.7283    7.0188    0.0000 C   0  0  0  0  0  0  0  0  0  0  0  0\n",
            "   -0.5195    6.1307    0.0000 C   0  0  0  0  0  0  0  0  0  0  0  0\n",
            "    0.4184    4.9601    0.0000 C   0  0  0  0  0  0  0  0  0  0  0  0\n",
            "    1.0212    3.5866    0.0000 O   0  0  0  0  0  0  0  0  0  0  0  0\n",
            "    0.3943    1.2135    0.0000 C   0  0  0  0  0  0  0  0  0  0  0  0\n",
            "    0.8578    2.6401    0.0000 C   0  0  0  0  0  0  0  0  0  0  0  0\n",
            "    1.2760    0.0000    0.0000 O   0  0  0  0  0  0  0  0  0  0  0  0\n",
            "    0.3943   -1.2135    0.0000 C   0  0  0  0  0  0  0  0  0  0  0  0\n",
            "   -1.0323   -0.7500    0.0000 C   0  0  0  0  0  0  0  0  0  0  0  0\n",
            "   -1.0323    0.7500    0.0000 C   0  0  0  0  0  0  0  0  0  0  0  0\n",
            "   -2.2458    1.6317    0.0000 O   0  0  0  0  0  0  0  0  0  0  0  0\n",
            "   -2.1470   -1.7537    0.0000 C   0  0  0  0  0  0  0  0  0  0  0  0\n",
            "   -1.8351   -3.2209    0.0000 C   0  0  0  0  0  0  0  0  0  0  0  0\n",
            "   -0.4086   -3.6844    0.0000 C   0  0  0  0  0  0  0  0  0  0  0  0\n",
            "   -0.0967   -5.1517    0.0000 O   0  0  0  0  0  0  0  0  0  0  0  0\n",
            "    0.7062   -2.6807    0.0000 C   0  0  0  0  0  0  0  0  0  0  0  0\n",
            "    2.1328   -3.1443    0.0000 C   0  0  0  0  0  0  0  0  0  0  0  0\n",
            "   -2.9499   -4.2246    0.0000 C   0  0  0  0  0  0  0  0  0  0  0  0\n",
            "   -2.6380   -5.6918    0.0000 O   0  0  0  0  0  0  0  0  0  0  0  0\n",
            "   -4.3764   -3.7611    0.0000 C   0  0  0  0  0  0  0  0  0  0  0  0\n",
            "   -5.8674   -3.5964    0.0000 N   0  0  0  0  0  0  0  0  0  0  0  0\n",
            "   -7.2649   -3.0515    0.0000 C   0  0  0  0  0  0  0  0  0  0  0  0\n",
            "   -7.9876   -4.3660    0.0000 O   0  0  0  0  0  0  0  0  0  0  0  0\n",
            "   -8.4738   -2.1635    0.0000 C   0  0  0  0  0  0  0  0  0  0  0  0\n",
            "   -9.5120   -3.2461    0.0000 C   0  0  0  0  0  0  0  0  0  0  0  0\n",
            "   -9.4116   -0.9928    0.0000 C   0  0  0  0  0  0  0  0  0  0  0  0\n",
            "  -10.0145    0.3807    0.0000 C   0  0  0  0  0  0  0  0  0  0  0  0\n",
            "  -10.2413    1.8634    0.0000 C   0  0  0  0  0  0  0  0  0  0  0  0\n",
            "  -10.0767    3.3544    0.0000 C   0  0  0  0  0  0  0  0  0  0  0  0\n",
            "  -11.5334    3.7122    0.0000 C   0  0  0  0  0  0  0  0  0  0  0  0\n",
            "   -9.5318    4.7519    0.0000 C   0  0  0  0  0  0  0  0  0  0  0  0\n",
            "  -10.8462    5.4746    0.0000 O   0  0  0  0  0  0  0  0  0  0  0  0\n",
            "   -8.6437    5.9608    0.0000 C   0  0  0  0  0  0  0  0  0  0  0  0\n",
            "   -9.7263    6.9990    0.0000 C   0  0  0  0  0  0  0  0  0  0  0  0\n",
            "   -7.4731    6.8986    0.0000 C   0  0  0  0  0  0  0  0  0  0  0  0\n",
            "   -8.2501    8.1817    0.0000 O   0  0  0  0  0  0  0  0  0  0  0  0\n",
            "   -6.0995    7.5015    0.0000 C   0  0  0  0  0  0  0  0  0  0  0  0\n",
            "   -6.5180    8.9419    0.0000 C   0  0  0  0  0  0  0  0  0  0  0  0\n",
            "   -4.6168    7.7283    0.0000 C   0  0  0  0  0  0  0  0  0  0  0  0\n",
            "   -4.6482    9.2280    0.0000 O   0  0  0  0  0  0  0  0  0  0  0  0\n",
            "   -3.3651   10.0050    0.0000 C   0  0  0  0  0  0  0  0  0  0  0  0\n",
            "   -2.0507    9.2824    0.0000 C   0  0  0  0  0  0  0  0  0  0  0  0\n",
            "   -3.3965   11.5047    0.0000 O   0  0  0  0  0  0  0  0  0  0  0  0\n",
            "   -3.1259    7.5637    0.0000 C   0  0  0  0  0  0  0  0  0  0  0  0\n",
            "   -2.7680    9.0204    0.0000 C   0  0  0  0  0  0  0  0  0  0  0  0\n",
            "   -4.6883   -2.2939    0.0000 C   0  0  0  0  0  0  0  0  0  0  0  0\n",
            "   -6.1149   -1.8303    0.0000 C   0  0  0  0  0  0  0  0  0  0  0  0\n",
            "   -6.4268   -0.3631    0.0000 N   0  0  0  0  0  0  0  0  0  0  0  0\n",
            "   -7.8533    0.1004    0.0000 N   0  0  0  0  0  0  0  0  0  0  0  0\n",
            "   -8.1652    1.5676    0.0000 C   0  0  0  0  0  0  0  0  0  0  0  0\n",
            "   -9.5918    2.0312    0.0000 C   0  0  0  0  0  0  0  0  0  0  0  0\n",
            "  -10.7065    1.0275    0.0000 N   0  0  0  0  0  0  0  0  0  0  0  0\n",
            "  -10.3946   -0.4398    0.0000 C   0  0  0  0  0  0  0  0  0  0  0  0\n",
            "   -8.9681   -0.9033    0.0000 C   0  0  0  0  0  0  0  0  0  0  0  0\n",
            "  -12.1331    1.4910    0.0000 C   0  0  0  0  0  0  0  0  0  0  0  0\n",
            "  -13.3466    0.6093    0.0000 C   0  0  0  0  0  0  0  0  0  0  0  0\n",
            "  -14.5601    1.4910    0.0000 C   0  0  0  0  0  0  0  0  0  0  0  0\n",
            "  -14.0966    2.9176    0.0000 C   0  0  0  0  0  0  0  0  0  0  0  0\n",
            "  -12.5966    2.9176    0.0000 C   0  0  0  0  0  0  0  0  0  0  0  0\n",
            "   -3.5736   -1.2902    0.0000 C   0  0  0  0  0  0  0  0  0  0  0  0\n",
            "   -3.8855    0.1771    0.0000 O   0  0  0  0  0  0  0  0  0  0  0  0\n",
            "  1  2  1  0\n",
            "  3  2  1  1\n",
            "  3  4  1  0\n",
            "  4  5  2  0\n",
            "  5  6  1  0\n",
            "  6  7  1  0\n",
            "  7  8  1  6\n",
            "  7  9  1  0\n",
            "  9 10  1  0\n",
            " 10 11  2  0\n",
            " 11 12  1  0\n",
            " 12 13  2  0\n",
            " 11 14  1  0\n",
            " 14 15  2  0\n",
            " 15 16  1  0\n",
            " 16 17  1  0\n",
            " 16 18  2  0\n",
            " 18 19  1  0\n",
            " 15 20  1  0\n",
            " 20 21  1  0\n",
            " 20 22  2  0\n",
            " 22 23  1  0\n",
            " 23 24  1  0\n",
            " 24 25  2  0\n",
            " 24 26  1  0\n",
            " 26 27  1  0\n",
            " 26 28  2  0\n",
            " 28 29  1  0\n",
            " 29 30  2  0\n",
            " 30 31  1  0\n",
            " 31 32  1  6\n",
            " 31 33  1  0\n",
            " 33 34  1  6\n",
            " 33 35  1  0\n",
            " 35 36  1  1\n",
            " 35 37  1  0\n",
            " 37 38  1  1\n",
            " 37 39  1  0\n",
            " 39 40  1  1\n",
            " 39 41  1  0\n",
            " 41 42  1  6\n",
            " 42 43  1  0\n",
            " 43 44  1  0\n",
            " 43 45  2  0\n",
            " 41 46  1  0\n",
            " 46 47  1  6\n",
            " 22 48  1  0\n",
            " 48 49  1  0\n",
            " 49 50  2  0\n",
            " 50 51  1  0\n",
            " 51 52  1  0\n",
            " 52 53  1  0\n",
            " 53 54  1  0\n",
            " 54 55  1  0\n",
            " 55 56  1  0\n",
            " 54 57  1  0\n",
            " 57 58  1  0\n",
            " 58 59  1  0\n",
            " 59 60  1  0\n",
            " 60 61  1  0\n",
            " 48 62  2  0\n",
            " 62 63  1  0\n",
            " 46  3  1  0\n",
            " 56 51  1  0\n",
            " 61 57  1  0\n",
            " 12  7  1  0\n",
            " 62 14  1  0\n",
            " 18 10  1  0\n",
            "M  END\n",
            "\n"
          ]
        }
      ]
    },
    {
      "cell_type": "code",
      "source": [
        "print(Chem.MolToMolBlock(m2)) # rdkit mol instance를 Mol-format으로 출력. "
      ],
      "metadata": {
        "id": "2ZFjuYhDLBO8",
        "colab": {
          "base_uri": "https://localhost:8080/"
        },
        "outputId": "12929e5d-f8d0-4f56-e9b9-63372527ce75"
      },
      "execution_count": null,
      "outputs": [
        {
          "output_type": "stream",
          "name": "stdout",
          "text": [
            "\n",
            "     RDKit          2D\n",
            "\n",
            "  9  9  0  0  0  0  0  0  0  0999 V2000\n",
            "    3.7500   -1.2990    0.0000 C   0  0  0  0  0  0  0  0  0  0  0  0\n",
            "    3.0000    0.0000    0.0000 C   0  0  0  0  0  0  0  0  0  0  0  0\n",
            "    3.7500    1.2990    0.0000 O   0  0  0  0  0  0  0  0  0  0  0  0\n",
            "    1.5000    0.0000    0.0000 C   0  0  0  0  0  0  0  0  0  0  0  0\n",
            "    0.7500   -1.2990    0.0000 C   0  0  0  0  0  0  0  0  0  0  0  0\n",
            "   -0.7500   -1.2990    0.0000 C   0  0  0  0  0  0  0  0  0  0  0  0\n",
            "   -1.5000    0.0000    0.0000 C   0  0  0  0  0  0  0  0  0  0  0  0\n",
            "   -0.7500    1.2990    0.0000 C   0  0  0  0  0  0  0  0  0  0  0  0\n",
            "    0.7500    1.2990    0.0000 C   0  0  0  0  0  0  0  0  0  0  0  0\n",
            "  1  2  1  0\n",
            "  2  3  1  0\n",
            "  2  4  1  0\n",
            "  4  5  2  0\n",
            "  5  6  1  0\n",
            "  6  7  2  0\n",
            "  7  8  1  0\n",
            "  8  9  2  0\n",
            "  9  4  1  0\n",
            "M  END\n",
            "\n"
          ]
        }
      ]
    },
    {
      "cell_type": "code",
      "source": [
        "print(Chem.MolToMolBlock(m3)) # rdkit mol instance를 Mol-format으로 출력. "
      ],
      "metadata": {
        "id": "0uCfMZifLITj",
        "colab": {
          "base_uri": "https://localhost:8080/"
        },
        "outputId": "f97d38f2-7af4-4871-a7d3-7392c8831949"
      },
      "execution_count": null,
      "outputs": [
        {
          "output_type": "stream",
          "name": "stdout",
          "text": [
            "\n",
            "     RDKit          2D\n",
            "\n",
            "  6  6  0  0  0  0  0  0  0  0999 V2000\n",
            "    1.5000    0.0000    0.0000 C   0  0  0  0  0  0  0  0  0  0  0  0\n",
            "    0.7500   -1.2990    0.0000 C   0  0  0  0  0  0  0  0  0  0  0  0\n",
            "   -0.7500   -1.2990    0.0000 C   0  0  0  0  0  0  0  0  0  0  0  0\n",
            "   -1.5000    0.0000    0.0000 C   0  0  0  0  0  0  0  0  0  0  0  0\n",
            "   -0.7500    1.2990    0.0000 N   0  0  0  0  0  0  0  0  0  0  0  0\n",
            "    0.7500    1.2990    0.0000 C   0  0  0  0  0  0  0  0  0  0  0  0\n",
            "  1  2  2  0\n",
            "  2  3  1  0\n",
            "  3  4  2  0\n",
            "  4  5  1  0\n",
            "  5  6  2  0\n",
            "  6  1  1  0\n",
            "M  END\n",
            "\n"
          ]
        }
      ]
    },
    {
      "cell_type": "markdown",
      "source": [
        "파일로 저장하기 위해서는 MolToMolFile 함수를 이용한다. \n",
        "\n",
        "https://www.rdkit.org/docs/source/rdkit.Chem.rdmolfiles.html#rdkit.Chem.rdmolfiles.MolToMolFile\n",
        "\n",
        "아래 예시에서는 m3.mol 파일을 생성하고 분자의 정보를 mol format으로 저장한다. "
      ],
      "metadata": {
        "id": "0WkHuEYHLkQB"
      }
    },
    {
      "cell_type": "code",
      "source": [
        "Chem.MolToMolFile(m3, \"m3.mol\")"
      ],
      "metadata": {
        "id": "BO8RQRa3LuF-"
      },
      "execution_count": null,
      "outputs": []
    },
    {
      "cell_type": "markdown",
      "source": [
        "## PDB 파일로 저장하기\n",
        "------\n",
        "PDB 포맷으로 저장하기 위해서는 [MolToPDBBlock](https://www.rdkit.org/docs/source/rdkit.Chem.rdmolfiles.html#rdkit.Chem.rdmolfiles.MolToPDBBlock)과 [MolToPDBFile](https://www.rdkit.org/docs/source/rdkit.Chem.rdmolfiles.html#rdkit.Chem.rdmolfiles.MolToPDBFile) 함수를 이용한다. "
      ],
      "metadata": {
        "id": "4eq5wKaZtgAN"
      }
    },
    {
      "cell_type": "code",
      "source": [
        "print(Chem.MolToPDBBlock(m3))"
      ],
      "metadata": {
        "colab": {
          "base_uri": "https://localhost:8080/"
        },
        "id": "5RW9twXht-Pp",
        "outputId": "3e2260fe-12a4-452f-fea0-1b8167fd1b8d"
      },
      "execution_count": null,
      "outputs": [
        {
          "output_type": "stream",
          "name": "stdout",
          "text": [
            "HETATM    1  C1  UNL     1       0.000   0.000   0.000  1.00  0.00           C  \n",
            "HETATM    2  C2  UNL     1       0.000   0.000   0.000  1.00  0.00           C  \n",
            "HETATM    3  C3  UNL     1       0.000   0.000   0.000  1.00  0.00           C  \n",
            "HETATM    4  C4  UNL     1       0.000   0.000   0.000  1.00  0.00           C  \n",
            "HETATM    5  N1  UNL     1       0.000   0.000   0.000  1.00  0.00           N  \n",
            "HETATM    6  C5  UNL     1       0.000   0.000   0.000  1.00  0.00           C  \n",
            "CONECT    1    2    2    6\n",
            "CONECT    2    3\n",
            "CONECT    3    4    4\n",
            "CONECT    4    5\n",
            "CONECT    5    6    6\n",
            "END\n",
            "\n"
          ]
        }
      ]
    },
    {
      "cell_type": "markdown",
      "source": [
        "위 PDB 포맷에서는 모든 3차원의 좌표가 0.0 으로 되어 있다. \n",
        "\n",
        "이를 해결하기 위해서는 **분자의 3차원 구조 정보를 생성해 주어야 한다.**"
      ],
      "metadata": {
        "id": "50P5j4gWwMvE"
      }
    },
    {
      "cell_type": "code",
      "source": [
        "from rdkit.Chem import AllChem # AllChem module 읽어들이기.\n",
        "m3 = Chem.AddHs(m3) # 수소 붙이기\n",
        "AllChem.EmbedMolecule(m3) # 분자의 3차원 구조 생성"
      ],
      "metadata": {
        "colab": {
          "base_uri": "https://localhost:8080/"
        },
        "id": "zTKKkiy5vtwU",
        "outputId": "327220c7-b001-4052-d9ef-848f04766933"
      },
      "execution_count": null,
      "outputs": [
        {
          "output_type": "execute_result",
          "data": {
            "text/plain": [
              "0"
            ]
          },
          "metadata": {},
          "execution_count": 47
        }
      ]
    },
    {
      "cell_type": "code",
      "source": [
        "print(Chem.MolToPDBBlock(m3))"
      ],
      "metadata": {
        "colab": {
          "base_uri": "https://localhost:8080/"
        },
        "id": "XcPvCzlmwBpp",
        "outputId": "a931ddb1-3dde-4332-806b-13edd21b9ba0"
      },
      "execution_count": null,
      "outputs": [
        {
          "output_type": "stream",
          "name": "stdout",
          "text": [
            "HETATM    1  C1  UNL     1      -1.150   0.519  -0.040  1.00  0.00           C  \n",
            "HETATM    2  C2  UNL     1       0.071   1.152  -0.024  1.00  0.00           C  \n",
            "HETATM    3  C3  UNL     1       1.243   0.405   0.022  1.00  0.00           C  \n",
            "HETATM    4  C4  UNL     1       1.116  -0.966   0.049  1.00  0.00           C  \n",
            "HETATM    5  N1  UNL     1      -0.096  -1.559   0.032  1.00  0.00           N  \n",
            "HETATM    6  C5  UNL     1      -1.248  -0.861  -0.012  1.00  0.00           C  \n",
            "HETATM    7  H1  UNL     1      -2.083   1.098  -0.075  1.00  0.00           H  \n",
            "HETATM    8  H2  UNL     1       0.108   2.221  -0.046  1.00  0.00           H  \n",
            "HETATM    9  H3  UNL     1       2.225   0.872   0.036  1.00  0.00           H  \n",
            "HETATM   10  H4  UNL     1       2.036  -1.550   0.084  1.00  0.00           H  \n",
            "HETATM   11  H5  UNL     1      -2.222  -1.332  -0.025  1.00  0.00           H  \n",
            "CONECT    1    2    2    6    7\n",
            "CONECT    2    3    8\n",
            "CONECT    3    4    4    9\n",
            "CONECT    4    5   10\n",
            "CONECT    5    6    6\n",
            "CONECT    6   11\n",
            "END\n",
            "\n"
          ]
        }
      ]
    },
    {
      "cell_type": "code",
      "source": [
        "m3"
      ],
      "metadata": {
        "colab": {
          "base_uri": "https://localhost:8080/",
          "height": 167
        },
        "id": "g6CSPmPNkPCj",
        "outputId": "dc53f3db-2f9f-430f-e2b1-17245a3f62dc"
      },
      "execution_count": null,
      "outputs": [
        {
          "output_type": "execute_result",
          "data": {
            "text/plain": [
              "<rdkit.Chem.rdchem.Mol at 0x7f27a13064e0>"
            ],
            "image/png": "[encoded data removed]"
          },
          "metadata": {},
          "execution_count": 49
        }
      ]
    },
    {
      "cell_type": "code",
      "source": [
        "Chem.MolToPDBFile(m3, \"m3.pdb\")"
      ],
      "metadata": {
        "id": "rKg_TjriuDqO"
      },
      "execution_count": null,
      "outputs": []
    },
    {
      "cell_type": "markdown",
      "source": [
        "그 외, RDKit에서는 XYZ format, TPL format, CXSmiles (extended SMILES) 등을 추가로 지원한다!\n",
        "\n",
        "**주의: RDKit에서는 mol2 파일 포맷은 정식으로 지원하지 않는다!**\n",
        "\n",
        "Mol2 파일 생성을 위해서는 PDB나 Mol file을 외부 프로그램 (MarvinSketch, Avogadro 또는 openbabel)와 같은 프로그램을 이용해서 변환하는 것이 좋다. \n",
        "\n",
        "다만, atom type이 잘 못 되는 경우가 많으므로, 주의를 요함. "
      ],
      "metadata": {
        "id": "EoTYTOeLuIJG"
      }
    },
    {
      "cell_type": "code",
      "source": [
        "print(Chem.MolToCXSmiles(m3))"
      ],
      "metadata": {
        "colab": {
          "base_uri": "https://localhost:8080/"
        },
        "id": "SuvbM0vkwtd0",
        "outputId": "9a0321f8-0c86-42f4-e047-2c9f796c2a25"
      },
      "execution_count": null,
      "outputs": [
        {
          "output_type": "stream",
          "name": "stdout",
          "text": [
            "[H]c1c([H])c([H])c([H])c([H])n1 |(2.03641,-1.55048,0.0842149;1.11592,-0.966382,0.0487181;1.24345,0.405439,0.021672;2.22491,0.871863,0.0355522;0.0708806,1.15199,-0.0236015;0.107598,2.22129,-0.0462237;-1.15029,0.519117,-0.0397213;-2.08253,1.09844,-0.0754037;-1.24801,-0.860577,-0.0117695;-2.22245,-1.33178,-0.0253786;-0.0958826,-1.55892,0.0319411),atomProp:0.isImplicit.1:3.isImplicit.1:5.isImplicit.1:7.isImplicit.1:9.isImplicit.1|\n"
          ]
        }
      ]
    },
    {
      "cell_type": "code",
      "source": [
        "print(Chem.MolToTPLBlock(m3))"
      ],
      "metadata": {
        "colab": {
          "base_uri": "https://localhost:8080/"
        },
        "id": "C_j3MdMlwqEo",
        "outputId": "d09aa608-bd1c-4871-eb73-7d40dc3b7c77"
      },
      "execution_count": null,
      "outputs": [
        {
          "output_type": "stream",
          "name": "stdout",
          "text": [
            "BioCAD format, all rights reserved\n",
            "Output from RDKit\n",
            "NAME Unnamed molecule\n",
            "PROP 7 1\n",
            "11 11\n",
            "1 C 0 0.0 -115.029 51.9117 -3.97213 3 2 6 7 U\n",
            "2 C 0 0.0 7.08806 115.199 -2.36015 3 1 3 8 U\n",
            "3 C 0 0.0 124.345 40.5439 2.1672 3 2 4 9 U\n",
            "4 C 0 0.0 111.592 -96.6382 4.87181 3 3 5 10 U\n",
            "5 N 0 0.0 -9.58826 -155.892 3.19411 2 4 6 U\n",
            "6 C 0 0.0 -124.801 -86.0577 -1.17695 3 5 1 11 U\n",
            "7 H 0 0.0 -208.253 109.844 -7.54037 1 1 U\n",
            "8 H 0 0.0 10.7598 222.129 -4.62237 1 2 U\n",
            "9 H 0 0.0 222.491 87.1863 3.55522 1 3 U\n",
            "10 H 0 0.0 203.641 -155.048 8.42149 1 4 U\n",
            "11 H 0 0.0 -222.245 -133.178 -2.53786 1 6 U\n",
            "1 1.5 1 2 0 0\n",
            "2 1.5 2 3 0 0\n",
            "3 1.5 3 4 0 0\n",
            "4 1.5 4 5 0 0\n",
            "5 1.5 5 6 0 0\n",
            "6 1.5 6 1 0 0\n",
            "7 1.0 1 7 0 0\n",
            "8 1.0 2 8 0 0\n",
            "9 1.0 3 9 0 0\n",
            "10 1.0 4 10 0 0\n",
            "11 1.0 6 11 0 0\n",
            "CONFS 0\n",
            "\n"
          ]
        }
      ]
    },
    {
      "cell_type": "code",
      "source": [
        "print(Chem.MolToXYZBlock(m3))"
      ],
      "metadata": {
        "colab": {
          "base_uri": "https://localhost:8080/"
        },
        "id": "PqtniiiOulkk",
        "outputId": "c4bacad9-13f0-4050-a7d9-54974b76ede6"
      },
      "execution_count": null,
      "outputs": [
        {
          "output_type": "stream",
          "name": "stdout",
          "text": [
            "11\n",
            "\n",
            "C     -1.150291    0.519117   -0.039721\n",
            "C      0.070881    1.151994   -0.023601\n",
            "C      1.243445    0.405439    0.021672\n",
            "C      1.115921   -0.966382    0.048718\n",
            "N     -0.095883   -1.558922    0.031941\n",
            "C     -1.248005   -0.860577   -0.011770\n",
            "H     -2.082535    1.098436   -0.075404\n",
            "H      0.107598    2.221292   -0.046224\n",
            "H      2.224910    0.871863    0.035552\n",
            "H      2.036406   -1.550480    0.084215\n",
            "H     -2.222448   -1.331780   -0.025379\n",
            "\n"
          ]
        }
      ]
    },
    {
      "cell_type": "markdown",
      "source": [
        "### 수소 붙이기\n",
        "-------\n",
        "SMILES에서 분자를 읽어들이면 기본적으로 수소가 생략되어 있다. \n",
        "\n",
        "m3에 수소가 없으므로 수소를 붙여보자!\n",
        "\n",
        "수소를 붙이는 함수는 Chem.AddHs(mol) 이다. \n"
      ],
      "metadata": {
        "id": "dq2_DwXNMOlQ"
      }
    },
    {
      "cell_type": "code",
      "source": [
        "m3_with_H = Chem.AddHs(m3) "
      ],
      "metadata": {
        "id": "BYHjvpCcMXwQ"
      },
      "execution_count": null,
      "outputs": []
    },
    {
      "cell_type": "markdown",
      "source": [
        "새로운 변수를 리턴한다는 점을 주의하자!"
      ],
      "metadata": {
        "id": "WkahNH_gMn99"
      }
    },
    {
      "cell_type": "code",
      "source": [
        "m3_with_H"
      ],
      "metadata": {
        "id": "cbLdTsslMYlt",
        "colab": {
          "base_uri": "https://localhost:8080/",
          "height": 167
        },
        "outputId": "94981dc0-413b-49ce-99a1-c83db421bdb8"
      },
      "execution_count": null,
      "outputs": [
        {
          "output_type": "execute_result",
          "data": {
            "text/plain": [
              "<rdkit.Chem.rdchem.Mol at 0x7f2798634490>"
            ],
            "image/png": "[encoded data removed]"
          },
          "metadata": {},
          "execution_count": 54
        }
      ]
    },
    {
      "cell_type": "code",
      "source": [
        "print(Chem.MolToMolBlock(m3_with_H))"
      ],
      "metadata": {
        "id": "d7rUW7FCNVmv",
        "colab": {
          "base_uri": "https://localhost:8080/"
        },
        "outputId": "f4984486-ab7b-44b4-bdda-7fa56d89a899"
      },
      "execution_count": null,
      "outputs": [
        {
          "output_type": "stream",
          "name": "stdout",
          "text": [
            "\n",
            "     RDKit          3D\n",
            "\n",
            " 11 11  0  0  0  0  0  0  0  0999 V2000\n",
            "   -1.1503    0.5191   -0.0397 C   0  0  0  0  0  0  0  0  0  0  0  0\n",
            "    0.0709    1.1520   -0.0236 C   0  0  0  0  0  0  0  0  0  0  0  0\n",
            "    1.2434    0.4054    0.0217 C   0  0  0  0  0  0  0  0  0  0  0  0\n",
            "    1.1159   -0.9664    0.0487 C   0  0  0  0  0  0  0  0  0  0  0  0\n",
            "   -0.0959   -1.5589    0.0319 N   0  0  0  0  0  0  0  0  0  0  0  0\n",
            "   -1.2480   -0.8606   -0.0118 C   0  0  0  0  0  0  0  0  0  0  0  0\n",
            "   -2.0825    1.0984   -0.0754 H   0  0  0  0  0  0  0  0  0  0  0  0\n",
            "    0.1076    2.2213   -0.0462 H   0  0  0  0  0  0  0  0  0  0  0  0\n",
            "    2.2249    0.8719    0.0356 H   0  0  0  0  0  0  0  0  0  0  0  0\n",
            "    2.0364   -1.5505    0.0842 H   0  0  0  0  0  0  0  0  0  0  0  0\n",
            "   -2.2224   -1.3318   -0.0254 H   0  0  0  0  0  0  0  0  0  0  0  0\n",
            "  1  2  2  0\n",
            "  2  3  1  0\n",
            "  3  4  2  0\n",
            "  4  5  1  0\n",
            "  5  6  2  0\n",
            "  6  1  1  0\n",
            "  1  7  1  0\n",
            "  2  8  1  0\n",
            "  3  9  1  0\n",
            "  4 10  1  0\n",
            "  6 11  1  0\n",
            "M  END\n",
            "\n"
          ]
        }
      ]
    },
    {
      "cell_type": "code",
      "source": [
        "print(Chem.MolToMolBlock(m3))"
      ],
      "metadata": {
        "id": "8l8juGfYNX7t",
        "colab": {
          "base_uri": "https://localhost:8080/"
        },
        "outputId": "3dfb1c6e-c501-4473-8c6a-d3c632f1d50f"
      },
      "execution_count": null,
      "outputs": [
        {
          "output_type": "stream",
          "name": "stdout",
          "text": [
            "\n",
            "     RDKit          3D\n",
            "\n",
            " 11 11  0  0  0  0  0  0  0  0999 V2000\n",
            "   -1.1503    0.5191   -0.0397 C   0  0  0  0  0  0  0  0  0  0  0  0\n",
            "    0.0709    1.1520   -0.0236 C   0  0  0  0  0  0  0  0  0  0  0  0\n",
            "    1.2434    0.4054    0.0217 C   0  0  0  0  0  0  0  0  0  0  0  0\n",
            "    1.1159   -0.9664    0.0487 C   0  0  0  0  0  0  0  0  0  0  0  0\n",
            "   -0.0959   -1.5589    0.0319 N   0  0  0  0  0  0  0  0  0  0  0  0\n",
            "   -1.2480   -0.8606   -0.0118 C   0  0  0  0  0  0  0  0  0  0  0  0\n",
            "   -2.0825    1.0984   -0.0754 H   0  0  0  0  0  0  0  0  0  0  0  0\n",
            "    0.1076    2.2213   -0.0462 H   0  0  0  0  0  0  0  0  0  0  0  0\n",
            "    2.2249    0.8719    0.0356 H   0  0  0  0  0  0  0  0  0  0  0  0\n",
            "    2.0364   -1.5505    0.0842 H   0  0  0  0  0  0  0  0  0  0  0  0\n",
            "   -2.2224   -1.3318   -0.0254 H   0  0  0  0  0  0  0  0  0  0  0  0\n",
            "  1  2  2  0\n",
            "  2  3  1  0\n",
            "  3  4  2  0\n",
            "  4  5  1  0\n",
            "  5  6  2  0\n",
            "  6  1  1  0\n",
            "  1  7  1  0\n",
            "  2  8  1  0\n",
            "  3  9  1  0\n",
            "  4 10  1  0\n",
            "  6 11  1  0\n",
            "M  END\n",
            "\n"
          ]
        }
      ]
    },
    {
      "cell_type": "code",
      "source": [
        "m2_with_H = Chem.AddHs(m2)"
      ],
      "metadata": {
        "id": "49TdcgviMs0Z"
      },
      "execution_count": null,
      "outputs": []
    },
    {
      "cell_type": "code",
      "source": [
        "m2"
      ],
      "metadata": {
        "colab": {
          "base_uri": "https://localhost:8080/",
          "height": 167
        },
        "id": "4tIyhMT3kuBi",
        "outputId": "5ac1cfad-bf6c-4e8c-c96d-69bf66599921"
      },
      "execution_count": null,
      "outputs": [
        {
          "output_type": "execute_result",
          "data": {
            "text/plain": [
              "<rdkit.Chem.rdchem.Mol at 0x7f27a12f28f0>"
            ],
            "image/png": "[encoded data removed]"
          },
          "metadata": {},
          "execution_count": 58
        }
      ]
    },
    {
      "cell_type": "code",
      "source": [
        "m2_with_H"
      ],
      "metadata": {
        "id": "10hgbGM2MxbE",
        "colab": {
          "base_uri": "https://localhost:8080/",
          "height": 167
        },
        "outputId": "9d7c9dae-e1ba-4419-dfe6-df196fce90c4"
      },
      "execution_count": null,
      "outputs": [
        {
          "output_type": "execute_result",
          "data": {
            "text/plain": [
              "<rdkit.Chem.rdchem.Mol at 0x7f2798639df0>"
            ],
            "image/png": "[encoded data removed]"
          },
          "metadata": {},
          "execution_count": 59
        }
      ]
    },
    {
      "cell_type": "code",
      "source": [
        "m"
      ],
      "metadata": {
        "id": "o-0635bLM-sg",
        "colab": {
          "base_uri": "https://localhost:8080/",
          "height": 167
        },
        "outputId": "d00369eb-5c24-47eb-d631-185e8266ae89"
      },
      "execution_count": null,
      "outputs": [
        {
          "output_type": "execute_result",
          "data": {
            "text/plain": [
              "<rdkit.Chem.rdchem.Mol at 0x7f27a1243710>"
            ],
            "image/png": "[encoded data removed]"
          },
          "metadata": {},
          "execution_count": 60
        }
      ]
    },
    {
      "cell_type": "code",
      "source": [
        "m_with_H = Chem.AddHs(m)"
      ],
      "metadata": {
        "id": "KEwTPTPcNAJ3"
      },
      "execution_count": null,
      "outputs": []
    },
    {
      "cell_type": "code",
      "source": [
        "m_with_H"
      ],
      "metadata": {
        "id": "7zFdeSN5NFI_",
        "colab": {
          "base_uri": "https://localhost:8080/",
          "height": 167
        },
        "outputId": "8561e534-c177-49cd-8873-24bde5a1ec62"
      },
      "execution_count": null,
      "outputs": [
        {
          "output_type": "execute_result",
          "data": {
            "text/plain": [
              "<rdkit.Chem.rdchem.Mol at 0x7f2798627c10>"
            ],
            "image/png": "[encoded data removed]"
          },
          "metadata": {},
          "execution_count": 62
        }
      ]
    },
    {
      "cell_type": "code",
      "source": [
        "m4 = large_mol2[-1]"
      ],
      "metadata": {
        "id": "nqDFbFRjNicX"
      },
      "execution_count": null,
      "outputs": []
    },
    {
      "cell_type": "code",
      "source": [
        "m4"
      ],
      "metadata": {
        "id": "JAm9auYRNjlA",
        "colab": {
          "base_uri": "https://localhost:8080/",
          "height": 167
        },
        "outputId": "2fc23579-e777-4251-c0e8-2f67373349b0"
      },
      "execution_count": null,
      "outputs": [
        {
          "output_type": "execute_result",
          "data": {
            "text/plain": [
              "<rdkit.Chem.rdchem.Mol at 0x7f27a1e07800>"
            ],
            "image/png": "[encoded data removed]"
          },
          "metadata": {},
          "execution_count": 64
        }
      ]
    },
    {
      "cell_type": "code",
      "source": [
        "m4_with_H = Chem.AddHs(m4)"
      ],
      "metadata": {
        "id": "30ct4qDJNmMY"
      },
      "execution_count": null,
      "outputs": []
    },
    {
      "cell_type": "code",
      "source": [
        "m4_with_H"
      ],
      "metadata": {
        "id": "ycEO6O_WNnCU",
        "colab": {
          "base_uri": "https://localhost:8080/",
          "height": 167
        },
        "outputId": "e40f9891-7718-4a60-ef0d-90efe12d5809"
      },
      "execution_count": null,
      "outputs": [
        {
          "output_type": "execute_result",
          "data": {
            "text/plain": [
              "<rdkit.Chem.rdchem.Mol at 0x7f279861b4e0>"
            ],
            "image/png": "[encoded data removed]"
          },
          "metadata": {},
          "execution_count": 66
        }
      ]
    },
    {
      "cell_type": "code",
      "source": [
        "print(Chem.MolToMolBlock(m4_with_H))"
      ],
      "metadata": {
        "id": "4N1rwV_xNxg3",
        "colab": {
          "base_uri": "https://localhost:8080/"
        },
        "outputId": "aeae5644-1225-462f-b645-5b3c78ecc261"
      },
      "execution_count": null,
      "outputs": [
        {
          "output_type": "stream",
          "name": "stdout",
          "text": [
            "\n",
            "     RDKit          2D\n",
            "\n",
            " 66 69  0  0  0  0  0  0  0  0999 V2000\n",
            "   -3.7638    0.2765    0.0000 C   0  0  0  0  0  0  0  0  0  0  0  0\n",
            "   -2.7979    0.0176    0.0000 C   0  0  0  0  0  0  0  0  0  0  0  0\n",
            "   -2.0908    0.7247    0.0000 O   0  0  0  0  0  0  0  0  0  0  0  0\n",
            "   -1.1248    0.4659    0.0000 C   0  0  0  0  0  0  0  0  0  0  0  0\n",
            "   -0.4177    1.1730    0.0000 O   0  0  0  0  0  0  0  0  0  0  0  0\n",
            "   -0.8660   -0.5000    0.0000 C   0  0  0  0  0  0  0  0  0  0  0  0\n",
            "   -1.6594   -1.1088    0.0000 C   0  0  0  0  0  0  0  0  0  0  0  0\n",
            "   -2.5833   -0.7261    0.0000 C   0  0  0  0  0  0  0  0  0  0  0  0\n",
            "   -3.3766   -1.3348    0.0000 C   0  0  0  0  0  0  0  0  0  0  0  0\n",
            "   -3.2461   -2.3263    0.0000 C   0  0  0  0  0  0  0  0  0  0  0  0\n",
            "   -2.3222   -2.7090    0.0000 C   0  0  0  0  0  0  0  0  0  0  0  0\n",
            "   -1.5289   -2.1002    0.0000 C   0  0  0  0  0  0  0  0  0  0  0  0\n",
            "   -0.8660   -1.5000    0.0000 C   0  0  0  0  0  0  0  0  0  0  0  0\n",
            "    0.0000   -2.0000    0.0000 C   0  0  0  0  0  0  0  0  0  0  0  0\n",
            "    0.8660   -1.5000    0.0000 N   0  0  0  0  0  0  0  0  0  0  0  0\n",
            "    1.7321   -2.0000    0.0000 C   0  0  0  0  0  0  0  0  0  0  0  0\n",
            "    2.5981   -1.5000    0.0000 C   0  0  0  0  0  0  0  0  0  0  0  0\n",
            "    3.4641   -2.0000    0.0000 C   0  0  0  0  0  0  0  0  0  0  0  0\n",
            "    3.9641   -1.1340    0.0000 C   0  0  0  0  0  0  0  0  0  0  0  0\n",
            "    4.4641   -0.2679    0.0000 N   0  0  0  0  0  0  0  0  0  0  0  0\n",
            "    4.3301   -2.5000    0.0000 C   0  0  0  0  0  0  0  0  0  0  0  0\n",
            "    4.3301   -3.5000    0.0000 C   0  0  0  0  0  0  0  0  0  0  0  0\n",
            "    5.1962   -4.0000    0.0000 C   0  0  0  0  0  0  0  0  0  0  0  0\n",
            "    6.0622   -3.5000    0.0000 C   0  0  0  0  0  0  0  0  0  0  0  0\n",
            "    6.0622   -2.5000    0.0000 C   0  0  0  0  0  0  0  0  0  0  0  0\n",
            "    5.1962   -2.0000    0.0000 C   0  0  0  0  0  0  0  0  0  0  0  0\n",
            "    2.9641   -2.8660    0.0000 C   0  0  0  0  0  0  0  0  0  0  0  0\n",
            "    1.9641   -2.8660    0.0000 C   0  0  0  0  0  0  0  0  0  0  0  0\n",
            "    1.4641   -3.7321    0.0000 C   0  0  0  0  0  0  0  0  0  0  0  0\n",
            "    1.9641   -4.5981    0.0000 C   0  0  0  0  0  0  0  0  0  0  0  0\n",
            "    2.9641   -4.5981    0.0000 C   0  0  0  0  0  0  0  0  0  0  0  0\n",
            "    3.4641   -3.7321    0.0000 C   0  0  0  0  0  0  0  0  0  0  0  0\n",
            "    0.8660   -0.5000    0.0000 C   0  0  0  0  0  0  0  0  0  0  0  0\n",
            "    0.0000   -0.0000    0.0000 C   0  0  0  0  0  0  0  0  0  0  0  0\n",
            "    0.0000    0.0000    0.0000 H   0  0  0  0  0  0  0  0  0  0  0  0\n",
            "    0.0000    0.0000    0.0000 H   0  0  0  0  0  0  0  0  0  0  0  0\n",
            "    0.0000    0.0000    0.0000 H   0  0  0  0  0  0  0  0  0  0  0  0\n",
            "    0.0000    0.0000    0.0000 H   0  0  0  0  0  0  0  0  0  0  0  0\n",
            "    0.0000    0.0000    0.0000 H   0  0  0  0  0  0  0  0  0  0  0  0\n",
            "    0.0000    0.0000    0.0000 H   0  0  0  0  0  0  0  0  0  0  0  0\n",
            "    0.0000    0.0000    0.0000 H   0  0  0  0  0  0  0  0  0  0  0  0\n",
            "    0.0000    0.0000    0.0000 H   0  0  0  0  0  0  0  0  0  0  0  0\n",
            "    0.0000    0.0000    0.0000 H   0  0  0  0  0  0  0  0  0  0  0  0\n",
            "    0.0000    0.0000    0.0000 H   0  0  0  0  0  0  0  0  0  0  0  0\n",
            "    0.0000    0.0000    0.0000 H   0  0  0  0  0  0  0  0  0  0  0  0\n",
            "    0.0000    0.0000    0.0000 H   0  0  0  0  0  0  0  0  0  0  0  0\n",
            "    0.0000    0.0000    0.0000 H   0  0  0  0  0  0  0  0  0  0  0  0\n",
            "    0.0000    0.0000    0.0000 H   0  0  0  0  0  0  0  0  0  0  0  0\n",
            "    0.0000    0.0000    0.0000 H   0  0  0  0  0  0  0  0  0  0  0  0\n",
            "    0.0000    0.0000    0.0000 H   0  0  0  0  0  0  0  0  0  0  0  0\n",
            "    0.0000    0.0000    0.0000 H   0  0  0  0  0  0  0  0  0  0  0  0\n",
            "    0.0000    0.0000    0.0000 H   0  0  0  0  0  0  0  0  0  0  0  0\n",
            "    0.0000    0.0000    0.0000 H   0  0  0  0  0  0  0  0  0  0  0  0\n",
            "    0.0000    0.0000    0.0000 H   0  0  0  0  0  0  0  0  0  0  0  0\n",
            "    0.0000    0.0000    0.0000 H   0  0  0  0  0  0  0  0  0  0  0  0\n",
            "    0.0000    0.0000    0.0000 H   0  0  0  0  0  0  0  0  0  0  0  0\n",
            "    0.0000    0.0000    0.0000 H   0  0  0  0  0  0  0  0  0  0  0  0\n",
            "    0.0000    0.0000    0.0000 H   0  0  0  0  0  0  0  0  0  0  0  0\n",
            "    0.0000    0.0000    0.0000 H   0  0  0  0  0  0  0  0  0  0  0  0\n",
            "    0.0000    0.0000    0.0000 H   0  0  0  0  0  0  0  0  0  0  0  0\n",
            "    0.0000    0.0000    0.0000 H   0  0  0  0  0  0  0  0  0  0  0  0\n",
            "    0.0000    0.0000    0.0000 H   0  0  0  0  0  0  0  0  0  0  0  0\n",
            "    0.0000    0.0000    0.0000 H   0  0  0  0  0  0  0  0  0  0  0  0\n",
            "    0.0000    0.0000    0.0000 H   0  0  0  0  0  0  0  0  0  0  0  0\n",
            "    0.0000    0.0000    0.0000 H   0  0  0  0  0  0  0  0  0  0  0  0\n",
            "    0.0000    0.0000    0.0000 H   0  0  0  0  0  0  0  0  0  0  0  0\n",
            "  1  2  1  0\n",
            "  2  3  1  0\n",
            "  3  4  1  0\n",
            "  4  5  2  0\n",
            "  4  6  1  0\n",
            "  6 34  1  0\n",
            "  6  7  1  0\n",
            "  6 13  1  0\n",
            "  7 12  1  0\n",
            "  7  8  2  0\n",
            "  8  9  1  0\n",
            "  9 10  2  0\n",
            " 10 11  1  0\n",
            " 11 12  2  0\n",
            " 13 14  1  0\n",
            " 14 15  1  0\n",
            " 15 16  1  0\n",
            " 15 33  1  0\n",
            " 16 17  1  0\n",
            " 17 18  1  0\n",
            " 18 19  1  0\n",
            " 18 21  1  0\n",
            " 18 27  1  0\n",
            " 19 20  3  0\n",
            " 21 26  1  0\n",
            " 21 22  2  0\n",
            " 22 23  1  0\n",
            " 23 24  2  0\n",
            " 24 25  1  0\n",
            " 25 26  2  0\n",
            " 27 32  1  0\n",
            " 27 28  2  0\n",
            " 28 29  1  0\n",
            " 29 30  2  0\n",
            " 30 31  1  0\n",
            " 31 32  2  0\n",
            " 33 34  1  0\n",
            "  1 35  1  0\n",
            "  1 36  1  0\n",
            "  1 37  1  0\n",
            "  2 38  1  0\n",
            "  2 39  1  0\n",
            "  8 40  1  0\n",
            "  9 41  1  0\n",
            " 10 42  1  0\n",
            " 11 43  1  0\n",
            " 12 44  1  0\n",
            " 13 45  1  0\n",
            " 13 46  1  0\n",
            " 14 47  1  0\n",
            " 14 48  1  0\n",
            " 16 49  1  0\n",
            " 16 50  1  0\n",
            " 17 51  1  0\n",
            " 17 52  1  0\n",
            " 22 53  1  0\n",
            " 23 54  1  0\n",
            " 24 55  1  0\n",
            " 25 56  1  0\n",
            " 26 57  1  0\n",
            " 28 58  1  0\n",
            " 29 59  1  0\n",
            " 30 60  1  0\n",
            " 31 61  1  0\n",
            " 32 62  1  0\n",
            " 33 63  1  0\n",
            " 33 64  1  0\n",
            " 34 65  1  0\n",
            " 34 66  1  0\n",
            "M  END\n",
            "\n"
          ]
        }
      ]
    },
    {
      "cell_type": "markdown",
      "source": [
        "분자가 복잡할 경우, 수소의 좌표가 이상하게 붙는 경우들이 존재한다. \n",
        "\n",
        "이럴 경우, 수소의 좌표를 다시 계산해주어야 한다. \n",
        "\n",
        "AllChem.Compute2DCoords 함수를 사용하여야 한다. \n",
        "\n",
        "Chem과 AllChem의 차이점은 아래 문서를 참고. \n",
        "\n",
        "\n",
        "https://www.rdkit.org/docs/GettingStartedInPython.html#chem-vs-allchem "
      ],
      "metadata": {
        "id": "eWqKjs_8N2AK"
      }
    },
    {
      "cell_type": "code",
      "source": [
        "from rdkit.Chem import AllChem # AllChem module 읽어들이기.\n",
        "\n",
        "AllChem.Compute2DCoords(m4_with_H) # m4_with_H 그 자체에서 좌표가 계산되어서 저장되었음. "
      ],
      "metadata": {
        "id": "cHsbe8A9N1l0",
        "colab": {
          "base_uri": "https://localhost:8080/"
        },
        "outputId": "2521691c-8a6d-44a2-85b6-8e603bc8ff8a"
      },
      "execution_count": null,
      "outputs": [
        {
          "output_type": "execute_result",
          "data": {
            "text/plain": [
              "0"
            ]
          },
          "metadata": {},
          "execution_count": 68
        }
      ]
    },
    {
      "cell_type": "code",
      "source": [
        "m4_with_H"
      ],
      "metadata": {
        "id": "AuAMZjWuOmhr",
        "colab": {
          "base_uri": "https://localhost:8080/",
          "height": 167
        },
        "outputId": "73e2c434-c5e3-496d-b5d8-337ff4db703d"
      },
      "execution_count": null,
      "outputs": [
        {
          "output_type": "execute_result",
          "data": {
            "text/plain": [
              "<rdkit.Chem.rdchem.Mol at 0x7f279861b4e0>"
            ],
            "image/png": "[encoded data removed]"
          },
          "metadata": {},
          "execution_count": 69
        }
      ]
    },
    {
      "cell_type": "code",
      "source": [
        "print(Chem.MolToMolBlock(m4_with_H))"
      ],
      "metadata": {
        "id": "Op7Am0a8OvKS",
        "colab": {
          "base_uri": "https://localhost:8080/"
        },
        "outputId": "96ac7a01-6ce9-4204-ca8b-9bf9e3dce0c5"
      },
      "execution_count": null,
      "outputs": [
        {
          "output_type": "stream",
          "name": "stdout",
          "text": [
            "\n",
            "     RDKit          2D\n",
            "\n",
            " 66 69  0  0  0  0  0  0  0  0999 V2000\n",
            "    7.2087   -3.7193    0.0000 C   0  0  0  0  0  0  0  0  0  0  0  0\n",
            "    5.9323   -2.9313    0.0000 C   0  0  0  0  0  0  0  0  0  0  0  0\n",
            "    4.6560   -2.1433    0.0000 O   0  0  0  0  0  0  0  0  0  0  0  0\n",
            "    4.7003   -0.6439    0.0000 C   0  0  0  0  0  0  0  0  0  0  0  0\n",
            "    5.4430   -0.3543    0.0000 O   0  0  0  0  0  0  0  0  0  0  0  0\n",
            "    3.4240    0.1441    0.0000 C   0  0  0  0  0  0  0  0  0  0  0  0\n",
            "    4.4217    1.2642    0.0000 C   0  0  0  0  0  0  0  0  0  0  0  0\n",
            "    3.9505    2.6883    0.0000 C   0  0  0  0  0  0  0  0  0  0  0  0\n",
            "    4.9482    3.8084    0.0000 C   0  0  0  0  0  0  0  0  0  0  0  0\n",
            "    6.4171    3.5044    0.0000 C   0  0  0  0  0  0  0  0  0  0  0  0\n",
            "    6.8882    2.0803    0.0000 C   0  0  0  0  0  0  0  0  0  0  0  0\n",
            "    5.8906    0.9602    0.0000 C   0  0  0  0  0  0  0  0  0  0  0  0\n",
            "    2.4942    1.3212    0.0000 C   0  0  0  0  0  0  0  0  0  0  0  0\n",
            "    1.0099    1.1044    0.0000 C   0  0  0  0  0  0  0  0  0  0  0  0\n",
            "    0.4555   -0.2893    0.0000 N   0  0  0  0  0  0  0  0  0  0  0  0\n",
            "   -1.0288   -0.5061    0.0000 C   0  0  0  0  0  0  0  0  0  0  0  0\n",
            "   -2.5131   -0.7228    0.0000 C   0  0  0  0  0  0  0  0  0  0  0  0\n",
            "   -3.9973   -0.9396    0.0000 C   0  0  0  0  0  0  0  0  0  0  0  0\n",
            "   -3.7806   -2.4238    0.0000 C   0  0  0  0  0  0  0  0  0  0  0  0\n",
            "   -3.5638   -3.9081    0.0000 N   0  0  0  0  0  0  0  0  0  0  0  0\n",
            "   -4.2140    0.5447    0.0000 C   0  0  0  0  0  0  0  0  0  0  0  0\n",
            "   -3.0370    1.4745    0.0000 C   0  0  0  0  0  0  0  0  0  0  0  0\n",
            "   -3.2537    2.9588    0.0000 C   0  0  0  0  0  0  0  0  0  0  0  0\n",
            "   -4.6475    3.5132    0.0000 C   0  0  0  0  0  0  0  0  0  0  0  0\n",
            "   -5.8246    2.5834    0.0000 C   0  0  0  0  0  0  0  0  0  0  0  0\n",
            "   -5.6078    1.0991    0.0000 C   0  0  0  0  0  0  0  0  0  0  0  0\n",
            "   -5.4816   -1.1563    0.0000 C   0  0  0  0  0  0  0  0  0  0  0  0\n",
            "   -6.4114    0.0207    0.0000 C   0  0  0  0  0  0  0  0  0  0  0  0\n",
            "   -7.8957   -0.1960    0.0000 C   0  0  0  0  0  0  0  0  0  0  0  0\n",
            "   -8.4501   -1.5898    0.0000 C   0  0  0  0  0  0  0  0  0  0  0  0\n",
            "   -7.5203   -2.7668    0.0000 C   0  0  0  0  0  0  0  0  0  0  0  0\n",
            "   -6.0360   -2.5501    0.0000 C   0  0  0  0  0  0  0  0  0  0  0  0\n",
            "    1.3853   -1.4664    0.0000 C   0  0  0  0  0  0  0  0  0  0  0  0\n",
            "    2.8696   -1.2496    0.0000 C   0  0  0  0  0  0  0  0  0  0  0  0\n",
            "    8.4850   -4.5073    0.0000 H   0  0  0  0  0  0  0  0  0  0  0  0\n",
            "    7.9967   -2.4430    0.0000 H   0  0  0  0  0  0  0  0  0  0  0  0\n",
            "    6.4206   -4.9956    0.0000 H   0  0  0  0  0  0  0  0  0  0  0  0\n",
            "    6.7204   -1.6550    0.0000 H   0  0  0  0  0  0  0  0  0  0  0  0\n",
            "    5.1443   -4.2076    0.0000 H   0  0  0  0  0  0  0  0  0  0  0  0\n",
            "    2.5296    3.1691    0.0000 H   0  0  0  0  0  0  0  0  0  0  0  0\n",
            "    4.4770    5.2325    0.0000 H   0  0  0  0  0  0  0  0  0  0  0  0\n",
            "    7.4148    4.6245    0.0000 H   0  0  0  0  0  0  0  0  0  0  0  0\n",
            "    8.3571    1.7764    0.0000 H   0  0  0  0  0  0  0  0  0  0  0  0\n",
            "    6.2313    0.2396    0.0000 H   0  0  0  0  0  0  0  0  0  0  0  0\n",
            "    1.8529    2.6772    0.0000 H   0  0  0  0  0  0  0  0  0  0  0  0\n",
            "    3.6034    2.3309    0.0000 H   0  0  0  0  0  0  0  0  0  0  0  0\n",
            "   -0.4110    1.5852    0.0000 H   0  0  0  0  0  0  0  0  0  0  0  0\n",
            "    1.0542    2.6038    0.0000 H   0  0  0  0  0  0  0  0  0  0  0  0\n",
            "   -1.2455    0.9782    0.0000 H   0  0  0  0  0  0  0  0  0  0  0  0\n",
            "   -0.9946   -2.0057    0.0000 H   0  0  0  0  0  0  0  0  0  0  0  0\n",
            "   -2.3642    0.7698    0.0000 H   0  0  0  0  0  0  0  0  0  0  0  0\n",
            "   -2.2963   -2.2071    0.0000 H   0  0  0  0  0  0  0  0  0  0  0  0\n",
            "   -1.5860    1.0941    0.0000 H   0  0  0  0  0  0  0  0  0  0  0  0\n",
            "   -2.0767    3.8886    0.0000 H   0  0  0  0  0  0  0  0  0  0  0  0\n",
            "   -4.8643    4.9975    0.0000 H   0  0  0  0  0  0  0  0  0  0  0  0\n",
            "   -7.2183    3.1378    0.0000 H   0  0  0  0  0  0  0  0  0  0  0  0\n",
            "   -6.9749    0.4817    0.0000 H   0  0  0  0  0  0  0  0  0  0  0  0\n",
            "   -6.2107    1.5073    0.0000 H   0  0  0  0  0  0  0  0  0  0  0  0\n",
            "   -8.8255    0.9810    0.0000 H   0  0  0  0  0  0  0  0  0  0  0  0\n",
            "   -9.9343   -1.8065    0.0000 H   0  0  0  0  0  0  0  0  0  0  0  0\n",
            "   -8.0747   -4.1606    0.0000 H   0  0  0  0  0  0  0  0  0  0  0  0\n",
            "   -5.1062   -3.7271    0.0000 H   0  0  0  0  0  0  0  0  0  0  0  0\n",
            "    1.8565   -2.8905    0.0000 H   0  0  0  0  0  0  0  0  0  0  0  0\n",
            "    0.1612   -2.3334    0.0000 H   0  0  0  0  0  0  0  0  0  0  0  0\n",
            "    4.2212   -1.9000    0.0000 H   0  0  0  0  0  0  0  0  0  0  0  0\n",
            "    2.8253   -2.7490    0.0000 H   0  0  0  0  0  0  0  0  0  0  0  0\n",
            "  1  2  1  0\n",
            "  2  3  1  0\n",
            "  3  4  1  0\n",
            "  4  5  2  0\n",
            "  4  6  1  0\n",
            "  6 34  1  0\n",
            "  6  7  1  0\n",
            "  6 13  1  0\n",
            "  7 12  1  0\n",
            "  7  8  2  0\n",
            "  8  9  1  0\n",
            "  9 10  2  0\n",
            " 10 11  1  0\n",
            " 11 12  2  0\n",
            " 13 14  1  0\n",
            " 14 15  1  0\n",
            " 15 16  1  0\n",
            " 15 33  1  0\n",
            " 16 17  1  0\n",
            " 17 18  1  0\n",
            " 18 19  1  0\n",
            " 18 21  1  0\n",
            " 18 27  1  0\n",
            " 19 20  3  0\n",
            " 21 26  1  0\n",
            " 21 22  2  0\n",
            " 22 23  1  0\n",
            " 23 24  2  0\n",
            " 24 25  1  0\n",
            " 25 26  2  0\n",
            " 27 32  1  0\n",
            " 27 28  2  0\n",
            " 28 29  1  0\n",
            " 29 30  2  0\n",
            " 30 31  1  0\n",
            " 31 32  2  0\n",
            " 33 34  1  0\n",
            "  1 35  1  0\n",
            "  1 36  1  0\n",
            "  1 37  1  0\n",
            "  2 38  1  0\n",
            "  2 39  1  0\n",
            "  8 40  1  0\n",
            "  9 41  1  0\n",
            " 10 42  1  0\n",
            " 11 43  1  0\n",
            " 12 44  1  0\n",
            " 13 45  1  0\n",
            " 13 46  1  0\n",
            " 14 47  1  0\n",
            " 14 48  1  0\n",
            " 16 49  1  0\n",
            " 16 50  1  0\n",
            " 17 51  1  0\n",
            " 17 52  1  0\n",
            " 22 53  1  0\n",
            " 23 54  1  0\n",
            " 24 55  1  0\n",
            " 25 56  1  0\n",
            " 26 57  1  0\n",
            " 28 58  1  0\n",
            " 29 59  1  0\n",
            " 30 60  1  0\n",
            " 31 61  1  0\n",
            " 32 62  1  0\n",
            " 33 63  1  0\n",
            " 33 64  1  0\n",
            " 34 65  1  0\n",
            " 34 66  1  0\n",
            "M  END\n",
            "\n"
          ]
        }
      ]
    },
    {
      "cell_type": "markdown",
      "source": [
        "### 3차원 좌표에 관해\n",
        "---------\n",
        "\n",
        "**주의:** 모든 z 축이 0으로 설정되어 있다. \n",
        "\n",
        "기본적으로 그림으로 표현된 분자식 기반의 좌표를 저장하고 있기 때문에 2차원으로 표현되어 있음. \n",
        "\n",
        "3차원 구조를 얻어내기 위해서는 추가적인 계산이 필요함. \n",
        "\n",
        "하지만 분자가 커질수록... 3**(Number of rotatable bonds) 개수만큼 3D 구조가 가능하다. \n",
        "\n",
        "그 중에서 에너지가 가장 낮은 것을 찾는 것은 쉽지 않다. \n",
        "\n",
        "그래서 rdkit에서는 약간의 가정과 근사를 써서 3D 구조를 만들어낸다. "
      ],
      "metadata": {
        "id": "W8Gm6u2iLLJG"
      }
    },
    {
      "cell_type": "code",
      "source": [
        "AllChem.EmbedMolecule(m4_with_H) # 분자 클래스 자체를 변형시킨다. "
      ],
      "metadata": {
        "id": "eT9dpXdHLJwS",
        "colab": {
          "base_uri": "https://localhost:8080/"
        },
        "outputId": "8aaa8fa5-4539-4ea1-9613-e5572b0252d3"
      },
      "execution_count": null,
      "outputs": [
        {
          "output_type": "execute_result",
          "data": {
            "text/plain": [
              "0"
            ]
          },
          "metadata": {},
          "execution_count": 71
        }
      ]
    },
    {
      "cell_type": "markdown",
      "source": [
        "분자 구조를 출력해보자. "
      ],
      "metadata": {
        "id": "RH48ppkivpo4"
      }
    },
    {
      "cell_type": "code",
      "source": [
        "m4_with_H"
      ],
      "metadata": {
        "id": "cCN9xYjoPSGC",
        "colab": {
          "base_uri": "https://localhost:8080/",
          "height": 167
        },
        "outputId": "0ab1f817-9909-4d4c-f5b5-5bf3c7778bb7"
      },
      "execution_count": null,
      "outputs": [
        {
          "output_type": "execute_result",
          "data": {
            "text/plain": [
              "<rdkit.Chem.rdchem.Mol at 0x7f279861b4e0>"
            ],
            "image/png": "[encoded data removed]"
          },
          "metadata": {},
          "execution_count": 72
        }
      ]
    },
    {
      "cell_type": "markdown",
      "source": [
        "## 3D 구조 표현에서 2D 구조로 바꾸기\n",
        "--------\n"
      ],
      "metadata": {
        "id": "qPkcuZtewMai"
      }
    },
    {
      "cell_type": "code",
      "source": [
        "AllChem.Compute2DCoords(m4_with_H)"
      ],
      "metadata": {
        "id": "fdEpBlzCwG1k",
        "colab": {
          "base_uri": "https://localhost:8080/"
        },
        "outputId": "5b9a52dd-b844-427b-c9a6-06807b52ab57"
      },
      "execution_count": null,
      "outputs": [
        {
          "output_type": "execute_result",
          "data": {
            "text/plain": [
              "0"
            ]
          },
          "metadata": {},
          "execution_count": 73
        }
      ]
    },
    {
      "cell_type": "code",
      "source": [
        "m4_with_H"
      ],
      "metadata": {
        "id": "EAZ31TBowKXS",
        "colab": {
          "base_uri": "https://localhost:8080/",
          "height": 167
        },
        "outputId": "5dd92799-a65b-447d-8607-106677251c43"
      },
      "execution_count": null,
      "outputs": [
        {
          "output_type": "execute_result",
          "data": {
            "text/plain": [
              "<rdkit.Chem.rdchem.Mol at 0x7f279861b4e0>"
            ],
            "image/png": "[encoded data removed]"
          },
          "metadata": {},
          "execution_count": 74
        }
      ]
    },
    {
      "cell_type": "markdown",
      "source": [
        "## 수소 지우기\n",
        "------\n",
        "Chem.RemoveHs 함수를 사용."
      ],
      "metadata": {
        "id": "owMyJqJIvwvO"
      }
    },
    {
      "cell_type": "code",
      "source": [
        "m4_noH = Chem.RemoveHs(m4_with_H)"
      ],
      "metadata": {
        "id": "aTiBrAJivsAR"
      },
      "execution_count": null,
      "outputs": []
    },
    {
      "cell_type": "code",
      "source": [
        "m4_noH"
      ],
      "metadata": {
        "id": "1WM-AVCEwBVu",
        "colab": {
          "base_uri": "https://localhost:8080/",
          "height": 167
        },
        "outputId": "bc07764b-a6f1-4301-f6a5-eb08a5403976"
      },
      "execution_count": null,
      "outputs": [
        {
          "output_type": "execute_result",
          "data": {
            "text/plain": [
              "<rdkit.Chem.rdchem.Mol at 0x7f2798634530>"
            ],
            "image/png": "[encoded data removed]"
          },
          "metadata": {},
          "execution_count": 76
        }
      ]
    },
    {
      "cell_type": "code",
      "source": [
        "AllChem.Compute2DCoords(m4_noH)"
      ],
      "metadata": {
        "id": "bLkVFhruwCWw",
        "colab": {
          "base_uri": "https://localhost:8080/"
        },
        "outputId": "65308627-a996-4f74-a8e2-bfd030cc7e0b"
      },
      "execution_count": null,
      "outputs": [
        {
          "output_type": "execute_result",
          "data": {
            "text/plain": [
              "0"
            ]
          },
          "metadata": {},
          "execution_count": 77
        }
      ]
    },
    {
      "cell_type": "code",
      "source": [
        "m4_noH"
      ],
      "metadata": {
        "id": "lqPW49L93z4d",
        "colab": {
          "base_uri": "https://localhost:8080/",
          "height": 167
        },
        "outputId": "5c571775-a92b-465e-8ce1-85c70b8b4d21"
      },
      "execution_count": null,
      "outputs": [
        {
          "output_type": "execute_result",
          "data": {
            "text/plain": [
              "<rdkit.Chem.rdchem.Mol at 0x7f2798634530>"
            ],
            "image/png": "[encoded data removed]"
          },
          "metadata": {},
          "execution_count": 78
        }
      ]
    }
  ]
}