{
  "nbformat": 4,
  "nbformat_minor": 0,
  "metadata": {
    "colab": {
      "provenance": [],
      "authorship_tag": "ABX9TyOCOIJC1gD/I4f5/0LbhzAi",
      "include_colab_link": true
    },
    "kernelspec": {
      "name": "python3",
      "display_name": "Python 3"
    },
    "language_info": {
      "name": "python"
    }
  },
  "cells": [
    {
      "cell_type": "markdown",
      "metadata": {
        "id": "view-in-github",
        "colab_type": "text"
      },
      "source": [
        "<a href=\"https://colab.research.google.com/github/JLee823/AI-assisted-drug-discovery/blob/main/2023_1st_SNU_AI_drug_discovery_week1.ipynb\" target=\"_parent\"><img src=\"https://colab.research.google.com/assets/colab-badge.svg\" alt=\"Open In Colab\"/></a>"
      ]
    },
    {
      "cell_type": "code",
      "execution_count": 1,
      "metadata": {
        "colab": {
          "base_uri": "https://localhost:8080/"
        },
        "id": "rTtZ_M4doYy1",
        "outputId": "ea1a44f0-03e2-49c9-ba8a-0d173695d772"
      },
      "outputs": [
        {
          "output_type": "stream",
          "name": "stdout",
          "text": [
            "/content/drive\n",
            "Mounted at /content/drive\n"
          ]
        }
      ],
      "source": [
        "from google.colab import drive\n",
        "from os.path import join\n",
        "ROOT = \"/content/drive\"\n",
        "print(ROOT)\n",
        "drive.mount(ROOT)"
      ]
    },
    {
      "cell_type": "code",
      "source": [
        "import sklearn as sk"
      ],
      "metadata": {
        "id": "g-D-EuI0f8vP"
      },
      "execution_count": 2,
      "outputs": []
    },
    {
      "cell_type": "code",
      "source": [
        "cd /content/drive/MyDrive/Lecture/2023-AI-drug-discovery"
      ],
      "metadata": {
        "colab": {
          "base_uri": "https://localhost:8080/"
        },
        "id": "OCyakG2Eo3-D",
        "outputId": "344bff22-078c-425f-8f6e-f619df0a6003"
      },
      "execution_count": 3,
      "outputs": [
        {
          "output_type": "stream",
          "name": "stdout",
          "text": [
            "/content/drive/MyDrive/Lecture/2023-AI-drug-discovery\n"
          ]
        }
      ]
    },
    {
      "cell_type": "code",
      "source": [
        "ls -althr"
      ],
      "metadata": {
        "colab": {
          "base_uri": "https://localhost:8080/"
        },
        "id": "xs6-pPxNqNpu",
        "outputId": "1aac5524-593b-4eb5-a2b1-ff2beebf3226"
      },
      "execution_count": 4,
      "outputs": [
        {
          "output_type": "stream",
          "name": "stdout",
          "text": [
            "total 0\n"
          ]
        }
      ]
    },
    {
      "cell_type": "code",
      "source": [
        "!pwd"
      ],
      "metadata": {
        "colab": {
          "base_uri": "https://localhost:8080/"
        },
        "id": "sOfRd7n2my9Z",
        "outputId": "894668f9-a15a-412a-c91d-f091c9a89906"
      },
      "execution_count": 5,
      "outputs": [
        {
          "output_type": "stream",
          "name": "stdout",
          "text": [
            "/content/drive/MyDrive/Lecture/2023-AI-drug-discovery\n"
          ]
        }
      ]
    },
    {
      "cell_type": "code",
      "source": [
        "!cd "
      ],
      "metadata": {
        "id": "F4IrQ89mmzZt"
      },
      "execution_count": 6,
      "outputs": []
    },
    {
      "cell_type": "code",
      "source": [],
      "metadata": {
        "colab": {
          "base_uri": "https://localhost:8080/"
        },
        "id": "rsWsZD9RnOKl",
        "outputId": "ba66e66a-3f31-4b9d-ff94-96f0703d6784"
      },
      "execution_count": 7,
      "outputs": [
        {
          "output_type": "stream",
          "name": "stdout",
          "text": [
            "/content/drive/MyDrive/Lecture/2023-AI-drug-discovery\n"
          ]
        }
      ]
    }
  ]
}