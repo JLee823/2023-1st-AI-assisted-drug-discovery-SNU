{
  "nbformat": 4,
  "nbformat_minor": 0,
  "metadata": {
    "colab": {
      "provenance": [],
      "toc_visible": true,
      "authorship_tag": "ABX9TyPLkzaPkOEEyLMYMMdRxZyl",
      "include_colab_link": true
    },
    "kernelspec": {
      "name": "python3",
      "display_name": "Python 3"
    },
    "language_info": {
      "name": "python"
    }
  },
  "cells": [
    {
      "cell_type": "markdown",
      "metadata": {
        "id": "view-in-github",
        "colab_type": "text"
      },
      "source": [
        "<a href=\"https://colab.research.google.com/github/JLee823/2023-1st-AI-assisted-drug-discovery-SNU/blob/main/Week1_Quick_start_Introduction_to_machine_learning_for_drug_discovery_2023_1st_SNU.ipynb\" target=\"_parent\"><img src=\"https://colab.research.google.com/assets/colab-badge.svg\" alt=\"Open In Colab\"/></a>"
      ]
    },
    {
      "cell_type": "markdown",
      "source": [
        "# Introduction\n",
        "인공 지능 기반 신약 개발 수업에 관심을 가져주셔서 감사합니다. \n",
        "\n",
        "1주차에서는 아주 기본적인 머신 러닝의 흐름을 실습해보는 시간을 가지도록 하겠습니다. \n",
        "\n",
        "각 코드의 자세한 내용은 앞으로 수업이 진행되면서 조금 더 자세히 설명하도록 하겠습니다. \n",
        "\n",
        "------\n"
      ],
      "metadata": {
        "id": "eWfF_h9zonhi"
      }
    },
    {
      "cell_type": "markdown",
      "source": [
        "# Predicting activity of JAK2 inhibitors\n",
        "## Goal of the class\n",
        "* Practice the **regression model** using biological data\n",
        "\n",
        "## Janus kinase\n",
        "Janus kinase (JAK) is a family of intracellular, non-receptor tyrosine kinases that transduce cytokine-mediated signals via the JAK-STAT pathway. They were initially named \"just another kinase\" 1 and 2 (since they were just two of many discoveries in a PCR-based screen of kinases),[1] but were ultimately published as \"Janus kinase\". The name is taken from the two-faced Roman god of beginnings, endings and duality, Janus, because the JAKs possess two near-identical phosphate-transferring domains. One domain exhibits the kinase activity, while the other negatively regulates the kinase activity of the first.\n",
        "\n",
        "![picture](https://upload.wikimedia.org/wikipedia/commons/thumb/3/35/Protein_JAK2_PDB_2b7a.png/500px-Protein_JAK2_PDB_2b7a.png)"
      ],
      "metadata": {
        "id": "cPZ-Yd6ioLFp"
      }
    },
    {
      "cell_type": "markdown",
      "source": [
        "## Part1 - Collecting activity data of JAK2\n",
        "-----\n",
        "\n",
        "JAK2의 activity data는 [ChEMBL](https://www.ebi.ac.uk/chembl/) 사이트에서 받을 수 있다. \n",
        "\n",
        "\n"
      ],
      "metadata": {
        "id": "c_0YKKyguvT6"
      }
    },
    {
      "cell_type": "markdown",
      "source": [
        "<img width=\"500\" src=\"https://www.dropbox.com/s/h1k4sr23qu93dit/ChEMBL1.png?raw=1\">"
      ],
      "metadata": {
        "id": "3a7aHKNOwpfL"
      }
    },
    {
      "cell_type": "markdown",
      "source": [
        "<img width=\"500\" src=\"https://www.dropbox.com/s/4lb5d853ut2mxtg/ChEMBL2.png?raw=1\">\n",
        "\n",
        "Assay로 search를 하면 다양한 compound assay 실험 결과 데이터를 검색할 수 있다. \n",
        "\n",
        "<img width=\"500\" src=\"https://www.dropbox.com/s/790whkk92wv0ssw/ChEMBL3.png?raw=1\">\n",
        "\n",
        "검색 결과 다양한 assay결과들이 검색되었다. \n",
        "\n",
        "각 assay 데이터를 다운 받아서 통합하는 일이 필요하다...... \n",
        "\n",
        "자세한 것은 차차 다루도록 한다."
      ],
      "metadata": {
        "id": "rHKg2TYRyDQB"
      }
    },
    {
      "cell_type": "code",
      "source": [
        "import pandas as pd"
      ],
      "metadata": {
        "id": "-n_J5tmLytwT"
      },
      "execution_count": 1,
      "outputs": []
    },
    {
      "cell_type": "markdown",
      "source": [
        "데이터를 다루기 위해서 Pandas 라이브러리를 import 한다. \n",
        "\n",
        "https://pandas.pydata.org/\n",
        "\n",
        "Pandas 라이브러리는 colab 이나 Jupyter notebook에서 excel과 유사하게 데이터를 다룰 수 있도록 해주는 library이다. \n",
        "\n",
        "Pandas에 대한 자세한 설명은 아래의 Pandas tutorial을 참고해주시길 바랍니다. \n",
        "\n",
        "https://pandas.pydata.org/docs/user_guide/10min.html\n",
        "\n",
        "https://codetorial.net/pandas/index.html\n",
        "\n"
      ],
      "metadata": {
        "id": "7U9LEkck0EqP"
      }
    },
    {
      "cell_type": "code",
      "source": [
        "df_raw = pd.read_csv(\"jak2_data.csv\")"
      ],
      "metadata": {
        "id": "f5URV3eUy0B3"
      },
      "execution_count": 14,
      "outputs": []
    },
    {
      "cell_type": "markdown",
      "source": [
        "### Inhibitory concentration 50 ( $\\mathrm{IC_{50}}$ )\n",
        "The **half maximal inhibitory concentration (IC50)** is a measure of the potency of a substance in inhibiting a specific biological or biochemical function. \n",
        "\n",
        "IC50 is a quantitative measure that indicates **how much of a particular inhibitory substance (e.g. drug) is needed to inhibit, in vitro, a given biological process or biological component by 50%.** \n",
        "\n",
        "The biological component could be an enzyme, cell, cell receptor or microorganism. IC50 values are typically expressed as molar concentration.\n",
        "\n",
        "**In general, the IC50 value of a typical drug is in a range of nM ~ $\\mu$M.**\n",
        "\n",
        "$\\mathrm{pIC50} = -\\log_{10}(\\mathrm{IC50})$\n",
        "\n",
        "**Thus, molecules with higher pIC50 are stronger binders.**\n",
        "\n",
        "<img width=500 src=\"https://upload.wikimedia.org/wikipedia/commons/8/81/Example_IC50_curve_demonstrating_visually_how_IC50_is_derived.png\">"
      ],
      "metadata": {
        "id": "yah-t77J05Z2"
      }
    },
    {
      "cell_type": "markdown",
      "source": [
        "pandas에서 CSV 파일을 읽어들이면 DataFrame이라는 Class로 저장된다."
      ],
      "metadata": {
        "id": "jUZnybZ33i30"
      }
    },
    {
      "cell_type": "code",
      "source": [
        "df_raw"
      ],
      "metadata": {
        "colab": {
          "base_uri": "https://localhost:8080/",
          "height": 424
        },
        "id": "7OuM-ELw0ny6",
        "outputId": "d7c7f250-d91e-4a3b-b91f-018f96a2c49d"
      },
      "execution_count": 15,
      "outputs": [
        {
          "output_type": "execute_result",
          "data": {
            "text/plain": [
              "                                                 SMILES  pIC50\n",
              "0            O=S(=O)(Nc1cccc(-c2cnc3ccccc3n2)c1)c1cccs1   4.26\n",
              "1     O=c1cc(-c2nc(-c3ccc(-c4cn(CCP(=O)(O)O)nn4)cc3)...   4.34\n",
              "2                NC(=O)c1ccc2c(c1)nc(C1CCC(O)CC1)n2CCCO   4.53\n",
              "3                   NCCCn1c(C2CCNCC2)nc2cc(C(N)=O)ccc21   4.56\n",
              "4                     CNC(=S)Nc1cccc(-c2cnc3ccccc3n2)c1   4.59\n",
              "...                                                 ...    ...\n",
              "1906        CC(=O)N1CCCCC(Nc2ncccc2-c2cnc3[nH]ccc3n2)C1  10.72\n",
              "1907  CN1CCN(c2ncc(-c3cnc4[nH]ccc4n3)c(NC3CCCN(S(=O)...  10.76\n",
              "1908  CC1CN(S(=O)(=O)CC2CCC(N(C)c3[nH]cnc4nccc3-4)CC...  10.78\n",
              "1909      CS(=O)(=O)N1CCC(Nc2ncccc2-c2cnc3[nH]ccc3n2)C1  10.97\n",
              "1910       COC(=O)N1CCCCC(Nc2ncccc2-c2cnc3[nH]ccc3n2)C1  10.97\n",
              "\n",
              "[1911 rows x 2 columns]"
            ],
            "text/html": [
              "\n",
              "  <div id=\"df-d8cb504f-bd9a-452f-ab8f-f817c7e1b779\">\n",
              "    <div class=\"colab-df-container\">\n",
              "      <div>\n",
              "<style scoped>\n",
              "    .dataframe tbody tr th:only-of-type {\n",
              "        vertical-align: middle;\n",
              "    }\n",
              "\n",
              "    .dataframe tbody tr th {\n",
              "        vertical-align: top;\n",
              "    }\n",
              "\n",
              "    .dataframe thead th {\n",
              "        text-align: right;\n",
              "    }\n",
              "</style>\n",
              "<table border=\"1\" class=\"dataframe\">\n",
              "  <thead>\n",
              "    <tr style=\"text-align: right;\">\n",
              "      <th></th>\n",
              "      <th>SMILES</th>\n",
              "      <th>pIC50</th>\n",
              "    </tr>\n",
              "  </thead>\n",
              "  <tbody>\n",
              "    <tr>\n",
              "      <th>0</th>\n",
              "      <td>O=S(=O)(Nc1cccc(-c2cnc3ccccc3n2)c1)c1cccs1</td>\n",
              "      <td>4.26</td>\n",
              "    </tr>\n",
              "    <tr>\n",
              "      <th>1</th>\n",
              "      <td>O=c1cc(-c2nc(-c3ccc(-c4cn(CCP(=O)(O)O)nn4)cc3)...</td>\n",
              "      <td>4.34</td>\n",
              "    </tr>\n",
              "    <tr>\n",
              "      <th>2</th>\n",
              "      <td>NC(=O)c1ccc2c(c1)nc(C1CCC(O)CC1)n2CCCO</td>\n",
              "      <td>4.53</td>\n",
              "    </tr>\n",
              "    <tr>\n",
              "      <th>3</th>\n",
              "      <td>NCCCn1c(C2CCNCC2)nc2cc(C(N)=O)ccc21</td>\n",
              "      <td>4.56</td>\n",
              "    </tr>\n",
              "    <tr>\n",
              "      <th>4</th>\n",
              "      <td>CNC(=S)Nc1cccc(-c2cnc3ccccc3n2)c1</td>\n",
              "      <td>4.59</td>\n",
              "    </tr>\n",
              "    <tr>\n",
              "      <th>...</th>\n",
              "      <td>...</td>\n",
              "      <td>...</td>\n",
              "    </tr>\n",
              "    <tr>\n",
              "      <th>1906</th>\n",
              "      <td>CC(=O)N1CCCCC(Nc2ncccc2-c2cnc3[nH]ccc3n2)C1</td>\n",
              "      <td>10.72</td>\n",
              "    </tr>\n",
              "    <tr>\n",
              "      <th>1907</th>\n",
              "      <td>CN1CCN(c2ncc(-c3cnc4[nH]ccc4n3)c(NC3CCCN(S(=O)...</td>\n",
              "      <td>10.76</td>\n",
              "    </tr>\n",
              "    <tr>\n",
              "      <th>1908</th>\n",
              "      <td>CC1CN(S(=O)(=O)CC2CCC(N(C)c3[nH]cnc4nccc3-4)CC...</td>\n",
              "      <td>10.78</td>\n",
              "    </tr>\n",
              "    <tr>\n",
              "      <th>1909</th>\n",
              "      <td>CS(=O)(=O)N1CCC(Nc2ncccc2-c2cnc3[nH]ccc3n2)C1</td>\n",
              "      <td>10.97</td>\n",
              "    </tr>\n",
              "    <tr>\n",
              "      <th>1910</th>\n",
              "      <td>COC(=O)N1CCCCC(Nc2ncccc2-c2cnc3[nH]ccc3n2)C1</td>\n",
              "      <td>10.97</td>\n",
              "    </tr>\n",
              "  </tbody>\n",
              "</table>\n",
              "<p>1911 rows × 2 columns</p>\n",
              "</div>\n",
              "      <button class=\"colab-df-convert\" onclick=\"convertToInteractive('df-d8cb504f-bd9a-452f-ab8f-f817c7e1b779')\"\n",
              "              title=\"Convert this dataframe to an interactive table.\"\n",
              "              style=\"display:none;\">\n",
              "        \n",
              "  <svg xmlns=\"http://www.w3.org/2000/svg\" height=\"24px\"viewBox=\"0 0 24 24\"\n",
              "       width=\"24px\">\n",
              "    <path d=\"M0 0h24v24H0V0z\" fill=\"none\"/>\n",
              "    <path d=\"M18.56 5.44l.94 2.06.94-2.06 2.06-.94-2.06-.94-.94-2.06-.94 2.06-2.06.94zm-11 1L8.5 8.5l.94-2.06 2.06-.94-2.06-.94L8.5 2.5l-.94 2.06-2.06.94zm10 10l.94 2.06.94-2.06 2.06-.94-2.06-.94-.94-2.06-.94 2.06-2.06.94z\"/><path d=\"M17.41 7.96l-1.37-1.37c-.4-.4-.92-.59-1.43-.59-.52 0-1.04.2-1.43.59L10.3 9.45l-7.72 7.72c-.78.78-.78 2.05 0 2.83L4 21.41c.39.39.9.59 1.41.59.51 0 1.02-.2 1.41-.59l7.78-7.78 2.81-2.81c.8-.78.8-2.07 0-2.86zM5.41 20L4 18.59l7.72-7.72 1.47 1.35L5.41 20z\"/>\n",
              "  </svg>\n",
              "      </button>\n",
              "      \n",
              "  <style>\n",
              "    .colab-df-container {\n",
              "      display:flex;\n",
              "      flex-wrap:wrap;\n",
              "      gap: 12px;\n",
              "    }\n",
              "\n",
              "    .colab-df-convert {\n",
              "      background-color: #E8F0FE;\n",
              "      border: none;\n",
              "      border-radius: 50%;\n",
              "      cursor: pointer;\n",
              "      display: none;\n",
              "      fill: #1967D2;\n",
              "      height: 32px;\n",
              "      padding: 0 0 0 0;\n",
              "      width: 32px;\n",
              "    }\n",
              "\n",
              "    .colab-df-convert:hover {\n",
              "      background-color: #E2EBFA;\n",
              "      box-shadow: 0px 1px 2px rgba(60, 64, 67, 0.3), 0px 1px 3px 1px rgba(60, 64, 67, 0.15);\n",
              "      fill: #174EA6;\n",
              "    }\n",
              "\n",
              "    [theme=dark] .colab-df-convert {\n",
              "      background-color: #3B4455;\n",
              "      fill: #D2E3FC;\n",
              "    }\n",
              "\n",
              "    [theme=dark] .colab-df-convert:hover {\n",
              "      background-color: #434B5C;\n",
              "      box-shadow: 0px 1px 3px 1px rgba(0, 0, 0, 0.15);\n",
              "      filter: drop-shadow(0px 1px 2px rgba(0, 0, 0, 0.3));\n",
              "      fill: #FFFFFF;\n",
              "    }\n",
              "  </style>\n",
              "\n",
              "      <script>\n",
              "        const buttonEl =\n",
              "          document.querySelector('#df-d8cb504f-bd9a-452f-ab8f-f817c7e1b779 button.colab-df-convert');\n",
              "        buttonEl.style.display =\n",
              "          google.colab.kernel.accessAllowed ? 'block' : 'none';\n",
              "\n",
              "        async function convertToInteractive(key) {\n",
              "          const element = document.querySelector('#df-d8cb504f-bd9a-452f-ab8f-f817c7e1b779');\n",
              "          const dataTable =\n",
              "            await google.colab.kernel.invokeFunction('convertToInteractive',\n",
              "                                                     [key], {});\n",
              "          if (!dataTable) return;\n",
              "\n",
              "          const docLinkHtml = 'Like what you see? Visit the ' +\n",
              "            '<a target=\"_blank\" href=https://colab.research.google.com/notebooks/data_table.ipynb>data table notebook</a>'\n",
              "            + ' to learn more about interactive tables.';\n",
              "          element.innerHTML = '';\n",
              "          dataTable['output_type'] = 'display_data';\n",
              "          await google.colab.output.renderOutput(dataTable, element);\n",
              "          const docLink = document.createElement('div');\n",
              "          docLink.innerHTML = docLinkHtml;\n",
              "          element.appendChild(docLink);\n",
              "        }\n",
              "      </script>\n",
              "    </div>\n",
              "  </div>\n",
              "  "
            ]
          },
          "metadata": {},
          "execution_count": 15
        }
      ]
    },
    {
      "cell_type": "code",
      "source": [
        "df_raw.describe()"
      ],
      "metadata": {
        "colab": {
          "base_uri": "https://localhost:8080/",
          "height": 300
        },
        "id": "nl2LqTzl0ptO",
        "outputId": "65e24a7d-3dc3-44f7-c1d7-a3cf8bff51d2"
      },
      "execution_count": 16,
      "outputs": [
        {
          "output_type": "execute_result",
          "data": {
            "text/plain": [
              "             pIC50\n",
              "count  1911.000000\n",
              "mean      7.391544\n",
              "std       1.180905\n",
              "min       4.260000\n",
              "25%       6.650000\n",
              "50%       7.380000\n",
              "75%       8.100000\n",
              "max      10.970000"
            ],
            "text/html": [
              "\n",
              "  <div id=\"df-c0278b9f-b41f-486c-8704-686dcb48e865\">\n",
              "    <div class=\"colab-df-container\">\n",
              "      <div>\n",
              "<style scoped>\n",
              "    .dataframe tbody tr th:only-of-type {\n",
              "        vertical-align: middle;\n",
              "    }\n",
              "\n",
              "    .dataframe tbody tr th {\n",
              "        vertical-align: top;\n",
              "    }\n",
              "\n",
              "    .dataframe thead th {\n",
              "        text-align: right;\n",
              "    }\n",
              "</style>\n",
              "<table border=\"1\" class=\"dataframe\">\n",
              "  <thead>\n",
              "    <tr style=\"text-align: right;\">\n",
              "      <th></th>\n",
              "      <th>pIC50</th>\n",
              "    </tr>\n",
              "  </thead>\n",
              "  <tbody>\n",
              "    <tr>\n",
              "      <th>count</th>\n",
              "      <td>1911.000000</td>\n",
              "    </tr>\n",
              "    <tr>\n",
              "      <th>mean</th>\n",
              "      <td>7.391544</td>\n",
              "    </tr>\n",
              "    <tr>\n",
              "      <th>std</th>\n",
              "      <td>1.180905</td>\n",
              "    </tr>\n",
              "    <tr>\n",
              "      <th>min</th>\n",
              "      <td>4.260000</td>\n",
              "    </tr>\n",
              "    <tr>\n",
              "      <th>25%</th>\n",
              "      <td>6.650000</td>\n",
              "    </tr>\n",
              "    <tr>\n",
              "      <th>50%</th>\n",
              "      <td>7.380000</td>\n",
              "    </tr>\n",
              "    <tr>\n",
              "      <th>75%</th>\n",
              "      <td>8.100000</td>\n",
              "    </tr>\n",
              "    <tr>\n",
              "      <th>max</th>\n",
              "      <td>10.970000</td>\n",
              "    </tr>\n",
              "  </tbody>\n",
              "</table>\n",
              "</div>\n",
              "      <button class=\"colab-df-convert\" onclick=\"convertToInteractive('df-c0278b9f-b41f-486c-8704-686dcb48e865')\"\n",
              "              title=\"Convert this dataframe to an interactive table.\"\n",
              "              style=\"display:none;\">\n",
              "        \n",
              "  <svg xmlns=\"http://www.w3.org/2000/svg\" height=\"24px\"viewBox=\"0 0 24 24\"\n",
              "       width=\"24px\">\n",
              "    <path d=\"M0 0h24v24H0V0z\" fill=\"none\"/>\n",
              "    <path d=\"M18.56 5.44l.94 2.06.94-2.06 2.06-.94-2.06-.94-.94-2.06-.94 2.06-2.06.94zm-11 1L8.5 8.5l.94-2.06 2.06-.94-2.06-.94L8.5 2.5l-.94 2.06-2.06.94zm10 10l.94 2.06.94-2.06 2.06-.94-2.06-.94-.94-2.06-.94 2.06-2.06.94z\"/><path d=\"M17.41 7.96l-1.37-1.37c-.4-.4-.92-.59-1.43-.59-.52 0-1.04.2-1.43.59L10.3 9.45l-7.72 7.72c-.78.78-.78 2.05 0 2.83L4 21.41c.39.39.9.59 1.41.59.51 0 1.02-.2 1.41-.59l7.78-7.78 2.81-2.81c.8-.78.8-2.07 0-2.86zM5.41 20L4 18.59l7.72-7.72 1.47 1.35L5.41 20z\"/>\n",
              "  </svg>\n",
              "      </button>\n",
              "      \n",
              "  <style>\n",
              "    .colab-df-container {\n",
              "      display:flex;\n",
              "      flex-wrap:wrap;\n",
              "      gap: 12px;\n",
              "    }\n",
              "\n",
              "    .colab-df-convert {\n",
              "      background-color: #E8F0FE;\n",
              "      border: none;\n",
              "      border-radius: 50%;\n",
              "      cursor: pointer;\n",
              "      display: none;\n",
              "      fill: #1967D2;\n",
              "      height: 32px;\n",
              "      padding: 0 0 0 0;\n",
              "      width: 32px;\n",
              "    }\n",
              "\n",
              "    .colab-df-convert:hover {\n",
              "      background-color: #E2EBFA;\n",
              "      box-shadow: 0px 1px 2px rgba(60, 64, 67, 0.3), 0px 1px 3px 1px rgba(60, 64, 67, 0.15);\n",
              "      fill: #174EA6;\n",
              "    }\n",
              "\n",
              "    [theme=dark] .colab-df-convert {\n",
              "      background-color: #3B4455;\n",
              "      fill: #D2E3FC;\n",
              "    }\n",
              "\n",
              "    [theme=dark] .colab-df-convert:hover {\n",
              "      background-color: #434B5C;\n",
              "      box-shadow: 0px 1px 3px 1px rgba(0, 0, 0, 0.15);\n",
              "      filter: drop-shadow(0px 1px 2px rgba(0, 0, 0, 0.3));\n",
              "      fill: #FFFFFF;\n",
              "    }\n",
              "  </style>\n",
              "\n",
              "      <script>\n",
              "        const buttonEl =\n",
              "          document.querySelector('#df-c0278b9f-b41f-486c-8704-686dcb48e865 button.colab-df-convert');\n",
              "        buttonEl.style.display =\n",
              "          google.colab.kernel.accessAllowed ? 'block' : 'none';\n",
              "\n",
              "        async function convertToInteractive(key) {\n",
              "          const element = document.querySelector('#df-c0278b9f-b41f-486c-8704-686dcb48e865');\n",
              "          const dataTable =\n",
              "            await google.colab.kernel.invokeFunction('convertToInteractive',\n",
              "                                                     [key], {});\n",
              "          if (!dataTable) return;\n",
              "\n",
              "          const docLinkHtml = 'Like what you see? Visit the ' +\n",
              "            '<a target=\"_blank\" href=https://colab.research.google.com/notebooks/data_table.ipynb>data table notebook</a>'\n",
              "            + ' to learn more about interactive tables.';\n",
              "          element.innerHTML = '';\n",
              "          dataTable['output_type'] = 'display_data';\n",
              "          await google.colab.output.renderOutput(dataTable, element);\n",
              "          const docLink = document.createElement('div');\n",
              "          docLink.innerHTML = docLinkHtml;\n",
              "          element.appendChild(docLink);\n",
              "        }\n",
              "      </script>\n",
              "    </div>\n",
              "  </div>\n",
              "  "
            ]
          },
          "metadata": {},
          "execution_count": 16
        }
      ]
    },
    {
      "cell_type": "markdown",
      "source": [
        "1911개의 활성도 데이터가 존재한다. "
      ],
      "metadata": {
        "id": "EgcWXr2C2NKh"
      }
    },
    {
      "cell_type": "markdown",
      "source": [
        "### 중복된 row 제거 \n",
        "------\n",
        "중복되는 데이터가 존재할 수 있으므로 중복되는 행을 삭제하자. "
      ],
      "metadata": {
        "id": "pfhoGd8V2ybl"
      }
    },
    {
      "cell_type": "code",
      "source": [
        "df = df_raw.drop_duplicates()"
      ],
      "metadata": {
        "id": "Y0theJ9P2iRh"
      },
      "execution_count": 17,
      "outputs": []
    },
    {
      "cell_type": "code",
      "source": [
        "df.describe()"
      ],
      "metadata": {
        "colab": {
          "base_uri": "https://localhost:8080/",
          "height": 300
        },
        "id": "RHwXPJl926Yn",
        "outputId": "ac2ae4cf-f8e9-43ee-9c33-7e39cf679f6e"
      },
      "execution_count": 19,
      "outputs": [
        {
          "output_type": "execute_result",
          "data": {
            "text/plain": [
              "             pIC50\n",
              "count  1902.000000\n",
              "mean      7.386887\n",
              "std       1.181605\n",
              "min       4.260000\n",
              "25%       6.650000\n",
              "50%       7.380000\n",
              "75%       8.080000\n",
              "max      10.970000"
            ],
            "text/html": [
              "\n",
              "  <div id=\"df-71f57079-292b-41f4-aa49-5320c79c4215\">\n",
              "    <div class=\"colab-df-container\">\n",
              "      <div>\n",
              "<style scoped>\n",
              "    .dataframe tbody tr th:only-of-type {\n",
              "        vertical-align: middle;\n",
              "    }\n",
              "\n",
              "    .dataframe tbody tr th {\n",
              "        vertical-align: top;\n",
              "    }\n",
              "\n",
              "    .dataframe thead th {\n",
              "        text-align: right;\n",
              "    }\n",
              "</style>\n",
              "<table border=\"1\" class=\"dataframe\">\n",
              "  <thead>\n",
              "    <tr style=\"text-align: right;\">\n",
              "      <th></th>\n",
              "      <th>pIC50</th>\n",
              "    </tr>\n",
              "  </thead>\n",
              "  <tbody>\n",
              "    <tr>\n",
              "      <th>count</th>\n",
              "      <td>1902.000000</td>\n",
              "    </tr>\n",
              "    <tr>\n",
              "      <th>mean</th>\n",
              "      <td>7.386887</td>\n",
              "    </tr>\n",
              "    <tr>\n",
              "      <th>std</th>\n",
              "      <td>1.181605</td>\n",
              "    </tr>\n",
              "    <tr>\n",
              "      <th>min</th>\n",
              "      <td>4.260000</td>\n",
              "    </tr>\n",
              "    <tr>\n",
              "      <th>25%</th>\n",
              "      <td>6.650000</td>\n",
              "    </tr>\n",
              "    <tr>\n",
              "      <th>50%</th>\n",
              "      <td>7.380000</td>\n",
              "    </tr>\n",
              "    <tr>\n",
              "      <th>75%</th>\n",
              "      <td>8.080000</td>\n",
              "    </tr>\n",
              "    <tr>\n",
              "      <th>max</th>\n",
              "      <td>10.970000</td>\n",
              "    </tr>\n",
              "  </tbody>\n",
              "</table>\n",
              "</div>\n",
              "      <button class=\"colab-df-convert\" onclick=\"convertToInteractive('df-71f57079-292b-41f4-aa49-5320c79c4215')\"\n",
              "              title=\"Convert this dataframe to an interactive table.\"\n",
              "              style=\"display:none;\">\n",
              "        \n",
              "  <svg xmlns=\"http://www.w3.org/2000/svg\" height=\"24px\"viewBox=\"0 0 24 24\"\n",
              "       width=\"24px\">\n",
              "    <path d=\"M0 0h24v24H0V0z\" fill=\"none\"/>\n",
              "    <path d=\"M18.56 5.44l.94 2.06.94-2.06 2.06-.94-2.06-.94-.94-2.06-.94 2.06-2.06.94zm-11 1L8.5 8.5l.94-2.06 2.06-.94-2.06-.94L8.5 2.5l-.94 2.06-2.06.94zm10 10l.94 2.06.94-2.06 2.06-.94-2.06-.94-.94-2.06-.94 2.06-2.06.94z\"/><path d=\"M17.41 7.96l-1.37-1.37c-.4-.4-.92-.59-1.43-.59-.52 0-1.04.2-1.43.59L10.3 9.45l-7.72 7.72c-.78.78-.78 2.05 0 2.83L4 21.41c.39.39.9.59 1.41.59.51 0 1.02-.2 1.41-.59l7.78-7.78 2.81-2.81c.8-.78.8-2.07 0-2.86zM5.41 20L4 18.59l7.72-7.72 1.47 1.35L5.41 20z\"/>\n",
              "  </svg>\n",
              "      </button>\n",
              "      \n",
              "  <style>\n",
              "    .colab-df-container {\n",
              "      display:flex;\n",
              "      flex-wrap:wrap;\n",
              "      gap: 12px;\n",
              "    }\n",
              "\n",
              "    .colab-df-convert {\n",
              "      background-color: #E8F0FE;\n",
              "      border: none;\n",
              "      border-radius: 50%;\n",
              "      cursor: pointer;\n",
              "      display: none;\n",
              "      fill: #1967D2;\n",
              "      height: 32px;\n",
              "      padding: 0 0 0 0;\n",
              "      width: 32px;\n",
              "    }\n",
              "\n",
              "    .colab-df-convert:hover {\n",
              "      background-color: #E2EBFA;\n",
              "      box-shadow: 0px 1px 2px rgba(60, 64, 67, 0.3), 0px 1px 3px 1px rgba(60, 64, 67, 0.15);\n",
              "      fill: #174EA6;\n",
              "    }\n",
              "\n",
              "    [theme=dark] .colab-df-convert {\n",
              "      background-color: #3B4455;\n",
              "      fill: #D2E3FC;\n",
              "    }\n",
              "\n",
              "    [theme=dark] .colab-df-convert:hover {\n",
              "      background-color: #434B5C;\n",
              "      box-shadow: 0px 1px 3px 1px rgba(0, 0, 0, 0.15);\n",
              "      filter: drop-shadow(0px 1px 2px rgba(0, 0, 0, 0.3));\n",
              "      fill: #FFFFFF;\n",
              "    }\n",
              "  </style>\n",
              "\n",
              "      <script>\n",
              "        const buttonEl =\n",
              "          document.querySelector('#df-71f57079-292b-41f4-aa49-5320c79c4215 button.colab-df-convert');\n",
              "        buttonEl.style.display =\n",
              "          google.colab.kernel.accessAllowed ? 'block' : 'none';\n",
              "\n",
              "        async function convertToInteractive(key) {\n",
              "          const element = document.querySelector('#df-71f57079-292b-41f4-aa49-5320c79c4215');\n",
              "          const dataTable =\n",
              "            await google.colab.kernel.invokeFunction('convertToInteractive',\n",
              "                                                     [key], {});\n",
              "          if (!dataTable) return;\n",
              "\n",
              "          const docLinkHtml = 'Like what you see? Visit the ' +\n",
              "            '<a target=\"_blank\" href=https://colab.research.google.com/notebooks/data_table.ipynb>data table notebook</a>'\n",
              "            + ' to learn more about interactive tables.';\n",
              "          element.innerHTML = '';\n",
              "          dataTable['output_type'] = 'display_data';\n",
              "          await google.colab.output.renderOutput(dataTable, element);\n",
              "          const docLink = document.createElement('div');\n",
              "          docLink.innerHTML = docLinkHtml;\n",
              "          element.appendChild(docLink);\n",
              "        }\n",
              "      </script>\n",
              "    </div>\n",
              "  </div>\n",
              "  "
            ]
          },
          "metadata": {},
          "execution_count": 19
        }
      ]
    },
    {
      "cell_type": "markdown",
      "source": [
        "데이터의 분포를 히스토그램으로 그려보자. "
      ],
      "metadata": {
        "id": "wsBaTiub2x5b"
      }
    },
    {
      "cell_type": "code",
      "source": [
        "df.hist(\"pIC50\")"
      ],
      "metadata": {
        "colab": {
          "base_uri": "https://localhost:8080/",
          "height": 299
        },
        "id": "nCps7AN-0tyu",
        "outputId": "9a9fa9ce-c745-405e-cc23-9979f1cd8eb3"
      },
      "execution_count": 20,
      "outputs": [
        {
          "output_type": "execute_result",
          "data": {
            "text/plain": [
              "array([[<AxesSubplot:title={'center':'pIC50'}>]], dtype=object)"
            ]
          },
          "metadata": {},
          "execution_count": 20
        },
        {
          "output_type": "display_data",
          "data": {
            "text/plain": [
              "<Figure size 432x288 with 1 Axes>"
            ],
            "image/png": "[encoded data removed]"
          },
          "metadata": {
            "needs_background": "light"
          }
        }
      ]
    },
    {
      "cell_type": "markdown",
      "source": [
        "## Part2 - Featurization of molecules\n",
        "\n",
        "--------\n",
        "\n",
        "분자의 물성을 컴퓨터 알고리즘을 이용해서 예측하기 위해서는 분자를 컴퓨터가 읽어들이기 좋은 형태(벡터, 텐서)의 형태로 바꾸어 주어야 한다. \n",
        "\n"
      ],
      "metadata": {
        "id": "RBLc0Zbh4GJD"
      }
    },
    {
      "cell_type": "markdown",
      "source": [
        "<img width=500 src=\"https://static.wixstatic.com/media/cf17e0_d4fa36bf83c7490aa749eee5bd6a5073~mv2.png/v1/fit/w_1000%2Ch_563%2Cal_c/file.png\">"
      ],
      "metadata": {
        "id": "XnxZ6bDc4ZIM"
      }
    },
    {
      "cell_type": "markdown",
      "source": [
        "<img width=500 src=\"https://pyojuncode.github.io/static/8e01a362b96ea33d6b8855e9d5fd74e9/ecf19/fe.png\">"
      ],
      "metadata": {
        "id": "-iHkzQb14xj2"
      }
    },
    {
      "cell_type": "markdown",
      "source": [
        "### Molecular descriptors\n",
        "-------\n",
        "* 이 예제에서는 분자의 특징을 다음과 같은 물리화학적 물성으로 나타낸다.  \n",
        "1. Molecular Weight\n",
        "2. Number of hydrogen bond acceptors. \n",
        "3. Number of hydrogen bond donors. \n",
        "4. logP\n",
        "5. fraction of SP3 hybridized carbon (sp3 혼성을 가지는 탄소의 개수)\n",
        "6. Number of rotatable bond. \n",
        "7. Number of rings. \n",
        "8. TPSA: polar surface area. (분자의 표면적 넓이, 단위: A^2)\n",
        "9. Number of Aramatic Rings (방향성 고리의 개수)"
      ],
      "metadata": {
        "id": "X5xwMX7B5uV8"
      }
    },
    {
      "cell_type": "markdown",
      "source": [
        "### RDKit library를 이용한 분자 물성 계산\n",
        "-------\n",
        "\n",
        "[RDKit](https://www.rdkit.org/docs/GettingStartedInPython.html)은 분자를 파이썬을 이용해서 다룰 수 있도록 해주는 화학정보학 라이브러리이다. \n",
        "\n",
        "<img width=500 src=\"https://www.dropbox.com/s/q7gqs8jeep0g5w2/rdkit_front.png?raw=1\">"
      ],
      "metadata": {
        "id": "xM6A-Rj-6HPQ"
      }
    },
    {
      "cell_type": "markdown",
      "source": [
        "rdkit 라이브러리는 pip을 이용해서 설치 가능하다. "
      ],
      "metadata": {
        "id": "Ix8NRUww6mqm"
      }
    },
    {
      "cell_type": "code",
      "source": [
        "pip install rdkit"
      ],
      "metadata": {
        "colab": {
          "base_uri": "https://localhost:8080/"
        },
        "id": "W0ng0dpeoK4-",
        "outputId": "061cd5c7-0b39-460d-b960-214a2da69678"
      },
      "execution_count": 21,
      "outputs": [
        {
          "output_type": "stream",
          "name": "stdout",
          "text": [
            "Looking in indexes: https://pypi.org/simple, https://us-python.pkg.dev/colab-wheels/public/simple/\n",
            "Collecting rdkit\n",
            "  Downloading rdkit-2022.9.5-cp38-cp38-manylinux_2_17_x86_64.manylinux2014_x86_64.whl (29.4 MB)\n",
            "\u001b[2K     \u001b[90m━━━━━━━━━━━━━━━━━━━━━━━━━━━━━━━━━━━━━━━━\u001b[0m \u001b[32m29.4/29.4 MB\u001b[0m \u001b[31m60.6 MB/s\u001b[0m eta \u001b[36m0:00:00\u001b[0m\n",
            "\u001b[?25hRequirement already satisfied: numpy in /usr/local/lib/python3.8/dist-packages (from rdkit) (1.22.4)\n",
            "Requirement already satisfied: Pillow in /usr/local/lib/python3.8/dist-packages (from rdkit) (8.4.0)\n",
            "Installing collected packages: rdkit\n",
            "Successfully installed rdkit-2022.9.5\n"
          ]
        }
      ]
    },
    {
      "cell_type": "code",
      "source": [
        "import rdkit.Chem as Chem\n",
        "import rdkit.Chem.AllChem as AllChem"
      ],
      "metadata": {
        "id": "sD5F_V9E7W9p"
      },
      "execution_count": 27,
      "outputs": []
    },
    {
      "cell_type": "code",
      "source": [
        "# Descriptor를 계산하는 함수를 불러오자. \n",
        "from rdkit.Chem.rdMolDescriptors import (\n",
        "    CalcExactMolWt, # 분자량\n",
        "    CalcCrippenDescriptors, # logP\n",
        "    CalcNumLipinskiHBA, \n",
        "    CalcNumLipinskiHBD, \n",
        "    CalcFractionCSP3, \n",
        "    CalcNumRotatableBonds, \n",
        "    CalcNumRings, \n",
        "    CalcTPSA, \n",
        "    CalcNumAromaticRings\n",
        ")\n",
        "\n",
        "# empty dictionary for pandas\n",
        "properties = {\"MW\":[], \"LogP\":[], \"HBA\":[], \"HBD\": [], \n",
        "              \"CSP3\": [], \"NumRotBond\": [], \"NumRings\": [], \"TPSA\": [], \n",
        "              \"NumAromaticRings\": [], \"pIC50\": []}\n",
        "\n",
        "for idx, smiles in enumerate(df[\"SMILES\"]): # Smiles 열에서 반복.\n",
        "    mol = Chem.MolFromSmiles(smiles)\n",
        "    if mol == None: # if molecule is not valid. mol안에 None이 들어있으면 문제가 있는 것!\n",
        "        continue\n",
        "        \n",
        "    properties[\"MW\"].append(CalcExactMolWt(mol))\n",
        "    properties[\"LogP\"].append(CalcCrippenDescriptors(mol)[0])\n",
        "    properties[\"HBA\"].append(CalcNumLipinskiHBA(mol))\n",
        "    properties[\"HBD\"].append(CalcNumLipinskiHBD(mol))\n",
        "    properties[\"CSP3\"].append(CalcFractionCSP3(mol))\n",
        "    properties[\"NumRotBond\"].append(CalcNumRotatableBonds(mol))\n",
        "    properties[\"NumRings\"].append(CalcNumRings(mol))\n",
        "    properties[\"TPSA\"].append(CalcTPSA(mol))\n",
        "    properties[\"NumAromaticRings\"].append(CalcNumAromaticRings(mol))\n",
        "    properties[\"pIC50\"].append(df[\"pIC50\"].iloc[idx])"
      ],
      "metadata": {
        "id": "oo_2PMBZuQMa"
      },
      "execution_count": 30,
      "outputs": []
    },
    {
      "cell_type": "code",
      "source": [
        "print(properties)"
      ],
      "metadata": {
        "colab": {
          "base_uri": "https://localhost:8080/"
        },
        "id": "OhPfkmfh8gjN",
        "outputId": "ad43935a-c7b8-4020-c893-5d4dd6b9c98c"
      },
      "execution_count": 32,
      "outputs": [
        {
          "output_type": "stream",
          "name": "stdout",
          "text": [
            "{'MW': [367.04491865600005, 506.12676797000006, 317.17394159599996, 301.190260356, 294.093917448, 289.1215121, 315.100776656, 371.10366911599994, 461.10702197200004, 450.14740956400004, 294.148061196, 299.0728476560001, 316.189926008, 288.101111004, 423.20591042000007, 539.2114870400001, 373.14695157200003, 385.16693806800004, 404.092770084, 371.15128800400004, 355.112090288, 357.13563794000004, 281.1276601, 389.14186619200007, 384.14653697200004, 377.14092721599997, 317.173941596, 389.14186619200007, 308.12488114, 418.1441186880001, 328.096025624, 560.1979038480001, 394.21172407200004, 469.15501772, 415.177502752, 372.13530359200007, 493.18960872400004, 384.11979576000004, 316.132411132, 373.15387484800004, 373.15387484800004, 449.1521605960001, 457.08784608800005, 399.20591042000007, 367.1756729120001, 354.144038436, 323.18584367200003, 353.196408356, 530.1711797, 530.1711797, 381.1953457360001, 399.20591042000007, 567.2457245439999, 558.241309948, 443.2433585480001, 376.16477388000004, 393.1259458480001, 457.15501772, 385.16693806800004, 463.18556889999996, 457.070087848, 394.12771967599997, 457.10723027200004, 342.15929457600004, 335.141595912, 385.040023304, 491.19329504800004, 402.12405193999996, 511.16781066000004, 375.12527715199997, 359.15462379600007, 338.15428944800004, 375.20591042000007, 567.2457245439999, 522.2273912, 379.1102957840001, 407.175753164, 364.061469956, 254.15314657599998, 322.179361324, 240.13749651199998, 347.082539748, 415.16781066, 458.2230377040001, 390.21680945200006, 391.03202416799996, 358.135365572, 429.11642248800007, 348.11979576000004, 296.13855913199995, 325.1327454800001, 352.13175950000004, 562.189368226, 286.179361324, 316.189926008, 391.20419616800007, 411.16952491200004, 426.09620319199996, 391.096834148, 354.12405194, 375.14774391200007, 336.13347375199993, 303.15829153199996, 287.174610292, 279.112010036, 301.190260356, 441.25286061200006, 355.119987876, 589.28013798, 371.15128800400004, 400.20115938800006, 384.11979576000004, 551.2427069160001, 396.13684488, 467.17395866000015, 294.07284556800005, 497.2150931120001, 580.2773590200001, 443.24335854800006, 443.2433585480001, 462.183795072, 483.2746586760001, 385.16693806800004, 247.14331016399998, 576.2572922720001, 351.088687748, 241.096359972, 280.132411132, 441.25286061200006, 433.1339236879999, 379.1102957840001, 399.18258813200003, 294.148061196, 501.22885135600006, 457.172559604, 305.1276601, 294.148061196, 302.083746688, 312.12224037199996, 462.183795072, 394.065965684, 358.135365572, 242.09160894, 310.142975816, 401.161852688, 261.158960228, 457.15501772, 535.2031107839999, 240.101111004, 288.06809662399996, 359.082995652, 342.18444670400004, 388.168145008, 393.1259458480001, 423.15743600400003, 404.1208583800001, 427.23721054800006, 363.16952491200004, 229.15789760799998, 393.20255635600006, 372.15862588000005, 320.13855913199995, 393.1800895960001, 549.28522336, 478.178709692, 471.170667784, 261.158960228, 282.12290906799996, 435.040213332, 355.119987876, 505.18960872400004, 405.19132297600004, 483.170667784, 501.24883785200007, 543.2845546640001, 371.15128800400004, 431.223372052, 371.1921521760001, 260.046488588, 343.1796956720001, 374.152494944, 549.2551463560001, 211.08579528799999, 487.1968022800001, 443.2433585480001, 462.183795072, 477.194694104, 296.127325752, 257.1276601, 471.170667784, 497.186317848, 321.12257472000005, 483.170667784, 361.14264146799997, 312.077788716, 422.1621870360001, 324.15862588, 394.109961436, 490.2150952, 566.2617089560001, 468.274993024, 502.23040882800007, 386.174275944, 410.17764707199996, 382.14634694399996, 378.147409564, 398.11610943600004, 539.214424416, 349.19026035600007, 327.137162164, 313.1215121, 419.1881294160001, 350.152494944, 210.09054632, 499.258339916, 553.2601514840001, 402.15864294400006, 495.2245951760001, 285.078123064, 507.21495088, 487.2583399160001, 360.16985926000007, 592.259817136, 514.1915787080001, 396.09464363200004, 356.14845512000005, 393.1800895960001, 346.154209196, 442.144118688, 294.082684068, 325.15387484800004, 284.08287409600007, 349.16510822800007, 322.14634694399996, 285.078123064, 375.180758292, 351.136510532, 531.1664286680001, 464.17429300799995, 371.13822478400004, 340.08393671600015, 502.2667943360001, 581.2193675640001, 347.107004908, 346.06730428400004, 321.12257472000005, 414.03275244, 451.109897368, 363.065317664, 412.20230226000007, 331.112090288, 418.21172407200004, 335.10521040400005, 418.09450139999996, 314.18550932399995, 447.18258813200003, 543.2845546640001, 323.141595912, 346.15420919600007, 582.320605824, 366.14651870000006, 336.12224037199996, 391.1289805400001, 442.200490692, 394.19173757600004, 427.18198141600004, 400.1535405, 331.112090288, 366.21680945200006, 444.18854401600004, 396.17100213200007, 383.11644378400007, 295.14331016400007, 327.088687748, 501.2739899800001, 293.1276601, 377.080967728, 394.1665854480001, 461.2150931120001, 437.14748772800004, 500.253588884, 529.2689046, 390.18042394400004, 243.056325, 430.19288044800004, 410.186652196, 500.2511442720001, 414.228042832, 499.258339916, 301.15387484800004, 349.190260356, 422.206638692, 410.186652196, 341.10433781200004, 501.2739899800001, 313.073037684, 313.073037684, 376.168145008, 513.1646171000001, 287.105862036, 387.05567336800004, 541.210087984, 360.16985926, 487.2583399160001, 336.15862588, 393.1212729800001, 337.157245976, 429.22770848400006, 422.1524949439999, 358.175338564, 317.16404560800004, 260.16371126, 460.2198441440001, 404.1208583800001, 382.121194816, 373.1208604680001, 324.16985926, 529.2689046, 337.073037684, 383.175753164, 501.2376044720001, 526.2104223320001, 582.256623576, 337.157245976, 414.169190564, 440.19721688000004, 602.242865332, 517.248918104, 538.230408828, 378.09326581600004, 385.16847935600003, 418.09450139999996, 419.105210404, 598.217380944, 258.111675688, 442.15535206800007, 454.212866944, 518.185350456, 471.170667784, 383.1418479200001, 414.228042832, 525.171371816, 529.232519092, 350.13789043599996, 303.16952491200004, 361.12872272, 427.20196791200004, 397.17141673200007, 439.2019679120001, 409.12086046800005, 413.148789468, 520.236893264, 416.14845511999994, 352.12032222400006, 350.14912381600004, 379.1102957840001, 529.2437524720001, 517.190751596, 398.18665219600007, 372.190988628, 541.1606745920001, 338.18550932400007, 395.175753164, 348.16199700799996, 349.190260356, 460.2198441440001, 442.18840178400006, 424.20230226000007, 385.138402352, 363.14774391200007, 534.252543328, 448.2198441440001, 770.3089279039998, 310.142975816, 491.210344168, 274.142975816, 309.0935831, 370.0945014, 286.15420919599995, 504.17551613200004, 473.2426898520001, 447.146202624, 565.2471235999999, 373.15387484800004, 363.097680412, 400.20115938800006, 288.15862588, 383.151288004, 377.080967728, 399.154052416, 416.163059628, 404.15724388800004, 327.088687748, 514.1915787080001, 532.2353519760001, 487.23835342, 384.2073876400001, 460.2198441440001, 312.195011388, 484.16591675200004, 352.109088844, 400.1205261199999, 313.15387484800004, 500.15390809600007, 302.174275944, 460.2198441440001, 339.113152908, 402.12405193999996, 352.10908884400004, 395.07607237600007, 654.2900717079998, 477.194694104, 529.2689045999999, 403.15320615200005, 490.2150952, 396.09464363200004, 325.15387484800004, 390.147409564, 588.2272152680001, 472.14707312800005, 295.07793303600005, 300.16985925999995, 424.20230226000007, 463.17904404, 374.126657056, 508.16013634800004, 273.158960228, 343.083602368, 343.054610748, 367.164439532, 402.21680945199995, 473.2426898520001, 409.22262310400004, 402.12405193999996, 465.168856216, 470.19540531199993, 391.1756729120001, 460.2198441440001, 340.109088844, 301.190260356, 321.12257472000005, 423.207053292, 375.10191952800005, 403.099314412, 341.11642672, 471.2382731680001, 570.2366370800002, 460.2198441440001, 385.13055256, 309.09358310000005, 491.210344168, 518.261708956, 492.248503504, 427.18198141600004, 503.17445142400015, 371.18698654400004, 486.23793882, 296.127325752, 485.2539232320001, 244.132411132, 356.17608751200004, 501.2376044720001, 403.119987876, 460.2198441440001, 460.2198441440001, 386.044964364, 686.3427978120002, 472.21984414400004, 338.116109436, 367.164439532, 495.15763990000005, 505.18960872400004, 301.15387484800004, 432.2386075160001, 313.068511224, 366.180423944, 354.122909068, 552.2460588920001, 302.149123816, 392.23245951600006, 386.13789043599996, 550.197394448, 336.161997008, 534.252543328, 519.241644296, 468.12883622000004, 422.206638692, 327.088687748, 327.14953841600004, 444.184065352, 426.19348716400003, 312.122240372, 360.122240372, 484.25867426400004, 483.227039788, 327.088687748, 276.13863938400004, 440.20913722800003, 485.1838732360001, 364.16477388000004, 332.10733925600005, 269.096440224, 461.2150931120001, 476.21475876400007, 540.1852082239999, 326.149123816, 505.17076510000004, 512.289974392, 520.23983064, 412.17783710000003, 278.077930948, 343.1796956720001, 368.138559132, 337.12086046800005, 403.21205842, 317.11642672, 325.15387484800004, 327.088687748, 466.14957166400006, 309.12257472000005, 301.1215121, 431.223372052, 451.1467387800001, 327.14437278400004, 405.19132297600004, 286.15420919599995, 337.19026035600007, 371.122752288, 433.18379298400004, 345.07473947600005, 309.09358310000005, 566.1534789479999, 404.152765224, 459.2194295440001, 331.14331016400007, 295.07793303600005, 384.13347375199993, 361.13209384800007, 348.122240372, 287.174610292, 432.20738764000004, 564.2130445119999, 410.24302420000004, 285.09135484399997, 347.1858436720001, 551.2119975779999, 435.21714380000003, 384.14315338399996, 517.248918104, 468.22851700800004, 313.068511224, 346.06213865200004, 519.2005502679999, 482.2041940800001, 573.20214548, 557.26381922, 431.18450628, 376.16477388, 437.20271686000007, 432.2386075160001, 417.13563794, 327.084161288, 364.12052612, 330.15929457600004, 362.14912381600004, 335.13822478400004, 412.074533176, 274.142975816, 355.11998787600004, 398.18665219600007, 514.1915787080001, 459.2194295440001, 301.061804304, 281.11642672, 520.236893264, 535.2365589159999, 457.2226231040001, 419.15935415200005, 320.073182004, 374.22189483200003, 332.10733925600005, 382.21172407200004, 350.14912381600004, 409.17500421600005, 335.105210404, 327.084161288, 411.21828667200003, 464.15724388800004, 306.111675688, 308.127325752, 297.11134134, 283.095691276, 575.267859044, 486.2491722000001, 467.1932950480001, 341.18517497600004, 316.132411132, 460.2198441440001, 468.1885440160001, 496.16660372000007, 341.10433781200004, 426.147409564, 435.18706679600007, 272.16371126, 288.15862588, 287.174610292, 276.13863938400004, 450.23793882, 453.19469410400006, 316.0727033360001, 283.095691276, 474.277695456, 420.230745264, 423.21828667200003, 308.138559132, 474.24196158, 341.18517497600004, 378.14159382400004, 348.10139834800003, 380.14038897200004, 285.09135484399997, 333.12257472000005, 327.16952491200004, 283.143310164, 416.152765224, 441.10824509599996, 417.2025563560001, 377.081015524, 472.21984414400004, 366.12473890800004, 435.136510532, 359.17461029200007, 473.163393976, 335.1494581640001, 490.2726100760001, 533.25729436, 554.2008582880001, 373.110566064, 519.241644296, 425.221560484, 391.128054024, 420.1577703520001, 432.18854401600004, 367.164439532, 356.1596885, 400.0509223360001, 374.126657056, 468.16766634000004, 378.10158518000003, 288.15862588, 398.16218703600003, 355.119987876, 371.18698654400004, 462.18156681600004, 441.19763148000004, 421.2147608520001, 662.0340155599998, 462.19910870000007, 486.201553312, 244.132411132, 383.12613587600003, 351.088687748, 460.2198441440001, 389.19640835600006, 397.191403228, 442.18840178400006, 444.16199700799996, 269.096440224, 385.15501772000005, 419.1881294160001, 448.1778371000001, 366.180423944, 378.06722403200007, 338.11610943600004, 302.174275944, 295.14331016400007, 402.12405193999996, 411.199443048, 444.184065352, 307.10692465600005, 406.2150952, 549.2522089799999, 506.31177245599997, 242.116761068, 450.23793882, 402.12405193999996, 657.2208480099999, 390.19165732400006, 498.23793882, 373.142641468, 428.19721688000004, 377.081015524, 343.054610748, 444.035250976, 267.100776656, 308.127325752, 449.2460609800001, 483.1973965359999, 531.2627736640001, 302.14912381600004, 436.18345863600007, 310.142975816, 364.16477388, 523.2286966639999, 241.13274547999998, 393.141259476, 368.1596885, 430.192880448, 390.180423944, 447.15519528799996, 270.148061196, 468.22851700800004, 412.17783710000003, 428.2073073880001, 426.19348716400003, 387.13651053200005, 497.2572943600002, 405.21984623200007, 448.225659884, 408.08230271599996, 513.198774352, 471.111646956, 284.16371126, 405.060422312, 460.2198441440001, 402.12405193999996, 448.11629946400006, 630.2566235760002, 524.181744384, 349.190260356, 416.152765224, 389.19640835600006, 392.140844876, 523.233187788, 373.12086046800005, 506.26752469600007, 335.10521040400005, 552.137828884, 467.19329504800004, 490.269238948, 345.07473947600005, 325.15387484800004, 468.22737413600004, 296.127325752, 396.18109264000003, 501.1252942159999, 521.232142232, 366.14740956400004, 490.23040882800007, 391.145595908, 454.21286694400004, 327.14953841600004, 328.1447873840001, 416.199445136, 552.2460588920001, 288.15862588, 433.18379298400004, 398.18665219600007, 497.203859732, 553.2413078600001, 401.1964083560001, 177.1153641, 430.14634694399996, 365.098725968, 405.21984623200007, 327.088687748, 568.2831747600001, 399.146202624, 386.16218703600003, 390.191657324, 319.112090288, 435.2304109160001, 520.236893264, 381.060422312, 456.20405184800006, 383.18698654400004, 300.16985925999995, 322.142975816, 644.247121512, 505.21476085200004, 347.14945816400007, 325.15387484800004, 546.241309948, 430.192880448, 416.199445136, 449.24606098, 351.088687748, 423.1619146680001, 514.1915787080001, 311.090605896, 439.131425152, 551.198459156, 467.235496296, 520.236893264, 449.20271686000007, 341.1043378120001, 394.13650844400007, 476.21475876400007, 346.154209196, 446.20419408000004, 295.07793303600005, 526.2726100760001, 460.225659884, 448.26204539200006, 458.21970191200006, 516.170843264, 271.132076784, 373.142641468, 307.09569127599997, 462.2413099480001, 488.181744384, 657.2675226080001, 494.24302420000004, 513.1646171, 261.057197592, 302.174275944, 301.190260356, 404.232459516, 399.124386288, 446.2041940800001, 524.181744384, 409.136174096, 475.261711044, 402.14740956400004, 507.21649216800006, 552.2460588920001, 390.191657324, 327.14953841600004, 401.19640835600006, 417.13678081200004, 470.18331640400004, 501.20438619600003, 419.235496296, 404.152765224, 283.077933036, 448.11629946400006, 429.21647510400004, 508.16013634800004, 371.11490249599996, 433.20263660800003, 436.085079588, 417.17019360800003, 480.12252771600004, 421.2147608520001, 465.24097559999996, 413.22156048400007, 394.1787096920001, 356.1760875120001, 432.20738764000004, 459.191580796, 511.22869666400015, 435.2304109160001, 538.230408828, 346.15420919600007, 552.137828884, 501.18460359600004, 323.072847656, 477.147075216, 414.21680945200006, 622.197394448, 538.2304088280001, 407.1681429200001, 282.111675688, 416.199445136, 430.18994307200006, 381.060422312, 432.18854401600004, 350.10467216, 316.143644512, 512.223945632, 435.230410916, 483.2416442960001, 534.252543328, 427.152350624, 470.134794192, 400.16591675200004, 440.1339216, 388.23754489600003, 337.19026035600007, 354.14651870000006, 478.23622456800007, 481.18174647199993, 483.24164429600006, 409.21138972400007, 254.15314657599998, 430.180504196, 411.21828667200003, 490.23040882800007, 338.09343878000004, 367.164439532, 360.16985926, 316.143644512, 335.149458164, 382.14634694399996, 492.25187463199995, 616.2522068920001, 484.25867426400004, 338.11610943600004, 462.19910870000007, 444.20405184800006, 367.164439532, 343.132076784, 531.2315537879999, 502.23622456800007, 488.23360238800007, 259.143310164, 380.16305962800004, 415.19321479600006, 461.1950709640001, 288.06809662399996, 442.188401784, 451.22532553599996, 581.2726079880001, 514.2692389480001, 443.2433585480001, 374.185509324, 450.124087276, 424.17783710000003, 343.144453036, 393.183460724, 448.2256598840001, 441.15044634399993, 603.3321735520002, 565.364142376, 258.148061196, 625.1800853640001, 535.2365589159999, 435.15068128800004, 448.1778371000001, 469.1480944440001, 472.11812930400004, 384.146536972, 378.21680945200006, 421.214760852, 524.181744384, 453.217617976, 391.20419616800007, 552.2631080120001, 423.16708030000007, 376.16477388000004, 288.15862588, 256.132411132, 388.22228875599995, 386.044964364, 341.10433781200004, 444.20405184800006, 455.1627252800001, 421.214760852, 407.1991107880001, 536.231807884, 439.16199492000004, 524.2147587640001, 288.15862588, 361.11056606400007, 361.11056606400007, 430.18840178400006, 442.156039036, 421.214760852, 453.219846232, 460.262045392, 520.2368932640001, 379.1756729120001, 362.160357196, 361.16510822800007, 430.18840178400006, 440.13392160000006, 398.16218703600003, 353.140036352, 409.17837534399996, 555.3321735520001, 553.2776933680002, 490.2150952, 560.271130768, 392.23245951600006, 448.183458636, 407.199110788, 363.17289604, 470.24302420000004, 460.2198441440001, 344.11523684400004, 364.201159388, 550.197394448, 376.14593025600004, 323.17461029200007, 453.1661708480001, 414.21680945200006, 519.241644296, 406.24810958000006, 468.194359756, 468.12883622000004, 454.22478729200003, 324.16985925999995, 383.18698654400004, 433.1786273520001, 471.21042442, 518.219701912, 502.230408828, 423.21828667200003, 309.15896022800007, 334.15420919599995, 395.179124292, 649.2179855720001, 551.242706916, 372.14653697200004, 456.20405184800006, 466.14957166400006, 327.084161288, 310.154209196, 506.26752469600007, 470.21000982, 440.199445136, 534.252543328, 308.127325752, 413.16970248, 379.16781066, 366.0995867800001, 476.21475876400007, 440.13392160000006, 341.104337812, 342.16043744800004, 514.16100894, 390.13711516, 413.18511355209006, 407.199110788, 506.21000982000004, 534.2554807040001, 317.11642672, 460.2198441440001, 440.1339216, 345.14011660400007, 441.21641368009, 412.13692513200004, 447.21147053209, 365.15126973200006, 482.246395328, 522.21615782, 433.16693806800004, 433.23385648400017, 376.14593025600004, 397.191403228, 407.1681429200001, 515.17395866, 423.19402540799996, 469.18174647199993, 498.241309948, 436.18927437600007, 435.2304109160001, 306.122909068, 517.225994232, 427.23721054800006, 346.15420919600007, 272.16371126, 352.20115938800006, 462.19910870000007, 477.198774352, 423.19402540799996, 515.236639168, 561.210007732, 480.17437326000004, 482.2041940800001, 413.13670056, 418.19288044800004, 368.13069687999996, 402.18042394400004, 302.174275944, 283.143310164, 566.1534789479999, 532.150444256, 344.11523684400004, 538.1221788199999, 520.2034451320001, 417.19648860800004, 464.174293008, 241.1215121, 272.16371126, 260.16371126, 680.3322331279999, 450.17912220400007, 414.15710165600007, 504.25187463199995, 395.14496704, 469.22599423200006, 477.194694104, 520.236893264, 467.19329504800004, 317.11642672, 406.15420919600007, 534.147250696, 542.172322572, 403.099314412, 400.14478738400004, 462.13194952800006, 615.2933434320001, 462.13825803200007, 411.13183766400005, 327.14953841600004, 391.1211307480001, 380.23245951600006, 311.14945816400007, 416.199445136, 474.20894719999995, 492.169207628, 505.214760852, 360.16985926000007, 297.0935831, 367.16691979600006, 393.18256986000006, 455.16609640799993, 414.21680945200006, 527.1966661760001, 439.2120584200001, 469.211389724, 502.230408828, 390.13711516, 377.10548068400004, 448.2198441440001, 420.114630128, 409.194774356, 517.215903724, 491.210344168, 350.18550932400007, 325.15387484800004, 498.18787532, 372.16985926, 391.17567291200004, 434.14488470000003, 380.14038897200004, 510.16609432, 385.13055256000007, 456.204051848, 365.18517497600004, 356.1760875120001, 470.1769954400001, 482.2463953280001, 541.15953172, 360.16985926000007, 510.16609432, 504.24605889200006, 394.1665854480001, 388.16477388000004, 421.2147608520001, 515.210344168, 490.23040882800007, 397.05533693200005, 563.2314735360001, 378.21680945200006, 394.21172407200004, 469.1925461000001, 494.21000982, 453.1776449840001, 270.148061196, 462.19910870000007, 450.23793882, 366.12473890800004, 432.18854401600004, 524.181744384, 270.148061196, 270.148061196, 516.170843264, 478.23040882800007, 386.16218703600003, 416.17275172000006, 448.183458636, 394.13088690800004, 474.19910870000007, 421.2147608520001, 441.19469410400006, 469.22599423200006, 490.2150952, 270.148061196, 382.0945014000001, 357.1601031, 357.1601031, 414.21680945200006, 462.13194952800006, 433.2147608520001, 484.1926455039999, 491.210344168, 428.17275172, 515.2200362600001, 335.149458164, 488.21475876400007, 432.18854401600004, 490.18840178400006, 476.21475876400007, 568.2773590200001, 521.232142232, 415.086779292, 328.14478738400004, 394.13088690800004, 420.1885440160001, 412.17783710000003, 426.1934871640001, 434.21000982, 428.17092188000004, 434.14488470000003, 421.214760852, 381.163474228, 401.18517497600004, 365.104337812, 435.21714380000003, 393.07593014400004, 488.21475876400007, 327.088687748, 430.18840178400006, 360.11015146400007, 474.19910870000007, 473.2209088520001, 377.14634485600004, 403.15320615200005, 354.16043744800004, 477.198774352, 505.18379298400015, 649.2179855719999, 477.194694104, 414.228042832, 428.19721688000004, 498.16609432, 418.178709692, 425.18968897599996, 491.210344168, 502.24925245200006, 464.22057450399996, 393.183460724, 406.21172407200004, 387.13651053200005, 392.1709218800001, 483.24164429600006, 494.22124320000006, 421.2147608520001, 622.233779956, 587.2256577960001, 582.2930090840001, 491.19911078800004, 361.16510822800007, 464.17275172, 276.13863938400004, 414.1934871640001, 417.17019360800003, 436.18345863600007, 528.156672508, 349.16510822800007, 531.1973965359999, 561.20796122, 506.22124319999995, 501.1252942159999, 462.1991087, 421.1417859400001, 429.22009824000014, 448.18345863600007, 563.1369583800001, 270.148061196, 324.133473752, 379.15568641600004, 440.20913722800003, 392.140844876, 528.1766590039999, 373.13055256000007, 528.156672508, 441.10824509599996, 382.175338564, 394.13650844400007, 395.179124292, 545.2130465999999, 509.253923232, 409.20149373600003, 465.2409756000001, 375.121906024, 392.196074008, 446.20419408000004, 545.2209088520001, 382.154209196, 351.088687748, 394.1787096920001, 272.16371126, 536.181744384, 372.14653697200004, 428.20913722800003, 425.15872110800007, 373.05548334, 378.16043744800004, 376.1760072600001, 411.18706679600007, 368.16216876400006, 468.20222200800004, 462.2413099480001, 469.214760852, 615.2569579240002, 611.3195581800001, 580.1601363479999, 394.109961436, 506.21000982000004, 521.220908852, 439.2120584200001, 518.219701912, 390.191657324, 482.21000982, 422.16780857200007, 407.199110788, 492.19435975600004, 420.1885440160001, 385.2226231040001, 600.2460588920001, 375.18075829200006, 378.16043744800004, 477.198774352, 428.17275172000006, 360.11015146400007, 453.12823159199996, 542.172322572, 497.2572943600001, 451.1790440400001, 402.18042394400004, 516.1977308840001, 488.208960798, 491.210344168, 343.144453036, 514.141022444, 506.187795068, 433.18960872400015, 382.21172407200004, 484.23352213600003, 409.120860468, 478.18994307199995, 559.186495416, 360.15101563600007, 462.1991087, 368.1596885, 591.1545436559999, 418.19288044800004, 462.18156681600004, 443.2433585480001, 367.060232284, 365.15126973200006, 470.1536378160001, 384.22737413600004, 452.19607400800004, 421.2147608520001, 554.3369245840001, 362.16035719600006, 355.119987876, 377.10548068400004, 347.034065332, 504.24605889200006, 400.16591675200004, 524.181744384, 482.14448628400004, 462.1991087, 353.151269732, 423.19402540799996, 476.199445136, 484.23689326399995, 507.21649216800006, 472.168145008, 488.23360238800007, 422.16780857200007, 462.1991087, 400.15354049999996, 456.20405184800006, 467.19443792, 387.069472296, 391.1211307480001, 397.12086046800005, 490.23040882800007, 484.150444256, 373.12086046800005, 500.14535887600005, 520.131600632, 524.181744384, 359.15576666800007, 469.214760852, 484.25867426400004, 474.193310734, 472.2386877680001, 405.12708872, 339.140533292, 352.10908884400004, 431.1851920400001, 598.1507145359999, 337.16510822800007, 350.18550932400007, 336.16985926000007, 240.13749651199998, 365.18517497600004, 361.11504472800004, 338.18550932400007, 376.14593025600004, 393.141259476, 588.1436446239999, 399.146202624, 520.131600632, 381.1104858120001, 473.22090885200004, 442.07694705600005, 478.13223367599994, 503.16609640799993, 477.194694104, 441.18887836400006, 417.19648860800004, 373.13055256000007, 510.16609432, 387.13651053200005, 465.15830859600004, 441.10824509599996, 492.25187463200007, 567.2933434320001, 653.192913696, 490.2150952, 351.088687748, 334.15420919599995, 413.177564732, 462.19910870000007, 492.19435975600004, 553.2325190920001, 477.198774352, 406.21172407200004, 433.20263660800003, 414.18156681600004, 398.18665219600007, 386.174275944, 502.230408828, 621.223070952, 409.17837534399996, 449.15216059600004, 504.20405184800006, 368.104003464, 407.199110788, 477.194694104, 387.185923924, 436.10843721200007, 448.12389724799993, 334.1342227, 407.199110788, 547.1943576680001, 505.225994232, 359.15576666800007, 341.104337812, 498.16609432, 381.060422312, 446.20419408000004, 391.145595908, 476.21475876400007, 378.18042394400004, 510.16609432, 435.19402540799996, 441.1576584880001, 399.20591042000007, 483.230410916, 520.2256598839999, 453.1776449840001, 401.055863396, 504.230745264, 352.16477388000004, 442.188401784, 382.21172407200004, 359.18584367200003, 643.2882580520001, 590.225323448, 601.2413078600002, 559.186495416, 447.146202624, 496.211055376, 418.164105184, 436.13469687599996, 484.10689592399996, 505.18806743600004, 454.175338564, 420.135303592, 342.141593824, 366.180423944, 574.1279945599999, 496.150444256, 546.16609432, 365.16002284800004, 476.21475876400007, 502.230408828, 421.2147608520001, 666.3165830639999, 470.24302420000004, 476.199445136, 357.15896022800007, 581.155385316, 462.183795072, 454.2150952, 399.13651053200005, 514.141022444, 509.25729435999995, 432.15891322400006, 416.18846376400006, 635.202335508, 470.17139605599994, 491.0915802080001, 466.09633124000004, 510.122545988, 468.111981304, 460.19106888000005, 412.189926008, 519.2270397880001, 430.200490692, 441.16885621600005, 483.14059078, 459.17942089999997, 407.15576666800007, 439.16199492000004, 480.15643296, 549.214282184, 534.2413099480001, 461.20630434400005, 498.23793882, 403.164439532, 456.1256115, 402.19348716400003, 502.141022444, 538.1221788199999, 359.114902496, 399.207053292, 385.13055256000007, 526.16100894, 504.24605889200006, 450.124087276, 439.1743711720001, 505.225994232, 455.21034416800006, 394.19059470400003, 449.15216059600004, 468.21862102000006, 372.16985926, 442.200490692, 630.2678569560001, 375.15068128800004, 526.16100894, 427.11930090799996, 515.202481916, 531.197396536, 310.142975816, 326.174275944, 444.035250976, 399.19313454400003, 602.2729423360001, 644.28350702, 497.2903087400001, 457.10315971599994, 470.134794192, 496.150444256, 423.117666908, 409.136174096, 476.21475876400007, 471.11880977999994, 532.268570252, 490.23040882800007, 482.21000982, 502.141022444, 436.10843721200007, 463.1678106600001, 508.2056733880001, 324.16985926, 476.2059699960001, 502.24925245200006, 270.148061196, 442.200490692, 504.2372701240001, 476.14759959200006, 435.2304109160001, 449.2327938640001, 451.18312428800004, 520.131600632, 350.12013219600004, 384.1280917640001, 316.143644512, 415.20444817600014, 417.1724793520001, 435.16305754000007, 555.3321735520001, 395.19573966, 390.16158032000004, 401.15216059600004, 490.23040882800007, 462.19910870000007, 440.17275172000006, 479.17395866000004, 562.12799456, 512.13973734, 496.150444256, 437.167474224, 467.19443792, 479.2433585480001, 412.23754489600003, 509.200922356, 548.220574504, 284.16371126, 421.120860468, 462.183795072, 449.1521605960001, 431.17395866000004, 379.15568641600004, 452.19362939600006, 492.2055931360001, 457.10315971599994, 350.149123816, 390.16158032000004, 364.15602076400006, 493.1819984800001, 417.18371273200006, 464.155449384, 629.2726079880001, 630.2678569560001, 337.14512173200006, 415.1790440400001, 477.18346072400004, 384.10045937200005, 365.104337812, 462.19910870000007, 423.15182416, 512.145358876, 524.256960012, 341.104337812, 337.15387484800004, 462.19910870000007, 403.1314251520001, 404.17723038400004, 439.11258152799996, 514.1998390599999, 408.15215850800007, 477.194694104, 462.183795072, 372.1310291400001, 520.225659884, 515.210344168, 338.14912381600004, 433.11931918, 503.2420211560001, 490.2216200600001, 476.199445136, 492.19435975600004, 665.3213340959998, 310.15420919599995, 463.16781066000004, 453.20772198800006, 423.13651053200005, 310.15420919599995, 490.21509520000006, 477.1834607240001, 497.090911512, 461.17508446799997, 434.114568148, 366.18042394400004, 380.19607400800004, 429.168856216, 408.15215850800007, 407.15690954, 397.211389724, 375.13069479200004, 476.21475876400007, 423.15182416, 465.15830859600004, 564.2130445119999, 512.145358876, 437.167474224, 351.16952491200004, 485.22090885200004, 512.13973734, 415.13142515199996, 405.12708871999996, 386.15249494399995, 366.12473890800004, 346.135365572, 394.109961436, 547.225325536, 490.178709692, 382.12119481600007, 545.25729436, 332.119715508, 491.21034416800006, 476.199445136, 553.2325190920001, 476.163059628, 509.16504738599997, 491.210344168, 517.214760852, 562.272610076, 446.25425758000006, 442.07694705600005, 476.199445136, 463.16781066000004, 463.2154295480001, 513.1616797240001, 518.2529201880001, 563.220240156, 504.17889972000006, 493.178375344, 548.220574504, 554.2165346800001, 372.13684488000007, 553.202671944, 418.2229574520001, 535.236558916, 506.21000982000004, 525.171371816, 488.14759959200006, 461.188546104, 531.241644296, 463.1678106600001, 538.2604858320001, 512.145358876, 553.227137104, 537.2322224840001, 442.178709692, 501.215823472, 415.1790440400001, 414.18379507200007, 401.1633939760001, 433.191403228, 477.18346072400004, 399.13651053200005, 463.16781066, 463.12988386399996, 514.201633564, 459.15943440399997, 461.17508446799997, 475.21388826, 420.135303592, 419.15128800400004, 467.19329504800004, 401.18517497600004, 519.194025408, 491.16272528, 420.15976875200005, 477.18346072400004, 535.1986321200001, 362.10667056000005, 401.148789468, 453.180089596, 456.1256115, 457.120860468, 413.18517497600004, 416.19607400800004, 458.206638692, 504.18089812, 475.19073453199996, 351.088687748, 365.104337812, 405.060422312, 479.17395866000004, 470.21000982, 451.18312428800004, 446.173624312, 504.24605889200006, 472.247440884, 458.17362431199996, 514.1246234319999, 430.178709692, 499.20017340800007, 448.16814500800007, 545.2638192200001, 463.1678106600001, 437.167474224, 479.17395866000004, 534.2413099480001, 492.2055931360001, 478.178709692, 373.1320938480001, 401.1633939760001, 414.18379507200007, 414.21680945200006, 531.241644296, 511.13479628, 506.21000982000004, 400.16814500800007, 419.141595912, 449.1521605960001, 476.199445136, 437.1633939760001, 596.198793504, 476.21475876400007, 400.16814500800007, 511.13479628000005, 505.1896087240001, 465.1695419760001, 398.12734281600007, 457.24777523200004, 463.16781066000004, 447.17289604000007, 491.210344168, 491.210344168, 386.15249494400007, 428.19944513600007, 440.12422950800004, 511.13479628000005, 520.1892743760001, 452.184840628, 458.24302420000004, 403.21205842, 346.14297581600005, 476.23360238800007, 448.1778371000001, 458.24302420000004, 537.215823472, 458.24302420000004, 482.1711797000001, 553.181746472, 504.19435975600004, 433.2026366080001, 449.1730860680001, 441.169541976, 581.2584372320001, 401.18517497600004, 432.2073876400001, 386.15249494400007, 519.241644296, 400.16814500800007, 415.2120584200001, 540.1613453759999, 506.15184331200004, 372.13684488000007, 401.18517497600004, 415.1732283, 414.1837950719999, 429.19469410400006, 408.14807826000003, 485.23214223200006, 389.196408356, 485.232142232, 381.04804606, 376.15354049999996, 414.18379507200007, 459.216492168, 460.20050775600004, 534.2273912000002, 429.180089596, 350.185509324, 458.1848576920001, 426.18379507199995, 431.1851920400001, 400.16814500800007, 364.20115938800006, 460.14482272000004, 384.14653697200004, 495.2164921680001, 386.1524949439999, 417.158308596, 419.119814912, 416.174293008, 499.247792296, 442.21509519999995, 407.0931214960001, 491.25662566399996, 397.1320938480001, 350.185509324, 543.2280415660001, 401.16339397600007, 514.2110724400001, 406.2150952, 485.232142232, 487.1654413099999, 486.21615782000003, 338.14912381600004, 322.154209196, 430.1787096920001, 350.185509324, 336.16985926, 527.279092424, 415.17904404000006, 510.22739120000006, 336.16985926, 461.166765104, 446.18485769200004, 403.142658532, 485.232142232, 414.18379507200007, 432.1692076280001, 493.1565943440001, 513.2634423600001, 415.17904404000006, 458.22124320000006, 500.23180788400003, 453.1695419760001, 352.16477388000004, 386.15249494399995, 460.20050775600004, 412.16814500800007, 322.154209196, 406.0978725280001, 412.16814500800007, 407.199110788, 386.15249494399995, 376.16232926800006, 411.14774391199995, 372.13684488000007, 358.121194816, 489.198065232, 338.14912381600004, 336.16985926, 513.227056852, 386.15249494400007, 423.2304109160001, 388.1317595000001, 430.18994307200006, 350.185509324, 541.294742488, 421.214760852, 358.121194816, 366.18042394400004], 'LogP': [4.159100000000002, 3.6743000000000015, 1.5361, 0.9509999999999998, 3.213000000000001, 3.6453000000000024, 4.142100000000002, 4.566400000000004, 3.323500000000002, 2.3689999999999998, 2.151, 2.6683000000000003, 1.5024999999999993, 3.1489800000000017, 4.057500000000003, 4.588900000000004, 4.122700000000002, 3.992200000000002, 4.3804000000000025, 3.744600000000003, 4.219400000000002, 3.259900000000001, 1.1558999999999993, 3.789100000000002, 2.830400000000001, 3.125320000000001, 1.5345, 3.789100000000002, 4.436600000000002, 3.191200000000001, 3.7493000000000007, 6.822800000000006, 2.4377000000000004, 3.449200000000001, 4.000800000000003, 3.616900000000002, 2.8972000000000016, 5.167300000000003, 4.148500000000003, 3.5081000000000016, 3.5081000000000016, 3.3800000000000017, 3.023500000000001, 4.614500000000003, 2.0013999999999994, 2.0862, 1.663899999999999, 1.4804999999999997, 4.314000000000004, 4.314000000000003, 4.897900000000004, 3.9745000000000017, 7.281800000000007, 6.697000000000005, 3.8454000000000024, 3.497200000000001, 2.849400000000001, 3.672500000000001, 3.992200000000003, 3.5859000000000023, 4.386300000000003, 4.002900000000002, 4.640800000000003, 3.700000000000001, 1.2060999999999995, 4.105500000000001, 7.006180000000006, 2.969500000000002, 5.060100000000005, 2.8793200000000008, 4.271900000000003, 3.038100000000001, 3.7307000000000032, 7.281800000000007, 2.0225999999999997, 2.8069000000000015, 3.8213000000000026, 4.061400000000003, 3.7262200000000023, 2.8843000000000005, 3.4178000000000015, 5.103800000000002, 2.0826, 4.233000000000003, 2.4922000000000004, 5.212900000000003, 2.6366000000000005, 4.101300000000003, 2.7797, 0.7381000000000004, 3.8800800000000013, 0.5277000000000003, 5.762700000000006, 2.1415999999999995, 1.3730999999999995, 2.0218, 3.407700000000001, 3.8199000000000023, 3.641900000000001, 1.9491, 0.5565799999999999, 1.81, 1.146, 0.5608999999999998, 1.8197999999999999, 0.8215999999999994, 5.171320000000004, 3.384520000000002, 6.0457200000000055, 3.650000000000002, 4.009500000000002, 5.167300000000003, 2.6362000000000005, 2.893740000000001, 2.961000000000001, 3.197300000000001, 4.995700000000004, 5.682300000000006, 3.8454000000000033, 3.8454000000000033, 3.295200000000002, 3.866200000000002, 3.958420000000002, -0.4048999999999993, 4.155120000000003, 3.247720000000001, 1.3820999999999997, 1.7609, 5.171320000000004, 3.387100000000002, 2.8069000000000006, 4.300620000000004, 1.6846999999999996, 3.478500000000002, 4.701000000000003, 1.63258, 2.0693200000000003, 2.18482, 1.1721, 3.295200000000002, 1.218, 2.6366000000000005, 0.6151999999999997, 3.1968200000000007, 3.6586000000000016, -0.014799999999999591, 3.672500000000001, 5.797100000000005, 1.9870999999999994, 1.3820000000000001, 2.2688000000000006, 5.5717200000000044, 1.8784799999999997, 2.849400000000001, 3.8782000000000014, 2.828800000000001, 4.862900000000003, 2.5814000000000004, 3.331800000000002, 1.5815999999999988, 4.554500000000003, 2.0049199999999994, 3.011800000000002, 6.748520000000006, 3.4205000000000023, 3.682900000000002, -0.014799999999999591, 0.5508999999999992, 3.6852800000000014, 3.2749200000000016, 3.1956000000000016, 2.0814999999999992, 3.8393000000000024, 5.053000000000004, 5.790600000000004, 3.650000000000002, 3.975900000000002, 3.534500000000002, 1.9493999999999998, 4.966720000000004, 1.4883799999999998, 7.200600000000008, 1.3734999999999997, 1.9738799999999994, 3.8454000000000024, 3.295200000000002, 3.371800000000002, 1.4664999999999997, 1.1304, 4.062600000000002, 4.229400000000003, 2.7600800000000003, 3.8393000000000024, 3.7599000000000027, 3.1994200000000017, 4.483200000000002, 3.450800000000001, 3.5520000000000014, 4.344900000000003, 5.434700000000006, 5.180400000000004, 4.088580000000002, 4.2375000000000025, 3.9104000000000028, 3.0839000000000016, 0.18420000000000036, 2.8851000000000004, 6.460500000000006, 3.0429000000000013, 4.2371000000000025, 4.450400000000003, 2.51698, 0.7106999999999999, 2.4729, 5.874300000000005, 6.579200000000006, 0.4604000000000006, 5.881700000000006, 3.0777200000000002, 4.370600000000004, 5.093700000000003, 3.7970200000000016, 4.932000000000004, 4.908280000000003, 2.924100000000001, 2.9056000000000015, 3.011800000000002, 3.4886000000000017, 3.5701800000000024, 4.257600000000002, 1.95128, 3.6827200000000015, 2.3020999999999994, 1.9490999999999994, 2.8733200000000005, 2.7069, 0.44249999999999967, 3.7090000000000023, 2.0851999999999995, 2.9865000000000013, 2.3499, 5.345780000000004, 5.471200000000005, 3.9437000000000015, 6.328800000000003, 2.7600800000000003, 3.6487000000000016, 4.351900000000003, 4.671400000000001, 2.625500000000001, 4.589500000000003, 2.4089, 0.8024000000000003, 3.4838000000000022, 2.3143999999999996, 5.270300000000005, 5.538300000000004, 1.2060999999999995, 3.4886000000000017, 6.342120000000007, 1.9990999999999997, 2.926100000000001, 1.9482, 4.976900000000004, 3.133200000000002, 2.9922000000000013, 3.950700000000002, 4.589500000000003, 3.7660000000000027, 2.7788000000000013, 1.9894000000000003, 1.1218799999999998, 2.5903800000000006, 2.78162, 5.483800000000004, 2.12822, 4.979820000000003, 3.2177000000000016, 3.760880000000002, 2.861300000000001, 5.658000000000005, 5.148200000000004, 2.676099999999999, 3.4655000000000005, 2.5751000000000013, 2.1909, 5.290180000000004, 3.2318000000000016, 5.622000000000005, 1.0846, 2.7383000000000015, 1.1664999999999999, 2.1909, 3.0367200000000008, 5.231500000000004, 2.4732000000000003, 2.4732000000000003, 0.6427000000000007, 3.8755000000000024, 3.5694000000000017, 3.5999000000000017, 6.633500000000006, 3.7970200000000016, 4.841400000000003, 3.377100000000002, 3.327600000000002, 1.5961999999999994, 3.954600000000003, 3.4808000000000012, 0.21009999999999962, 3.6844800000000024, 2.2797, 4.460480000000003, 2.828800000000001, 1.8648800000000003, 1.7162999999999997, 1.9302999999999997, 5.400500000000004, 3.011400000000001, 2.3189, 4.368000000000002, 4.399200000000002, 2.868920000000001, 1.4520999999999995, 4.340800000000002, 2.2566999999999995, 6.070200000000006, 6.402100000000005, 4.411700000000002, 1.6201199999999998, 3.0531200000000007, 3.4838000000000022, 3.910000000000002, 3.6761000000000026, 1.5574, 3.488900000000001, 1.9419, 5.045780000000003, 3.6968000000000014, 2.7432000000000007, 3.2318000000000016, 3.9409000000000027, 4.844000000000004, 3.316200000000001, 0.5749999999999995, 1.6816799999999996, 3.687380000000002, 3.631300000000003, 3.1273000000000017, 3.6286000000000014, 3.8485000000000014, 3.359700000000002, 5.140500000000004, 3.5615000000000014, 2.917300000000001, 3.2468200000000014, 3.0000800000000005, 1.7672999999999999, 2.0468, 0.5522999999999999, 3.8417800000000017, 2.2333, 2.5944000000000016, 2.339200000000001, 2.7383000000000015, 4.462080000000003, 3.774680000000002, 2.4369000000000005, 1.8413999999999997, 0.5565799999999999, 3.793600000000003, 4.223380000000002, 3.698500000000002, 3.1968200000000007, 3.240300000000002, 1.1485999999999996, 3.961020000000003, 2.4634, 1.3632999999999997, 2.5028000000000006, 4.4513000000000025, 4.820120000000003, 3.0471000000000004, 4.356500000000002, 1.3583999999999998, 4.010500000000002, 1.3961999999999994, 4.068520000000002, 4.979820000000003, 2.185200000000001, 2.3174, 3.156500000000002, 2.5772199999999996, 4.908280000000003, 5.070900000000005, 6.393500000000007, 2.907280000000001, 4.460480000000003, 3.5339000000000027, 4.059700000000001, 4.9391000000000025, 2.0364, 1.1859, 4.725000000000003, 1.7846999999999995, 4.460480000000003, 2.827400000000001, 2.969500000000002, 4.420600000000002, 3.7471000000000014, 4.9123000000000046, 3.371800000000002, 6.271600000000005, 4.883720000000004, 4.297700000000003, 2.924100000000002, 1.95128, 0.72638, 5.291400000000004, 2.7067000000000005, 3.6526000000000014, 1.9242999999999997, 2.4369000000000005, 2.690200000000001, 3.882200000000002, 4.3170800000000025, 1.1679, 2.4818000000000002, 4.614420000000003, 2.3334799999999998, 4.138220000000002, 4.7036000000000024, 2.9037800000000002, 2.969500000000002, 5.844300000000004, 3.2612000000000023, 2.0710999999999986, 4.319580000000003, 3.775800000000003, 1.7511000000000003, 2.688300000000001, 3.2432000000000016, 3.936300000000002, 2.6566800000000006, 4.019500000000002, 3.0958000000000014, 5.210200000000004, 4.365880000000002, 3.0589200000000005, 3.961020000000002, 3.240300000000002, 4.364480000000003, 1.54, 3.2578000000000022, 5.490800000000005, 2.0546799999999994, 3.8218000000000014, 2.8884000000000007, 3.8111000000000024, 1.7876999999999996, 2.30438, 4.620300000000002, 4.935020000000003, 4.462080000000003, 4.367480000000003, 3.688900000000002, 6.224840000000006, 4.463680000000003, 0.5033999999999998, 2.3334799999999998, 2.1525999999999987, 3.1956000000000016, 1.0417999999999998, 3.495420000000002, 3.7917000000000014, 2.3400800000000004, 3.376400000000001, 5.046200000000005, 1.0902999999999996, 4.300200000000003, 4.460420000000002, 4.030680000000002, 2.3392, 3.228200000000002, 3.405700000000002, 3.5384800000000016, 0.990800000000001, 2.5772200000000005, 2.9284800000000004, 4.139580000000002, 4.000480000000002, 1.8760999999999999, 3.846700000000001, 4.027400000000003, 3.7414200000000024, 2.5772199999999996, 2.1258, 4.390580000000003, 5.409600000000005, 1.3256799999999993, 3.9845000000000015, 2.7897000000000007, 3.760880000000002, 4.245680000000002, 5.519400000000005, 0.9783799999999998, 1.7467000000000006, 6.320400000000006, 4.272600000000002, 3.754480000000002, 2.997300000000001, 4.966720000000004, 4.091700000000002, 0.49770000000000053, 3.533220000000001, 3.9548000000000023, 1.95128, 2.78162, 4.2968800000000025, 1.6925999999999999, 4.300500000000002, 3.975900000000002, 2.659790000000001, 0.9840799999999994, 2.3795200000000003, 1.6782999999999997, 3.616580000000001, 1.5937999999999999, 3.0784800000000008, 4.239220000000002, 3.961020000000003, 4.136680000000002, 3.313080000000001, 3.3434800000000013, 3.8519200000000016, 3.6526000000000014, 2.830400000000001, 0.16648000000000018, 2.8457999999999997, 1.361, 3.887880000000002, 4.372880000000004, 2.97358, 2.9407000000000005, 3.695820000000001, 4.611900000000004, 5.116600000000004, 2.5844000000000005, 6.402100000000005, 4.156980000000003, 3.7917000000000014, 4.466400000000001, 2.9461000000000013, 4.919100000000005, 5.0026000000000055, 4.830200000000004, 5.442600000000004, 3.6906000000000008, 4.267400000000004, 4.156100000000003, 4.612720000000003, 4.100120000000002, 1.4806, 3.4079000000000015, 3.615500000000001, 3.078400000000001, 6.181000000000004, 1.1485999999999996, 3.5966000000000005, 3.0677900000000005, 4.908280000000003, 3.3434800000000013, 3.455000000000002, 3.1100200000000013, 3.2326000000000015, 4.082500000000003, 2.9026000000000014, 2.559240000000001, 3.5242800000000027, 4.024020000000003, 3.9845000000000015, 2.4223999999999997, 2.917300000000001, 1.0756000000000006, 0.8024000000000003, 4.100120000000002, 2.834880000000001, 4.933480000000003, 3.2829000000000006, 2.7534, 2.810200000000001, 2.5072, 4.060400000000003, 3.206100000000001, 5.245600000000005, 1.8219999999999992, 4.148500000000002, 4.319580000000003, 5.029300000000004, 5.634600000000004, 3.0367200000000008, 2.4478, 4.472000000000003, 2.423800000000001, 1.3945999999999994, 1.361, 2.1258, 3.0268800000000002, 2.6714200000000003, 3.0372000000000003, 2.5072, 3.0421000000000014, 1.8702, 2.97898, 2.13398, 5.7176200000000055, 1.9661000000000002, 3.394280000000001, 2.7093, 4.853200000000003, 2.9407000000000005, 2.987300000000001, 1.576, 1.9274799999999999, 3.457180000000001, 3.273980000000001, 2.3242000000000003, 4.287280000000003, 4.463680000000003, 4.810700000000002, 3.2452000000000023, 4.150600000000003, 4.029000000000002, 2.2436, 2.814700000000001, 4.285600000000003, 4.926000000000003, 3.3820200000000016, 4.417100000000003, 4.616900000000003, 1.9423999999999997, 3.359300000000002, 3.7297800000000016, 2.7556900000000004, 1.9018999999999995, 4.050100000000001, 3.882200000000002, 2.7187799999999998, 3.932900000000002, 1.3961999999999994, 3.318080000000001, 3.4324200000000005, 2.0546799999999994, 4.3467800000000025, 3.3823000000000016, 2.3451000000000004, 5.677700000000003, 3.4564900000000005, 2.185999999999999, 1.9734999999999998, 3.343700000000001, 4.051400000000002, 4.365880000000002, 3.224800000000001, 3.524680000000001, 3.380980000000001, 4.312100000000004, 2.7897000000000007, 2.5186800000000007, 2.51698, 4.457100000000003, 1.6299999999999997, 5.933060000000002, 0.5034, 1.7846999999999995, 2.5903800000000006, 2.969500000000001, 3.474000000000001, 4.139580000000002, 2.6779, 1.6573999999999998, 3.951000000000003, 3.893600000000003, 2.3210000000000006, 3.0268800000000002, 2.969500000000002, 4.051000000000003, 3.053400000000001, 3.3397000000000023, 4.016000000000003, 3.232680000000001, 4.287280000000003, 4.614420000000003, 5.5732000000000035, 2.8016000000000014, 2.7696000000000005, 2.7172, 1.9908999999999992, 1.2469000000000017, 1.0902999999999996, 3.4191800000000008, 2.8676000000000013, 2.8983000000000008, 2.7711000000000006, 2.6532999999999998, 2.9700800000000003, 2.1620799999999996, 3.4141900000000014, 3.696500000000002, 1.8433000000000002, 2.786200000000001, 4.156980000000003, 3.5640800000000024, 2.5946000000000007, 4.000480000000002, 2.38398, 3.287420000000002, 2.9662000000000015, 1.8216999999999994, 3.3907000000000025, 4.878300000000004, 4.2043000000000035, 3.347200000000001, 3.9581000000000017, 4.460480000000003, 2.969500000000001, 2.0504799999999994, 6.477220000000007, 3.6405800000000026, 2.7383000000000015, 3.457180000000001, 3.224800000000001, 1.9476799999999999, 3.211380000000002, 1.9938799999999999, 3.1755000000000013, 0.8024000000000003, 3.794480000000002, 5.634300000000005, 3.8070800000000027, 4.239220000000002, 1.95128, 3.7132000000000023, 2.69222, 3.7841000000000022, 2.2793, 2.627600000000001, 1.2835999999999994, 3.680480000000002, 2.5526800000000005, 2.6468000000000007, 3.119580000000001, 2.5145800000000005, 2.46988, 5.434900000000005, 1.7245, 3.0784800000000008, 3.0677900000000005, 5.641900000000005, 4.829900000000004, 3.4055000000000017, 2.768690000000001, 4.634400000000003, 3.742700000000002, 2.9662000000000006, 2.5772199999999996, 4.405300000000003, 3.3848800000000008, 3.173980000000001, 2.1978799999999996, 4.439600000000002, 2.5927000000000007, 3.359700000000002, 3.287600000000001, 3.315080000000002, 2.19878, 1.9242999999999997, 3.278500000000002, 4.785220000000005, 3.983800000000003, 2.2727199999999996, 1.95128, 4.623880000000004, 3.4141900000000014, 2.46988, 2.717200000000001, 3.247720000000001, 3.032800000000001, 4.908280000000003, 2.5303000000000004, 1.6153999999999997, 2.041499999999999, 3.7989000000000024, 3.2326000000000024, 5.553100000000005, 2.79202, 2.36508, 4.245680000000002, 2.998940000000001, 3.977380000000002, 3.6526000000000014, 3.730400000000002, 1.8363999999999994, 2.5542000000000007, 3.9691800000000015, 3.586780000000001, 3.0436000000000014, 4.380600000000003, 3.5478000000000014, 2.211800000000001, 1.9870999999999996, 5.319120000000004, 6.126080000000006, 3.8755000000000024, 2.0046000000000004, 1.7846999999999995, 1.7511000000000003, 3.4448800000000004, 3.4182000000000006, 3.9294800000000025, 3.6405800000000026, 2.9979900000000006, 3.3729000000000013, 1.5630999999999993, 2.759100000000001, 5.434900000000005, 2.7759800000000006, 2.9284800000000004, 2.954600000000001, 3.6720900000000007, 3.0126800000000014, 4.6948200000000035, 2.929800000000001, 3.313080000000001, 2.905100000000001, 2.02628, 4.624100000000002, 4.3170800000000025, 2.4048200000000013, 3.2828800000000005, 3.6229000000000022, 4.922280000000002, 2.4043800000000006, 2.3451000000000004, 1.5470999999999995, 4.615300000000003, 1.7755999999999992, 2.3174800000000007, 3.887880000000002, 3.508600000000002, 2.7711000000000015, 2.3286999999999995, 4.656100000000005, 3.488600000000001, 3.794480000000002, 3.4116000000000017, 3.967900000000002, 3.0158000000000014, 3.9003000000000023, 5.803120000000004, 4.656100000000004, 2.34778, 2.3838, 2.46988, 1.3137999999999992, 3.492000000000001, 3.683480000000001, 4.037000000000003, 3.383600000000002, 1.8377, 2.3286999999999995, 2.75992, 3.2569000000000017, 3.453100000000002, 2.4718800000000005, 2.4540800000000003, 3.764280000000001, 4.332440000000003, 3.616580000000001, 1.8837999999999997, 1.4134000000000013, 1.7432999999999994, 2.4471, 3.548280000000001, 3.497300000000002, 3.6137000000000015, 2.834880000000001, 3.680480000000002, 4.378100000000002, 2.7556900000000004, 2.6143800000000006, 3.383600000000002, 2.24716, 3.131800000000002, 2.8333000000000004, 5.1494200000000045, 3.775100000000002, 0.5034, 3.0922800000000006, 3.6269800000000005, 2.3334799999999998, 4.468600000000003, 3.279300000000001, 2.60032, 3.7764000000000024, 2.4121000000000006, 1.5295999999999994, 2.997280000000001, 4.733800000000004, 1.3820000000000001, 3.238480000000002, 1.3010999999999995, 4.759920000000004, 4.424700000000003, 3.8454000000000024, 2.60998, 2.503780000000001, 3.5067200000000023, 2.0903799999999997, 1.3008999999999993, 1.6923000000000006, 0.9646999999999999, 6.033120000000006, 4.107900000000003, 2.3636, 5.4981200000000054, 3.9554000000000027, 4.149600000000002, 4.457100000000003, 5.125400000000004, 4.789500000000004, 2.631920000000001, 2.910680000000002, 1.9385999999999994, 3.6405800000000026, 2.7355000000000014, 2.7186000000000003, 2.3436999999999992, 4.846900000000004, 3.497200000000001, 1.7245, 2.711100000000001, 1.1884, 3.688900000000002, 3.2411200000000004, 3.6269800000000005, 2.634500000000001, 2.0810999999999993, 1.955, 3.3504000000000014, 4.813000000000004, 4.613600000000004, 1.3945999999999994, 3.7729800000000013, 3.7729800000000013, 2.972880000000001, 6.477700000000005, 2.0810999999999993, 3.7238000000000033, 2.7945, 3.6850000000000023, 1.236599999999999, 1.4043799999999995, 2.5811399999999995, 2.972880000000001, 3.606180000000001, 3.318080000000001, 2.38626, 0.2716999999999997, 5.583720000000006, 5.124120000000004, 4.570300000000003, 5.026900000000005, 3.3007800000000023, 3.5632800000000016, 1.6909999999999996, 1.9399999999999995, 3.6373000000000024, 4.319580000000003, 3.02888, 2.6646800000000006, 4.030680000000002, 2.9768800000000004, 3.2264800000000013, 1.48356, 3.9003000000000023, 4.290000000000004, 3.737180000000003, 2.5497000000000005, 3.5384800000000016, 4.7327800000000035, 2.6839000000000004, 2.19878, 2.0298, 3.8629000000000033, 5.069500000000005, 4.040580000000002, 2.97898, 3.128590000000001, 2.8521600000000005, 2.2781000000000002, 6.407820000000006, 1.9901, 2.831780000000001, 3.315080000000002, 4.2968800000000025, 4.100120000000002, 2.3754800000000005, 2.193600000000001, 2.2227999999999994, 2.728700000000001, 3.228200000000002, 2.7696000000000005, 2.2260999999999997, 0.9107999999999994, 3.3439200000000016, 3.603880000000002, 3.606180000000001, 3.042320000000001, 2.05678, 2.48848, 2.970880000000001, 3.4626800000000024, 1.6909999999999992, 4.010300000000003, 5.353700000000005, 3.4422000000000006, 4.462080000000003, 3.764280000000001, 3.258680000000001, 4.098780000000002, 3.6239000000000026, 3.9761900000000026, 2.6041000000000007, 3.5840000000000023, 3.481900000000002, 4.880200000000005, 2.8904200000000007, 2.28388, 3.524680000000001, 2.34778, 4.329480000000002, 0.6617999999999994, 1.5991999999999997, 3.168000000000001, 1.2745000000000006, 2.1845999999999997, 2.8716, 3.7909000000000033, 4.862900000000003, 3.488600000000001, 2.6096000000000004, 2.5205800000000007, 3.3083800000000014, 3.9812800000000017, 0.6617999999999994, 4.164400000000003, 5.117020000000004, 3.434300000000002, 4.919100000000005, 2.7990000000000004, 3.1219800000000015, 2.7417000000000007, 4.539800000000002, 1.7846999999999995, 1.9274799999999999, 4.136680000000002, 4.800080000000002, 3.02888, 3.4043800000000015, 3.9502000000000024, 4.754600000000003, 2.0851999999999995, 3.751800000000002, 2.652400000000001, 2.2797, 6.765600000000005, 3.6314800000000016, 2.68438, 1.9475999999999996, 2.2405999999999997, 2.5888999999999998, 3.371800000000002, 3.2326000000000015, 5.634300000000005, 3.4906000000000006, 5.120280000000004, 3.4493800000000014, 3.6863800000000015, 2.6566800000000006, 4.782700000000002, 2.2652799999999997, 6.109820000000006, 3.337480000000001, 3.1091800000000003, 2.9284800000000004, 3.1338800000000013, 3.347080000000002, 1.7704799999999996, 2.46988, 5.892400000000006, 2.3947000000000003, 3.7315000000000023, 3.7970200000000016, 3.2135200000000017, 2.5476, 3.3455000000000013, 1.3531999999999997, 3.9003000000000023, 5.930900000000006, 3.6753800000000023, 3.4330000000000016, 4.040580000000002, 2.970880000000001, 2.74378, 4.365880000000002, 3.108600000000002, 2.6682000000000006, 2.8892000000000007, 3.240300000000002, 3.252880000000001, 1.95128, 5.857320000000005, 3.371500000000002, 3.3389000000000015, 3.0630200000000016, 4.853200000000003, 3.204180000000002, 3.1608800000000015, 3.771080000000002, 2.828680000000001, 2.3174800000000007, 0.8578000000000015, 3.644820000000002, 3.906600000000002, 3.7970200000000016, 3.252080000000001, 4.070580000000002, 3.2177000000000016, 4.149700000000002, 2.3450999999999995, 3.0203000000000015, 3.896480000000002, 3.3718000000000004, 3.4999800000000016, 3.1010800000000014, 2.3374800000000002, 3.7222000000000026, 3.2592800000000013, 4.855500000000005, 3.1012000000000013, 3.0922800000000006, 2.4359, 4.4631000000000025, 3.831590000000002, 3.6405800000000026, 2.9571000000000005, 2.9571000000000014, 3.586780000000001, 3.9427800000000017, 3.173980000000001, 2.8483800000000006, 3.5632800000000016, 4.182080000000002, 3.3099799999999995, 2.2026000000000003, 2.1236999999999995, 2.4514999999999993, 4.297700000000003, 2.3636, 3.0441000000000003, 2.33798, 2.48048, 3.9003000000000023, 2.2652799999999997, 2.5352999999999994, 1.234800000000001, 3.512900000000003, 2.9908800000000006, 4.705220000000003, 2.24716, 3.14788, 3.7297800000000016, 4.248200000000004, 3.603880000000002, 5.846920000000004, 2.627600000000001, 3.857400000000001, 2.5145800000000005, 4.182080000000002, 3.5393800000000013, 3.754480000000002, 3.954180000000002, 1.4315999999999998, 1.6118799999999998, 3.0630200000000016, 1.9385999999999994, 1.8879999999999997, 3.985100000000002, 3.5017000000000014, 5.116600000000004, 3.2580800000000005, 3.14788, 2.78162, 3.1905800000000006, 1.9996799999999997, 3.3099799999999995, 2.805320000000001, 3.9992800000000015, 4.883720000000004, 2.904680000000001, 3.9812800000000017, 5.152420000000004, 6.407820000000006, 3.263200000000001, 3.1354000000000015, 3.232680000000001, 3.2504800000000014, 1.0505799999999996, 1.4964999999999997, 3.2875000000000023, 4.555200000000004, 1.2006, 1.3008999999999993, 2.867280000000001, 2.38398, 0.9415799999999994, 2.979000000000001, 2.32318, 1.7944999999999995, 6.898520000000007, 5.649620000000005, 6.092920000000005, 3.593700000000002, 2.00938, 4.446800000000003, 2.1258, 4.000480000000002, 4.922280000000002, 3.4191800000000008, 3.296280000000001, 2.55558, 2.9236000000000013, 2.932200000000001, 3.8165000000000022, 2.2793, 3.2603800000000005, 3.4080000000000013, 2.8498200000000002, 2.9661799999999996, 5.257300000000004, 2.9571000000000005, 1.2830799999999993, 1.9573800000000001, 4.390580000000003, 1.9476799999999999, 2.830680000000001, 2.9947800000000013, 3.296280000000001, 3.273980000000001, 2.4705000000000004, 2.36508, 2.2781000000000002, 2.966100000000001, 5.362300000000005, 3.714800000000002, 2.3617, 4.405220000000003, 2.4771800000000006, 3.7694800000000015, 3.0798000000000014, 4.643600000000003, 3.476320000000001, 1.9196999999999995, 2.423800000000001, 3.8792800000000023, 2.831780000000001, 4.342680000000003, 2.6449800000000003, 3.0561, 3.6677800000000014, 2.76558, 3.975900000000003, 1.9425999999999997, 2.489280000000001, 2.0824000000000003, 2.6946000000000003, 5.754420000000005, 5.244520000000004, 6.067000000000004, 3.5520000000000014, 3.9631000000000034, 3.1995000000000013, 3.6753800000000023, 5.069500000000005, 2.1978799999999996, 2.8483800000000006, 3.1452800000000005, 1.5484999999999995, 4.094600000000003, 3.5393800000000013, 1.7608999999999997, 6.598420000000006, 2.2553799999999997, 3.6677800000000014, 3.9812800000000017, 2.7268800000000004, 1.9996799999999997, 2.46908, 3.6863800000000015, 3.068340000000001, 2.835700000000001, 3.3801000000000014, 2.8584000000000005, 4.056400000000003, 3.240300000000002, 2.0903799999999997, 2.906180000000001, 4.126100000000002, 1.1591000000000002, 2.4223999999999997, 2.9093800000000014, 3.6286000000000014, 2.821200000000001, 4.612500000000004, 2.85829, 3.2603800000000005, 2.1620799999999996, 1.73348, 3.1219800000000015, 4.3467800000000025, 3.8454000000000024, 3.803700000000002, 2.6041000000000007, 3.1553200000000015, 2.8183, 5.067800000000004, 1.9369999999999996, 6.084720000000006, 1.40438, 3.2907, 2.74378, 3.1266, 4.070580000000002, 2.4540800000000003, 3.6405800000000026, 3.221380000000001, 3.2603800000000005, 2.4888000000000003, 0.6617999999999994, 3.2908000000000017, 2.0605999999999995, 2.759100000000001, 3.2139000000000015, 3.7764000000000024, 3.1452800000000005, 3.2603800000000005, 2.9544000000000015, 3.58068, 4.320380000000003, 3.742980000000001, 3.1338800000000013, 2.738480000000001, 3.896480000000002, 2.8619800000000017, 1.9938799999999999, 1.8343799999999997, 3.1071800000000005, 3.6405800000000026, 3.4576800000000008, 2.8278000000000008, 4.416100000000003, 3.6663000000000023, 4.546600000000003, 2.52308, 4.202600000000003, 4.420600000000002, 0.8468, 6.206100000000004, 1.8377, 2.4531, 2.4427000000000003, 3.4385000000000003, 2.828680000000001, 3.1470200000000004, 2.4391800000000003, 2.28388, 3.879080000000002, 2.2767799999999996, 3.3848800000000008, 3.1071800000000005, 2.92612, 1.567799999999999, 2.946900000000001, 2.9628000000000005, 2.3924000000000003, 3.4262000000000024, 4.451000000000003, 4.754600000000003, 2.9947800000000013, 3.204180000000002, 2.38398, 3.176280000000001, 3.273980000000001, 1.8383000000000016, 5.3701200000000044, 6.2385000000000055, 4.3449000000000035, 3.6807200000000018, 2.8521600000000005, 2.68536, 3.044380000000002, 4.398120000000002, 5.100100000000005, 3.9812800000000017, 2.867280000000001, 3.2828800000000005, 2.8441800000000015, 3.0677900000000005, 4.778420000000003, 4.040580000000002, 6.459200000000005, 0.2716999999999997, 3.3800000000000026, 4.290700000000004, 4.256900000000002, 1.5484999999999995, 3.371800000000002, 4.746000000000002, 2.161579999999999, 2.3444000000000003, 3.5227000000000013, 1.6909999999999992, 4.856320000000003, 3.283100000000002, 3.4576800000000008, 2.8312, 3.2504800000000014, 3.492000000000001, 3.7694800000000015, 2.5526800000000005, 3.4344800000000015, 2.8651800000000005, 3.252080000000001, 2.030899999999999, 4.986000000000004, 4.615500000000003, 3.217900000000001, 4.005900000000003, 4.855500000000005, 3.2711000000000015, 4.340500000000003, 1.5394799999999995, 3.3330800000000016, 2.4223999999999997, 3.449600000000002, 6.186420000000005, 5.084520000000005, 5.412220000000004, 4.612500000000004, 3.5230000000000015, 3.7900000000000027, 3.602800000000001, 3.2326000000000015, 4.499800000000004, 4.102800000000003, 2.841100000000001, 4.280420000000002, 2.1060999999999996, 2.3400800000000004, 2.0291799999999993, 3.004480000000001, 4.477780000000002, 1.6188799999999999, 3.4344800000000015, 4.040580000000002, 1.9369999999999996, 6.375500000000004, 5.1970000000000045, 4.4292000000000025, 3.7517000000000005, 5.462000000000003, 3.295200000000002, 3.118800000000002, 2.3102800000000006, 2.906180000000001, 4.100820000000002, 3.448920000000001, 2.9346200000000007, 6.0994000000000055, 3.6332000000000013, 5.020300000000003, 4.485500000000004, 4.4558000000000035, 4.685200000000004, 3.6223000000000027, 3.4746000000000024, 4.448600000000004, 3.3870000000000022, 3.407600000000002, 4.458000000000003, 3.5766000000000027, 4.030820000000002, 3.910400000000002, 3.997200000000002, 4.073100000000003, 3.1441000000000017, 2.7438000000000002, 2.706200000000001, 2.2058999999999997, 4.169100000000003, 3.2163000000000013, 2.8099800000000004, 3.4043800000000015, 2.604680000000001, 3.198380000000001, 3.1608800000000015, 2.5846799999999996, 4.070580000000002, 2.503780000000001, 2.9871800000000013, 3.283100000000002, 2.5138, 4.478580000000002, 3.3800000000000017, 4.216500000000003, 3.371500000000001, 3.483200000000002, 5.145020000000006, 3.581880000000001, 2.5830800000000007, 2.8411800000000005, 3.8380000000000027, 3.0744000000000016, 2.5091, 2.0133, 5.5732000000000035, 2.1905199999999994, 5.509220000000005, 5.581420000000005, 4.473500000000004, 2.2447800000000004, 2.4718800000000005, 2.9581800000000005, 2.9767800000000006, 2.8498800000000006, 3.4344800000000015, 2.76628, 5.715000000000005, 3.896480000000002, 2.8483800000000006, 2.8099800000000004, 2.161579999999999, 3.375600000000002, 4.025000000000003, 1.78458, 4.154600000000001, 4.555200000000004, 2.9571000000000005, 3.483200000000002, 4.934800000000003, 2.655380000000001, 2.7352000000000007, 5.101020000000003, 3.111180000000002, 3.1071800000000005, 3.7062800000000022, 3.5790200000000008, 3.383600000000002, 2.50762, 2.9015200000000005, 3.0406199999999997, 5.630020000000005, 2.23918, 2.6739800000000002, 2.7740800000000005, 3.896480000000002, 3.05218, 3.0870800000000003, 2.853980000000001, 1.8866799999999992, 4.112380000000002, 2.9581800000000005, 2.7210799999999997, 4.320380000000003, 4.279180000000003, 4.672900000000003, 3.4266000000000023, 4.600500000000004, 3.347200000000001, 3.501800000000001, 3.295200000000002, 3.3800000000000017, 0.9749999999999992, 1.9573800000000001, 4.910500000000005, 3.5780200000000013, 2.2447800000000004, 1.82296, 2.6739800000000002, 3.209100000000001, 2.17962, 2.3296199999999994, 2.33282, 5.7500200000000055, 5.145020000000005, 3.1592200000000004, 2.2285999999999992, 4.018000000000003, 2.1526999999999994, 3.934700000000002, 3.05218, 2.5469800000000005, 2.240879999999999, 4.823620000000004, 3.0356000000000005, 2.792980000000001, 3.044380000000002, 1.35478, 2.8480800000000004, 1.9475799999999999, 2.5080800000000005, 2.9711799999999995, 3.263200000000002, 3.295200000000002, 4.375100000000003, 3.436300000000002, 3.0203000000000015, 1.5290799999999996, 4.212800000000003, 5.904100000000006, 4.544700000000002, 3.2908000000000017, 2.657700000000001, 7.344800000000007, 1.3944799999999997, 3.375600000000002, 4.931700000000003, 3.3988000000000014, 1.2503799999999996, 4.073800000000003, 4.018000000000003, 4.227100000000004, 3.8316000000000026, 3.607800000000002, 3.1088900000000015, 3.498990000000002, 3.5680000000000023, 2.9711799999999995, 3.576180000000001, 2.8327800000000005, 3.4010000000000007, 3.4344800000000015, 2.5469800000000005, 3.176280000000001, 4.372880000000004, 1.928979999999999, 2.7210799999999997, 3.1830800000000012, 2.3545799999999995, 4.112380000000002, 1.8011799999999998, 2.6811800000000012, 1.8661999999999999, 4.810700000000003, 1.6396800000000002, 3.5520000000000014, 5.657900000000005, 3.2119000000000018, 2.759800000000001, 3.7596000000000025, 1.2495800000000001, 3.142000000000002, 3.2908000000000017, 5.100100000000005, 2.8218000000000014, 3.867300000000003, 3.2875000000000014, 4.123000000000004, 4.776900000000004, 3.9783200000000027, 2.946900000000001, 3.2908000000000017, 2.981200000000001, 4.780820000000005, 3.621920000000002, 5.324900000000004, 4.628700000000004, 3.2914800000000017, 3.254400000000002, 4.600500000000004, 5.067000000000005, 1.8557999999999995, 4.621900000000004, 3.4850200000000013, 3.0385000000000018, 3.0462000000000016, 3.9409000000000027, 2.655380000000001, 4.352600000000003, 3.1221000000000014, 3.375600000000002, 4.732300000000003, 1.928979999999999, 3.1776000000000018, 4.107600000000003, 2.668780000000001, 1.5909800000000003, 2.2769999999999992, 2.6464000000000008, 1.9825999999999995, 3.3815000000000017, 4.018000000000003, 2.5302000000000007, 3.3789000000000016, 3.5737000000000023, 3.9291000000000027, 3.8480000000000025, 3.8316000000000026, 5.051500000000003, 3.9676000000000027, 3.8872000000000018, 5.0069000000000035, 2.8964000000000008, 2.5490000000000004, 2.738900000000001, 3.466300000000002, 3.2123000000000017, 3.6830000000000025, 4.232720000000001, 2.3494, 3.446100000000002, 4.169100000000003, 3.5641000000000016, 3.591000000000002, 2.779600000000001, 2.5502000000000002, 3.7589000000000024, 4.221700000000003, 3.476320000000001, 3.7303000000000015, 4.186700000000002, 2.853980000000001, 3.5914800000000024, 3.111180000000002, 1.905179999999999, 4.070580000000002, 4.964800000000004, 2.0013799999999997, 1.926679999999999, 2.66718, 1.8332799999999994, 2.953000000000001, 4.086400000000002, 3.375600000000002, 2.7210799999999997, 2.853980000000001, 4.095900000000003, 3.5780200000000013, 3.458980000000002, 1.2507999999999995, 2.0309999999999993, 2.8820000000000006, 3.900300000000003, 3.1221000000000014, 2.7738000000000014, 3.0462000000000016, 2.6344000000000003, 3.488800000000002, 3.3800000000000017, 3.436300000000002, 2.6644000000000014, 3.0890200000000014, 3.936580000000002, 2.4919000000000002, 2.7738000000000014, 2.1506999999999996, 2.3894, 1.1224799999999995, 4.708700000000004, 3.375600000000002, 4.533700000000003, 3.2875000000000023, 3.2875000000000014, 2.2443, 2.892400000000001, 2.6442000000000005, 2.7738000000000005, 2.1788999999999996, 4.179900000000003, 3.6513000000000027, 2.824880000000001, 4.1571000000000025, 3.7904000000000027, 4.553700000000004, 4.103700000000003, 4.311900000000003, 3.6513000000000027, 3.6704000000000025, 3.767400000000003, 3.208100000000001, 3.434400000000002, 3.9487000000000023, 1.1884799999999995, 3.8586000000000027, 3.9851000000000028, 4.039400000000003, 2.2459, 3.9685000000000032, 2.636, 3.295300000000002, 2.7661000000000007, 0.4856000000000023, 1.8557999999999997, 3.9851000000000028, 3.7407800000000018, 2.8804000000000007, 2.5290999999999997, 2.45338, 1.2486000000000008, 2.5788800000000007, 1.3927000000000003, 5.156200000000002, 4.165700000000003, 2.8820000000000006, 1.2243000000000002, 1.4335999999999998, 1.9723999999999995, 3.6209000000000016, 2.6887000000000008, 0.8217999999999998, 2.944420000000001, 0.6214000000000021, 2.5543200000000006, 3.078800000000001, 3.5978200000000014, 3.4045200000000015, 2.7450799999999997, 2.1018, 1.6495, 1.9726999999999995, 1.3167999999999995, 1.7812000000000001, 3.5805200000000017, 1.9042, 3.288000000000001, 1.7274799999999997, 2.8328000000000007, 3.8964000000000016, 1.7025999999999997, 1.9419000000000002, 1.4817000000000002, 1.7569000000000004, 1.8079999999999992, 1.8659999999999997, 2.2725, 2.0526, 1.8527999999999996, 2.7511200000000002, 2.4427000000000003, 2.274800000000001, 2.277, 1.1423800000000004, 2.4427000000000003, 2.998900000000001, 1.3090999999999995, 1.2593999999999996, 1.3911000000000004, 2.8820000000000006, 0.6550000000000001, 1.6804999999999997, 2.028800000000001, 2.277, 2.342999999999999, 2.1136, 1.2105799999999995, 2.662600000000001, 2.1642199999999994, 1.4335999999999998, 2.636, 2.0526, 2.5092, 2.733200000000001, 1.6909999999999996, 2.1642199999999994, 3.458500000000001, 1.9955799999999997, 1.8557999999999997, 1.4656999999999996, 3.7791000000000023, 2.2725, 2.4427000000000003, 1.3426000000000018, 2.2459, 1.8693999999999995, 0.8265999999999994, 1.8591999999999997, 2.8328000000000007, 2.809, 1.7944999999999998, 1.4656999999999996, 3.0527000000000006], 'HBA': [5, 10, 6, 6, 4, 4, 5, 6, 9, 9, 5, 5, 6, 5, 6, 10, 5, 6, 5, 6, 4, 6, 6, 6, 7, 7, 6, 6, 4, 7, 6, 6, 8, 8, 7, 6, 10, 5, 5, 7, 7, 8, 9, 6, 9, 9, 7, 8, 8, 8, 5, 6, 8, 9, 8, 8, 7, 8, 6, 10, 7, 9, 7, 6, 7, 7, 6, 8, 8, 7, 5, 5, 6, 8, 12, 7, 7, 5, 4, 5, 4, 4, 8, 7, 7, 4, 7, 6, 5, 7, 5, 9, 10, 5, 6, 7, 7, 6, 7, 8, 9, 8, 6, 6, 6, 6, 6, 6, 10, 6, 7, 5, 12, 8, 10, 5, 8, 8, 8, 8, 8, 8, 6, 6, 9, 6, 6, 5, 6, 7, 7, 6, 5, 9, 7, 6, 5, 6, 7, 8, 9, 7, 7, 6, 7, 6, 8, 9, 5, 6, 8, 4, 8, 7, 8, 8, 6, 7, 3, 10, 6, 7, 8, 9, 9, 8, 6, 7, 8, 6, 10, 9, 8, 10, 9, 6, 7, 5, 5, 5, 8, 8, 5, 11, 8, 8, 9, 6, 6, 8, 8, 7, 8, 6, 5, 7, 6, 7, 8, 8, 8, 8, 6, 6, 6, 9, 9, 8, 6, 4, 4, 9, 8, 4, 8, 9, 10, 6, 5, 9, 8, 7, 9, 7, 7, 8, 8, 7, 7, 3, 7, 4, 8, 6, 5, 8, 8, 9, 10, 7, 7, 7, 8, 5, 2, 7, 7, 6, 4, 8, 4, 8, 8, 8, 7, 6, 9, 7, 7, 8, 10, 7, 7, 7, 7, 7, 7, 4, 7, 7, 8, 9, 6, 6, 8, 6, 4, 9, 8, 7, 9, 9, 8, 3, 8, 8, 7, 8, 8, 7, 6, 9, 8, 6, 8, 6, 6, 8, 8, 4, 7, 7, 7, 8, 6, 6, 7, 8, 8, 9, 5, 5, 7, 8, 8, 8, 7, 9, 6, 7, 9, 7, 9, 7, 7, 9, 8, 8, 8, 8, 8, 8, 8, 10, 6, 8, 9, 7, 8, 9, 8, 9, 10, 7, 7, 9, 8, 6, 8, 8, 8, 10, 8, 6, 8, 7, 11, 11, 8, 9, 10, 7, 7, 6, 6, 7, 8, 8, 7, 9, 10, 7, 16, 6, 9, 6, 4, 8, 7, 9, 8, 7, 11, 7, 7, 7, 6, 6, 4, 7, 9, 7, 6, 7, 8, 7, 7, 7, 5, 9, 5, 8, 7, 8, 6, 7, 7, 8, 5, 6, 10, 9, 9, 7, 8, 7, 7, 9, 8, 9, 4, 7, 8, 9, 6, 8, 6, 7, 4, 8, 7, 8, 9, 8, 7, 8, 9, 7, 5, 6, 7, 7, 6, 8, 5, 9, 8, 7, 7, 4, 9, 8, 10, 7, 6, 8, 9, 6, 9, 5, 7, 9, 6, 7, 7, 7, 13, 7, 9, 8, 10, 10, 7, 9, 4, 8, 7, 8, 8, 7, 7, 9, 6, 10, 9, 8, 9, 6, 6, 7, 7, 7, 7, 8, 8, 6, 5, 7, 6, 8, 5, 4, 8, 8, 8, 8, 10, 8, 8, 7, 4, 5, 7, 8, 8, 5, 7, 6, 7, 7, 4, 7, 9, 9, 9, 7, 6, 7, 8, 4, 4, 9, 7, 9, 6, 4, 8, 9, 7, 6, 7, 9, 8, 5, 7, 8, 7, 6, 8, 9, 4, 5, 10, 7, 8, 10, 7, 8, 6, 9, 6, 4, 8, 6, 8, 7, 4, 6, 6, 8, 7, 9, 5, 5, 10, 10, 9, 9, 5, 6, 5, 8, 8, 9, 8, 4, 8, 7, 6, 6, 6, 6, 10, 10, 6, 7, 5, 7, 7, 6, 6, 9, 6, 5, 6, 6, 5, 9, 9, 6, 6, 8, 8, 8, 7, 5, 7, 7, 8, 5, 5, 7, 7, 6, 7, 8, 10, 6, 7, 5, 8, 6, 9, 8, 9, 9, 8, 6, 9, 6, 9, 8, 7, 8, 9, 8, 6, 9, 6, 6, 7, 6, 8, 9, 7, 8, 9, 8, 10, 5, 8, 6, 7, 8, 7, 8, 6, 4, 8, 9, 7, 8, 4, 9, 6, 6, 8, 8, 7, 7, 8, 10, 10, 5, 9, 8, 10, 9, 9, 6, 9, 6, 4, 5, 5, 6, 8, 9, 11, 8, 8, 6, 8, 9, 5, 7, 9, 8, 8, 8, 5, 9, 7, 9, 7, 8, 9, 7, 9, 6, 8, 6, 5, 6, 7, 8, 10, 9, 9, 6, 7, 8, 9, 10, 8, 10, 8, 9, 6, 9, 4, 7, 8, 6, 8, 11, 11, 9, 8, 8, 9, 6, 7, 8, 8, 6, 8, 8, 7, 9, 8, 2, 6, 6, 7, 6, 10, 7, 7, 9, 4, 8, 10, 6, 8, 8, 7, 6, 11, 8, 8, 7, 9, 8, 8, 8, 6, 8, 7, 7, 9, 12, 7, 10, 6, 6, 8, 8, 7, 7, 4, 9, 9, 8, 8, 8, 5, 6, 6, 9, 9, 10, 8, 8, 5, 6, 6, 7, 8, 7, 9, 8, 8, 9, 11, 8, 9, 6, 8, 7, 9, 8, 7, 7, 4, 10, 7, 8, 7, 8, 8, 7, 10, 8, 9, 6, 9, 7, 7, 7, 9, 8, 8, 7, 9, 9, 5, 9, 7, 9, 8, 8, 6, 8, 10, 6, 7, 6, 6, 10, 8, 9, 10, 9, 9, 9, 7, 6, 6, 10, 10, 9, 9, 8, 4, 6, 8, 8, 5, 8, 7, 6, 8, 6, 10, 10, 8, 9, 8, 8, 8, 5, 9, 10, 8, 6, 9, 8, 8, 6, 8, 9, 9, 9, 8, 7, 9, 7, 7, 8, 9, 9, 9, 9, 5, 9, 10, 7, 7, 6, 8, 7, 7, 8, 9, 8, 7, 11, 5, 8, 6, 5, 9, 7, 6, 8, 9, 8, 8, 11, 6, 8, 6, 6, 6, 8, 5, 8, 7, 8, 10, 9, 9, 8, 8, 7, 7, 8, 9, 9, 8, 8, 8, 7, 8, 8, 7, 8, 7, 7, 7, 9, 8, 6, 11, 7, 9, 7, 9, 8, 7, 7, 8, 11, 7, 8, 8, 8, 6, 7, 7, 9, 12, 7, 8, 7, 4, 7, 10, 9, 8, 10, 6, 7, 8, 7, 8, 7, 6, 7, 10, 7, 7, 8, 9, 8, 5, 7, 7, 6, 7, 6, 7, 9, 8, 11, 6, 10, 8, 7, 8, 10, 9, 9, 9, 10, 8, 7, 9, 6, 7, 5, 7, 8, 8, 9, 8, 9, 8, 7, 9, 8, 6, 8, 6, 6, 9, 9, 7, 9, 9, 6, 10, 4, 5, 5, 12, 7, 8, 10, 7, 9, 9, 10, 6, 5, 7, 9, 9, 8, 7, 10, 8, 8, 7, 6, 7, 7, 8, 8, 6, 11, 8, 7, 4, 9, 9, 9, 7, 6, 8, 8, 8, 7, 7, 7, 8, 7, 9, 9, 7, 7, 7, 7, 9, 9, 5, 9, 7, 8, 7, 7, 10, 8, 9, 7, 9, 8, 9, 8, 8, 9, 8, 7, 11, 7, 8, 8, 9, 6, 5, 8, 9, 5, 7, 9, 5, 5, 8, 8, 7, 8, 8, 7, 8, 8, 9, 9, 8, 5, 8, 7, 7, 7, 10, 8, 10, 9, 8, 8, 8, 8, 7, 8, 8, 8, 11, 6, 7, 7, 7, 7, 7, 9, 10, 9, 8, 7, 7, 6, 7, 7, 8, 6, 8, 8, 8, 10, 6, 7, 7, 8, 8, 9, 9, 8, 9, 9, 9, 8, 9, 8, 10, 8, 8, 8, 10, 9, 10, 8, 8, 9, 8, 8, 8, 8, 5, 7, 7, 8, 9, 8, 9, 10, 10, 11, 8, 8, 9, 8, 7, 5, 8, 8, 7, 9, 10, 7, 9, 8, 9, 8, 7, 9, 9, 7, 9, 7, 8, 7, 10, 7, 6, 9, 5, 9, 7, 7, 8, 6, 7, 9, 6, 10, 10, 9, 8, 9, 9, 8, 7, 9, 10, 8, 8, 9, 9, 8, 8, 9, 7, 9, 8, 8, 7, 8, 8, 8, 9, 9, 9, 9, 8, 9, 8, 9, 7, 9, 9, 10, 8, 10, 8, 10, 8, 7, 8, 9, 12, 8, 9, 8, 5, 9, 9, 8, 8, 8, 8, 9, 6, 7, 6, 8, 9, 9, 8, 8, 9, 9, 8, 10, 11, 8, 8, 8, 8, 7, 8, 7, 6, 7, 8, 8, 9, 8, 10, 9, 9, 6, 8, 8, 8, 7, 8, 4, 5, 11, 8, 8, 7, 7, 4, 7, 6, 7, 8, 7, 11, 7, 9, 8, 10, 8, 10, 9, 9, 7, 6, 7, 9, 8, 10, 8, 10, 8, 9, 8, 6, 7, 8, 8, 9, 10, 8, 8, 8, 9, 8, 6, 8, 8, 9, 8, 8, 6, 8, 9, 5, 9, 8, 6, 8, 9, 9, 6, 6, 9, 6, 7, 8, 8, 8, 9, 9, 5, 6, 8, 9, 6, 8, 8, 8, 8, 8, 7, 9, 9, 9, 8, 7, 8, 8, 7, 7, 8, 9, 6, 7, 8, 11, 9, 9, 9, 8, 8, 8, 12, 8, 8, 6, 9, 8, 8, 8, 9, 9, 9, 9, 9, 11, 7, 6, 7, 6, 7, 6, 8, 7, 7, 7, 8, 6, 6, 8, 9, 9, 9, 9, 8, 7, 7, 9, 9, 7, 7, 7, 10, 8, 9, 8, 9, 9, 6, 8, 8, 7, 7, 10, 7, 10, 9, 8, 9, 6, 6, 5, 10, 9, 10, 8, 9, 9, 9, 8, 8, 8, 9, 9, 8, 9, 9, 9, 8, 8, 7, 9, 8, 5, 7, 9, 10, 8, 7, 8, 9, 5, 8, 6, 9, 9, 9, 9, 8, 8, 8, 8, 8, 8, 10, 11, 9, 9, 8, 7, 8, 6, 9, 10, 5, 8, 8, 8, 10, 8, 6, 10, 9, 8, 8, 8, 11, 10, 10, 9, 10, 7, 9, 8, 9, 6, 8, 8, 10, 9, 6, 7, 8, 9, 8, 9, 11, 8, 9, 8, 6, 9, 9, 8, 6, 8, 9, 8, 9, 11, 7, 8, 7, 8, 7, 8, 8, 7, 7, 7, 8, 8, 7, 8, 7, 8, 6, 8, 8, 10, 9, 10, 8, 7, 10, 9, 9, 8, 8, 5, 7, 7, 9, 9, 8, 9, 7, 9, 8, 10, 9, 8, 9, 8, 9, 9, 8, 8, 8, 8, 10, 9, 10, 10, 9, 10, 10, 8, 9, 9, 10, 9, 9, 10, 7, 9, 8, 9, 10, 10, 9, 9, 11, 9, 8, 9, 7, 8, 8, 8, 7, 8, 7, 7, 6, 6, 6, 6, 7, 9, 9, 7, 8, 9, 5, 8, 8, 7, 8, 7, 8, 9, 9, 7, 6, 6, 6, 10, 9, 8, 10, 8, 7, 10, 11, 9, 11, 8, 10, 8, 8, 10, 9, 10, 9, 9, 9, 8, 7, 9, 9, 9, 8, 7, 8, 8, 9, 12, 8, 8, 9, 10, 11, 10, 7, 8, 7, 9, 9, 8, 8, 8, 9, 10, 7, 8, 8, 6, 8, 7, 8, 11, 8, 8, 9, 9, 8, 8, 11, 10, 7, 7, 8, 9, 8, 8, 10, 12, 8, 7, 7, 8, 9, 9, 11, 8, 11, 4, 7, 8, 11, 11, 12, 8, 7, 11, 8, 11, 8, 7, 8, 7, 11, 8, 10, 9, 10, 11, 8, 9, 9, 9, 7, 11, 9, 12, 8, 11, 11, 11, 8, 7, 9, 7, 7, 11, 9, 12, 7, 9, 11, 10, 11, 8, 11, 11, 11, 9, 10, 11, 11, 8, 8, 11, 8, 7, 8, 8, 8, 8, 6, 9, 8, 8, 9, 8, 7, 12, 8, 8, 9, 10, 7, 11, 8, 8, 8], 'HBD': [1, 4, 4, 5, 2, 1, 1, 1, 0, 2, 4, 1, 5, 1, 1, 4, 2, 2, 1, 2, 2, 3, 4, 3, 5, 2, 4, 3, 1, 3, 2, 1, 4, 3, 2, 2, 3, 1, 1, 2, 2, 1, 2, 1, 1, 1, 3, 2, 1, 1, 0, 2, 1, 2, 2, 2, 1, 4, 2, 1, 2, 2, 3, 1, 2, 3, 1, 1, 2, 2, 0, 3, 1, 1, 2, 1, 2, 1, 1, 4, 1, 3, 3, 1, 1, 3, 3, 2, 4, 6, 1, 2, 2, 4, 4, 1, 2, 2, 4, 1, 2, 1, 4, 5, 5, 4, 2, 3, 3, 3, 1, 1, 2, 1, 1, 2, 2, 1, 2, 2, 1, 3, 3, 6, 3, 2, 2, 4, 2, 2, 1, 2, 4, 1, 2, 4, 4, 1, 6, 1, 5, 3, 1, 2, 3, 6, 4, 1, 2, 2, 4, 1, 2, 1, 6, 1, 2, 1, 1, 6, 2, 3, 3, 1, 1, 3, 6, 4, 1, 4, 2, 5, 3, 1, 3, 3, 2, 1, 3, 1, 2, 1, 2, 3, 2, 1, 2, 5, 3, 4, 3, 2, 3, 2, 3, 6, 2, 1, 1, 1, 2, 3, 2, 3, 2, 2, 1, 1, 3, 3, 3, 3, 3, 1, 1, 1, 2, 2, 3, 3, 3, 2, 4, 4, 1, 2, 3, 2, 3, 3, 4, 3, 6, 1, 2, 5, 2, 1, 1, 3, 3, 3, 3, 3, 1, 2, 2, 3, 3, 2, 3, 1, 2, 1, 3, 2, 3, 2, 2, 3, 2, 2, 1, 1, 1, 2, 1, 3, 1, 2, 2, 2, 3, 5, 3, 5, 3, 2, 4, 2, 1, 3, 6, 3, 2, 1, 4, 2, 1, 4, 4, 5, 1, 3, 3, 5, 5, 2, 2, 2, 3, 1, 2, 3, 2, 2, 2, 2, 2, 4, 1, 3, 3, 1, 1, 1, 2, 3, 3, 2, 3, 3, 3, 2, 1, 2, 1, 1, 1, 2, 2, 1, 2, 1, 2, 3, 2, 4, 3, 2, 2, 1, 2, 2, 2, 1, 3, 1, 1, 2, 2, 2, 2, 4, 1, 1, 3, 1, 1, 3, 3, 1, 2, 1, 4, 3, 4, 1, 2, 2, 2, 4, 6, 2, 2, 4, 3, 1, 3, 1, 3, 4, 2, 2, 2, 2, 4, 4, 3, 1, 2, 4, 4, 4, 1, 1, 3, 3, 2, 2, 2, 1, 2, 3, 4, 3, 1, 1, 2, 3, 0, 2, 1, 1, 2, 1, 4, 2, 1, 3, 3, 3, 1, 1, 3, 4, 4, 5, 3, 3, 6, 3, 4, 1, 4, 3, 6, 3, 3, 5, 1, 2, 3, 1, 3, 2, 1, 4, 4, 3, 2, 5, 3, 1, 2, 3, 3, 2, 1, 3, 5, 3, 4, 3, 4, 1, 1, 3, 3, 3, 1, 2, 2, 1, 3, 4, 2, 1, 3, 1, 3, 4, 1, 2, 1, 4, 3, 4, 3, 4, 4, 4, 2, 1, 4, 4, 3, 4, 2, 2, 3, 2, 4, 4, 1, 4, 3, 1, 1, 4, 2, 1, 1, 4, 6, 1, 4, 5, 4, 3, 1, 2, 4, 3, 6, 3, 3, 2, 3, 3, 3, 3, 3, 4, 1, 3, 1, 2, 3, 5, 4, 3, 4, 1, 1, 1, 1, 1, 1, 4, 3, 2, 4, 1, 1, 4, 4, 2, 1, 2, 4, 3, 3, 0, 2, 1, 3, 4, 5, 3, 4, 4, 1, 1, 2, 2, 3, 3, 3, 2, 3, 3, 1, 3, 2, 3, 3, 2, 2, 1, 1, 2, 2, 1, 2, 2, 1, 3, 2, 3, 3, 4, 2, 3, 4, 5, 3, 4, 4, 3, 2, 1, 1, 3, 1, 3, 2, 3, 2, 2, 1, 1, 2, 3, 3, 3, 5, 3, 3, 2, 1, 2, 2, 2, 1, 2, 1, 4, 2, 2, 3, 1, 4, 4, 2, 2, 3, 3, 4, 4, 3, 4, 3, 4, 2, 1, 1, 3, 3, 2, 3, 3, 4, 6, 3, 4, 3, 2, 3, 3, 1, 5, 1, 3, 4, 3, 1, 4, 4, 2, 3, 2, 2, 2, 4, 1, 0, 3, 2, 1, 4, 3, 3, 2, 1, 2, 2, 1, 1, 3, 3, 1, 2, 1, 1, 4, 3, 3, 1, 2, 2, 4, 3, 3, 4, 3, 1, 1, 3, 1, 1, 3, 2, 2, 3, 1, 2, 2, 4, 4, 3, 6, 4, 2, 3, 1, 2, 4, 2, 4, 3, 4, 2, 3, 1, 2, 2, 3, 4, 4, 2, 3, 3, 1, 1, 3, 3, 3, 1, 1, 2, 0, 3, 1, 1, 4, 2, 4, 3, 3, 1, 1, 2, 4, 4, 3, 3, 2, 2, 1, 3, 4, 3, 3, 1, 2, 2, 0, 4, 1, 1, 1, 1, 2, 2, 4, 4, 4, 1, 4, 3, 1, 2, 2, 3, 4, 1, 1, 1, 3, 2, 2, 1, 2, 5, 4, 5, 3, 3, 3, 4, 4, 1, 1, 2, 1, 3, 3, 2, 4, 4, 4, 2, 3, 3, 2, 2, 4, 5, 4, 1, 1, 2, 1, 3, 2, 3, 4, 4, 1, 1, 2, 1, 2, 4, 1, 1, 1, 1, 3, 1, 4, 3, 1, 3, 5, 3, 1, 1, 1, 2, 1, 1, 3, 4, 4, 4, 2, 3, 3, 1, 1, 1, 3, 1, 3, 3, 4, 2, 4, 4, 1, 3, 3, 2, 2, 1, 3, 5, 4, 3, 1, 2, 2, 1, 3, 3, 3, 2, 2, 4, 3, 2, 1, 2, 4, 3, 4, 4, 2, 2, 1, 2, 1, 2, 2, 2, 2, 1, 2, 2, 5, 3, 2, 4, 3, 1, 2, 2, 2, 3, 2, 3, 1, 4, 4, 1, 2, 1, 2, 2, 1, 4, 3, 3, 5, 2, 2, 1, 1, 2, 6, 4, 3, 5, 4, 3, 3, 3, 2, 2, 2, 3, 3, 3, 2, 1, 1, 3, 3, 3, 4, 3, 3, 2, 1, 2, 4, 1, 4, 3, 3, 3, 3, 1, 1, 4, 3, 3, 3, 1, 2, 3, 4, 4, 4, 3, 3, 1, 2, 1, 2, 2, 1, 2, 1, 4, 4, 4, 5, 4, 4, 3, 2, 1, 1, 3, 3, 4, 3, 3, 3, 3, 2, 1, 2, 2, 1, 4, 3, 4, 4, 3, 1, 1, 2, 2, 2, 1, 2, 2, 2, 3, 3, 4, 3, 1, 3, 1, 1, 4, 3, 3, 2, 4, 3, 3, 4, 3, 4, 1, 2, 1, 1, 4, 3, 5, 3, 5, 1, 1, 1, 2, 2, 2, 3, 1, 3, 3, 1, 1, 2, 2, 3, 4, 3, 4, 4, 3, 1, 1, 2, 1, 2, 3, 2, 2, 1, 1, 1, 1, 4, 4, 4, 4, 4, 1, 1, 2, 2, 3, 4, 1, 1, 3, 2, 2, 3, 4, 4, 4, 4, 2, 1, 1, 2, 4, 4, 2, 2, 1, 1, 4, 5, 3, 4, 4, 2, 1, 2, 2, 5, 2, 2, 3, 4, 2, 2, 4, 5, 3, 4, 3, 3, 3, 1, 1, 1, 2, 2, 1, 4, 4, 1, 2, 1, 3, 2, 4, 3, 3, 4, 4, 1, 4, 2, 2, 5, 3, 3, 3, 4, 3, 3, 2, 2, 2, 1, 1, 2, 1, 4, 4, 5, 3, 4, 3, 1, 3, 1, 3, 4, 2, 2, 2, 1, 4, 4, 2, 2, 1, 1, 3, 2, 3, 3, 2, 1, 1, 2, 2, 3, 2, 1, 4, 3, 3, 4, 1, 3, 3, 3, 1, 1, 2, 2, 4, 0, 3, 4, 1, 2, 2, 4, 4, 4, 3, 4, 3, 3, 3, 4, 1, 1, 1, 2, 1, 2, 3, 3, 3, 1, 3, 3, 3, 3, 4, 3, 4, 3, 3, 4, 1, 2, 2, 2, 2, 2, 2, 3, 1, 2, 1, 1, 1, 3, 3, 4, 2, 2, 3, 3, 2, 4, 3, 4, 5, 4, 4, 3, 1, 1, 1, 2, 1, 2, 4, 3, 3, 3, 3, 2, 2, 2, 1, 3, 4, 3, 4, 3, 4, 2, 3, 2, 4, 3, 1, 2, 2, 4, 3, 4, 5, 4, 4, 4, 4, 4, 3, 3, 1, 2, 2, 1, 1, 4, 4, 3, 3, 4, 3, 4, 3, 4, 4, 3, 5, 4, 4, 3, 2, 1, 1, 1, 3, 3, 2, 2, 3, 2, 1, 2, 2, 4, 5, 5, 4, 3, 4, 4, 4, 3, 2, 1, 1, 1, 2, 1, 2, 4, 3, 3, 4, 3, 3, 2, 2, 1, 4, 3, 4, 4, 4, 4, 4, 3, 4, 4, 3, 1, 4, 2, 3, 1, 1, 2, 2, 2, 2, 4, 5, 1, 2, 4, 1, 3, 4, 4, 5, 3, 4, 4, 4, 4, 2, 2, 2, 2, 1, 2, 3, 1, 1, 3, 3, 1, 3, 4, 3, 1, 3, 3, 6, 3, 3, 4, 3, 3, 3, 4, 4, 4, 4, 4, 4, 4, 2, 5, 1, 2, 2, 3, 1, 1, 3, 3, 3, 3, 3, 2, 3, 4, 5, 4, 4, 3, 3, 3, 4, 4, 3, 3, 3, 4, 3, 3, 3, 3, 3, 4, 3, 2, 4, 4, 4, 4, 4, 3, 4, 3, 3, 1, 1, 2, 1, 1, 1, 3, 2, 3, 3, 1, 4, 4, 3, 5, 2, 3, 2, 3, 1, 4, 4, 3, 3, 4, 4, 4, 3, 4, 3, 4, 4, 1, 1, 1, 3, 1, 2, 3, 3, 2, 1, 2, 5, 4, 3, 2, 1, 4, 2, 2, 3, 4, 4, 3, 4, 4, 3, 4, 4, 4, 3, 5, 4, 1, 2, 1, 1, 2, 2, 1, 1, 4, 4, 1, 2, 4, 4, 4, 2, 3, 3, 3, 2, 2, 2, 2, 1, 1, 4, 4, 5, 4, 3, 5, 3, 4, 4, 4, 4, 3, 4, 2, 1, 1, 2, 1, 2, 3, 2, 3, 1, 2, 4, 1, 1, 2, 1, 1, 1, 1, 4, 4, 3, 3, 3, 3, 4, 4, 4, 5, 4, 5, 4, 3, 4, 5, 3, 4, 4, 4, 3, 1, 2, 1, 1, 1, 1, 1, 1, 1, 1, 1, 4, 1, 1, 1, 1, 3, 1, 1, 1, 3, 1, 1, 3, 2, 2, 1, 1, 3, 2, 2, 2, 2, 2, 1, 2, 1, 1, 1, 1, 4, 2, 2, 4, 4, 2, 1, 2, 3, 1, 1, 1, 4, 3, 3, 4, 3, 3, 3, 4, 5, 3, 3, 3, 3, 3, 4, 3, 3, 3, 3, 3, 3, 3, 3, 4, 3, 3, 3, 4, 4, 5, 4, 4, 1, 3, 5, 4, 3, 2, 3, 1, 5, 4, 2, 2, 4, 2, 2, 2, 1, 1, 1, 2, 2, 1, 1, 1, 2, 1, 4, 2, 1, 3, 3, 2, 2, 1, 1, 1, 1, 2, 1, 2, 1, 4, 2, 2, 2, 1, 2, 1, 2, 1, 2, 2, 1, 3, 1, 1, 2, 3, 1, 1, 2, 2, 2, 1, 1, 2, 2, 1, 2, 2, 3, 2, 2, 2, 2, 2, 1, 2, 3, 4, 2, 1, 2, 3, 2, 5, 2, 2, 2, 2, 3, 2, 2, 2, 2, 2, 2, 2, 1, 2, 2, 1, 2, 3, 1, 3, 3, 2, 2, 2, 3, 2, 2, 2, 2, 2, 2, 2, 3, 2, 2, 2, 4, 2, 2, 2, 2, 2, 2, 2, 2, 4, 2, 2, 2, 2, 2, 2, 2, 2, 2, 2, 2, 2, 2, 4, 2, 3, 3, 4, 2, 2, 2, 2, 2], 'CSP3': [0.0, 0.08333333333333333, 0.5294117647058824, 0.5, 0.0625, 0.16666666666666666, 0.0, 0.15789473684210525, 0.13636363636363635, 0.2727272727272727, 0.17647058823529413, 0.06666666666666667, 0.5294117647058824, 0.058823529411764705, 0.19230769230769232, 0.34615384615384615, 0.3684210526315789, 0.4, 0.043478260869565216, 0.3684210526315789, 0.0, 0.3333333333333333, 0.13333333333333333, 0.3684210526315789, 0.3157894736842105, 0.3333333333333333, 0.5294117647058824, 0.3684210526315789, 0.4666666666666667, 0.08695652173913043, 0.0, 0.17647058823529413, 0.38095238095238093, 0.11538461538461539, 0.42857142857142855, 0.3684210526315789, 0.20833333333333334, 0.1, 0.05263157894736842, 0.09523809523809523, 0.09523809523809523, 0.21739130434782608, 0.1, 0.25, 0.3333333333333333, 0.29411764705882354, 0.35294117647058826, 0.3888888888888889, 0.28, 0.28, 0.25, 0.25, 0.36666666666666664, 0.3333333333333333, 0.28, 0.15, 0.15, 0.08, 0.4, 0.25, 0.3, 0.1, 0.18181818181818182, 0.2, 0.6, 0.058823529411764705, 0.2962962962962963, 0.14285714285714285, 0.17857142857142858, 0.3333333333333333, 0.19047619047619047, 0.2631578947368421, 0.4090909090909091, 0.36666666666666664, 0.3333333333333333, 0.10526315789473684, 0.22727272727272727, 0.0, 0.4666666666666667, 0.2631578947368421, 0.42857142857142855, 0.05, 0.4, 0.34615384615384615, 0.4090909090909091, 0.05, 0.11764705882352941, 0.4, 0.17647058823529413, 0.13333333333333333, 0.05, 0.5, 0.21428571428571427, 0.5, 0.5294117647058824, 0.6842105263157895, 0.125, 0.14285714285714285, 0.0, 0.29411764705882354, 0.5625, 0.29411764705882354, 0.5, 0.4666666666666667, 0.0, 0.5, 0.3333333333333333, 0.16666666666666666, 0.2647058823529412, 0.3684210526315789, 0.2608695652173913, 0.1, 0.34615384615384615, 0.21052631578947367, 0.3181818181818182, 0.07692307692307693, 0.28, 0.3870967741935484, 0.28, 0.28, 0.25, 0.32142857142857145, 0.4, 0.3333333333333333, 0.3333333333333333, 0.05555555555555555, 0.08333333333333333, 0.125, 0.3333333333333333, 0.4, 0.10526315789473684, 0.42857142857142855, 0.17647058823529413, 0.3333333333333333, 0.2608695652173913, 0.11764705882352941, 0.17647058823529413, 0.14285714285714285, 0.125, 0.25, 0.0, 0.11764705882352941, 0.2727272727272727, 0.23529411764705882, 0.4, 0.38461538461538464, 0.08, 0.32142857142857145, 0.07692307692307693, 0.07692307692307693, 0.0, 0.18181818181818182, 0.6111111111111112, 0.15, 0.2857142857142857, 0.3333333333333333, 0.3076923076923077, 0.35, 0.5, 0.3157894736842105, 0.13636363636363635, 0.11764705882352941, 0.3333333333333333, 0.3125, 0.25, 0.11538461538461539, 0.38461538461538464, 0.14285714285714285, 0.05, 0.16666666666666666, 0.24, 0.2857142857142857, 0.14814814814814814, 0.37037037037037035, 0.3548387096774194, 0.3684210526315789, 0.25, 0.4, 0.0, 0.19047619047619047, 0.5882352941176471, 0.36666666666666664, 0.0, 0.36, 0.28, 0.25, 0.25, 0.125, 0.38461538461538464, 0.11538461538461539, 0.17857142857142858, 0.17647058823529413, 0.14814814814814814, 0.14285714285714285, 0.0625, 0.2727272727272727, 0.2777777777777778, 0.1, 0.3076923076923077, 0.36666666666666664, 0.37037037037037035, 0.56, 0.2608695652173913, 0.36363636363636365, 0.3, 0.625, 0.16666666666666666, 0.32142857142857145, 0.4, 0.09523809523809523, 0.05, 0.47368421052631576, 0.6, 0.0, 0.3448275862068966, 0.2903225806451613, 0.47058823529411764, 0.3333333333333333, 0.07142857142857142, 0.2692307692307692, 0.32142857142857145, 0.15, 0.20588235294117646, 0.5217391304347826, 0.05263157894736842, 0.2777777777777778, 0.3333333333333333, 0.10526315789473684, 0.16, 0.0, 0.35294117647058826, 0.06666666666666667, 0.16666666666666666, 0.6, 0.07142857142857142, 0.25, 0.6, 0.2916666666666667, 0.2727272727272727, 0.047619047619047616, 0.0625, 0.5769230769230769, 0.2727272727272727, 0.0, 0.0, 0.17647058823529413, 0.1111111111111111, 0.16666666666666666, 0.058823529411764705, 0.42857142857142855, 0.05, 0.391304347826087, 0.42857142857142855, 0.14285714285714285, 0.4375, 0.28, 0.3548387096774194, 0.5714285714285714, 0.10526315789473684, 0.42857142857142855, 0.1875, 0.1111111111111111, 0.6, 0.23076923076923078, 0.42857142857142855, 0.4090909090909091, 0.13043478260869565, 0.05, 0.45, 0.4090909090909091, 0.4, 0.29411764705882354, 0.3125, 0.0625, 0.3448275862068966, 0.0625, 0.1111111111111111, 0.21052631578947367, 0.5454545454545454, 0.35, 0.35714285714285715, 0.3333333333333333, 0.23809523809523808, 0.0, 0.42857142857142855, 0.42857142857142855, 0.5769230769230769, 0.2608695652173913, 0.3448275862068966, 0.4, 0.3, 0.4090909090909091, 0.42857142857142855, 0.11764705882352941, 0.3448275862068966, 0.0, 0.0, 0.6470588235294118, 0.28, 0.0, 0.058823529411764705, 0.32142857142857145, 0.15, 0.32142857142857145, 0.3157894736842105, 0.2777777777777778, 0.6, 0.2916666666666667, 0.14285714285714285, 0.47058823529411764, 0.3157894736842105, 0.42857142857142855, 0.5217391304347826, 0.3333333333333333, 0.3333333333333333, 0.29411764705882354, 0.29411764705882354, 0.3333333333333333, 0.0, 0.35, 0.2857142857142857, 0.2962962962962963, 0.36666666666666664, 0.6, 0.16666666666666666, 0.45454545454545453, 0.36666666666666664, 0.3448275862068966, 0.32142857142857145, 0.4, 0.4444444444444444, 0.14285714285714285, 0.09523809523809523, 0.3448275862068966, 0.38461538461538464, 0.08333333333333333, 0.4782608695652174, 0.32, 0.11538461538461539, 0.17647058823529413, 0.2608695652173913, 0.28, 0.27586206896551724, 0.15789473684210525, 0.5333333333333333, 0.2777777777777778, 0.45454545454545453, 0.38095238095238093, 0.43478260869565216, 0.1, 0.08695652173913043, 0.3076923076923077, 0.13043478260869565, 0.16666666666666666, 0.2222222222222222, 0.10526315789473684, 0.42857142857142855, 0.4782608695652174, 0.4, 0.5, 0.4782608695652174, 0.3333333333333333, 0.38095238095238093, 0.6470588235294118, 0.3, 0.5217391304347826, 0.45454545454545453, 0.45454545454545453, 0.625, 0.5333333333333333, 0.3333333333333333, 0.5, 0.4857142857142857, 0.23529411764705882, 0.28, 0.42857142857142855, 0.058823529411764705, 0.29411764705882354, 0.35714285714285715, 0.43478260869565216, 0.2962962962962963, 0.125, 0.35714285714285715, 0.14285714285714285, 0.5384615384615384, 0.2608695652173913, 0.4666666666666667, 0.25, 0.1111111111111111, 0.6470588235294118, 0.3684210526315789, 0.3157894736842105, 0.0625, 0.5217391304347826, 0.3448275862068966, 0.32142857142857145, 0.45, 0.5217391304347826, 0.6111111111111112, 0.11538461538461539, 0.15789473684210525, 0.3157894736842105, 0.5, 0.20833333333333334, 0.5, 0.5217391304347826, 0.17647058823529413, 0.14285714285714285, 0.15789473684210525, 0.11764705882352941, 0.3142857142857143, 0.25, 0.36666666666666664, 0.17391304347826086, 0.3076923076923077, 0.05263157894736842, 0.35294117647058826, 0.5882352941176471, 0.3448275862068966, 0.2727272727272727, 0.0, 0.4, 0.45454545454545453, 0.2608695652173913, 0.09090909090909091, 0.4782608695652174, 0.42857142857142855, 0.0625, 0.058823529411764705, 0.42105263157894735, 0.30434782608695654, 0.2962962962962963, 0.47619047619047616, 0.14285714285714285, 0.07142857142857142, 0.2222222222222222, 0.25, 0.5217391304347826, 0.2222222222222222, 0.5, 0.17647058823529413, 0.43478260869565216, 0.0, 0.05, 0.047619047619047616, 0.3076923076923077, 0.3448275862068966, 0.5217391304347826, 0.21052631578947367, 0.058823529411764705, 0.28, 0.5769230769230769, 0.5, 0.4090909090909091, 0.28, 0.4444444444444444, 0.2962962962962963, 0.1875, 0.3333333333333333, 0.38461538461538464, 0.3888888888888889, 0.2857142857142857, 0.045454545454545456, 0.5217391304347826, 0.5217391304347826, 0.058823529411764705, 0.3783783783783784, 0.5416666666666666, 0.46153846153846156, 0.42105263157894735, 0.2916666666666667, 0.24, 0.4666666666666667, 0.4782608695652174, 0.0, 0.3684210526315789, 0.0, 0.3448275862068966, 0.42857142857142855, 0.5, 0.045454545454545456, 0.56, 0.625, 0.3333333333333333, 0.3333333333333333, 0.4, 0.4090909090909091, 0.0625, 0.35294117647058826, 0.5, 0.5, 0.1875, 0.05, 0.32142857142857145, 0.25, 0.0625, 0.42857142857142855, 0.5217391304347826, 0.28, 0.5263157894736842, 0.05263157894736842, 0.2, 0.5454545454545454, 0.5217391304347826, 0.2962962962962963, 0.375, 0.4090909090909091, 0.36666666666666664, 0.32142857142857145, 0.47619047619047616, 0.07692307692307693, 0.19047619047619047, 0.047619047619047616, 0.42857142857142855, 0.3181818181818182, 0.10526315789473684, 0.35294117647058826, 0.0625, 0.47619047619047616, 0.125, 0.05263157894736842, 0.25, 0.4, 0.4, 0.2857142857142857, 0.35714285714285715, 0.42105263157894735, 0.6, 0.5, 0.058823529411764705, 0.058823529411764705, 0.5, 0.42105263157894735, 0.5454545454545454, 0.10526315789473684, 0.0, 0.14285714285714285, 0.5333333333333333, 0.10526315789473684, 0.4666666666666667, 0.2916666666666667, 0.5769230769230769, 0.5, 0.13333333333333333, 0.2631578947368421, 0.35714285714285715, 0.15384615384615385, 0.6470588235294118, 0.3448275862068966, 0.5, 0.0, 0.0, 0.2857142857142857, 0.28, 0.35714285714285715, 0.3225806451612903, 0.2, 0.2, 0.4583333333333333, 0.391304347826087, 0.08695652173913043, 0.058823529411764705, 0.375, 0.15789473684210525, 0.15789473684210525, 0.2222222222222222, 0.13636363636363635, 0.42857142857142855, 0.16666666666666666, 0.5, 0.5217391304347826, 0.5454545454545454, 0.13333333333333333, 0.1875, 0.3076923076923077, 0.3333333333333333, 0.24, 0.2727272727272727, 0.0, 0.2727272727272727, 0.05263157894736842, 0.45, 0.2222222222222222, 0.38095238095238093, 0.42857142857142855, 0.058823529411764705, 0.5238095238095238, 0.20833333333333334, 0.11764705882352941, 0.23529411764705882, 0.1875, 0.13333333333333333, 0.4, 0.34615384615384615, 0.28, 0.5555555555555556, 0.05263157894736842, 0.5217391304347826, 0.2916666666666667, 0.1724137931034483, 0.11764705882352941, 0.2, 0.25, 0.4666666666666667, 0.4666666666666667, 0.4666666666666667, 0.42857142857142855, 0.5, 0.2727272727272727, 0.13333333333333333, 0.13333333333333333, 0.75, 0.7, 0.5454545454545454, 0.25, 0.1935483870967742, 0.5555555555555556, 0.4117647058823529, 0.21428571428571427, 0.23809523809523808, 0.13333333333333333, 0.1111111111111111, 0.5294117647058824, 0.4, 0.45, 0.3888888888888889, 0.2857142857142857, 0.35294117647058826, 0.5416666666666666, 0.2, 0.13636363636363635, 0.19047619047619047, 0.125, 0.17647058823529413, 0.7083333333333334, 0.35714285714285715, 0.32142857142857145, 0.16666666666666666, 0.3333333333333333, 0.3076923076923077, 0.2, 0.23809523809523808, 0.47619047619047616, 0.3684210526315789, 0.35294117647058826, 0.11764705882352941, 0.09090909090909091, 0.4782608695652174, 0.047619047619047616, 0.4666666666666667, 0.45, 0.16666666666666666, 0.4444444444444444, 0.25, 0.43478260869565216, 0.7, 0.21739130434782608, 0.5, 0.3076923076923077, 0.46153846153846156, 0.1111111111111111, 0.05555555555555555, 0.5217391304347826, 0.2857142857142857, 0.47619047619047616, 0.5, 0.2, 0.2, 0.3684210526315789, 0.47368421052631576, 0.25, 0.3157894736842105, 0.0, 0.46153846153846156, 0.5, 0.3125, 0.14285714285714285, 0.5555555555555556, 0.5, 0.125, 0.6842105263157895, 0.35714285714285715, 0.5185185185185185, 0.38461538461538464, 0.5, 0.14285714285714285, 0.41935483870967744, 0.3, 0.2857142857142857, 0.13636363636363635, 0.42857142857142855, 0.35294117647058826, 0.058823529411764705, 0.2, 0.13333333333333333, 0.23529411764705882, 0.7272727272727273, 0.7142857142857143, 0.68, 0.42857142857142855, 0.45, 0.23529411764705882, 0.21052631578947367, 0.75, 0.46153846153846156, 0.3888888888888889, 0.3888888888888889, 0.47619047619047616, 0.2857142857142857, 0.6666666666666666, 0.4666666666666667, 0.5, 0.47619047619047616, 0.2608695652173913, 0.5, 0.3888888888888889, 0.6, 0.7, 0.6666666666666666, 0.3333333333333333, 0.3076923076923077, 0.3333333333333333, 0.5, 0.05555555555555555, 0.5217391304347826, 0.14285714285714285, 0.23809523809523808, 0.29411764705882354, 0.5217391304347826, 0.3, 0.45, 0.2857142857142857, 0.4117647058823529, 0.27586206896551724, 0.35294117647058826, 0.7083333333333334, 0.42857142857142855, 0.47619047619047616, 0.28, 0.5555555555555556, 0.058823529411764705, 0.35294117647058826, 0.25925925925925924, 0.1875, 0.13636363636363635, 0.19047619047619047, 0.32, 0.5333333333333333, 0.5416666666666666, 0.3888888888888889, 0.4782608695652174, 0.35294117647058826, 0.375, 0.65, 0.3448275862068966, 0.5333333333333333, 0.5, 0.5, 0.3076923076923077, 0.35714285714285715, 0.2727272727272727, 0.7272727272727273, 0.16666666666666666, 0.23529411764705882, 0.7, 0.0625, 0.5517241379310345, 0.45, 0.42105263157894735, 0.35, 0.05263157894736842, 0.7142857142857143, 0.3076923076923077, 0.0625, 0.5217391304347826, 0.47368421052631576, 0.4, 0.2777777777777778, 0.2727272727272727, 0.3333333333333333, 0.1111111111111111, 0.35294117647058826, 0.41379310344827586, 0.47619047619047616, 0.65, 0.7272727272727273, 0.05555555555555555, 0.23809523809523808, 0.5217391304347826, 0.1875, 0.3333333333333333, 0.6521739130434783, 0.52, 0.3076923076923077, 0.28, 0.11764705882352941, 0.4117647058823529, 0.5217391304347826, 0.15789473684210525, 0.5, 0.0, 0.5925925925925926, 0.6818181818181818, 0.7272727272727273, 0.5217391304347826, 0.5, 0.4, 0.13636363636363635, 0.11764705882352941, 0.6818181818181818, 0.65, 0.2857142857142857, 0.3103448275862069, 0.28, 0.0, 0.5, 0.5, 0.5217391304347826, 0.0, 0.5, 0.5217391304347826, 0.3888888888888889, 0.75, 0.3333333333333333, 0.2916666666666667, 0.3448275862068966, 0.35, 0.35294117647058826, 0.2727272727272727, 0.45, 0.4782608695652174, 0.2222222222222222, 0.7142857142857143, 0.42105263157894735, 0.06666666666666667, 0.23809523809523808, 0.28, 0.4782608695652174, 0.16666666666666666, 0.30434782608695654, 0.14285714285714285, 0.08, 0.2727272727272727, 0.7, 0.7272727272727273, 0.28, 0.5882352941176471, 0.3888888888888889, 0.2916666666666667, 0.7, 0.7391304347826086, 0.7142857142857143, 0.32142857142857145, 0.10526315789473684, 0.47619047619047616, 0.4166666666666667, 0.11764705882352941, 0.20833333333333334, 0.25, 0.25806451612903225, 0.32142857142857145, 0.4444444444444444, 0.13333333333333333, 0.65, 0.5263157894736842, 0.0625, 0.47619047619047616, 0.1111111111111111, 0.1111111111111111, 0.7272727272727273, 0.7142857142857143, 0.5416666666666666, 0.3333333333333333, 0.2, 0.42105263157894735, 0.3684210526315789, 0.42105263157894735, 0.30434782608695654, 0.42105263157894735, 0.2, 0.6818181818181818, 0.7142857142857143, 0.5416666666666666, 0.45454545454545453, 0.4666666666666667, 0.2, 0.5238095238095238, 0.5416666666666666, 0.1111111111111111, 0.3684210526315789, 0.25, 0.1111111111111111, 0.35294117647058826, 0.3, 0.6956521739130435, 0.28125, 0.32142857142857145, 0.46153846153846156, 0.5, 0.5, 0.42105263157894735, 0.09523809523809523, 0.5384615384615384, 0.625, 0.2962962962962963, 0.46153846153846156, 0.5625, 0.5, 0.2692307692307692, 0.07692307692307693, 0.5, 0.7142857142857143, 0.4, 0.3448275862068966, 0.28, 0.2857142857142857, 0.42105263157894735, 0.3181818181818182, 0.35294117647058826, 0.6666666666666666, 0.6666666666666666, 0.6666666666666666, 0.3333333333333333, 0.45454545454545453, 0.5, 0.25, 0.3333333333333333, 0.21739130434782608, 0.25, 0.25, 0.2727272727272727, 0.21052631578947367, 0.47619047619047616, 0.7, 0.5217391304347826, 0.4583333333333333, 0.6842105263157895, 0.5555555555555556, 0.21739130434782608, 0.15, 0.5333333333333333, 0.42857142857142855, 0.5263157894736842, 0.058823529411764705, 0.11764705882352941, 0.5, 0.36363636363636365, 0.7, 0.6842105263157895, 0.34615384615384615, 0.21739130434782608, 0.2962962962962963, 0.4666666666666667, 0.35294117647058826, 0.35294117647058826, 0.47619047619047616, 0.15384615384615385, 0.7, 0.5, 0.7391304347826086, 0.34615384615384615, 0.2631578947368421, 0.2777777777777778, 0.15789473684210525, 0.47619047619047616, 0.42105263157894735, 0.45, 0.35294117647058826, 0.6666666666666666, 0.46875, 0.41379310344827586, 0.3076923076923077, 0.3548387096774194, 0.5, 0.47619047619047616, 0.6842105263157895, 0.6470588235294118, 0.2962962962962963, 0.5217391304347826, 0.375, 0.45, 0.56, 0.4117647058823529, 0.3888888888888889, 0.2608695652173913, 0.25, 0.3333333333333333, 0.5217391304347826, 0.391304347826087, 0.4, 0.5416666666666666, 0.4117647058823529, 0.47368421052631576, 0.3888888888888889, 0.5, 0.32142857142857145, 0.56, 0.5454545454545454, 0.35294117647058826, 0.3333333333333333, 0.6666666666666666, 0.2727272727272727, 0.34615384615384615, 0.3888888888888889, 0.5217391304347826, 0.47619047619047616, 0.058823529411764705, 0.375, 0.7083333333333334, 0.5217391304347826, 0.5, 0.3333333333333333, 0.23529411764705882, 0.6666666666666666, 0.6470588235294118, 0.1111111111111111, 0.5217391304347826, 0.42105263157894735, 0.11764705882352941, 0.35294117647058826, 0.47619047619047616, 0.3888888888888889, 0.47619047619047616, 0.6842105263157895, 0.3076923076923077, 0.3448275862068966, 0.05263157894736842, 0.5217391304347826, 0.42105263157894735, 0.35294117647058826, 0.5217391304347826, 0.23809523809523808, 0.5, 0.17647058823529413, 0.56, 0.32, 0.25, 0.5, 0.4117647058823529, 0.47619047619047616, 0.4444444444444444, 0.23076923076923078, 0.6842105263157895, 0.7, 0.56, 0.631578947368421, 0.7142857142857143, 0.0625, 0.25925925925925924, 0.3076923076923077, 0.10526315789473684, 0.5333333333333333, 0.42105263157894735, 0.5, 0.5217391304347826, 0.6842105263157895, 0.5384615384615384, 0.20689655172413793, 0.25, 0.28, 0.15789473684210525, 0.45, 0.2631578947368421, 0.2727272727272727, 0.5, 0.4, 0.5, 0.2916666666666667, 0.375, 0.45, 0.2962962962962963, 0.25, 0.2727272727272727, 0.42857142857142855, 0.4666666666666667, 0.42857142857142855, 0.3157894736842105, 0.47619047619047616, 0.45, 0.7083333333333334, 0.6470588235294118, 0.5652173913043478, 0.25, 0.3076923076923077, 0.28, 0.05263157894736842, 0.08333333333333333, 0.47619047619047616, 0.5217391304347826, 0.05, 0.09090909090909091, 0.2727272727272727, 0.3235294117647059, 0.42857142857142855, 0.3888888888888889, 0.35294117647058826, 0.3888888888888889, 0.47619047619047616, 0.4, 0.65, 0.3333333333333333, 0.21739130434782608, 0.3333333333333333, 0.15, 0.125, 0.23529411764705882, 0.3157894736842105, 0.6842105263157895, 0.25, 0.3333333333333333, 0.24, 0.2222222222222222, 0.56, 0.3888888888888889, 0.35294117647058826, 0.5, 0.14285714285714285, 0.6842105263157895, 0.52, 0.28, 0.47368421052631576, 0.35294117647058826, 0.3076923076923077, 0.19047619047619047, 0.35, 0.3888888888888889, 0.23809523809523808, 0.5, 0.3157894736842105, 0.5217391304347826, 0.45, 0.3888888888888889, 0.6842105263157895, 0.56, 0.3076923076923077, 0.15, 0.5, 0.56, 0.21052631578947367, 0.23809523809523808, 0.7, 0.25925925925925924, 0.5416666666666666, 0.0625, 0.39285714285714285, 0.47619047619047616, 0.47619047619047616, 0.4166666666666667, 0.48, 0.25, 0.4666666666666667, 0.5, 0.4166666666666667, 0.2, 0.47619047619047616, 0.5217391304347826, 0.4666666666666667, 0.4666666666666667, 0.5, 0.5217391304347826, 0.42105263157894735, 0.45, 0.47619047619047616, 0.3, 0.5217391304347826, 0.7, 0.5238095238095238, 0.5217391304347826, 0.3076923076923077, 0.5333333333333333, 0.1111111111111111, 0.3888888888888889, 0.3888888888888889, 0.25, 0.2727272727272727, 0.6666666666666666, 0.7, 0.28, 0.47619047619047616, 0.25, 0.35294117647058826, 0.5416666666666666, 0.47619047619047616, 0.2692307692307692, 0.5217391304347826, 0.43333333333333335, 0.32, 0.11764705882352941, 0.375, 0.3, 0.45, 0.47619047619047616, 0.5, 0.65, 0.2727272727272727, 0.3888888888888889, 0.7, 0.6470588235294118, 0.21739130434782608, 0.10526315789473684, 0.15384615384615385, 0.35294117647058826, 0.5416666666666666, 0.0625, 0.47619047619047616, 0.375, 0.5217391304347826, 0.6363636363636364, 0.3888888888888889, 0.17391304347826086, 0.4444444444444444, 0.5217391304347826, 0.19230769230769232, 0.2727272727272727, 0.25, 0.30434782608695654, 0.42857142857142855, 0.47619047619047616, 0.631578947368421, 0.6842105263157895, 0.28, 0.32142857142857145, 0.6666666666666666, 0.6666666666666666, 0.45454545454545453, 0.3888888888888889, 0.3684210526315789, 0.5833333333333334, 0.5, 0.7, 0.34375, 0.25806451612903225, 0.45161290322580644, 0.3076923076923077, 0.2631578947368421, 0.20833333333333334, 0.42857142857142855, 0.47619047619047616, 0.08, 0.45, 0.5, 0.3888888888888889, 0.52, 0.5384615384615384, 0.32, 0.19047619047619047, 0.5, 0.23809523809523808, 0.4, 0.47619047619047616, 0.3076923076923077, 0.4666666666666667, 0.375, 0.2631578947368421, 0.5217391304347826, 0.4117647058823529, 0.5, 0.3888888888888889, 0.5, 0.3888888888888889, 0.42105263157894735, 0.4117647058823529, 0.6666666666666666, 0.5384615384615384, 0.3103448275862069, 0.20833333333333334, 0.7272727272727273, 0.09523809523809523, 0.42857142857142855, 0.5, 0.32142857142857145, 0.09090909090909091, 0.05555555555555555, 0.5882352941176471, 0.4666666666666667, 0.5416666666666666, 0.3888888888888889, 0.5, 0.4444444444444444, 0.058823529411764705, 0.3, 0.3157894736842105, 0.4090909090909091, 0.25, 0.36, 0.6818181818181818, 0.5, 0.2727272727272727, 0.46875, 0.1724137931034483, 0.1, 0.3076923076923077, 0.3076923076923077, 0.24, 0.32142857142857145, 0.35, 0.5416666666666666, 0.47368421052631576, 0.6842105263157895, 0.28, 0.45, 0.5263157894736842, 0.2727272727272727, 0.3, 0.3, 0.5217391304347826, 0.47619047619047616, 0.375, 0.42105263157894735, 0.5217391304347826, 0.56, 0.3181818181818182, 0.22727272727272727, 0.5416666666666666, 0.2692307692307692, 0.28, 0.35294117647058826, 0.47619047619047616, 0.2692307692307692, 0.5263157894736842, 0.45, 0.38461538461538464, 0.1, 0.2608695652173913, 0.3333333333333333, 0.4117647058823529, 0.5, 0.3888888888888889, 0.5, 0.45, 0.25, 0.28, 0.125, 0.17647058823529413, 0.2727272727272727, 0.55, 0.15384615384615385, 0.7, 0.48484848484848486, 0.2777777777777778, 0.16666666666666666, 0.35294117647058826, 0.0, 0.56, 0.3684210526315789, 0.5217391304347826, 0.47619047619047616, 0.5, 0.1875, 0.6842105263157895, 0.28, 0.4782608695652174, 0.2916666666666667, 0.2, 0.2962962962962963, 0.47368421052631576, 0.5, 0.17391304347826086, 0.5217391304347826, 0.5, 0.35294117647058826, 0.3888888888888889, 0.3157894736842105, 0.5416666666666666, 0.45, 0.35294117647058826, 0.45, 0.45, 0.5217391304347826, 0.3888888888888889, 0.5, 0.32142857142857145, 0.24, 0.2962962962962963, 0.3888888888888889, 0.2631578947368421, 0.15789473684210525, 0.6111111111111112, 0.1724137931034483, 0.35294117647058826, 0.3684210526315789, 0.3333333333333333, 0.42857142857142855, 0.45, 0.11764705882352941, 0.3888888888888889, 0.4117647058823529, 0.3888888888888889, 0.5217391304347826, 0.45, 0.45, 0.1111111111111111, 0.5909090909090909, 0.1, 0.3333333333333333, 0.4782608695652174, 0.25, 0.3181818181818182, 0.25, 0.3888888888888889, 0.5, 0.3888888888888889, 0.2727272727272727, 0.3888888888888889, 0.6956521739130435, 0.43333333333333335, 0.25, 0.3076923076923077, 0.05555555555555555, 0.3333333333333333, 0.4, 0.5, 0.32, 0.1935483870967742, 0.5217391304347826, 0.45454545454545453, 0.30434782608695654, 0.4, 0.5, 0.21739130434782608, 0.56, 0.28125, 0.6666666666666666, 0.21739130434782608, 0.2962962962962963, 0.15789473684210525, 0.6842105263157895, 0.25, 0.21739130434782608, 0.3888888888888889, 0.3, 0.1111111111111111, 0.6842105263157895, 0.17857142857142858, 0.3076923076923077, 0.3888888888888889, 0.11764705882352941, 0.47619047619047616, 0.0625, 0.5, 0.3888888888888889, 0.5217391304347826, 0.4, 0.5, 0.65, 0.21739130434782608, 0.25, 0.52, 0.3333333333333333, 0.25, 0.058823529411764705, 0.3333333333333333, 0.4444444444444444, 0.5, 0.45, 0.2, 0.3142857142857143, 0.22580645161290322, 0.25, 0.3333333333333333, 0.20833333333333334, 0.27586206896551724, 0.13043478260869565, 0.17391304347826086, 0.25, 0.3333333333333333, 0.2, 0.21739130434782608, 0.5, 0.3684210526315789, 0.5, 0.47619047619047616, 0.32, 0.3888888888888889, 0.5217391304347826, 0.56, 0.7, 0.2972972972972973, 0.2962962962962963, 0.28, 0.14285714285714285, 0.17857142857142858, 0.25, 0.5217391304347826, 0.42105263157894735, 0.47619047619047616, 0.38461538461538464, 0.3684210526315789, 0.3684210526315789, 0.25, 0.2727272727272727, 0.08, 0.16666666666666666, 0.23076923076923078, 0.16666666666666666, 0.23076923076923078, 0.2, 0.1935483870967742, 0.2, 0.23076923076923078, 0.2, 0.23076923076923078, 0.22727272727272727, 0.21739130434782608, 0.28, 0.3793103448275862, 0.42857142857142855, 0.36, 0.32142857142857145, 0.22727272727272727, 0.16, 0.5, 0.45, 0.45, 0.35294117647058826, 0.47619047619047616, 0.3157894736842105, 0.5, 0.56, 0.42105263157894735, 0.47368421052631576, 0.3076923076923077, 0.5454545454545454, 0.20833333333333334, 0.21739130434782608, 0.19230769230769232, 0.19047619047619047, 0.23076923076923078, 0.30303030303030304, 0.3888888888888889, 0.5, 0.13636363636363635, 0.44, 0.44, 0.29411764705882354, 0.5555555555555556, 0.2, 0.3888888888888889, 0.3125, 0.3235294117647059, 0.3448275862068966, 0.3888888888888889, 0.42105263157894735, 0.47619047619047616, 0.3888888888888889, 0.3888888888888889, 0.5217391304347826, 0.42105263157894735, 0.36666666666666664, 0.5416666666666666, 0.5416666666666666, 0.45, 0.3888888888888889, 0.25, 0.3076923076923077, 0.5294117647058824, 0.2692307692307692, 0.32142857142857145, 0.4666666666666667, 0.23076923076923078, 0.32142857142857145, 0.30434782608695654, 0.7142857142857143, 0.2222222222222222, 0.47619047619047616, 0.45, 0.21052631578947367, 0.23529411764705882, 0.1111111111111111, 0.3684210526315789, 0.3684210526315789, 0.3684210526315789, 0.46875, 0.47619047619047616, 0.4444444444444444, 0.42105263157894735, 0.5416666666666666, 0.5, 0.5, 0.30434782608695654, 0.47619047619047616, 0.2916666666666667, 0.47619047619047616, 0.45, 0.5, 0.2857142857142857, 0.28, 0.28, 0.32142857142857145, 0.5, 0.09523809523809523, 0.25, 0.21739130434782608, 0.42105263157894735, 0.2631578947368421, 0.25, 0.4583333333333333, 0.3888888888888889, 0.3333333333333333, 0.4444444444444444, 0.16666666666666666, 0.4, 0.3888888888888889, 0.3684210526315789, 0.29411764705882354, 0.30303030303030304, 0.17647058823529413, 0.47368421052631576, 0.28, 0.11764705882352941, 0.10526315789473684, 0.5, 0.42105263157894735, 0.47619047619047616, 0.4074074074074074, 0.11764705882352941, 0.3333333333333333, 0.5, 0.3888888888888889, 0.47368421052631576, 0.3888888888888889, 0.5416666666666666, 0.4444444444444444, 0.25, 0.25, 0.16666666666666666, 0.3333333333333333, 0.25925925925925924, 0.4117647058823529, 0.16666666666666666, 0.3448275862068966, 0.2962962962962963, 0.28, 0.28, 0.3157894736842105, 0.5, 0.25, 0.19230769230769232, 0.14285714285714285, 0.5, 0.3076923076923077, 0.28, 0.2, 0.23076923076923078, 0.17391304347826086, 0.3684210526315789, 0.4, 0.2, 0.4444444444444444, 0.42105263157894735, 0.47619047619047616, 0.16666666666666666, 0.5217391304347826, 0.42105263157894735, 0.2727272727272727, 0.5769230769230769, 0.47619047619047616, 0.45, 0.3684210526315789, 0.5217391304347826, 0.2916666666666667, 0.42105263157894735, 0.3888888888888889, 0.3888888888888889, 0.2, 0.5, 0.1, 0.3448275862068966, 0.24, 0.16666666666666666, 0.3793103448275862, 0.4666666666666667, 0.28, 0.28, 0.1935483870967742, 0.20833333333333334, 0.28, 0.28, 0.35714285714285715, 0.4, 0.5, 0.1, 0.28, 0.25, 0.5, 0.4782608695652174, 0.3448275862068966, 0.3448275862068966, 0.36, 0.28, 0.32142857142857145, 0.1935483870967742, 0.35294117647058826, 0.3333333333333333, 0.45454545454545453, 0.3333333333333333, 0.3076923076923077, 0.28, 0.3333333333333333, 0.28, 0.35714285714285715, 0.25, 0.26666666666666666, 0.47619047619047616, 0.3333333333333333, 0.3333333333333333, 0.47619047619047616, 0.5217391304347826, 0.47368421052631576, 0.45, 0.4444444444444444, 0.25, 0.28, 0.2631578947368421, 0.25, 0.2, 0.27586206896551724, 0.23076923076923078, 0.23076923076923078, 0.3333333333333333, 0.21739130434782608, 0.21739130434782608, 0.28, 0.21739130434782608, 0.3333333333333333, 0.32, 0.21739130434782608, 0.36, 0.35714285714285715, 0.047619047619047616, 0.18181818181818182, 0.19230769230769232, 0.16, 0.16666666666666666, 0.2916666666666667, 0.2608695652173913, 0.32, 0.2222222222222222, 0.25925925925925924, 0.05555555555555555, 0.10526315789473684, 0.05555555555555555, 0.30434782608695654, 0.5217391304347826, 0.47619047619047616, 0.45, 0.56, 0.35714285714285715, 0.47619047619047616, 0.4, 0.45, 0.4782608695652174, 0.21739130434782608, 0.36666666666666664, 0.25, 0.45, 0.30434782608695654, 0.35714285714285715, 0.4583333333333333, 0.2916666666666667, 0.375, 0.4444444444444444, 0.45, 0.25, 0.35714285714285715, 0.25, 0.3076923076923077, 0.42105263157894735, 0.18181818181818182, 0.21739130434782608, 0.28, 0.2857142857142857, 0.5185185185185185, 0.4782608695652174, 0.42105263157894735, 0.25, 0.24, 0.2857142857142857, 0.35294117647058826, 0.3333333333333333, 0.25, 0.25, 0.28, 0.28, 0.3888888888888889, 0.47619047619047616, 0.3888888888888889, 0.25, 0.2692307692307692, 0.2962962962962963, 0.3076923076923077, 0.45454545454545453, 0.1, 0.3076923076923077, 0.25, 0.34615384615384615, 0.38461538461538464, 0.3076923076923077, 0.47619047619047616, 0.3333333333333333, 0.2692307692307692, 0.2608695652173913, 0.2608695652173913, 0.42105263157894735, 0.3793103448275862, 0.21739130434782608, 0.25, 0.3888888888888889, 0.3333333333333333, 0.42105263157894735, 0.2608695652173913, 0.28, 0.5, 0.35294117647058826, 0.21739130434782608, 0.4, 0.45, 0.45, 0.3684210526315789, 0.5454545454545454, 0.42857142857142855, 0.5454545454545454, 0.0, 0.14285714285714285, 0.45, 0.5, 0.5, 0.4, 0.20833333333333334, 0.3684210526315789, 0.5, 0.47619047619047616, 0.4444444444444444, 0.42105263157894735, 0.4, 0.47619047619047616, 0.3684210526315789, 0.5217391304347826, 0.3888888888888889, 0.4444444444444444, 0.4117647058823529, 0.4444444444444444, 0.5652173913043478, 0.5, 0.375, 0.7083333333333334, 0.3333333333333333, 0.3684210526315789, 0.7391304347826086, 0.3888888888888889, 0.5217391304347826, 0.6842105263157895, 0.5454545454545454, 0.6842105263157895, 0.5454545454545454, 0.29411764705882354, 0.29411764705882354, 0.45, 0.3684210526315789, 0.3333333333333333, 0.6, 0.47368421052631576, 0.5217391304347826, 0.3333333333333333, 0.5, 0.47368421052631576, 0.4117647058823529, 0.5454545454545454, 0.45, 0.4444444444444444, 0.5, 0.5833333333333334, 0.47368421052631576, 0.5238095238095238, 0.5652173913043478, 0.45, 0.3333333333333333, 0.3888888888888889, 0.5, 0.45, 0.29411764705882354, 0.35294117647058826, 0.45, 0.6842105263157895, 0.3888888888888889, 0.3888888888888889, 0.3684210526315789, 0.35294117647058826, 0.3125, 0.5454545454545454, 0.29411764705882354, 0.3333333333333333, 0.5217391304347826, 0.3888888888888889, 0.7, 0.35294117647058826, 0.47368421052631576, 0.3684210526315789, 0.6153846153846154, 0.7, 0.3125, 0.3684210526315789], 'NumRotBond': [4, 7, 5, 5, 2, 3, 3, 6, 3, 5, 5, 3, 5, 3, 5, 10, 4, 5, 5, 4, 3, 5, 4, 5, 4, 8, 4, 5, 1, 8, 2, 5, 6, 6, 6, 5, 7, 4, 4, 5, 5, 5, 6, 7, 5, 5, 4, 7, 5, 5, 2, 5, 5, 6, 7, 7, 6, 8, 5, 7, 7, 7, 8, 3, 6, 5, 4, 2, 6, 5, 3, 3, 5, 5, 8, 5, 5, 3, 1, 5, 1, 1, 6, 4, 5, 1, 4, 5, 4, 4, 4, 3, 11, 4, 5, 6, 7, 6, 4, 2, 5, 2, 4, 4, 3, 5, 6, 3, 6, 5, 7, 4, 9, 4, 8, 2, 6, 8, 7, 7, 5, 8, 5, 5, 5, 3, 2, 4, 6, 5, 5, 5, 5, 6, 5, 4, 4, 3, 4, 5, 4, 4, 3, 4, 6, 6, 8, 3, 2, 2, 4, 4, 6, 6, 4, 2, 6, 4, 2, 6, 0, 2, 5, 5, 6, 8, 6, 4, 3, 4, 5, 4, 6, 5, 8, 5, 6, 4, 1, 4, 6, 6, 1, 6, 7, 5, 6, 4, 1, 9, 6, 4, 6, 4, 3, 4, 5, 5, 6, 7, 6, 8, 3, 3, 3, 5, 6, 4, 4, 2, 1, 7, 7, 2, 5, 5, 5, 6, 2, 9, 6, 6, 6, 7, 3, 6, 5, 6, 3, 4, 4, 2, 5, 6, 2, 4, 6, 5, 5, 4, 2, 9, 6, 3, 1, 4, 5, 3, 4, 4, 1, 5, 2, 2, 4, 6, 8, 6, 6, 5, 5, 5, 4, 5, 5, 4, 5, 1, 5, 4, 5, 5, 4, 3, 7, 3, 4, 6, 7, 4, 5, 7, 4, 1, 6, 4, 6, 6, 5, 3, 5, 3, 4, 4, 7, 3, 3, 6, 7, 2, 0, 3, 6, 6, 4, 3, 6, 9, 7, 6, 2, 3, 5, 2, 5, 4, 3, 7, 2, 4, 5, 4, 7, 6, 6, 5, 9, 5, 8, 5, 3, 2, 6, 9, 1, 6, 4, 7, 8, 5, 6, 6, 7, 5, 3, 2, 5, 4, 8, 6, 6, 8, 6, 0, 6, 4, 6, 6, 4, 6, 6, 4, 5, 7, 5, 5, 5, 5, 6, 7, 8, 7, 24, 4, 7, 3, 4, 2, 3, 5, 5, 7, 9, 5, 5, 5, 4, 5, 4, 5, 6, 4, 3, 7, 8, 4, 6, 5, 4, 7, 0, 4, 4, 8, 3, 5, 3, 2, 0, 4, 7, 6, 6, 7, 7, 3, 4, 7, 8, 3, 4, 3, 5, 5, 4, 7, 3, 4, 4, 4, 4, 5, 5, 2, 6, 4, 4, 5, 2, 3, 3, 4, 4, 3, 1, 6, 9, 7, 6, 4, 7, 8, 4, 4, 6, 5, 8, 4, 7, 3, 5, 5, 4, 6, 7, 3, 14, 5, 3, 4, 6, 5, 4, 6, 4, 5, 3, 7, 2, 5, 5, 9, 7, 9, 8, 6, 3, 3, 4, 7, 7, 4, 5, 7, 4, 3, 3, 7, 7, 5, 1, 2, 7, 8, 6, 4, 5, 5, 8, 6, 1, 4, 4, 4, 4, 3, 4, 3, 6, 3, 3, 6, 5, 3, 4, 3, 4, 5, 5, 4, 4, 8, 5, 9, 4, 4, 2, 5, 4, 3, 7, 9, 8, 3, 5, 8, 6, 6, 5, 6, 4, 1, 7, 5, 8, 5, 4, 6, 4, 6, 5, 4, 5, 4, 5, 4, 4, 3, 4, 7, 7, 9, 3, 3, 8, 11, 7, 3, 4, 5, 1, 4, 6, 3, 2, 4, 5, 4, 3, 4, 4, 3, 8, 7, 5, 4, 4, 7, 5, 5, 4, 6, 6, 3, 3, 3, 3, 7, 6, 3, 3, 7, 5, 5, 5, 5, 4, 4, 5, 0, 3, 4, 4, 3, 5, 5, 5, 4, 5, 0, 5, 5, 7, 5, 8, 9, 8, 5, 8, 6, 3, 4, 6, 6, 5, 5, 4, 5, 4, 4, 5, 4, 5, 6, 4, 6, 9, 6, 4, 3, 7, 0, 7, 4, 7, 6, 5, 2, 5, 7, 6, 5, 1, 3, 3, 4, 2, 7, 7, 3, 5, 12, 6, 1, 7, 2, 11, 5, 8, 5, 6, 4, 4, 0, 3, 3, 7, 7, 8, 2, 6, 4, 6, 9, 1, 4, 5, 7, 5, 5, 2, 6, 5, 6, 7, 5, 7, 5, 7, 5, 8, 3, 1, 3, 5, 2, 4, 9, 8, 5, 5, 4, 6, 8, 5, 6, 2, 8, 5, 7, 4, 4, 7, 3, 5, 8, 8, 5, 6, 6, 5, 4, 4, 5, 7, 4, 5, 7, 8, 7, 5, 3, 4, 5, 5, 3, 9, 5, 5, 4, 3, 7, 8, 3, 6, 5, 3, 5, 6, 8, 3, 4, 8, 7, 5, 6, 3, 4, 7, 3, 4, 8, 7, 8, 6, 3, 4, 8, 3, 7, 4, 10, 5, 8, 8, 5, 3, 6, 3, 7, 6, 7, 4, 7, 3, 3, 3, 5, 4, 5, 8, 5, 9, 5, 7, 7, 5, 4, 5, 5, 7, 6, 4, 5, 2, 4, 6, 7, 5, 7, 2, 5, 4, 7, 7, 5, 5, 5, 7, 5, 9, 7, 6, 6, 8, 8, 3, 5, 5, 8, 6, 7, 3, 6, 6, 3, 5, 4, 4, 8, 6, 6, 8, 10, 6, 5, 6, 5, 4, 5, 8, 8, 7, 5, 1, 3, 5, 6, 0, 6, 4, 4, 4, 4, 6, 6, 7, 3, 7, 8, 4, 4, 8, 8, 6, 2, 5, 6, 5, 2, 7, 8, 7, 8, 7, 5, 6, 4, 4, 5, 6, 5, 6, 6, 4, 6, 11, 3, 6, 6, 6, 6, 5, 6, 8, 5, 5, 8, 3, 7, 4, 1, 7, 3, 4, 8, 5, 5, 6, 11, 4, 6, 3, 4, 4, 7, 1, 5, 6, 7, 8, 5, 4, 3, 7, 7, 5, 4, 5, 8, 7, 7, 7, 5, 6, 5, 5, 6, 5, 4, 5, 9, 6, 4, 4, 5, 8, 7, 5, 6, 7, 4, 5, 7, 6, 7, 6, 5, 4, 4, 5, 6, 10, 5, 6, 6, 4, 4, 10, 6, 6, 9, 3, 5, 5, 3, 7, 7, 3, 4, 9, 5, 5, 5, 9, 8, 3, 5, 6, 4, 5, 6, 5, 5, 7, 10, 5, 6, 5, 7, 7, 7, 5, 6, 9, 6, 6, 4, 7, 6, 6, 4, 5, 6, 8, 5, 8, 6, 5, 5, 9, 7, 3, 5, 3, 3, 8, 7, 4, 7, 5, 5, 5, 1, 3, 3, 13, 5, 6, 8, 5, 7, 6, 8, 5, 3, 5, 8, 7, 3, 5, 4, 7, 5, 4, 4, 4, 5, 4, 6, 4, 7, 8, 6, 2, 5, 6, 6, 5, 7, 6, 4, 6, 5, 4, 5, 2, 5, 8, 7, 5, 4, 7, 4, 5, 6, 0, 6, 5, 6, 5, 5, 7, 7, 6, 6, 8, 6, 6, 5, 6, 5, 6, 4, 8, 6, 6, 5, 7, 4, 1, 7, 8, 0, 5, 8, 1, 1, 5, 6, 5, 8, 6, 4, 5, 7, 6, 6, 7, 4, 4, 5, 4, 5, 4, 6, 7, 7, 6, 6, 4, 6, 6, 6, 7, 10, 8, 3, 4, 4, 5, 6, 5, 6, 4, 6, 6, 5, 5, 4, 6, 4, 6, 3, 8, 4, 5, 6, 4, 7, 4, 8, 5, 6, 6, 5, 6, 7, 5, 6, 6, 7, 8, 5, 6, 5, 5, 7, 6, 6, 9, 7, 10, 7, 4, 8, 3, 5, 5, 6, 6, 4, 8, 9, 7, 8, 6, 4, 6, 6, 6, 1, 2, 4, 7, 6, 9, 4, 6, 5, 5, 4, 5, 9, 3, 3, 10, 6, 6, 6, 7, 5, 3, 4, 3, 8, 5, 5, 6, 5, 4, 5, 5, 5, 5, 7, 6, 6, 10, 6, 5, 10, 8, 6, 7, 4, 6, 5, 6, 9, 5, 4, 6, 4, 4, 8, 7, 4, 7, 7, 6, 7, 5, 8, 6, 7, 4, 6, 6, 4, 4, 4, 6, 7, 7, 5, 6, 5, 10, 7, 6, 7, 3, 5, 7, 4, 7, 5, 10, 4, 5, 4, 3, 6, 5, 8, 5, 6, 5, 5, 6, 7, 7, 4, 6, 5, 6, 3, 7, 6, 4, 4, 4, 6, 7, 5, 8, 8, 8, 4, 6, 7, 5, 6, 5, 2, 0, 6, 6, 3, 3, 3, 1, 5, 3, 5, 5, 5, 8, 5, 8, 3, 7, 5, 7, 7, 7, 6, 5, 4, 6, 5, 7, 5, 9, 7, 6, 6, 3, 4, 7, 5, 7, 6, 8, 6, 7, 6, 7, 4, 6, 6, 5, 5, 6, 0, 6, 6, 4, 6, 6, 4, 5, 6, 7, 4, 4, 7, 3, 6, 6, 6, 4, 8, 6, 3, 5, 6, 10, 4, 3, 7, 2, 6, 4, 5, 7, 8, 6, 7, 3, 5, 6, 3, 6, 5, 3, 3, 3, 5, 7, 7, 8, 4, 6, 6, 5, 12, 4, 6, 4, 6, 5, 6, 4, 6, 7, 6, 6, 6, 7, 6, 4, 6, 6, 4, 3, 6, 7, 5, 4, 5, 3, 3, 7, 7, 8, 5, 4, 4, 3, 6, 9, 7, 4, 6, 5, 6, 6, 6, 6, 7, 6, 4, 5, 5, 4, 4, 6, 6, 7, 2, 7, 8, 3, 3, 0, 6, 6, 7, 7, 5, 6, 6, 6, 5, 6, 6, 9, 6, 6, 9, 6, 6, 8, 2, 5, 7, 1, 4, 7, 5, 7, 5, 5, 8, 3, 5, 4, 6, 6, 6, 9, 5, 6, 6, 6, 7, 5, 8, 9, 8, 6, 5, 6, 6, 5, 6, 5, 2, 5, 5, 5, 7, 4, 4, 7, 5, 4, 6, 5, 7, 6, 6, 6, 6, 4, 6, 8, 5, 4, 7, 5, 7, 10, 4, 5, 5, 5, 6, 6, 6, 5, 6, 5, 4, 7, 5, 2, 3, 8, 6, 6, 7, 13, 2, 6, 5, 6, 2, 6, 8, 4, 4, 3, 6, 6, 4, 5, 5, 6, 4, 6, 5, 7, 9, 6, 5, 5, 9, 8, 4, 6, 4, 0, 2, 5, 5, 6, 5, 6, 2, 6, 6, 6, 5, 6, 6, 5, 8, 7, 5, 6, 5, 7, 7, 8, 5, 4, 8, 5, 6, 4, 6, 6, 8, 7, 6, 5, 5, 6, 6, 7, 6, 8, 6, 8, 9, 6, 6, 6, 4, 8, 5, 6, 4, 5, 4, 4, 4, 4, 3, 4, 4, 5, 5, 4, 5, 7, 3, 3, 3, 3, 3, 4, 4, 4, 4, 4, 3, 4, 3, 8, 7, 5, 9, 6, 4, 6, 8, 7, 6, 5, 5, 6, 5, 8, 8, 7, 8, 4, 6, 7, 5, 6, 6, 7, 5, 4, 5, 6, 5, 7, 7, 6, 6, 7, 6, 4, 7, 6, 5, 6, 6, 5, 6, 4, 6, 7, 2, 7, 5, 5, 7, 5, 7, 5, 7, 6, 8, 7, 5, 5, 5, 8, 5, 5, 6, 6, 6, 5, 7, 5, 5, 5, 5, 5, 5, 5, 5, 5, 6, 1, 6, 6, 8, 7, 6, 5, 4, 5, 6, 7, 5, 5, 6, 3, 6, 4, 6, 5, 5, 6, 5, 4, 6, 4, 5, 11, 5, 7, 5, 6, 7, 6, 3, 3, 6, 3, 4, 7, 6, 6, 3, 7, 8, 5, 6, 6, 7, 7, 7, 6, 7, 7, 5, 3, 4, 8, 6, 3, 4, 5, 5, 4, 4, 5, 4, 4, 7, 3, 3, 7, 4, 6, 4, 6, 3, 7, 6, 4, 3], 'NumRings': [4, 5, 3, 3, 3, 4, 4, 3, 6, 5, 3, 3, 3, 3, 5, 5, 4, 4, 4, 4, 4, 4, 3, 4, 4, 2, 3, 4, 4, 4, 5, 7, 4, 6, 4, 4, 4, 4, 4, 4, 4, 5, 4, 5, 4, 4, 4, 4, 5, 5, 6, 5, 5, 5, 5, 4, 4, 5, 4, 4, 5, 3, 3, 5, 4, 4, 5, 6, 6, 3, 5, 4, 5, 5, 5, 4, 4, 4, 4, 3, 4, 5, 4, 6, 5, 5, 3, 4, 3, 3, 4, 3, 5, 3, 3, 4, 5, 4, 4, 5, 4, 5, 3, 3, 3, 3, 5, 3, 6, 4, 5, 4, 5, 4, 5, 3, 5, 5, 5, 5, 5, 5, 4, 2, 5, 4, 3, 3, 5, 4, 4, 4, 3, 6, 4, 3, 3, 3, 3, 5, 3, 3, 4, 3, 4, 2, 5, 6, 3, 3, 3, 4, 4, 4, 5, 5, 5, 5, 3, 4, 4, 4, 4, 6, 5, 5, 2, 3, 5, 3, 5, 5, 6, 5, 4, 4, 5, 4, 3, 4, 4, 5, 3, 5, 5, 5, 5, 3, 4, 5, 6, 3, 6, 4, 3, 5, 3, 4, 5, 5, 6, 5, 5, 4, 4, 6, 4, 5, 5, 5, 5, 3, 4, 3, 5, 6, 5, 5, 3, 4, 4, 4, 6, 4, 5, 3, 4, 4, 5, 3, 3, 3, 4, 3, 3, 5, 4, 5, 5, 4, 4, 4, 7, 4, 5, 3, 3, 5, 3, 4, 5, 5, 4, 6, 3, 5, 4, 3, 4, 6, 4, 3, 3, 4, 5, 5, 4, 5, 4, 5, 5, 4, 3, 3, 4, 3, 3, 4, 4, 4, 5, 4, 5, 3, 4, 5, 5, 5, 5, 3, 4, 5, 5, 3, 4, 3, 3, 5, 5, 4, 4, 5, 4, 4, 4, 4, 3, 5, 4, 4, 4, 2, 4, 5, 4, 4, 4, 4, 4, 4, 4, 4, 4, 3, 4, 5, 5, 5, 5, 4, 4, 6, 4, 5, 4, 5, 5, 4, 5, 4, 5, 5, 4, 3, 3, 5, 3, 5, 5, 4, 4, 5, 5, 4, 4, 4, 5, 5, 4, 4, 3, 4, 5, 4, 4, 4, 3, 5, 4, 3, 5, 3, 5, 3, 5, 3, 3, 5, 3, 5, 4, 4, 5, 4, 3, 5, 3, 3, 3, 4, 4, 4, 3, 4, 5, 5, 3, 4, 4, 5, 4, 4, 4, 4, 3, 4, 4, 6, 4, 3, 7, 5, 5, 4, 5, 5, 3, 4, 5, 5, 3, 3, 5, 5, 4, 4, 3, 3, 3, 4, 5, 4, 3, 6, 5, 5, 5, 4, 4, 3, 4, 5, 4, 5, 5, 5, 5, 4, 3, 3, 5, 4, 6, 5, 5, 3, 5, 3, 5, 3, 3, 4, 4, 4, 4, 4, 5, 5, 3, 4, 5, 5, 3, 6, 3, 3, 5, 5, 3, 5, 4, 5, 3, 5, 5, 3, 5, 3, 3, 4, 4, 3, 4, 5, 5, 3, 3, 4, 5, 5, 5, 4, 4, 4, 5, 3, 5, 5, 5, 4, 3, 4, 5, 3, 5, 4, 3, 3, 4, 3, 4, 5, 3, 3, 5, 3, 3, 4, 4, 3, 3, 3, 3, 4, 4, 3, 6, 4, 4, 3, 4, 5, 3, 3, 4, 5, 5, 4, 5, 4, 3, 5, 5, 5, 5, 5, 4, 4, 6, 5, 4, 3, 3, 4, 4, 4, 4, 3, 3, 4, 4, 4, 3, 3, 5, 5, 5, 5, 3, 4, 5, 4, 4, 5, 4, 3, 4, 5, 4, 4, 3, 3, 6, 5, 5, 4, 4, 4, 5, 6, 3, 4, 5, 3, 3, 3, 3, 4, 4, 3, 3, 5, 4, 5, 3, 6, 4, 3, 3, 4, 3, 4, 4, 3, 4, 3, 5, 3, 5, 4, 4, 4, 5, 4, 4, 5, 5, 3, 5, 6, 5, 5, 4, 3, 4, 4, 4, 5, 4, 3, 4, 3, 3, 4, 5, 4, 4, 4, 6, 3, 3, 4, 4, 5, 4, 4, 5, 4, 3, 3, 5, 4, 5, 3, 3, 3, 6, 3, 4, 4, 4, 5, 5, 4, 4, 6, 5, 5, 5, 4, 3, 3, 3, 4, 3, 4, 4, 4, 5, 3, 3, 3, 4, 5, 4, 3, 3, 4, 5, 4, 4, 4, 4, 5, 4, 3, 5, 4, 4, 4, 5, 5, 4, 4, 4, 6, 5, 6, 4, 4, 4, 5, 3, 5, 3, 4, 4, 3, 5, 5, 3, 3, 5, 3, 5, 4, 5, 3, 4, 3, 5, 3, 3, 4, 5, 3, 4, 4, 5, 5, 5, 2, 5, 3, 4, 3, 5, 4, 3, 4, 4, 4, 5, 3, 4, 4, 3, 4, 6, 5, 4, 3, 5, 4, 4, 4, 4, 5, 4, 4, 5, 5, 5, 5, 5, 3, 3, 4, 4, 4, 3, 5, 5, 4, 3, 4, 3, 4, 4, 4, 4, 6, 5, 5, 2, 3, 3, 5, 5, 4, 4, 3, 5, 4, 5, 5, 4, 3, 5, 4, 4, 5, 5, 3, 3, 5, 5, 4, 3, 4, 6, 5, 5, 4, 4, 5, 3, 3, 4, 4, 4, 4, 5, 4, 3, 5, 4, 5, 5, 6, 5, 3, 3, 4, 5, 3, 4, 4, 4, 4, 4, 5, 5, 3, 3, 3, 3, 4, 3, 4, 4, 5, 5, 3, 4, 5, 4, 4, 4, 3, 4, 4, 3, 4, 4, 6, 5, 3, 4, 3, 4, 4, 5, 5, 5, 3, 3, 4, 4, 3, 4, 4, 5, 5, 5, 4, 3, 4, 3, 4, 4, 4, 6, 7, 3, 6, 5, 6, 5, 5, 4, 3, 4, 4, 4, 5, 4, 6, 5, 4, 3, 4, 3, 4, 3, 3, 5, 4, 4, 5, 5, 5, 3, 3, 3, 3, 5, 4, 5, 5, 5, 4, 4, 4, 3, 3, 4, 3, 4, 6, 5, 5, 6, 4, 4, 4, 4, 5, 4, 3, 4, 5, 3, 3, 5, 5, 5, 4, 5, 3, 4, 3, 4, 4, 5, 5, 5, 5, 3, 3, 4, 6, 5, 3, 4, 4, 3, 3, 4, 5, 5, 5, 4, 4, 4, 4, 4, 3, 3, 3, 3, 3, 4, 4, 5, 5, 4, 4, 3, 3, 4, 4, 4, 4, 5, 5, 5, 6, 3, 4, 3, 5, 4, 4, 5, 4, 4, 4, 5, 5, 4, 3, 3, 4, 4, 4, 5, 5, 5, 5, 3, 3, 4, 5, 3, 3, 3, 4, 3, 3, 6, 5, 5, 4, 3, 2, 5, 4, 4, 5, 4, 5, 5, 5, 5, 4, 5, 3, 4, 5, 5, 5, 6, 4, 3, 3, 3, 3, 3, 4, 5, 5, 5, 4, 3, 4, 5, 4, 5, 5, 5, 5, 5, 3, 3, 3, 6, 4, 5, 5, 4, 3, 5, 5, 4, 4, 4, 4, 3, 4, 4, 3, 4, 5, 6, 4, 4, 4, 4, 5, 4, 5, 4, 3, 5, 4, 4, 5, 5, 5, 4, 4, 4, 4, 4, 4, 4, 4, 4, 3, 3, 3, 4, 4, 5, 4, 5, 5, 5, 4, 4, 3, 3, 5, 5, 4, 4, 5, 4, 5, 3, 5, 4, 5, 4, 5, 5, 3, 3, 4, 3, 4, 4, 4, 5, 4, 4, 4, 5, 4, 5, 3, 5, 3, 3, 3, 5, 5, 3, 4, 4, 4, 5, 6, 5, 5, 3, 3, 4, 4, 5, 5, 4, 4, 4, 3, 4, 5, 5, 4, 6, 6, 5, 5, 4, 4, 3, 3, 5, 3, 4, 3, 5, 5, 5, 4, 4, 5, 4, 4, 5, 4, 4, 4, 4, 3, 3, 3, 4, 3, 3, 3, 4, 5, 6, 6, 4, 4, 4, 4, 6, 5, 4, 3, 3, 5, 3, 3, 3, 3, 4, 4, 5, 4, 6, 4, 5, 6, 5, 5, 4, 5, 5, 5, 5, 4, 5, 3, 4, 5, 3, 4, 6, 4, 4, 4, 4, 3, 3, 4, 5, 5, 5, 5, 5, 5, 3, 4, 6, 4, 4, 5, 4, 5, 5, 3, 4, 3, 3, 3, 4, 5, 3, 4, 4, 4, 5, 4, 6, 4, 3, 3, 3, 4, 3, 4, 4, 4, 4, 4, 5, 5, 5, 5, 5, 3, 4, 5, 4, 3, 3, 3, 4, 4, 3, 3, 3, 3, 4, 3, 5, 5, 5, 5, 3, 3, 4, 5, 5, 4, 4, 4, 4, 4, 3, 3, 3, 3, 4, 4, 3, 4, 5, 4, 4, 5, 5, 5, 5, 3, 4, 3, 4, 3, 4, 5, 6, 5, 4, 3, 3, 4, 4, 5, 4, 4, 4, 3, 4, 5, 5, 6, 4, 5, 5, 4, 4, 5, 5, 3, 3, 4, 4, 5, 5, 3, 3, 3, 3, 4, 3, 4, 4, 4, 4, 5, 5, 5, 5, 5, 4, 5, 4, 4, 4, 4, 6, 5, 6, 5, 5, 6, 4, 5, 5, 6, 6, 5, 3, 3, 4, 4, 4, 4, 4, 5, 4, 5, 5, 5, 5, 5, 5, 5, 4, 4, 4, 4, 4, 6, 4, 5, 5, 5, 4, 5, 5, 6, 4, 6, 5, 5, 5, 5, 5, 6, 6, 6, 6, 5, 6, 4, 3, 3, 3, 3, 3, 4, 4, 3, 3, 5, 5, 5, 5, 6, 5, 5, 6, 3, 4, 6, 4, 4, 4, 6, 4, 4, 6, 6, 5, 3, 3, 4, 3, 3, 4, 3, 4, 4, 5, 3, 3, 5, 5, 4, 4, 5, 4, 5, 4, 5, 4, 6, 3, 3, 3, 4, 4, 4, 4, 4, 6, 4, 3, 3, 4, 4, 5, 4, 3, 4, 4, 3, 3, 5, 5, 5, 5, 4, 4, 5, 5, 4, 4, 5, 6, 3, 3, 3, 4, 4, 4, 4, 6, 6, 4, 4, 5, 4, 4, 4, 3, 4, 4, 3, 3, 4, 3, 3, 3, 5, 3, 5, 5, 4, 5, 5, 4, 5, 4, 4, 5, 5, 5, 4, 5, 6, 4, 4, 5, 5, 5, 5, 5, 3, 3, 5, 3, 3, 3, 3, 4, 3, 4, 5, 4, 3, 3, 4, 4, 4, 3, 4, 4, 4, 4, 5, 5, 4, 6, 4, 5, 5, 5, 5, 5, 5, 6, 5, 6, 4, 5, 5, 6, 6, 4, 5, 5, 5, 5, 5, 4, 5, 6, 5, 5, 5, 6, 5, 6, 5, 6, 4, 5, 5, 4, 4, 4, 4, 4, 5, 5, 4, 5, 5, 6, 6, 5, 5, 5, 5, 5, 5, 6, 6, 5, 6, 6, 4, 5, 6, 6, 6, 6, 5, 6, 5, 5, 4, 4, 4, 4, 4, 3, 3, 4, 5, 4, 3, 3, 4, 5, 5, 5, 3, 4, 5, 6, 4, 4, 4, 4, 5, 6, 5, 5, 4, 5, 5, 5, 5, 7, 3, 4, 5, 5, 5, 4, 5, 5, 5, 5, 5, 4, 4, 4, 5, 5, 8, 5, 5, 4, 5, 5, 5, 5, 5, 4, 5, 5, 5, 5, 4, 5, 5, 5, 4, 5, 4, 5, 5, 5, 4, 5, 4, 4, 4, 4, 5, 5, 5, 5, 4, 4, 4, 4, 6, 5, 4, 5, 5, 4, 4, 4, 5, 4, 5, 4, 4, 4, 4, 5, 4, 4, 4, 4, 4, 4, 4, 5, 4, 5, 4, 5, 4, 4, 4, 4, 4, 5, 4, 5, 4, 4, 4, 4, 5, 4, 4, 4, 5, 4, 4, 5, 5, 4, 4, 4, 5, 4, 4, 5, 4, 4, 4, 4, 4, 4, 4, 4, 4, 5, 4, 4, 4, 4, 4, 5, 4, 4, 4], 'TPSA': [71.95, 149.78, 101.37000000000002, 98.96000000000001, 49.84, 54.88, 68.02000000000001, 65.5, 90.44, 99.69, 86.93, 71.95, 107.16, 78.67, 61.36000000000001, 137.05, 56.84, 66.07, 58.64, 66.07, 61.54, 74.86, 99.82, 74.86, 111.33, 99.60000000000001, 101.37, 74.86, 46.5, 92.35000000000001, 79.52, 61.61000000000001, 109.16, 99.35, 75.3, 72.06, 121.25, 51.45, 51.45, 80.55000000000001, 80.55000000000001, 88.83, 122.52999999999999, 54.69000000000001, 91.83999999999999, 97.83, 84.36999999999999, 79.61, 82.83999999999999, 82.83999999999999, 36.67, 63.480000000000004, 80.99000000000001, 100.86000000000001, 69.96000000000001, 85.60000000000001, 89.25, 108.14, 66.07, 110.07000000000002, 92.79, 115.62, 96.01, 68.52000000000001, 90.97999999999999, 103.78999999999999, 77.98, 90.62000000000002, 95.5, 99.60000000000001, 46.32000000000001, 73.57, 62.53, 80.99000000000001, 123.88999999999999, 89.25, 79.38000000000001, 62.550000000000004, 46.5, 86.92999999999999, 46.5, 60.94, 111.21, 69.79, 65.77, 60.94, 89.07000000000001, 66.07, 86.93, 125.84, 66.01, 111.29, 127.78000000000002, 86.93, 93.16999999999999, 82.19000000000001, 80.95, 87.74, 119.06999999999998, 90.62000000000002, 118.00999999999999, 90.62000000000002, 101.37000000000002, 98.96000000000001, 110.68, 84.97, 63.480000000000004, 87.89999999999999, 125.13, 74.86, 67.58000000000001, 51.45, 120.23, 94.17999999999999, 106.65, 62.45, 69.96000000000001, 75.0, 69.96000000000001, 69.96000000000001, 82.83999999999999, 91.79, 74.86, 112.95, 105.2, 78.21000000000001, 78.33, 86.93, 63.480000000000004, 90.98, 89.25, 66.07, 86.93, 90.10000000000001, 79.38000000000001, 110.72000000000001, 86.92999999999999, 76.36, 127.38999999999999, 82.83999999999999, 145.98999999999998, 89.07000000000001, 84.81, 79.89999999999999, 84.09, 112.94999999999999, 108.14, 90.22, 65.44, 90.35, 123.13, 42.22, 114.76999999999998, 89.25, 124.50999999999998, 90.62000000000002, 63.480000000000004, 71.76, 31.92, 149.65999999999997, 76.14, 94.52000000000001, 108.99999999999999, 89.58, 92.07, 97.28, 112.95, 112.71000000000001, 105.17999999999999, 99.82, 111.93999999999998, 122.87999999999998, 99.35, 106.77000000000001, 116.68, 74.86, 60.730000000000004, 48.05, 76.7, 55.11, 114.76999999999998, 80.99000000000001, 69.1, 153.09999999999997, 69.96000000000001, 82.83999999999999, 94.86999999999999, 107.16, 78.5, 108.14, 99.35, 103.69000000000001, 99.35, 76.24, 84.66, 111.61999999999999, 79.89999999999999, 85.58999999999999, 82.83999999999999, 75.0, 74.14, 109.2, 78.35000000000001, 80.48, 71.69, 103.44999999999999, 103.41, 80.99000000000001, 80.2, 60.94, 60.94, 122.09, 103.00999999999999, 42.22, 80.99000000000001, 89.58, 112.03999999999998, 63.480000000000004, 80.47999999999999, 94.64999999999999, 99.61000000000001, 76.37, 114.77, 108.76, 81.39000000000001, 98.36, 108.99999999999999, 76.37, 112.20999999999998, 55.120000000000005, 116.96, 67.59, 124.50999999999998, 78.95, 69.62, 110.52000000000001, 100.21, 95.72999999999999, 108.61999999999999, 102.9, 94.52000000000001, 99.97, 96.71, 81.76999999999998, 28.68, 103.69000000000001, 96.97000000000001, 88.42, 68.01, 95.65, 60.94, 82.84, 103.85, 90.62000000000002, 94.52000000000001, 63.480000000000004, 116.68, 90.98, 76.37, 100.89, 119.22, 96.97000000000001, 82.19000000000001, 86.11, 75.42000000000002, 82.75999999999999, 86.11000000000001, 60.94, 68.1, 74.56, 95.65, 127.65999999999998, 96.73, 110.68, 99.61000000000001, 110.68, 68.00999999999999, 102.67, 121.65, 82.76, 93.88000000000001, 116.68, 120.85000000000001, 54.7, 95.65, 84.53, 108.76, 73.62, 80.99, 104.11000000000001, 87.04, 130.57, 84.53, 85.83, 99.61000000000001, 110.68, 110.68, 94.21999999999998, 97.62, 57.78, 96.01, 71.76, 76.37, 99.61000000000001, 79.9, 76.52000000000001, 90.98, 79.61, 91.63, 117.23000000000002, 68.6, 72.41999999999999, 99.97, 90.62000000000002, 115.63000000000001, 88.83, 68.92999999999999, 116.68, 89.59, 82.76, 116.68, 87.38, 102.72999999999999, 90.98, 86.11000000000001, 104.88, 75.0, 80.99000000000001, 75.0, 103.87, 90.04, 90.62000000000002, 109.86, 109.14000000000001, 75.7, 112.47999999999999, 104.75999999999999, 108.76, 99.35000000000001, 106.33, 73.62, 86.08, 124.44, 96.97000000000001, 85.35000000000001, 114.41, 123.03, 62.53000000000001, 80.99, 97.61999999999999, 109.86, 98.11, 94.43, 88.75, 90.89, 89.25, 153.09999999999997, 122.02999999999999, 84.53000000000002, 108.44, 157.17, 57.93000000000001, 82.76, 78.95, 87.04, 99.97, 125.83000000000001, 84.53000000000002, 90.97999999999999, 118.00999999999999, 98.11000000000001, 108.75999999999999, 194.68, 79.89999999999999, 94.86999999999999, 92.64999999999999, 68.00999999999999, 90.62000000000002, 94.52000000000001, 99.91, 99.61000000000001, 105.92, 115.53999999999998, 92.41, 90.97999999999999, 76.37, 92.64999999999999, 96.69, 68.00999999999999, 82.19, 100.86, 99.93, 99.82, 108.76, 75.0, 71.76, 99.97, 99.97, 70.67, 118.55000000000001, 59.07000000000001, 105.25, 90.98, 91.41, 92.64999999999999, 99.97, 85.69000000000001, 90.62000000000002, 59.07000000000001, 85.83, 80.53, 94.86999999999999, 90.22000000000001, 86.48, 91.63, 81.39000000000001, 116.96, 123.99999999999999, 75.0, 119.13000000000001, 68.01, 94.52000000000001, 84.53000000000002, 95.73, 94.41000000000001, 125.83, 87.03999999999999, 119.91, 68.00999999999999, 115.19000000000001, 111.62, 99.61000000000001, 138.72, 90.62000000000002, 106.44000000000001, 108.72999999999999, 133.74, 99.97, 75.01, 98.43999999999998, 85.69000000000001, 82.75999999999999, 98.83999999999997, 105.17999999999999, 78.01, 98.63000000000001, 75.0, 108.75999999999999, 105.91999999999999, 68.00999999999999, 94.86999999999999, 128.99, 117.02, 71.75999999999999, 63.480000000000004, 112.86000000000001, 107.01, 79.9, 87.89, 72.42, 122.75000000000001, 116.68, 96.69, 99.97, 108.76, 77.11, 119.98, 99.97000000000001, 120.08, 115.19000000000001, 115.65, 111.93999999999998, 90.98, 85.8, 68.01, 125.83000000000001, 87.97, 75.0, 103.01, 68.1, 100.28, 142.89999999999998, 78.95, 98.11, 86.08, 125.83, 107.78999999999999, 99.82, 96.73, 108.75999999999999, 108.75999999999999, 114.12, 88.75, 75.0, 111.52999999999997, 99.82, 72.41999999999999, 108.75999999999999, 63.480000000000004, 114.77000000000001, 73.83, 57.78, 121.65, 117.99000000000001, 75.0, 127.9, 125.92999999999999, 75.0, 75.0, 108.75999999999999, 56.209999999999994, 55.11, 77.23, 121.18, 124.50999999999999, 67.87, 116.96, 110.68, 108.76, 102.9, 50.8, 60.730000000000004, 123.83, 126.8, 133.73999999999998, 94.52000000000001, 96.73, 90.97999999999999, 112.86000000000001, 68.00999999999999, 68.00999999999999, 134.11, 99.97, 130.88, 64.34, 68.01, 90.62000000000002, 118.00999999999999, 103.12, 98.43999999999998, 108.76, 134.11, 117.99000000000001, 67.87, 72.93, 96.67, 71.76, 78.95, 80.99000000000001, 135.06, 68.01, 74.16, 136.34, 57.93000000000001, 88.83, 129.98999999999998, 106.44000000000001, 97.34, 62.53000000000001, 96.78000000000002, 96.69, 68.00999999999999, 116.31, 59.730000000000004, 97.34, 85.69000000000001, 68.11, 92.64999999999999, 110.68, 99.42, 108.76, 130.88, 67.87, 67.87, 98.11, 104.1, 101.02, 127.33999999999999, 91.8, 56.32000000000001, 73.83, 102.06, 90.89, 113.77999999999999, 103.85, 68.00999999999999, 112.86000000000001, 90.01, 83.66, 68.52, 77.10000000000001, 88.10000000000001, 104.1, 100.78, 63.480000000000004, 90.98, 51.45, 99.97, 76.37, 84.24, 85.83, 122.47, 63.480000000000004, 72.41999999999999, 92.64999999999999, 98.43999999999998, 72.41999999999999, 137.27, 116.47999999999998, 93.89, 88.10000000000001, 85.42999999999999, 85.43, 112.86000000000001, 88.64999999999999, 65.36, 90.98, 109.62, 93.44, 59.07000000000001, 67.87, 85.69000000000001, 90.98, 96.21, 99.97000000000001, 130.87, 139.43, 96.73, 99.97000000000001, 59.07000000000001, 96.67, 75.34, 104.51999999999998, 93.16, 102.5, 94.86999999999999, 75.0, 96.69, 94.86999999999999, 63.480000000000004, 127.34, 75.0, 108.76, 114.6, 97.42, 105.68, 94.41000000000001, 126.27, 105.41000000000001, 92.64999999999999, 99.97000000000001, 96.69, 112.86000000000001, 135.06, 82.75999999999999, 91.42, 119.73, 89.77, 126.66999999999999, 70.67, 96.76, 78.94, 108.75999999999999, 124.50999999999998, 105.96, 117.99, 80.47999999999999, 57.78, 123.03, 122.09, 57.92999999999999, 120.16000000000001, 76.25999999999999, 120.08, 92.64999999999999, 96.73, 90.62000000000002, 110.75000000000001, 108.75999999999999, 96.55000000000001, 108.21, 104.1, 90.27, 66.47, 137.27, 90.62000000000002, 122.02, 107.64, 101.38, 77.10000000000001, 135.06, 96.73, 68.00999999999999, 59.07000000000001, 67.87, 79.9, 102.42, 116.32999999999998, 122.81, 103.01, 109.19999999999999, 71.11, 89.5, 116.32999999999998, 58.87, 116.96, 135.92, 89.77000000000001, 78.5, 102.42, 66.47, 135.06, 99.97, 114.33, 108.75999999999999, 130.87, 107.97000000000001, 82.19000000000001, 125.28, 78.95, 73.15, 88.42, 66.47, 78.21000000000001, 99.97, 90.62000000000002, 132.59, 99.69, 142.9, 87.04, 99.97000000000001, 124.50999999999998, 139.07999999999998, 125.16999999999999, 130.87, 111.72999999999999, 103.85, 142.89999999999998, 63.480000000000004, 137.27, 68.00999999999999, 116.96, 92.15, 93.89, 86.34, 138.66, 110.99999999999999, 120.08, 120.20000000000002, 126.19, 104.88, 96.73, 109.62, 105.97999999999999, 75.0, 90.9, 112.86000000000001, 99.42, 63.92000000000001, 87.89, 89.26, 13.59, 80.47999999999999, 77.10000000000001, 82.19000000000001, 99.82, 120.52000000000001, 116.96, 99.97, 130.67000000000002, 50.8, 91.42, 98.11, 99.82, 120.20000000000002, 112.86000000000001, 94.52000000000001, 79.9, 123.66, 88.83, 103.13, 116.96, 134.10999999999999, 89.77000000000001, 105.97999999999999, 102.42, 78.21000000000001, 72.2, 108.76, 86.33000000000001, 113.74, 155.25, 82.19, 98.11, 63.480000000000004, 99.82, 129.85, 117.99000000000001, 77.11, 108.76, 68.01, 104.31, 111.28999999999999, 94.22, 109.19999999999999, 120.2, 67.87, 77.10000000000001, 81.01, 125.28, 111.28999999999999, 110.77000000000001, 95.55, 97.62, 98.21000000000001, 92.64999999999999, 98.43999999999998, 99.97000000000001, 115.99999999999997, 99.97, 142.9, 106.76, 91.42, 92.07000000000001, 110.99999999999999, 75.0, 127.44, 96.73, 91.99000000000001, 97.53, 135.06, 103.17000000000002, 83.14, 99.97, 68.01, 132.07, 72.71000000000001, 125.83, 116.92, 121.65, 90.62000000000002, 92.31, 132.59, 91.42, 122.65, 63.480000000000004, 120.08, 108.75999999999999, 108.76, 82.19, 116.33000000000001, 102.42, 75.0, 76.37, 142.89999999999998, 100.8, 67.87, 105.89999999999999, 57.93000000000001, 116.32000000000001, 75.0, 121.65, 93.89, 105.97999999999999, 122.89999999999998, 110.68, 99.97000000000001, 68.52000000000001, 68.52000000000001, 119.56999999999998, 102.42, 98.32000000000001, 89.32000000000001, 105.99000000000001, 142.9, 135.06, 108.76, 56.32000000000001, 96.73, 122.12, 111.72999999999999, 116.32999999999998, 98.32, 123.03000000000002, 46.5, 82.43, 112.86000000000001, 120.20000000000002, 59.07000000000001, 114.6, 110.83000000000001, 68.52000000000001, 133.41, 80.48, 120.52, 106.59, 75.0, 120.08, 128.99, 117.99000000000001, 115.19000000000001, 67.87, 111.65, 128.45, 75.0, 82.7, 120.08, 112.86000000000001, 102.80000000000001, 90.35, 117.99, 122.65, 93.7, 84.23, 69.96000000000001, 110.83000000000001, 134.10999999999999, 99.92999999999999, 116.96, 102.42, 111.28999999999999, 116.32999999999998, 93.70000000000002, 58.42, 70.67, 93.70000000000002, 104.1, 72.71000000000001, 57.92999999999999, 63.480000000000004, 92.27000000000001, 108.72, 99.97, 102.42, 142.9, 102.99, 82.19000000000001, 127.41999999999999, 54.25, 85.6, 90.9, 66.47, 108.44000000000001, 77.11, 96.68999999999998, 117.99000000000001, 100.8, 102.42, 91.42, 116.99000000000001, 63.480000000000004, 75.0, 92.64999999999999, 96.73, 96.73, 128.99, 59.07000000000001, 102.42, 82.19, 85.42999999999999, 107.76, 143.02000000000004, 136.61, 103.13, 128.99, 108.76, 99.97000000000001, 133.41, 122.65, 85.86, 76.63000000000001, 91.63, 85.52, 99.97, 109.20000000000002, 102.42, 82.19, 75.0, 99.97, 109.62, 99.97000000000001, 142.89999999999998, 118.85000000000001, 96.73, 156.38, 57.93000000000001, 94.86999999999999, 108.75999999999999, 94.80999999999999, 125.83, 99.97, 109.62, 112.86000000000001, 126.00000000000001, 82.19, 75.0, 120.20000000000002, 112.86000000000001, 77.3, 120.52000000000001, 82.19, 93.70000000000002, 131.23000000000002, 108.75999999999999, 120.20000000000002, 108.76, 68.00999999999999, 109.62, 111.72999999999999, 115.31, 95.08, 98.11, 79.9, 82.19, 102.42, 77.11, 117.99, 108.76, 96.69, 122.75000000000001, 152.12999999999997, 108.75999999999999, 96.72999999999999, 102.42, 92.07, 75.0, 81.0, 99.97, 108.76, 96.73, 96.72999999999999, 80.48, 77.3, 106.33, 95.08, 116.99000000000001, 63.480000000000004, 98.69, 129.85, 105.96, 121.65, 155.78999999999996, 122.65, 116.33000000000001, 104.31, 120.52000000000001, 102.42, 80.13, 86.08, 63.480000000000004, 76.37, 70.67, 99.97, 109.19999999999999, 126.19, 122.65, 91.42, 112.14, 82.83999999999999, 57.93000000000001, 116.99000000000001, 109.19999999999999, 80.48, 97.33999999999999, 92.64999999999999, 96.21, 134.11, 142.89999999999998, 109.62, 142.89999999999998, 84.23, 63.480000000000004, 108.62, 54.71, 83.79999999999998, 72.41999999999999, 155.96, 99.97000000000001, 128.99, 111.73, 82.19, 107.97, 94.86999999999999, 98.11, 63.480000000000004, 81.0, 92.56, 134.11, 134.11, 105.17999999999999, 81.66000000000001, 132.59, 76.63000000000001, 117.04, 116.96, 96.73, 116.96000000000001, 108.75999999999999, 122.51, 105.97999999999999, 76.36, 124.83, 88.83, 76.37, 68.01, 98.37, 98.37, 116.32999999999998, 57.93000000000001, 54.69, 81.71999999999998, 111.52999999999997, 120.20000000000002, 108.75999999999999, 116.96, 108.75999999999999, 90.62000000000002, 82.19, 111.65, 94.86999999999999, 109.62, 116.96, 72.65, 67.58, 135.64999999999998, 100.98, 59.07000000000001, 134.11, 116.96000000000001, 117.99, 116.96, 108.75999999999999, 128.36, 95.08000000000001, 98.06, 76.37, 142.89999999999998, 120.19999999999999, 102.67, 97.33999999999999, 91.42, 86.08, 120.19999999999999, 119.91000000000001, 146.58, 108.75999999999999, 117.99, 99.83, 115.21000000000001, 63.480000000000004, 66.47, 128.99, 101.38, 59.07000000000001, 80.53999999999999, 142.9, 66.47, 66.47, 120.2, 128.99, 99.97, 117.99000000000001, 109.20000000000002, 109.62, 109.2, 91.42, 107.97, 98.32, 91.63, 70.67, 86.33999999999999, 116.96, 116.96, 57.93000000000001, 132.59, 99.26, 142.35, 94.86999999999999, 117.99, 92.31, 133.41000000000003, 120.2, 108.76, 75.0, 117.99, 82.62, 110.99999999999999, 110.68, 109.62, 109.62, 99.97, 108.75999999999999, 99.97, 125.28, 132.59, 100.98, 102.42, 82.19, 63.92, 78.21000000000001, 71.76, 116.96, 120.2, 110.68, 109.19999999999999, 129.85, 109.2, 121.11, 96.73, 86.48, 109.62, 126.19, 95.93, 93.69999999999999, 94.86999999999999, 75.0, 135.06, 142.9, 126.21000000000001, 102.42, 86.08, 75.0, 134.51, 102.42, 117.03999999999999, 130.87, 132.59, 107.97, 122.10999999999999, 102.42, 82.62, 112.14000000000001, 82.62, 88.83, 123.72000000000001, 91.41, 72.41999999999999, 108.75999999999999, 92.31, 109.19999999999999, 134.11, 133.41, 116.32999999999998, 125.56, 107.76, 138.66, 120.20000000000002, 72.2, 97.89, 117.99, 79.60000000000001, 66.47, 110.57, 123.72000000000001, 108.75999999999999, 139.07999999999998, 143.34, 116.96000000000001, 134.11, 130.87, 135.92, 129.85, 82.19, 116.32999999999998, 89.58000000000001, 72.07000000000001, 100.65, 97.48, 117.04, 99.97000000000001, 125.92999999999999, 81.66000000000001, 89.59, 120.08, 72.41999999999999, 134.11, 108.75999999999999, 99.97, 121.65, 102.14999999999999, 109.62, 138.3, 62.53, 111.26, 132.59, 111.28999999999999, 102.42, 93.70000000000002, 85.86, 99.25, 85.58999999999999, 100.86, 95.30999999999999, 81.71999999999998, 75.0, 130.67, 134.11, 129.85000000000002, 102.42, 100.86, 99.97, 106.99000000000001, 90.46000000000001, 123.72, 109.62, 126.19, 128.99, 129.85, 151.09999999999997, 134.11, 98.32000000000001, 97.41999999999999, 76.81, 115.31, 82.84, 94.86999999999999, 116.96, 134.11, 107.01, 131.9, 102.06, 132.59, 97.61999999999999, 107.76, 88.83, 90.19, 120.20000000000002, 135.92000000000002, 180.28, 109.19999999999999, 135.06, 69.96000000000001, 77.24000000000001, 106.33, 132.20000000000002, 103.75, 86.98, 102.42, 82.62, 136.61, 85.83000000000001, 116.96, 110.68, 120.19999999999999, 135.06, 142.9, 120.2, 120.20000000000002, 109.22999999999999, 122.65, 82.83999999999999, 98.11, 110.99999999999999, 82.83999999999999, 75.0, 129.85000000000002, 120.20000000000002, 101.31, 109.19999999999999, 116.96, 96.73, 116.96000000000001, 130.87, 120.19999999999999, 142.9, 130.87, 163.13, 142.89999999999998, 142.9, 96.73, 102.42, 75.0, 82.84, 65.77000000000001, 130.87, 68.01, 59.07000000000001, 136.65, 99.25, 99.69000000000001, 75.94, 86.8, 57.36, 116.96, 110.68, 122.75, 129.85, 105.96000000000001, 177.04000000000002, 116.96, 142.89999999999998, 103.13, 120.24, 110.49999999999999, 116.02, 116.32999999999998, 94.86999999999999, 63.28, 63.480000000000004, 116.96000000000001, 134.11, 130.87, 155.78999999999996, 130.87, 134.51, 76.63000000000001, 93.69999999999999, 82.83999999999999, 100.44999999999999, 120.52000000000001, 132.55, 120.20000000000002, 142.9, 126.86000000000001, 126.19, 117.03999999999999, 121.65, 135.06, 99.42, 63.42, 120.20000000000002, 76.63, 122.65, 88.83, 75.0, 68.30000000000001, 102.42, 94.86999999999999, 54.25, 142.9, 134.41, 68.52000000000001, 102.42, 126.13, 86.08, 96.73, 99.82, 142.9, 110.68, 99.97000000000001, 126.19, 120.19999999999999, 125.83, 142.89999999999998, 119.49, 54.25, 63.480000000000004, 102.42, 92.07, 63.480000000000004, 103.13, 82.83999999999999, 99.71000000000001, 109.2, 102.06, 71.76, 102.49000000000001, 119.48000000000002, 102.49000000000001, 88.83, 95.32000000000001, 108.72999999999999, 132.46, 101.31, 93.47000000000001, 105.5, 119.13000000000001, 84.24000000000001, 85.94, 125.83000000000001, 177.04000000000002, 142.89999999999998, 142.89999999999998, 138.72000000000003, 120.19999999999999, 120.20000000000002, 102.42, 155.96, 75.0, 91.63, 63.480000000000004, 112.14, 82.83999999999999, 95.08, 130.87, 134.11, 102.49000000000001, 103.88000000000001, 103.88000000000001, 93.69999999999999, 128.75, 105.8, 100.01, 100.45, 91.22, 91.66, 82.43, 104.55, 100.45, 106.44000000000001, 97.65, 106.88000000000001, 87.9, 87.04, 102.7, 105.94, 99.95, 109.85, 107.79, 117.36000000000001, 101.31, 65.55, 142.89999999999998, 142.89999999999998, 116.96, 116.96000000000001, 116.96000000000001, 143.33999999999997, 120.19999999999999, 134.10999999999999, 112.86000000000001, 86.08, 107.97, 78.04, 88.83, 66.52, 67.58, 91.66, 106.58999999999999, 105.96000000000001, 143.34, 114.41, 117.42, 126.65, 82.80000000000001, 104.03000000000002, 59.07000000000001, 116.77, 89.52, 115.38000000000001, 69.01, 151.09999999999997, 142.9, 134.11, 130.87, 126.19, 120.19999999999999, 151.09999999999997, 114.83000000000001, 120.19999999999999, 134.11, 142.89999999999998, 142.9, 88.83, 82.83999999999999, 88.91000000000001, 114.83000000000001, 75.0, 66.47, 91.66, 114.83000000000001, 132.59, 91.42, 72.07, 137.19, 142.89999999999998, 91.80000000000001, 93.44, 68.52000000000001, 106.67999999999999, 101.08, 101.08, 94.65, 126.19000000000001, 129.85000000000002, 130.87, 120.19999999999999, 117.99, 109.2, 155.78999999999996, 177.04, 142.89999999999998, 134.11, 137.19, 116.96, 89.56, 57.49, 86.08, 109.14, 66.47, 105.46, 82.83999999999999, 88.83, 133.55, 123.72000000000001, 48.7, 109.97000000000001, 151.09999999999997, 140.75, 129.85000000000002, 93.44, 132.03000000000003, 116.77, 128.79000000000002, 93.7, 106.59, 84.31, 116.76, 88.83, 103.40999999999998, 100.44999999999999, 117.99, 137.19, 152.13, 108.48000000000002, 110.68, 113.8, 120.20000000000002, 151.1, 129.85000000000002, 151.09999999999997, 152.57, 129.85000000000002, 94.86999999999999, 82.83999999999999, 60.040000000000006, 103.07000000000001, 86.08, 110.57, 88.42, 102.80000000000001, 114.83000000000001, 82.83999999999999, 103.07, 143.93, 88.91000000000001, 88.83, 72.07, 88.82999999999998, 88.91000000000001, 82.83999999999999, 88.83, 108.65, 108.65, 101.31, 98.89, 98.89, 97.65, 129.85000000000002, 116.96000000000001, 126.19, 110.68, 120.19999999999999, 137.19, 155.78999999999996, 134.11, 154.33999999999997, 137.19, 113.80000000000001, 146.14, 142.89999999999998, 151.10000000000002, 130.87, 93.01, 59.07000000000001, 88.91000000000001, 85.58999999999999, 105.89999999999999, 99.91, 94.18, 86.08, 88.91000000000001, 86.07999999999998, 82.83999999999999, 126.86000000000001, 99.91, 96.67, 86.08, 88.83, 111.86, 85.80000000000001, 110.49999999999999, 82.83999999999999, 108.62, 80.87, 115.01, 114.83000000000001, 126.13, 132.58999999999997, 98.06, 109.14, 124.06000000000002, 103.86999999999999, 94.86999999999999, 96.66000000000001, 106.30999999999999, 103.07000000000001, 86.08, 132.58999999999997, 79.60000000000001, 86.08, 88.83, 83.59, 154.33999999999997, 106.30999999999999, 94.86999999999999, 142.89999999999998, 155.37, 116.76, 93.01, 116.76, 87.47999999999999, 88.83, 88.83, 88.83, 108.65, 108.72999999999999, 97.65, 108.65, 78.25, 84.24000000000001, 78.25, 87.04, 110.26, 121.62, 113.78, 93.47, 96.71000000000001, 105.94, 96.18, 114.19999999999999, 106.24, 101.31, 114.19999999999999, 97.13, 100.37, 109.6, 117.96, 108.65, 89.59, 89.59, 89.59, 155.78999999999996, 142.89999999999998, 137.19, 152.13, 120.19999999999999, 68.74000000000001, 143.33999999999997, 180.2, 142.9, 154.42, 91.63, 118.07000000000001, 88.83, 137.19, 155.78999999999996, 103.07000000000001, 109.97000000000001, 142.89999999999998, 116.76, 116.76, 103.86999999999999, 57.93000000000001, 86.08, 113.74, 103.07000000000001, 103.86999999999999, 79.60000000000001, 88.83, 82.83999999999999, 106.21, 135.32, 125.83000000000001, 103.86999999999999, 113.74, 125.92999999999999, 141.68, 140.55, 74.92, 88.83, 79.6, 86.08, 86.08, 103.86999999999999, 93.01, 103.86999999999999, 113.74, 142.91999999999996, 69.45, 78.16, 102.75000000000001, 60.67999999999999, 78.16, 57.93000000000001, 87.81, 123.72, 78.16, 103.86999999999999, 113.74, 122.68999999999998, 70.82000000000001, 70.82000000000001, 143.78999999999996, 115.10000000000001, 63.92, 57.93000000000001, 103.86999999999999, 94.86999999999999, 103.86999999999999, 70.82000000000001, 116.97999999999999, 154.14, 103.86999999999999, 63.92, 93.52, 103.87, 115.90000000000002, 123.47999999999998, 123.23999999999998, 102.75, 123.24, 61.54, 69.91000000000001, 103.86999999999999, 132.02999999999997, 149.01999999999998, 136.13, 80.99, 86.8, 140.23000000000002, 103.86999999999999, 154.81, 103.86999999999999, 86.8, 103.86999999999999, 86.8, 152.57999999999998, 103.87, 125.99, 116.75999999999998, 119.99999999999999, 123.24, 103.86999999999999, 116.76, 108.49000000000001, 127.65999999999998, 86.8, 126.95000000000002, 107.11, 157.3, 85.43, 132.02999999999997, 148.95, 129.23000000000002, 96.02999999999999, 86.8, 124.10000000000001, 86.8, 86.8, 123.24, 116.76, 147.02999999999997, 86.8, 116.75999999999998, 138.01999999999998, 125.99, 123.24, 103.86999999999999, 149.01999999999998, 150.89999999999998, 123.24, 116.76, 120.00000000000001, 129.23000000000002, 143.79000000000002, 96.02999999999999, 103.86999999999999, 149.01999999999998, 103.86999999999999, 86.8, 103.86999999999999, 103.86999999999999, 102.42, 103.86999999999999, 69.72999999999999, 127.66, 103.86999999999999, 103.86999999999999, 116.75999999999998, 96.02999999999999, 86.8, 163.08999999999997, 103.86999999999999, 105.57999999999998, 124.10000000000001, 142.78000000000003, 86.8, 123.24, 102.42000000000002, 103.86999999999999, 96.02999999999999], 'NumAromaticRings': [4, 5, 2, 2, 3, 3, 4, 3, 5, 3, 3, 3, 2, 3, 4, 4, 1, 1, 3, 1, 4, 1, 3, 1, 3, 2, 2, 1, 3, 3, 4, 5, 1, 4, 1, 1, 3, 4, 4, 4, 4, 4, 4, 4, 3, 3, 3, 3, 4, 4, 4, 4, 4, 4, 4, 4, 4, 4, 1, 3, 4, 3, 3, 4, 0, 4, 4, 5, 5, 2, 4, 3, 3, 4, 4, 4, 3, 3, 3, 3, 3, 4, 1, 4, 3, 4, 3, 1, 3, 3, 4, 2, 5, 2, 2, 0, 4, 4, 4, 4, 0, 4, 2, 2, 3, 2, 4, 3, 3, 1, 4, 4, 4, 4, 4, 3, 4, 4, 4, 4, 4, 4, 1, 2, 4, 4, 3, 3, 4, 1, 4, 1, 3, 4, 3, 3, 3, 3, 3, 4, 3, 3, 3, 3, 1, 2, 4, 4, 3, 3, 3, 4, 0, 4, 4, 4, 4, 3, 2, 3, 3, 4, 3, 5, 4, 4, 2, 3, 5, 3, 4, 4, 4, 4, 3, 1, 4, 1, 3, 4, 0, 4, 3, 3, 4, 4, 4, 3, 3, 4, 4, 3, 4, 4, 3, 4, 3, 4, 4, 4, 4, 2, 3, 3, 3, 0, 4, 4, 3, 4, 4, 2, 0, 3, 4, 5, 1, 4, 3, 3, 3, 4, 5, 2, 5, 3, 3, 4, 4, 3, 2, 3, 4, 0, 3, 4, 0, 4, 4, 4, 4, 2, 5, 4, 5, 3, 3, 4, 3, 3, 4, 3, 3, 5, 3, 4, 3, 0, 4, 4, 4, 3, 0, 4, 3, 3, 4, 4, 3, 3, 3, 1, 2, 3, 3, 3, 3, 4, 2, 3, 4, 3, 4, 3, 3, 3, 2, 4, 4, 2, 3, 1, 3, 3, 3, 3, 3, 0, 4, 3, 3, 4, 4, 3, 3, 3, 0, 4, 4, 3, 1, 2, 2, 4, 1, 3, 3, 3, 4, 3, 3, 3, 3, 0, 4, 3, 4, 4, 4, 1, 1, 5, 4, 4, 3, 5, 3, 3, 4, 4, 4, 4, 4, 3, 0, 4, 2, 3, 3, 4, 4, 4, 5, 3, 4, 4, 3, 3, 3, 3, 2, 3, 3, 0, 3, 2, 2, 3, 0, 0, 4, 2, 3, 3, 4, 2, 3, 4, 3, 3, 3, 4, 4, 4, 0, 4, 2, 3, 3, 0, 3, 3, 3, 2, 4, 4, 2, 2, 2, 5, 3, 3, 2, 3, 2, 2, 4, 5, 3, 3, 5, 4, 4, 4, 4, 5, 2, 0, 4, 4, 3, 3, 3, 4, 4, 2, 2, 3, 3, 2, 4, 3, 2, 5, 5, 4, 4, 2, 3, 2, 4, 3, 4, 5, 4, 4, 4, 2, 3, 3, 4, 2, 1, 3, 4, 2, 4, 3, 4, 2, 2, 3, 4, 2, 2, 4, 4, 2, 2, 2, 4, 4, 2, 4, 3, 2, 5, 4, 2, 3, 4, 2, 0, 4, 4, 2, 1, 3, 2, 2, 2, 3, 4, 4, 4, 3, 2, 2, 4, 2, 4, 3, 2, 2, 4, 2, 3, 4, 4, 2, 3, 4, 5, 2, 4, 4, 2, 3, 2, 3, 4, 4, 2, 2, 4, 3, 2, 0, 2, 3, 3, 2, 2, 2, 4, 3, 5, 0, 2, 2, 3, 2, 2, 3, 4, 4, 5, 0, 4, 2, 3, 4, 4, 4, 4, 4, 4, 4, 3, 4, 4, 3, 2, 4, 4, 4, 4, 2, 3, 2, 2, 2, 3, 3, 4, 4, 4, 4, 3, 3, 4, 3, 4, 1, 3, 3, 2, 4, 4, 3, 3, 3, 4, 4, 4, 2, 4, 2, 4, 5, 3, 3, 4, 2, 2, 2, 2, 2, 3, 3, 3, 0, 0, 2, 3, 5, 2, 2, 3, 3, 3, 4, 2, 2, 2, 2, 4, 2, 2, 3, 4, 4, 5, 4, 0, 4, 4, 3, 4, 4, 4, 4, 2, 2, 1, 4, 4, 2, 4, 2, 2, 3, 2, 3, 3, 0, 4, 2, 4, 2, 3, 3, 2, 4, 2, 2, 4, 3, 2, 2, 4, 3, 5, 2, 2, 2, 5, 2, 2, 4, 0, 4, 3, 3, 2, 5, 4, 2, 4, 4, 2, 2, 3, 3, 3, 3, 0, 0, 0, 2, 2, 3, 4, 0, 3, 2, 2, 2, 4, 0, 3, 2, 2, 4, 2, 2, 1, 0, 0, 1, 4, 3, 3, 4, 2, 5, 4, 4, 2, 3, 2, 4, 2, 4, 2, 0, 3, 2, 4, 2, 3, 2, 4, 3, 5, 4, 4, 2, 2, 2, 3, 2, 2, 0, 4, 2, 2, 2, 4, 4, 4, 0, 4, 3, 0, 3, 1, 2, 2, 3, 4, 0, 4, 3, 2, 2, 3, 3, 4, 4, 4, 2, 3, 2, 0, 0, 4, 4, 2, 3, 3, 1, 1, 4, 4, 3, 2, 2, 4, 2, 3, 1, 0, 0, 2, 2, 0, 4, 4, 0, 0, 4, 4, 4, 2, 2, 2, 2, 5, 2, 2, 2, 0, 3, 4, 4, 3, 2, 4, 2, 2, 4, 0, 2, 3, 4, 4, 2, 3, 3, 5, 5, 4, 0, 0, 4, 2, 2, 3, 0, 0, 0, 4, 4, 2, 3, 2, 4, 4, 4, 4, 2, 3, 0, 1, 3, 2, 4, 4, 0, 0, 1, 4, 3, 2, 2, 2, 3, 2, 2, 0, 0, 1, 2, 3, 4, 2, 2, 3, 2, 3, 4, 2, 3, 0, 4, 4, 2, 2, 2, 2, 4, 1, 1, 4, 2, 2, 2, 3, 3, 2, 0, 3, 4, 4, 3, 2, 3, 2, 0, 0, 0, 4, 4, 2, 4, 4, 4, 4, 4, 3, 3, 2, 0, 2, 3, 0, 1, 4, 4, 2, 3, 3, 4, 3, 2, 3, 0, 0, 4, 4, 4, 2, 2, 2, 2, 4, 0, 1, 0, 4, 3, 3, 4, 2, 2, 2, 2, 0, 3, 3, 4, 4, 2, 2, 0, 0, 4, 2, 2, 2, 2, 2, 2, 4, 4, 4, 2, 3, 2, 2, 2, 2, 3, 1, 4, 2, 2, 2, 2, 0, 4, 4, 2, 2, 2, 3, 2, 0, 1, 1, 4, 3, 0, 0, 4, 2, 2, 3, 2, 2, 2, 2, 0, 4, 4, 2, 2, 2, 2, 2, 3, 2, 4, 1, 4, 4, 4, 2, 2, 2, 4, 0, 0, 1, 0, 0, 4, 4, 4, 4, 2, 2, 2, 2, 0, 1, 4, 4, 4, 3, 2, 3, 4, 2, 2, 2, 3, 2, 2, 4, 4, 4, 3, 2, 2, 4, 2, 2, 0, 0, 1, 4, 4, 4, 4, 5, 2, 2, 5, 5, 4, 4, 2, 2, 2, 2, 2, 2, 0, 4, 4, 4, 4, 3, 4, 4, 0, 4, 4, 4, 4, 2, 2, 2, 2, 5, 0, 1, 4, 2, 2, 4, 4, 3, 3, 3, 2, 2, 2, 2, 2, 0, 1, 4, 4, 2, 2, 4, 4, 0, 4, 2, 3, 3, 2, 2, 3, 1, 4, 3, 2, 3, 3, 2, 2, 3, 3, 2, 2, 2, 2, 2, 3, 2, 0, 1, 1, 4, 2, 4, 2, 2, 4, 4, 0, 0, 4, 2, 4, 2, 2, 2, 4, 2, 3, 4, 3, 2, 3, 2, 2, 2, 0, 4, 3, 0, 0, 4, 4, 5, 2, 2, 3, 2, 2, 2, 1, 2, 4, 2, 2, 4, 4, 4, 4, 2, 2, 0, 0, 4, 4, 0, 0, 2, 2, 3, 1, 1, 0, 4, 4, 3, 4, 3, 3, 2, 2, 5, 2, 2, 2, 1, 1, 4, 4, 2, 4, 3, 2, 4, 3, 3, 3, 2, 2, 2, 2, 2, 2, 2, 2, 0, 1, 5, 5, 0, 4, 2, 2, 4, 5, 4, 2, 2, 2, 2, 2, 2, 3, 3, 3, 3, 4, 4, 0, 1, 4, 3, 4, 4, 4, 4, 4, 4, 3, 2, 2, 0, 4, 2, 3, 4, 3, 3, 2, 2, 2, 2, 2, 1, 4, 4, 1, 4, 4, 2, 2, 4, 3, 3, 4, 4, 4, 4, 2, 2, 2, 2, 2, 3, 4, 3, 4, 4, 3, 5, 0, 3, 3, 3, 2, 3, 2, 2, 2, 2, 2, 2, 0, 4, 3, 4, 4, 4, 2, 2, 4, 2, 2, 2, 2, 2, 2, 2, 2, 2, 2, 2, 2, 1, 4, 4, 4, 2, 3, 3, 1, 4, 3, 3, 3, 1, 2, 3, 2, 2, 2, 2, 2, 2, 4, 1, 4, 3, 1, 4, 4, 4, 2, 2, 2, 3, 2, 0, 3, 4, 4, 4, 2, 2, 2, 3, 4, 2, 2, 3, 2, 2, 4, 2, 4, 0, 4, 4, 3, 0, 4, 4, 2, 3, 4, 0, 4, 4, 2, 3, 2, 3, 2, 2, 2, 2, 2, 0, 4, 4, 1, 4, 4, 4, 4, 3, 2, 3, 4, 4, 4, 4, 4, 4, 4, 4, 4, 4, 4, 5, 4, 2, 2, 2, 2, 3, 2, 2, 2, 0, 4, 4, 4, 4, 4, 4, 1, 2, 2, 3, 3, 3, 4, 3, 5, 4, 4, 4, 4, 4, 5, 4, 4, 4, 4, 4, 4, 4, 4, 4, 4, 4, 4, 5, 2, 2, 2, 2, 2, 2, 2, 2, 2, 2, 4, 1, 4, 4, 5, 4, 4, 4, 2, 2, 5, 3, 3, 3, 2, 3, 3, 4, 4, 4, 2, 2, 2, 2, 2, 2, 2, 3, 2, 2, 2, 2, 4, 4, 0, 3, 4, 3, 4, 3, 4, 0, 5, 2, 2, 3, 4, 4, 3, 3, 3, 3, 2, 2, 2, 2, 2, 2, 3, 2, 3, 2, 2, 2, 4, 4, 4, 4, 3, 4, 4, 4, 2, 3, 4, 4, 2, 2, 2, 4, 3, 3, 3, 4, 4, 4, 1, 4, 4, 4, 2, 2, 2, 3, 3, 2, 2, 2, 2, 2, 2, 2, 4, 4, 4, 4, 4, 3, 4, 3, 3, 4, 4, 4, 0, 4, 5, 4, 0, 4, 4, 4, 4, 4, 2, 2, 4, 2, 2, 2, 3, 2, 2, 3, 2, 2, 2, 2, 2, 3, 2, 2, 3, 3, 0, 4, 4, 4, 4, 4, 0, 4, 4, 4, 4, 4, 4, 4, 4, 4, 4, 4, 4, 4, 4, 3, 4, 4, 4, 4, 4, 3, 4, 4, 4, 4, 4, 4, 4, 4, 4, 5, 2, 4, 4, 2, 2, 3, 3, 1, 4, 4, 3, 4, 4, 4, 4, 4, 4, 4, 4, 4, 4, 4, 4, 4, 4, 4, 4, 4, 5, 5, 5, 4, 4, 4, 4, 4, 4, 4, 4, 3, 2, 2, 2, 2, 3, 2, 2, 2, 2, 4, 3, 4, 2, 3, 4, 4, 3, 3, 3, 3, 4, 4, 4, 4, 3, 4, 4, 4, 4, 4, 2, 3, 4, 4, 4, 3, 4, 4, 4, 4, 4, 3, 3, 3, 4, 4, 5, 4, 3, 4, 4, 4, 4, 4, 4, 3, 4, 4, 4, 4, 3, 4, 4, 4, 3, 4, 3, 4, 4, 3, 3, 4, 3, 3, 3, 3, 3, 3, 3, 5, 4, 3, 3, 3, 4, 4, 3, 3, 3, 3, 3, 3, 3, 3, 3, 3, 3, 3, 3, 3, 3, 3, 0, 3, 3, 0, 3, 3, 0, 3, 0, 3, 3, 3, 3, 3, 3, 3, 3, 3, 3, 3, 3, 3, 3, 3, 3, 3, 3, 3, 3, 3, 3, 3, 3, 3, 3, 3, 3, 3, 0, 3, 3, 3, 3, 3, 3, 3, 3, 3, 3, 0, 3, 3, 3, 3, 0, 3, 3], 'pIC50': [4.26, 4.34, 4.53, 4.56, 4.59, 4.6, 4.61, 4.67, 4.68, 4.68, 4.69, 4.73, 4.73, 4.74, 4.75, 4.78, 4.79, 4.79, 4.82, 4.83, 4.84, 4.86, 4.87, 4.88, 4.89, 4.91, 4.92, 4.93, 4.94, 4.96, 4.96, 4.96, 4.99, 5.0, 5.0, 5.0, 5.0, 5.0, 5.0, 5.0, 5.0, 5.0, 5.0, 5.0, 5.0, 5.0, 5.0, 5.0, 5.0, 5.0, 5.0, 5.0, 5.0, 5.0, 5.0, 5.0, 5.0, 5.01, 5.02, 5.02, 5.05, 5.07, 5.09, 5.14, 5.14, 5.15, 5.15, 5.16, 5.16, 5.16, 5.17, 5.18, 5.19, 5.19, 5.19, 5.19, 5.19, 5.22, 5.22, 5.23, 5.24, 5.25, 5.25, 5.25, 5.29, 5.3, 5.3, 5.32, 5.32, 5.33, 5.33, 5.36, 5.38, 5.39, 5.41, 5.42, 5.42, 5.43, 5.43, 5.47, 5.47, 5.49, 5.5, 5.5, 5.5, 5.51, 5.51, 5.51, 5.51, 5.52, 5.52, 5.52, 5.52, 5.52, 5.52, 5.52, 5.52, 5.52, 5.52, 5.52, 5.53, 5.54, 5.54, 5.54, 5.54, 5.54, 5.54, 5.55, 5.55, 5.56, 5.56, 5.57, 5.57, 5.57, 5.57, 5.58, 5.58, 5.58, 5.6, 5.6, 5.6, 5.6, 5.61, 5.63, 5.64, 5.66, 5.67, 5.67, 5.67, 5.67, 5.68, 5.7, 5.7, 5.7, 5.74, 5.75, 5.75, 5.75, 5.75, 5.76, 5.77, 5.77, 5.77, 5.77, 5.78, 5.79, 5.8, 5.8, 5.81, 5.81, 5.82, 5.82, 5.83, 5.83, 5.83, 5.84, 5.84, 5.84, 5.85, 5.85, 5.85, 5.85, 5.85, 5.87, 5.87, 5.88, 5.88, 5.89, 5.89, 5.9, 5.9, 5.9, 5.91, 5.91, 5.91, 5.91, 5.92, 5.92, 5.92, 5.92, 5.92, 5.92, 5.93, 5.93, 5.93, 5.94, 5.94, 5.94, 5.96, 5.96, 5.96, 5.96, 5.96, 5.96, 5.96, 5.96, 5.97, 5.97, 5.97, 5.98, 5.98, 5.99, 5.99, 6.0, 6.0, 6.0, 6.0, 6.0, 6.0, 6.0, 6.0, 6.01, 6.01, 6.02, 6.02, 6.02, 6.03, 6.03, 6.03, 6.04, 6.04, 6.04, 6.04, 6.04, 6.05, 6.05, 6.05, 6.05, 6.05, 6.06, 6.07, 6.07, 6.07, 6.08, 6.08, 6.08, 6.08, 6.09, 6.09, 6.09, 6.1, 6.1, 6.1, 6.11, 6.12, 6.12, 6.13, 6.14, 6.14, 6.16, 6.16, 6.16, 6.16, 6.16, 6.16, 6.16, 6.16, 6.17, 6.17, 6.17, 6.17, 6.17, 6.17, 6.18, 6.18, 6.18, 6.18, 6.19, 6.19, 6.19, 6.19, 6.2, 6.21, 6.21, 6.21, 6.21, 6.21, 6.22, 6.22, 6.22, 6.23, 6.23, 6.23, 6.23, 6.24, 6.24, 6.24, 6.24, 6.24, 6.24, 6.24, 6.24, 6.24, 6.25, 6.25, 6.25, 6.25, 6.25, 6.26, 6.26, 6.26, 6.26, 6.27, 6.27, 6.28, 6.28, 6.28, 6.28, 6.28, 6.29, 6.29, 6.3, 6.3, 6.3, 6.3, 6.3, 6.3, 6.3, 6.31, 6.31, 6.31, 6.32, 6.32, 6.32, 6.32, 6.33, 6.33, 6.33, 6.33, 6.33, 6.34, 6.34, 6.34, 6.35, 6.35, 6.35, 6.35, 6.35, 6.35, 6.35, 6.36, 6.36, 6.37, 6.37, 6.37, 6.37, 6.37, 6.38, 6.38, 6.38, 6.38, 6.38, 6.38, 6.39, 6.4, 6.4, 6.4, 6.41, 6.41, 6.41, 6.41, 6.41, 6.42, 6.42, 6.42, 6.42, 6.42, 6.42, 6.42, 6.43, 6.43, 6.43, 6.43, 6.43, 6.44, 6.44, 6.45, 6.45, 6.45, 6.45, 6.46, 6.46, 6.46, 6.46, 6.46, 6.47, 6.47, 6.48, 6.48, 6.48, 6.49, 6.49, 6.49, 6.49, 6.49, 6.5, 6.5, 6.5, 6.5, 6.5, 6.5, 6.51, 6.51, 6.51, 6.51, 6.51, 6.51, 6.51, 6.51, 6.51, 6.52, 6.53, 6.54, 6.54, 6.54, 6.54, 6.54, 6.54, 6.54, 6.55, 6.56, 6.56, 6.56, 6.57, 6.57, 6.57, 6.57, 6.57, 6.57, 6.57, 6.58, 6.58, 6.58, 6.59, 6.59, 6.59, 6.6, 6.6, 6.6, 6.6, 6.61, 6.61, 6.61, 6.62, 6.62, 6.62, 6.62, 6.62, 6.63, 6.63, 6.64, 6.64, 6.64, 6.64, 6.64, 6.65, 6.65, 6.65, 6.65, 6.65, 6.65, 6.65, 6.66, 6.66, 6.66, 6.66, 6.66, 6.66, 6.67, 6.67, 6.67, 6.67, 6.67, 6.67, 6.67, 6.67, 6.68, 6.68, 6.69, 6.69, 6.7, 6.7, 6.7, 6.7, 6.7, 6.7, 6.71, 6.71, 6.71, 6.71, 6.71, 6.72, 6.72, 6.72, 6.72, 6.73, 6.73, 6.73, 6.73, 6.74, 6.74, 6.74, 6.74, 6.74, 6.74, 6.75, 6.75, 6.75, 6.75, 6.75, 6.75, 6.75, 6.76, 6.76, 6.76, 6.76, 6.77, 6.77, 6.77, 6.77, 6.77, 6.77, 6.77, 6.78, 6.78, 6.78, 6.78, 6.79, 6.79, 6.79, 6.79, 6.8, 6.8, 6.8, 6.8, 6.8, 6.8, 6.81, 6.81, 6.81, 6.81, 6.81, 6.82, 6.82, 6.82, 6.82, 6.82, 6.82, 6.82, 6.82, 6.82, 6.84, 6.84, 6.84, 6.84, 6.84, 6.84, 6.84, 6.84, 6.85, 6.85, 6.85, 6.85, 6.85, 6.85, 6.85, 6.85, 6.86, 6.86, 6.86, 6.87, 6.87, 6.87, 6.87, 6.87, 6.87, 6.87, 6.87, 6.88, 6.88, 6.88, 6.89, 6.89, 6.89, 6.89, 6.89, 6.89, 6.89, 6.9, 6.9, 6.9, 6.9, 6.9, 6.91, 6.91, 6.91, 6.91, 6.91, 6.92, 6.92, 6.92, 6.92, 6.92, 6.92, 6.92, 6.92, 6.92, 6.92, 6.92, 6.93, 6.93, 6.93, 6.93, 6.94, 6.94, 6.94, 6.94, 6.94, 6.95, 6.95, 6.95, 6.95, 6.95, 6.96, 6.96, 6.96, 6.96, 6.96, 6.96, 6.96, 6.96, 6.96, 6.96, 6.97, 6.97, 6.97, 6.97, 6.97, 6.97, 6.97, 6.97, 6.98, 6.98, 6.98, 6.99, 6.99, 7.0, 7.0, 7.0, 7.0, 7.0, 7.0, 7.0, 7.0, 7.0, 7.0, 7.01, 7.01, 7.01, 7.01, 7.01, 7.01, 7.01, 7.01, 7.01, 7.02, 7.02, 7.02, 7.03, 7.03, 7.03, 7.03, 7.03, 7.04, 7.04, 7.04, 7.04, 7.04, 7.04, 7.04, 7.04, 7.05, 7.05, 7.05, 7.05, 7.05, 7.05, 7.06, 7.06, 7.06, 7.06, 7.06, 7.07, 7.07, 7.07, 7.07, 7.07, 7.07, 7.07, 7.07, 7.07, 7.07, 7.07, 7.07, 7.08, 7.08, 7.08, 7.08, 7.08, 7.08, 7.08, 7.08, 7.08, 7.09, 7.09, 7.09, 7.09, 7.09, 7.1, 7.1, 7.1, 7.1, 7.11, 7.11, 7.11, 7.11, 7.11, 7.11, 7.11, 7.12, 7.12, 7.12, 7.12, 7.12, 7.12, 7.12, 7.12, 7.12, 7.13, 7.13, 7.13, 7.13, 7.14, 7.14, 7.14, 7.14, 7.14, 7.14, 7.14, 7.14, 7.15, 7.15, 7.15, 7.15, 7.15, 7.16, 7.16, 7.16, 7.16, 7.16, 7.16, 7.16, 7.17, 7.17, 7.17, 7.17, 7.17, 7.17, 7.17, 7.18, 7.18, 7.18, 7.18, 7.18, 7.18, 7.18, 7.19, 7.19, 7.19, 7.19, 7.19, 7.2, 7.2, 7.2, 7.2, 7.21, 7.21, 7.21, 7.21, 7.21, 7.21, 7.21, 7.21, 7.21, 7.21, 7.21, 7.21, 7.21, 7.21, 7.21, 7.21, 7.21, 7.22, 7.22, 7.22, 7.22, 7.22, 7.22, 7.23, 7.23, 7.23, 7.23, 7.23, 7.24, 7.24, 7.24, 7.24, 7.24, 7.24, 7.25, 7.25, 7.25, 7.25, 7.25, 7.25, 7.25, 7.25, 7.25, 7.26, 7.26, 7.26, 7.26, 7.26, 7.26, 7.26, 7.26, 7.27, 7.27, 7.27, 7.27, 7.27, 7.28, 7.28, 7.28, 7.28, 7.28, 7.29, 7.29, 7.29, 7.29, 7.29, 7.29, 7.29, 7.29, 7.29, 7.29, 7.29, 7.3, 7.3, 7.3, 7.3, 7.3, 7.3, 7.3, 7.3, 7.3, 7.3, 7.31, 7.31, 7.31, 7.31, 7.31, 7.31, 7.32, 7.32, 7.32, 7.32, 7.32, 7.32, 7.32, 7.33, 7.33, 7.33, 7.33, 7.33, 7.33, 7.33, 7.33, 7.33, 7.33, 7.33, 7.34, 7.34, 7.34, 7.34, 7.34, 7.34, 7.34, 7.34, 7.35, 7.35, 7.35, 7.35, 7.35, 7.35, 7.36, 7.36, 7.36, 7.36, 7.36, 7.36, 7.36, 7.36, 7.36, 7.37, 7.37, 7.37, 7.37, 7.37, 7.37, 7.37, 7.37, 7.37, 7.37, 7.37, 7.37, 7.37, 7.38, 7.38, 7.38, 7.38, 7.38, 7.38, 7.38, 7.38, 7.38, 7.39, 7.39, 7.39, 7.39, 7.39, 7.39, 7.39, 7.39, 7.39, 7.39, 7.39, 7.4, 7.4, 7.4, 7.4, 7.4, 7.4, 7.4, 7.4, 7.41, 7.41, 7.41, 7.41, 7.41, 7.41, 7.41, 7.41, 7.42, 7.42, 7.42, 7.42, 7.42, 7.42, 7.42, 7.42, 7.43, 7.43, 7.43, 7.43, 7.43, 7.43, 7.44, 7.44, 7.44, 7.44, 7.44, 7.44, 7.44, 7.44, 7.44, 7.44, 7.44, 7.45, 7.45, 7.45, 7.45, 7.46, 7.46, 7.46, 7.46, 7.46, 7.46, 7.46, 7.46, 7.46, 7.46, 7.46, 7.47, 7.47, 7.47, 7.47, 7.47, 7.47, 7.47, 7.47, 7.47, 7.48, 7.48, 7.48, 7.48, 7.48, 7.48, 7.48, 7.48, 7.48, 7.48, 7.49, 7.49, 7.49, 7.49, 7.49, 7.49, 7.49, 7.49, 7.49, 7.49, 7.5, 7.5, 7.5, 7.5, 7.5, 7.5, 7.5, 7.5, 7.5, 7.5, 7.51, 7.51, 7.51, 7.51, 7.51, 7.51, 7.51, 7.51, 7.52, 7.52, 7.52, 7.52, 7.52, 7.52, 7.52, 7.52, 7.52, 7.53, 7.53, 7.54, 7.54, 7.54, 7.54, 7.54, 7.54, 7.54, 7.55, 7.55, 7.55, 7.55, 7.55, 7.55, 7.55, 7.55, 7.55, 7.55, 7.55, 7.56, 7.56, 7.56, 7.56, 7.56, 7.57, 7.57, 7.57, 7.57, 7.57, 7.57, 7.57, 7.57, 7.57, 7.58, 7.58, 7.58, 7.58, 7.58, 7.58, 7.58, 7.58, 7.58, 7.59, 7.59, 7.6, 7.6, 7.6, 7.6, 7.6, 7.6, 7.6, 7.6, 7.61, 7.61, 7.61, 7.61, 7.62, 7.62, 7.62, 7.62, 7.62, 7.62, 7.62, 7.62, 7.62, 7.62, 7.62, 7.63, 7.63, 7.63, 7.64, 7.64, 7.64, 7.64, 7.64, 7.64, 7.64, 7.64, 7.64, 7.64, 7.64, 7.64, 7.64, 7.64, 7.64, 7.65, 7.65, 7.65, 7.65, 7.65, 7.65, 7.66, 7.66, 7.66, 7.66, 7.66, 7.66, 7.66, 7.66, 7.66, 7.66, 7.66, 7.66, 7.67, 7.68, 7.68, 7.68, 7.68, 7.68, 7.68, 7.68, 7.68, 7.68, 7.69, 7.7, 7.7, 7.7, 7.7, 7.7, 7.7, 7.7, 7.7, 7.7, 7.7, 7.7, 7.7, 7.7, 7.71, 7.72, 7.72, 7.72, 7.72, 7.72, 7.72, 7.72, 7.72, 7.72, 7.72, 7.73, 7.73, 7.73, 7.73, 7.74, 7.74, 7.75, 7.75, 7.75, 7.75, 7.75, 7.75, 7.75, 7.75, 7.75, 7.75, 7.75, 7.75, 7.75, 7.75, 7.75, 7.75, 7.75, 7.75, 7.76, 7.76, 7.76, 7.76, 7.77, 7.77, 7.77, 7.77, 7.77, 7.77, 7.77, 7.77, 7.77, 7.77, 7.77, 7.77, 7.77, 7.77, 7.77, 7.77, 7.78, 7.78, 7.78, 7.78, 7.78, 7.78, 7.8, 7.8, 7.8, 7.8, 7.8, 7.8, 7.8, 7.8, 7.8, 7.8, 7.8, 7.8, 7.8, 7.8, 7.81, 7.82, 7.82, 7.82, 7.82, 7.82, 7.82, 7.82, 7.82, 7.82, 7.82, 7.82, 7.82, 7.82, 7.82, 7.82, 7.84, 7.84, 7.85, 7.85, 7.85, 7.85, 7.85, 7.85, 7.85, 7.85, 7.85, 7.85, 7.86, 7.86, 7.87, 7.88, 7.88, 7.88, 7.89, 7.89, 7.89, 7.89, 7.89, 7.89, 7.89, 7.89, 7.89, 7.89, 7.89, 7.89, 7.89, 7.89, 7.89, 7.91, 7.92, 7.92, 7.92, 7.92, 7.92, 7.92, 7.92, 7.92, 7.92, 7.92, 7.92, 7.92, 7.92, 7.92, 7.92, 7.92, 7.92, 7.93, 7.93, 7.93, 7.94, 7.94, 7.95, 7.96, 7.96, 7.96, 7.96, 7.96, 7.96, 7.96, 7.96, 7.96, 7.96, 7.96, 7.96, 7.96, 7.96, 7.96, 7.97, 7.97, 7.98, 7.99, 8.0, 8.0, 8.0, 8.0, 8.0, 8.0, 8.0, 8.0, 8.0, 8.0, 8.0, 8.0, 8.0, 8.0, 8.0, 8.0, 8.0, 8.01, 8.03, 8.03, 8.03, 8.04, 8.04, 8.04, 8.04, 8.05, 8.05, 8.05, 8.05, 8.05, 8.05, 8.05, 8.05, 8.05, 8.05, 8.05, 8.05, 8.05, 8.05, 8.05, 8.05, 8.05, 8.05, 8.05, 8.05, 8.05, 8.05, 8.06, 8.07, 8.07, 8.07, 8.08, 8.08, 8.08, 8.09, 8.1, 8.1, 8.1, 8.1, 8.1, 8.1, 8.1, 8.1, 8.1, 8.1, 8.1, 8.1, 8.1, 8.1, 8.1, 8.11, 8.12, 8.12, 8.13, 8.13, 8.13, 8.13, 8.14, 8.14, 8.15, 8.15, 8.15, 8.15, 8.15, 8.15, 8.15, 8.15, 8.15, 8.15, 8.15, 8.15, 8.15, 8.15, 8.15, 8.15, 8.15, 8.15, 8.15, 8.15, 8.15, 8.15, 8.15, 8.16, 8.16, 8.18, 8.18, 8.18, 8.19, 8.19, 8.21, 8.22, 8.22, 8.22, 8.22, 8.22, 8.22, 8.22, 8.22, 8.22, 8.22, 8.22, 8.22, 8.22, 8.22, 8.22, 8.22, 8.22, 8.22, 8.22, 8.22, 8.22, 8.22, 8.22, 8.22, 8.22, 8.22, 8.22, 8.22, 8.22, 8.22, 8.22, 8.22, 8.22, 8.22, 8.22, 8.22, 8.22, 8.23, 8.24, 8.24, 8.25, 8.25, 8.26, 8.26, 8.28, 8.3, 8.3, 8.3, 8.3, 8.3, 8.3, 8.3, 8.3, 8.3, 8.3, 8.3, 8.3, 8.3, 8.3, 8.3, 8.3, 8.3, 8.3, 8.3, 8.3, 8.3, 8.3, 8.3, 8.3, 8.31, 8.31, 8.33, 8.33, 8.36, 8.36, 8.37, 8.37, 8.38, 8.39, 8.39, 8.4, 8.4, 8.4, 8.4, 8.4, 8.4, 8.4, 8.4, 8.4, 8.4, 8.4, 8.4, 8.4, 8.4, 8.4, 8.4, 8.4, 8.4, 8.4, 8.4, 8.4, 8.41, 8.41, 8.43, 8.43, 8.44, 8.46, 8.48, 8.49, 8.49, 8.49, 8.51, 8.51, 8.52, 8.52, 8.52, 8.52, 8.52, 8.52, 8.52, 8.52, 8.52, 8.52, 8.52, 8.52, 8.52, 8.52, 8.52, 8.52, 8.52, 8.52, 8.52, 8.52, 8.52, 8.52, 8.52, 8.52, 8.52, 8.52, 8.55, 8.55, 8.55, 8.58, 8.58, 8.59, 8.59, 8.59, 8.61, 8.62, 8.62, 8.64, 8.66, 8.66, 8.67, 8.68, 8.68, 8.68, 8.68, 8.7, 8.7, 8.7, 8.7, 8.7, 8.7, 8.7, 8.7, 8.7, 8.7, 8.7, 8.7, 8.7, 8.7, 8.7, 8.7, 8.7, 8.7, 8.7, 8.7, 8.7, 8.71, 8.72, 8.72, 8.72, 8.72, 8.73, 8.73, 8.74, 8.77, 8.77, 8.77, 8.77, 8.79, 8.79, 8.8, 8.81, 8.82, 8.82, 8.85, 8.85, 8.85, 8.85, 8.85, 8.85, 8.87, 8.89, 8.89, 8.89, 8.9, 8.91, 8.92, 8.92, 8.94, 8.95, 8.96, 8.96, 8.96, 8.96, 8.96, 8.97, 9.0, 9.0, 9.0, 9.0, 9.0, 9.0, 9.0, 9.0, 9.0, 9.0, 9.0, 9.0, 9.0, 9.0, 9.0, 9.0, 9.0, 9.0, 9.0, 9.0, 9.0, 9.0, 9.0, 9.0, 9.0, 9.0, 9.0, 9.0, 9.0, 9.0, 9.0, 9.0, 9.0, 9.0, 9.0, 9.0, 9.0, 9.0, 9.0, 9.0, 9.0, 9.0, 9.0, 9.0, 9.0, 9.0, 9.0, 9.0, 9.0, 9.01, 9.01, 9.02, 9.02, 9.02, 9.05, 9.05, 9.05, 9.07, 9.08, 9.09, 9.1, 9.1, 9.12, 9.12, 9.14, 9.14, 9.15, 9.15, 9.15, 9.15, 9.18, 9.18, 9.18, 9.19, 9.2, 9.21, 9.22, 9.22, 9.22, 9.22, 9.22, 9.24, 9.24, 9.26, 9.26, 9.26, 9.26, 9.27, 9.29, 9.3, 9.3, 9.3, 9.3, 9.3, 9.33, 9.33, 9.34, 9.39, 9.4, 9.4, 9.41, 9.44, 9.46, 9.46, 9.46, 9.48, 9.51, 9.52, 9.57, 9.59, 9.61, 9.64, 9.64, 9.65, 9.65, 9.65, 9.66, 9.66, 9.67, 9.7, 9.7, 9.72, 9.72, 9.75, 9.76, 9.77, 9.77, 9.77, 9.78, 9.78, 9.79, 9.81, 9.81, 9.83, 9.84, 9.85, 9.85, 9.86, 9.86, 9.86, 9.87, 9.88, 9.89, 9.91, 9.92, 9.94, 9.95, 9.95, 9.96, 9.96, 9.97, 9.97, 10.01, 10.03, 10.05, 10.06, 10.07, 10.08, 10.1, 10.11, 10.12, 10.12, 10.12, 10.14, 10.15, 10.17, 10.18, 10.19, 10.23, 10.24, 10.26, 10.31, 10.31, 10.33, 10.33, 10.36, 10.38, 10.4, 10.4, 10.42, 10.44, 10.44, 10.46, 10.48, 10.53, 10.53, 10.53, 10.56, 10.64, 10.66, 10.68, 10.7, 10.7, 10.71, 10.72, 10.76, 10.78, 10.97, 10.97]}\n"
          ]
        }
      ]
    },
    {
      "cell_type": "markdown",
      "source": [
        "\n",
        "이제 얻어진 데이터를 Pandas의 DataFrame형태로 변환시킨다. \n",
        "\n",
        "Pandas에 d[key] = [$x_0$, $x_1$, $x_2$, ..., $x_n$] 과 같은 형태의 dictionary를 입력으로 주면 DataFrame을 생성할 수 있다. "
      ],
      "metadata": {
        "id": "drW7DrkE9D6J"
      }
    },
    {
      "cell_type": "code",
      "source": [
        "# Convert the dictionary into a Pandas dataframe. \n",
        "new_data = pd.DataFrame(properties)"
      ],
      "metadata": {
        "id": "8MywPx038iVj"
      },
      "execution_count": 33,
      "outputs": []
    },
    {
      "cell_type": "code",
      "source": [
        "new_data"
      ],
      "metadata": {
        "colab": {
          "base_uri": "https://localhost:8080/",
          "height": 424
        },
        "id": "AT_PkM8N9gpY",
        "outputId": "6e7b624d-9265-40a3-951c-0b5d23965e37"
      },
      "execution_count": 34,
      "outputs": [
        {
          "output_type": "execute_result",
          "data": {
            "text/plain": [
              "              MW    LogP  HBA  HBD      CSP3  NumRotBond  NumRings    TPSA  \\\n",
              "0     367.044919  4.1591    5    1  0.000000           4         4   71.95   \n",
              "1     506.126768  3.6743   10    4  0.083333           7         5  149.78   \n",
              "2     317.173942  1.5361    6    4  0.529412           5         3  101.37   \n",
              "3     301.190260  0.9510    6    5  0.500000           5         3   98.96   \n",
              "4     294.093917  3.2130    4    2  0.062500           2         3   49.84   \n",
              "...          ...     ...  ...  ...       ...         ...       ...     ...   \n",
              "1897  350.185509  2.8328    7    2  0.368421           3         4   86.80   \n",
              "1898  541.294742  2.8090   11    2  0.615385           7         5  123.24   \n",
              "1899  421.214761  1.7945    8    2  0.700000           6         4  102.42   \n",
              "1900  358.121195  1.4657    8    2  0.312500           4         4  103.87   \n",
              "1901  366.180424  3.0527    8    2  0.368421           3         4   96.03   \n",
              "\n",
              "      NumAromaticRings  pIC50  \n",
              "0                    4   4.26  \n",
              "1                    5   4.34  \n",
              "2                    2   4.53  \n",
              "3                    2   4.56  \n",
              "4                    3   4.59  \n",
              "...                ...    ...  \n",
              "1897                 3  10.72  \n",
              "1898                 3  10.76  \n",
              "1899                 0  10.78  \n",
              "1900                 3  10.97  \n",
              "1901                 3  10.97  \n",
              "\n",
              "[1902 rows x 10 columns]"
            ],
            "text/html": [
              "\n",
              "  <div id=\"df-37e9006c-e907-4f56-8872-4b3c575d9a32\">\n",
              "    <div class=\"colab-df-container\">\n",
              "      <div>\n",
              "<style scoped>\n",
              "    .dataframe tbody tr th:only-of-type {\n",
              "        vertical-align: middle;\n",
              "    }\n",
              "\n",
              "    .dataframe tbody tr th {\n",
              "        vertical-align: top;\n",
              "    }\n",
              "\n",
              "    .dataframe thead th {\n",
              "        text-align: right;\n",
              "    }\n",
              "</style>\n",
              "<table border=\"1\" class=\"dataframe\">\n",
              "  <thead>\n",
              "    <tr style=\"text-align: right;\">\n",
              "      <th></th>\n",
              "      <th>MW</th>\n",
              "      <th>LogP</th>\n",
              "      <th>HBA</th>\n",
              "      <th>HBD</th>\n",
              "      <th>CSP3</th>\n",
              "      <th>NumRotBond</th>\n",
              "      <th>NumRings</th>\n",
              "      <th>TPSA</th>\n",
              "      <th>NumAromaticRings</th>\n",
              "      <th>pIC50</th>\n",
              "    </tr>\n",
              "  </thead>\n",
              "  <tbody>\n",
              "    <tr>\n",
              "      <th>0</th>\n",
              "      <td>367.044919</td>\n",
              "      <td>4.1591</td>\n",
              "      <td>5</td>\n",
              "      <td>1</td>\n",
              "      <td>0.000000</td>\n",
              "      <td>4</td>\n",
              "      <td>4</td>\n",
              "      <td>71.95</td>\n",
              "      <td>4</td>\n",
              "      <td>4.26</td>\n",
              "    </tr>\n",
              "    <tr>\n",
              "      <th>1</th>\n",
              "      <td>506.126768</td>\n",
              "      <td>3.6743</td>\n",
              "      <td>10</td>\n",
              "      <td>4</td>\n",
              "      <td>0.083333</td>\n",
              "      <td>7</td>\n",
              "      <td>5</td>\n",
              "      <td>149.78</td>\n",
              "      <td>5</td>\n",
              "      <td>4.34</td>\n",
              "    </tr>\n",
              "    <tr>\n",
              "      <th>2</th>\n",
              "      <td>317.173942</td>\n",
              "      <td>1.5361</td>\n",
              "      <td>6</td>\n",
              "      <td>4</td>\n",
              "      <td>0.529412</td>\n",
              "      <td>5</td>\n",
              "      <td>3</td>\n",
              "      <td>101.37</td>\n",
              "      <td>2</td>\n",
              "      <td>4.53</td>\n",
              "    </tr>\n",
              "    <tr>\n",
              "      <th>3</th>\n",
              "      <td>301.190260</td>\n",
              "      <td>0.9510</td>\n",
              "      <td>6</td>\n",
              "      <td>5</td>\n",
              "      <td>0.500000</td>\n",
              "      <td>5</td>\n",
              "      <td>3</td>\n",
              "      <td>98.96</td>\n",
              "      <td>2</td>\n",
              "      <td>4.56</td>\n",
              "    </tr>\n",
              "    <tr>\n",
              "      <th>4</th>\n",
              "      <td>294.093917</td>\n",
              "      <td>3.2130</td>\n",
              "      <td>4</td>\n",
              "      <td>2</td>\n",
              "      <td>0.062500</td>\n",
              "      <td>2</td>\n",
              "      <td>3</td>\n",
              "      <td>49.84</td>\n",
              "      <td>3</td>\n",
              "      <td>4.59</td>\n",
              "    </tr>\n",
              "    <tr>\n",
              "      <th>...</th>\n",
              "      <td>...</td>\n",
              "      <td>...</td>\n",
              "      <td>...</td>\n",
              "      <td>...</td>\n",
              "      <td>...</td>\n",
              "      <td>...</td>\n",
              "      <td>...</td>\n",
              "      <td>...</td>\n",
              "      <td>...</td>\n",
              "      <td>...</td>\n",
              "    </tr>\n",
              "    <tr>\n",
              "      <th>1897</th>\n",
              "      <td>350.185509</td>\n",
              "      <td>2.8328</td>\n",
              "      <td>7</td>\n",
              "      <td>2</td>\n",
              "      <td>0.368421</td>\n",
              "      <td>3</td>\n",
              "      <td>4</td>\n",
              "      <td>86.80</td>\n",
              "      <td>3</td>\n",
              "      <td>10.72</td>\n",
              "    </tr>\n",
              "    <tr>\n",
              "      <th>1898</th>\n",
              "      <td>541.294742</td>\n",
              "      <td>2.8090</td>\n",
              "      <td>11</td>\n",
              "      <td>2</td>\n",
              "      <td>0.615385</td>\n",
              "      <td>7</td>\n",
              "      <td>5</td>\n",
              "      <td>123.24</td>\n",
              "      <td>3</td>\n",
              "      <td>10.76</td>\n",
              "    </tr>\n",
              "    <tr>\n",
              "      <th>1899</th>\n",
              "      <td>421.214761</td>\n",
              "      <td>1.7945</td>\n",
              "      <td>8</td>\n",
              "      <td>2</td>\n",
              "      <td>0.700000</td>\n",
              "      <td>6</td>\n",
              "      <td>4</td>\n",
              "      <td>102.42</td>\n",
              "      <td>0</td>\n",
              "      <td>10.78</td>\n",
              "    </tr>\n",
              "    <tr>\n",
              "      <th>1900</th>\n",
              "      <td>358.121195</td>\n",
              "      <td>1.4657</td>\n",
              "      <td>8</td>\n",
              "      <td>2</td>\n",
              "      <td>0.312500</td>\n",
              "      <td>4</td>\n",
              "      <td>4</td>\n",
              "      <td>103.87</td>\n",
              "      <td>3</td>\n",
              "      <td>10.97</td>\n",
              "    </tr>\n",
              "    <tr>\n",
              "      <th>1901</th>\n",
              "      <td>366.180424</td>\n",
              "      <td>3.0527</td>\n",
              "      <td>8</td>\n",
              "      <td>2</td>\n",
              "      <td>0.368421</td>\n",
              "      <td>3</td>\n",
              "      <td>4</td>\n",
              "      <td>96.03</td>\n",
              "      <td>3</td>\n",
              "      <td>10.97</td>\n",
              "    </tr>\n",
              "  </tbody>\n",
              "</table>\n",
              "<p>1902 rows × 10 columns</p>\n",
              "</div>\n",
              "      <button class=\"colab-df-convert\" onclick=\"convertToInteractive('df-37e9006c-e907-4f56-8872-4b3c575d9a32')\"\n",
              "              title=\"Convert this dataframe to an interactive table.\"\n",
              "              style=\"display:none;\">\n",
              "        \n",
              "  <svg xmlns=\"http://www.w3.org/2000/svg\" height=\"24px\"viewBox=\"0 0 24 24\"\n",
              "       width=\"24px\">\n",
              "    <path d=\"M0 0h24v24H0V0z\" fill=\"none\"/>\n",
              "    <path d=\"M18.56 5.44l.94 2.06.94-2.06 2.06-.94-2.06-.94-.94-2.06-.94 2.06-2.06.94zm-11 1L8.5 8.5l.94-2.06 2.06-.94-2.06-.94L8.5 2.5l-.94 2.06-2.06.94zm10 10l.94 2.06.94-2.06 2.06-.94-2.06-.94-.94-2.06-.94 2.06-2.06.94z\"/><path d=\"M17.41 7.96l-1.37-1.37c-.4-.4-.92-.59-1.43-.59-.52 0-1.04.2-1.43.59L10.3 9.45l-7.72 7.72c-.78.78-.78 2.05 0 2.83L4 21.41c.39.39.9.59 1.41.59.51 0 1.02-.2 1.41-.59l7.78-7.78 2.81-2.81c.8-.78.8-2.07 0-2.86zM5.41 20L4 18.59l7.72-7.72 1.47 1.35L5.41 20z\"/>\n",
              "  </svg>\n",
              "      </button>\n",
              "      \n",
              "  <style>\n",
              "    .colab-df-container {\n",
              "      display:flex;\n",
              "      flex-wrap:wrap;\n",
              "      gap: 12px;\n",
              "    }\n",
              "\n",
              "    .colab-df-convert {\n",
              "      background-color: #E8F0FE;\n",
              "      border: none;\n",
              "      border-radius: 50%;\n",
              "      cursor: pointer;\n",
              "      display: none;\n",
              "      fill: #1967D2;\n",
              "      height: 32px;\n",
              "      padding: 0 0 0 0;\n",
              "      width: 32px;\n",
              "    }\n",
              "\n",
              "    .colab-df-convert:hover {\n",
              "      background-color: #E2EBFA;\n",
              "      box-shadow: 0px 1px 2px rgba(60, 64, 67, 0.3), 0px 1px 3px 1px rgba(60, 64, 67, 0.15);\n",
              "      fill: #174EA6;\n",
              "    }\n",
              "\n",
              "    [theme=dark] .colab-df-convert {\n",
              "      background-color: #3B4455;\n",
              "      fill: #D2E3FC;\n",
              "    }\n",
              "\n",
              "    [theme=dark] .colab-df-convert:hover {\n",
              "      background-color: #434B5C;\n",
              "      box-shadow: 0px 1px 3px 1px rgba(0, 0, 0, 0.15);\n",
              "      filter: drop-shadow(0px 1px 2px rgba(0, 0, 0, 0.3));\n",
              "      fill: #FFFFFF;\n",
              "    }\n",
              "  </style>\n",
              "\n",
              "      <script>\n",
              "        const buttonEl =\n",
              "          document.querySelector('#df-37e9006c-e907-4f56-8872-4b3c575d9a32 button.colab-df-convert');\n",
              "        buttonEl.style.display =\n",
              "          google.colab.kernel.accessAllowed ? 'block' : 'none';\n",
              "\n",
              "        async function convertToInteractive(key) {\n",
              "          const element = document.querySelector('#df-37e9006c-e907-4f56-8872-4b3c575d9a32');\n",
              "          const dataTable =\n",
              "            await google.colab.kernel.invokeFunction('convertToInteractive',\n",
              "                                                     [key], {});\n",
              "          if (!dataTable) return;\n",
              "\n",
              "          const docLinkHtml = 'Like what you see? Visit the ' +\n",
              "            '<a target=\"_blank\" href=https://colab.research.google.com/notebooks/data_table.ipynb>data table notebook</a>'\n",
              "            + ' to learn more about interactive tables.';\n",
              "          element.innerHTML = '';\n",
              "          dataTable['output_type'] = 'display_data';\n",
              "          await google.colab.output.renderOutput(dataTable, element);\n",
              "          const docLink = document.createElement('div');\n",
              "          docLink.innerHTML = docLinkHtml;\n",
              "          element.appendChild(docLink);\n",
              "        }\n",
              "      </script>\n",
              "    </div>\n",
              "  </div>\n",
              "  "
            ]
          },
          "metadata": {},
          "execution_count": 34
        }
      ]
    },
    {
      "cell_type": "markdown",
      "source": [
        "### Feature 와 Target 값을 분리. "
      ],
      "metadata": {
        "id": "m4zTluqE9nFA"
      }
    },
    {
      "cell_type": "code",
      "source": [
        "X = new_data.iloc[:, :-1] # 전체행, 마지막열 직전까지를 입력 값으로 사용. \n",
        "y = new_data.iloc[:, -1]  # 전체행, 마지막열의 데이터를 목적 값으로 추출"
      ],
      "metadata": {
        "id": "L-IuIPuA9hAr"
      },
      "execution_count": 35,
      "outputs": []
    },
    {
      "cell_type": "code",
      "source": [
        "X"
      ],
      "metadata": {
        "colab": {
          "base_uri": "https://localhost:8080/",
          "height": 424
        },
        "id": "wSvtzKO69x5t",
        "outputId": "21e33124-98a1-4242-e556-d4ecabc2fa17"
      },
      "execution_count": 36,
      "outputs": [
        {
          "output_type": "execute_result",
          "data": {
            "text/plain": [
              "              MW    LogP  HBA  HBD      CSP3  NumRotBond  NumRings    TPSA  \\\n",
              "0     367.044919  4.1591    5    1  0.000000           4         4   71.95   \n",
              "1     506.126768  3.6743   10    4  0.083333           7         5  149.78   \n",
              "2     317.173942  1.5361    6    4  0.529412           5         3  101.37   \n",
              "3     301.190260  0.9510    6    5  0.500000           5         3   98.96   \n",
              "4     294.093917  3.2130    4    2  0.062500           2         3   49.84   \n",
              "...          ...     ...  ...  ...       ...         ...       ...     ...   \n",
              "1897  350.185509  2.8328    7    2  0.368421           3         4   86.80   \n",
              "1898  541.294742  2.8090   11    2  0.615385           7         5  123.24   \n",
              "1899  421.214761  1.7945    8    2  0.700000           6         4  102.42   \n",
              "1900  358.121195  1.4657    8    2  0.312500           4         4  103.87   \n",
              "1901  366.180424  3.0527    8    2  0.368421           3         4   96.03   \n",
              "\n",
              "      NumAromaticRings  \n",
              "0                    4  \n",
              "1                    5  \n",
              "2                    2  \n",
              "3                    2  \n",
              "4                    3  \n",
              "...                ...  \n",
              "1897                 3  \n",
              "1898                 3  \n",
              "1899                 0  \n",
              "1900                 3  \n",
              "1901                 3  \n",
              "\n",
              "[1902 rows x 9 columns]"
            ],
            "text/html": [
              "\n",
              "  <div id=\"df-761421b3-b5d5-4a42-bcf0-6e408219a8c8\">\n",
              "    <div class=\"colab-df-container\">\n",
              "      <div>\n",
              "<style scoped>\n",
              "    .dataframe tbody tr th:only-of-type {\n",
              "        vertical-align: middle;\n",
              "    }\n",
              "\n",
              "    .dataframe tbody tr th {\n",
              "        vertical-align: top;\n",
              "    }\n",
              "\n",
              "    .dataframe thead th {\n",
              "        text-align: right;\n",
              "    }\n",
              "</style>\n",
              "<table border=\"1\" class=\"dataframe\">\n",
              "  <thead>\n",
              "    <tr style=\"text-align: right;\">\n",
              "      <th></th>\n",
              "      <th>MW</th>\n",
              "      <th>LogP</th>\n",
              "      <th>HBA</th>\n",
              "      <th>HBD</th>\n",
              "      <th>CSP3</th>\n",
              "      <th>NumRotBond</th>\n",
              "      <th>NumRings</th>\n",
              "      <th>TPSA</th>\n",
              "      <th>NumAromaticRings</th>\n",
              "    </tr>\n",
              "  </thead>\n",
              "  <tbody>\n",
              "    <tr>\n",
              "      <th>0</th>\n",
              "      <td>367.044919</td>\n",
              "      <td>4.1591</td>\n",
              "      <td>5</td>\n",
              "      <td>1</td>\n",
              "      <td>0.000000</td>\n",
              "      <td>4</td>\n",
              "      <td>4</td>\n",
              "      <td>71.95</td>\n",
              "      <td>4</td>\n",
              "    </tr>\n",
              "    <tr>\n",
              "      <th>1</th>\n",
              "      <td>506.126768</td>\n",
              "      <td>3.6743</td>\n",
              "      <td>10</td>\n",
              "      <td>4</td>\n",
              "      <td>0.083333</td>\n",
              "      <td>7</td>\n",
              "      <td>5</td>\n",
              "      <td>149.78</td>\n",
              "      <td>5</td>\n",
              "    </tr>\n",
              "    <tr>\n",
              "      <th>2</th>\n",
              "      <td>317.173942</td>\n",
              "      <td>1.5361</td>\n",
              "      <td>6</td>\n",
              "      <td>4</td>\n",
              "      <td>0.529412</td>\n",
              "      <td>5</td>\n",
              "      <td>3</td>\n",
              "      <td>101.37</td>\n",
              "      <td>2</td>\n",
              "    </tr>\n",
              "    <tr>\n",
              "      <th>3</th>\n",
              "      <td>301.190260</td>\n",
              "      <td>0.9510</td>\n",
              "      <td>6</td>\n",
              "      <td>5</td>\n",
              "      <td>0.500000</td>\n",
              "      <td>5</td>\n",
              "      <td>3</td>\n",
              "      <td>98.96</td>\n",
              "      <td>2</td>\n",
              "    </tr>\n",
              "    <tr>\n",
              "      <th>4</th>\n",
              "      <td>294.093917</td>\n",
              "      <td>3.2130</td>\n",
              "      <td>4</td>\n",
              "      <td>2</td>\n",
              "      <td>0.062500</td>\n",
              "      <td>2</td>\n",
              "      <td>3</td>\n",
              "      <td>49.84</td>\n",
              "      <td>3</td>\n",
              "    </tr>\n",
              "    <tr>\n",
              "      <th>...</th>\n",
              "      <td>...</td>\n",
              "      <td>...</td>\n",
              "      <td>...</td>\n",
              "      <td>...</td>\n",
              "      <td>...</td>\n",
              "      <td>...</td>\n",
              "      <td>...</td>\n",
              "      <td>...</td>\n",
              "      <td>...</td>\n",
              "    </tr>\n",
              "    <tr>\n",
              "      <th>1897</th>\n",
              "      <td>350.185509</td>\n",
              "      <td>2.8328</td>\n",
              "      <td>7</td>\n",
              "      <td>2</td>\n",
              "      <td>0.368421</td>\n",
              "      <td>3</td>\n",
              "      <td>4</td>\n",
              "      <td>86.80</td>\n",
              "      <td>3</td>\n",
              "    </tr>\n",
              "    <tr>\n",
              "      <th>1898</th>\n",
              "      <td>541.294742</td>\n",
              "      <td>2.8090</td>\n",
              "      <td>11</td>\n",
              "      <td>2</td>\n",
              "      <td>0.615385</td>\n",
              "      <td>7</td>\n",
              "      <td>5</td>\n",
              "      <td>123.24</td>\n",
              "      <td>3</td>\n",
              "    </tr>\n",
              "    <tr>\n",
              "      <th>1899</th>\n",
              "      <td>421.214761</td>\n",
              "      <td>1.7945</td>\n",
              "      <td>8</td>\n",
              "      <td>2</td>\n",
              "      <td>0.700000</td>\n",
              "      <td>6</td>\n",
              "      <td>4</td>\n",
              "      <td>102.42</td>\n",
              "      <td>0</td>\n",
              "    </tr>\n",
              "    <tr>\n",
              "      <th>1900</th>\n",
              "      <td>358.121195</td>\n",
              "      <td>1.4657</td>\n",
              "      <td>8</td>\n",
              "      <td>2</td>\n",
              "      <td>0.312500</td>\n",
              "      <td>4</td>\n",
              "      <td>4</td>\n",
              "      <td>103.87</td>\n",
              "      <td>3</td>\n",
              "    </tr>\n",
              "    <tr>\n",
              "      <th>1901</th>\n",
              "      <td>366.180424</td>\n",
              "      <td>3.0527</td>\n",
              "      <td>8</td>\n",
              "      <td>2</td>\n",
              "      <td>0.368421</td>\n",
              "      <td>3</td>\n",
              "      <td>4</td>\n",
              "      <td>96.03</td>\n",
              "      <td>3</td>\n",
              "    </tr>\n",
              "  </tbody>\n",
              "</table>\n",
              "<p>1902 rows × 9 columns</p>\n",
              "</div>\n",
              "      <button class=\"colab-df-convert\" onclick=\"convertToInteractive('df-761421b3-b5d5-4a42-bcf0-6e408219a8c8')\"\n",
              "              title=\"Convert this dataframe to an interactive table.\"\n",
              "              style=\"display:none;\">\n",
              "        \n",
              "  <svg xmlns=\"http://www.w3.org/2000/svg\" height=\"24px\"viewBox=\"0 0 24 24\"\n",
              "       width=\"24px\">\n",
              "    <path d=\"M0 0h24v24H0V0z\" fill=\"none\"/>\n",
              "    <path d=\"M18.56 5.44l.94 2.06.94-2.06 2.06-.94-2.06-.94-.94-2.06-.94 2.06-2.06.94zm-11 1L8.5 8.5l.94-2.06 2.06-.94-2.06-.94L8.5 2.5l-.94 2.06-2.06.94zm10 10l.94 2.06.94-2.06 2.06-.94-2.06-.94-.94-2.06-.94 2.06-2.06.94z\"/><path d=\"M17.41 7.96l-1.37-1.37c-.4-.4-.92-.59-1.43-.59-.52 0-1.04.2-1.43.59L10.3 9.45l-7.72 7.72c-.78.78-.78 2.05 0 2.83L4 21.41c.39.39.9.59 1.41.59.51 0 1.02-.2 1.41-.59l7.78-7.78 2.81-2.81c.8-.78.8-2.07 0-2.86zM5.41 20L4 18.59l7.72-7.72 1.47 1.35L5.41 20z\"/>\n",
              "  </svg>\n",
              "      </button>\n",
              "      \n",
              "  <style>\n",
              "    .colab-df-container {\n",
              "      display:flex;\n",
              "      flex-wrap:wrap;\n",
              "      gap: 12px;\n",
              "    }\n",
              "\n",
              "    .colab-df-convert {\n",
              "      background-color: #E8F0FE;\n",
              "      border: none;\n",
              "      border-radius: 50%;\n",
              "      cursor: pointer;\n",
              "      display: none;\n",
              "      fill: #1967D2;\n",
              "      height: 32px;\n",
              "      padding: 0 0 0 0;\n",
              "      width: 32px;\n",
              "    }\n",
              "\n",
              "    .colab-df-convert:hover {\n",
              "      background-color: #E2EBFA;\n",
              "      box-shadow: 0px 1px 2px rgba(60, 64, 67, 0.3), 0px 1px 3px 1px rgba(60, 64, 67, 0.15);\n",
              "      fill: #174EA6;\n",
              "    }\n",
              "\n",
              "    [theme=dark] .colab-df-convert {\n",
              "      background-color: #3B4455;\n",
              "      fill: #D2E3FC;\n",
              "    }\n",
              "\n",
              "    [theme=dark] .colab-df-convert:hover {\n",
              "      background-color: #434B5C;\n",
              "      box-shadow: 0px 1px 3px 1px rgba(0, 0, 0, 0.15);\n",
              "      filter: drop-shadow(0px 1px 2px rgba(0, 0, 0, 0.3));\n",
              "      fill: #FFFFFF;\n",
              "    }\n",
              "  </style>\n",
              "\n",
              "      <script>\n",
              "        const buttonEl =\n",
              "          document.querySelector('#df-761421b3-b5d5-4a42-bcf0-6e408219a8c8 button.colab-df-convert');\n",
              "        buttonEl.style.display =\n",
              "          google.colab.kernel.accessAllowed ? 'block' : 'none';\n",
              "\n",
              "        async function convertToInteractive(key) {\n",
              "          const element = document.querySelector('#df-761421b3-b5d5-4a42-bcf0-6e408219a8c8');\n",
              "          const dataTable =\n",
              "            await google.colab.kernel.invokeFunction('convertToInteractive',\n",
              "                                                     [key], {});\n",
              "          if (!dataTable) return;\n",
              "\n",
              "          const docLinkHtml = 'Like what you see? Visit the ' +\n",
              "            '<a target=\"_blank\" href=https://colab.research.google.com/notebooks/data_table.ipynb>data table notebook</a>'\n",
              "            + ' to learn more about interactive tables.';\n",
              "          element.innerHTML = '';\n",
              "          dataTable['output_type'] = 'display_data';\n",
              "          await google.colab.output.renderOutput(dataTable, element);\n",
              "          const docLink = document.createElement('div');\n",
              "          docLink.innerHTML = docLinkHtml;\n",
              "          element.appendChild(docLink);\n",
              "        }\n",
              "      </script>\n",
              "    </div>\n",
              "  </div>\n",
              "  "
            ]
          },
          "metadata": {},
          "execution_count": 36
        }
      ]
    },
    {
      "cell_type": "code",
      "source": [
        "y"
      ],
      "metadata": {
        "colab": {
          "base_uri": "https://localhost:8080/"
        },
        "id": "SOgX8NEG98Bu",
        "outputId": "ac6ee56e-4f5c-47aa-8615-b4017d8f56b6"
      },
      "execution_count": 37,
      "outputs": [
        {
          "output_type": "execute_result",
          "data": {
            "text/plain": [
              "0        4.26\n",
              "1        4.34\n",
              "2        4.53\n",
              "3        4.56\n",
              "4        4.59\n",
              "        ...  \n",
              "1897    10.72\n",
              "1898    10.76\n",
              "1899    10.78\n",
              "1900    10.97\n",
              "1901    10.97\n",
              "Name: pIC50, Length: 1902, dtype: float64"
            ]
          },
          "metadata": {},
          "execution_count": 37
        }
      ]
    },
    {
      "cell_type": "markdown",
      "source": [
        "## Training set과 test set을 나누자!\n",
        "-------\n",
        "scikit-learn 라이브러리에 있는 train_test_split 함수를 사용하면 training set과 test set을 자동으로 분리할 수 있다. \n",
        "\n",
        "아래 코드를 이용하면 전체 데이터 중에 20%를 Test set으로 80%를 Training set으로 사용한다. \n",
        "\n",
        "결과가 고정되게 하기 위해서 random_state 값을 임의의 고정된 값을 입력으로 준다. \n",
        "\n",
        "그렇지 않으면 돌릴 때 마다 다른 결과가 나오게 된다. "
      ],
      "metadata": {
        "id": "qU8cNpYG99Pq"
      }
    },
    {
      "cell_type": "code",
      "source": [
        "import sklearn.model_selection\n",
        "X_train, X_test, y_train, y_test = sklearn.model_selection.train_test_split(X, y, test_size=0.2, random_state=42)"
      ],
      "metadata": {
        "id": "6K8KPI4d98dS"
      },
      "execution_count": 38,
      "outputs": []
    },
    {
      "cell_type": "code",
      "source": [
        "X_train"
      ],
      "metadata": {
        "colab": {
          "base_uri": "https://localhost:8080/",
          "height": 424
        },
        "id": "ZcX8UbT4-ID3",
        "outputId": "56d76266-eede-4ac0-e6f8-6cc3a8e33164"
      },
      "execution_count": 39,
      "outputs": [
        {
          "output_type": "execute_result",
          "data": {
            "text/plain": [
              "              MW     LogP  HBA  HBD      CSP3  NumRotBond  NumRings    TPSA  \\\n",
              "1328  591.154544  1.73348   12    4  0.500000          10         3  180.28   \n",
              "1776  505.189609  2.15070   10    3  0.240000           7         5  125.93   \n",
              "339   383.141848  2.74320    9    2  0.176471           5         4  106.33   \n",
              "824   507.216492  2.75910   11    2  0.291667           7         5  111.00   \n",
              "733   523.233188  3.21138   10    2  0.275862           8         5  125.17   \n",
              "...          ...      ...  ...  ...       ...         ...       ...     ...   \n",
              "1130  365.185175  2.82868    7    4  0.450000           5         4  116.96   \n",
              "1294  518.219702  5.06950    8    1  0.321429           7         5   75.00   \n",
              "860   538.230409  4.65610    8    1  0.321429           6         5   75.00   \n",
              "1459  559.186495  4.61250    8    1  0.333333           7         5   88.83   \n",
              "1126  380.140389  4.85320    5    2  0.238095           0         4   59.07   \n",
              "\n",
              "      NumAromaticRings  \n",
              "1328                 2  \n",
              "1776                 4  \n",
              "339                  4  \n",
              "824                  4  \n",
              "733                  4  \n",
              "...                ...  \n",
              "1130                 2  \n",
              "1294                 4  \n",
              "860                  4  \n",
              "1459                 4  \n",
              "1126                 3  \n",
              "\n",
              "[1521 rows x 9 columns]"
            ],
            "text/html": [
              "\n",
              "  <div id=\"df-c32df710-8fb1-43ed-97b8-4d5678eb5bd2\">\n",
              "    <div class=\"colab-df-container\">\n",
              "      <div>\n",
              "<style scoped>\n",
              "    .dataframe tbody tr th:only-of-type {\n",
              "        vertical-align: middle;\n",
              "    }\n",
              "\n",
              "    .dataframe tbody tr th {\n",
              "        vertical-align: top;\n",
              "    }\n",
              "\n",
              "    .dataframe thead th {\n",
              "        text-align: right;\n",
              "    }\n",
              "</style>\n",
              "<table border=\"1\" class=\"dataframe\">\n",
              "  <thead>\n",
              "    <tr style=\"text-align: right;\">\n",
              "      <th></th>\n",
              "      <th>MW</th>\n",
              "      <th>LogP</th>\n",
              "      <th>HBA</th>\n",
              "      <th>HBD</th>\n",
              "      <th>CSP3</th>\n",
              "      <th>NumRotBond</th>\n",
              "      <th>NumRings</th>\n",
              "      <th>TPSA</th>\n",
              "      <th>NumAromaticRings</th>\n",
              "    </tr>\n",
              "  </thead>\n",
              "  <tbody>\n",
              "    <tr>\n",
              "      <th>1328</th>\n",
              "      <td>591.154544</td>\n",
              "      <td>1.73348</td>\n",
              "      <td>12</td>\n",
              "      <td>4</td>\n",
              "      <td>0.500000</td>\n",
              "      <td>10</td>\n",
              "      <td>3</td>\n",
              "      <td>180.28</td>\n",
              "      <td>2</td>\n",
              "    </tr>\n",
              "    <tr>\n",
              "      <th>1776</th>\n",
              "      <td>505.189609</td>\n",
              "      <td>2.15070</td>\n",
              "      <td>10</td>\n",
              "      <td>3</td>\n",
              "      <td>0.240000</td>\n",
              "      <td>7</td>\n",
              "      <td>5</td>\n",
              "      <td>125.93</td>\n",
              "      <td>4</td>\n",
              "    </tr>\n",
              "    <tr>\n",
              "      <th>339</th>\n",
              "      <td>383.141848</td>\n",
              "      <td>2.74320</td>\n",
              "      <td>9</td>\n",
              "      <td>2</td>\n",
              "      <td>0.176471</td>\n",
              "      <td>5</td>\n",
              "      <td>4</td>\n",
              "      <td>106.33</td>\n",
              "      <td>4</td>\n",
              "    </tr>\n",
              "    <tr>\n",
              "      <th>824</th>\n",
              "      <td>507.216492</td>\n",
              "      <td>2.75910</td>\n",
              "      <td>11</td>\n",
              "      <td>2</td>\n",
              "      <td>0.291667</td>\n",
              "      <td>7</td>\n",
              "      <td>5</td>\n",
              "      <td>111.00</td>\n",
              "      <td>4</td>\n",
              "    </tr>\n",
              "    <tr>\n",
              "      <th>733</th>\n",
              "      <td>523.233188</td>\n",
              "      <td>3.21138</td>\n",
              "      <td>10</td>\n",
              "      <td>2</td>\n",
              "      <td>0.275862</td>\n",
              "      <td>8</td>\n",
              "      <td>5</td>\n",
              "      <td>125.17</td>\n",
              "      <td>4</td>\n",
              "    </tr>\n",
              "    <tr>\n",
              "      <th>...</th>\n",
              "      <td>...</td>\n",
              "      <td>...</td>\n",
              "      <td>...</td>\n",
              "      <td>...</td>\n",
              "      <td>...</td>\n",
              "      <td>...</td>\n",
              "      <td>...</td>\n",
              "      <td>...</td>\n",
              "      <td>...</td>\n",
              "    </tr>\n",
              "    <tr>\n",
              "      <th>1130</th>\n",
              "      <td>365.185175</td>\n",
              "      <td>2.82868</td>\n",
              "      <td>7</td>\n",
              "      <td>4</td>\n",
              "      <td>0.450000</td>\n",
              "      <td>5</td>\n",
              "      <td>4</td>\n",
              "      <td>116.96</td>\n",
              "      <td>2</td>\n",
              "    </tr>\n",
              "    <tr>\n",
              "      <th>1294</th>\n",
              "      <td>518.219702</td>\n",
              "      <td>5.06950</td>\n",
              "      <td>8</td>\n",
              "      <td>1</td>\n",
              "      <td>0.321429</td>\n",
              "      <td>7</td>\n",
              "      <td>5</td>\n",
              "      <td>75.00</td>\n",
              "      <td>4</td>\n",
              "    </tr>\n",
              "    <tr>\n",
              "      <th>860</th>\n",
              "      <td>538.230409</td>\n",
              "      <td>4.65610</td>\n",
              "      <td>8</td>\n",
              "      <td>1</td>\n",
              "      <td>0.321429</td>\n",
              "      <td>6</td>\n",
              "      <td>5</td>\n",
              "      <td>75.00</td>\n",
              "      <td>4</td>\n",
              "    </tr>\n",
              "    <tr>\n",
              "      <th>1459</th>\n",
              "      <td>559.186495</td>\n",
              "      <td>4.61250</td>\n",
              "      <td>8</td>\n",
              "      <td>1</td>\n",
              "      <td>0.333333</td>\n",
              "      <td>7</td>\n",
              "      <td>5</td>\n",
              "      <td>88.83</td>\n",
              "      <td>4</td>\n",
              "    </tr>\n",
              "    <tr>\n",
              "      <th>1126</th>\n",
              "      <td>380.140389</td>\n",
              "      <td>4.85320</td>\n",
              "      <td>5</td>\n",
              "      <td>2</td>\n",
              "      <td>0.238095</td>\n",
              "      <td>0</td>\n",
              "      <td>4</td>\n",
              "      <td>59.07</td>\n",
              "      <td>3</td>\n",
              "    </tr>\n",
              "  </tbody>\n",
              "</table>\n",
              "<p>1521 rows × 9 columns</p>\n",
              "</div>\n",
              "      <button class=\"colab-df-convert\" onclick=\"convertToInteractive('df-c32df710-8fb1-43ed-97b8-4d5678eb5bd2')\"\n",
              "              title=\"Convert this dataframe to an interactive table.\"\n",
              "              style=\"display:none;\">\n",
              "        \n",
              "  <svg xmlns=\"http://www.w3.org/2000/svg\" height=\"24px\"viewBox=\"0 0 24 24\"\n",
              "       width=\"24px\">\n",
              "    <path d=\"M0 0h24v24H0V0z\" fill=\"none\"/>\n",
              "    <path d=\"M18.56 5.44l.94 2.06.94-2.06 2.06-.94-2.06-.94-.94-2.06-.94 2.06-2.06.94zm-11 1L8.5 8.5l.94-2.06 2.06-.94-2.06-.94L8.5 2.5l-.94 2.06-2.06.94zm10 10l.94 2.06.94-2.06 2.06-.94-2.06-.94-.94-2.06-.94 2.06-2.06.94z\"/><path d=\"M17.41 7.96l-1.37-1.37c-.4-.4-.92-.59-1.43-.59-.52 0-1.04.2-1.43.59L10.3 9.45l-7.72 7.72c-.78.78-.78 2.05 0 2.83L4 21.41c.39.39.9.59 1.41.59.51 0 1.02-.2 1.41-.59l7.78-7.78 2.81-2.81c.8-.78.8-2.07 0-2.86zM5.41 20L4 18.59l7.72-7.72 1.47 1.35L5.41 20z\"/>\n",
              "  </svg>\n",
              "      </button>\n",
              "      \n",
              "  <style>\n",
              "    .colab-df-container {\n",
              "      display:flex;\n",
              "      flex-wrap:wrap;\n",
              "      gap: 12px;\n",
              "    }\n",
              "\n",
              "    .colab-df-convert {\n",
              "      background-color: #E8F0FE;\n",
              "      border: none;\n",
              "      border-radius: 50%;\n",
              "      cursor: pointer;\n",
              "      display: none;\n",
              "      fill: #1967D2;\n",
              "      height: 32px;\n",
              "      padding: 0 0 0 0;\n",
              "      width: 32px;\n",
              "    }\n",
              "\n",
              "    .colab-df-convert:hover {\n",
              "      background-color: #E2EBFA;\n",
              "      box-shadow: 0px 1px 2px rgba(60, 64, 67, 0.3), 0px 1px 3px 1px rgba(60, 64, 67, 0.15);\n",
              "      fill: #174EA6;\n",
              "    }\n",
              "\n",
              "    [theme=dark] .colab-df-convert {\n",
              "      background-color: #3B4455;\n",
              "      fill: #D2E3FC;\n",
              "    }\n",
              "\n",
              "    [theme=dark] .colab-df-convert:hover {\n",
              "      background-color: #434B5C;\n",
              "      box-shadow: 0px 1px 3px 1px rgba(0, 0, 0, 0.15);\n",
              "      filter: drop-shadow(0px 1px 2px rgba(0, 0, 0, 0.3));\n",
              "      fill: #FFFFFF;\n",
              "    }\n",
              "  </style>\n",
              "\n",
              "      <script>\n",
              "        const buttonEl =\n",
              "          document.querySelector('#df-c32df710-8fb1-43ed-97b8-4d5678eb5bd2 button.colab-df-convert');\n",
              "        buttonEl.style.display =\n",
              "          google.colab.kernel.accessAllowed ? 'block' : 'none';\n",
              "\n",
              "        async function convertToInteractive(key) {\n",
              "          const element = document.querySelector('#df-c32df710-8fb1-43ed-97b8-4d5678eb5bd2');\n",
              "          const dataTable =\n",
              "            await google.colab.kernel.invokeFunction('convertToInteractive',\n",
              "                                                     [key], {});\n",
              "          if (!dataTable) return;\n",
              "\n",
              "          const docLinkHtml = 'Like what you see? Visit the ' +\n",
              "            '<a target=\"_blank\" href=https://colab.research.google.com/notebooks/data_table.ipynb>data table notebook</a>'\n",
              "            + ' to learn more about interactive tables.';\n",
              "          element.innerHTML = '';\n",
              "          dataTable['output_type'] = 'display_data';\n",
              "          await google.colab.output.renderOutput(dataTable, element);\n",
              "          const docLink = document.createElement('div');\n",
              "          docLink.innerHTML = docLinkHtml;\n",
              "          element.appendChild(docLink);\n",
              "        }\n",
              "      </script>\n",
              "    </div>\n",
              "  </div>\n",
              "  "
            ]
          },
          "metadata": {},
          "execution_count": 39
        }
      ]
    },
    {
      "cell_type": "code",
      "source": [
        "X_test"
      ],
      "metadata": {
        "colab": {
          "base_uri": "https://localhost:8080/",
          "height": 424
        },
        "id": "9FYK9IfE-yc3",
        "outputId": "02d379cd-d0d4-4a10-8e23-ddff80e55d84"
      },
      "execution_count": 40,
      "outputs": [
        {
          "output_type": "execute_result",
          "data": {
            "text/plain": [
              "              MW     LogP  HBA  HBD      CSP3  NumRotBond  NumRings    TPSA  \\\n",
              "1223  393.183461  1.30090    8    2  0.666667           5         4  102.42   \n",
              "111   384.119796  5.16730    5    1  0.100000           4         4   51.45   \n",
              "554   573.202145  5.00260    8    1  0.357143           8         5   88.83   \n",
              "526   337.190260  3.61658    6    3  0.421053           4         3   96.73   \n",
              "1480  357.158960  3.75170    6    2  0.142857           4         5   63.48   \n",
              "...          ...      ...  ...  ...       ...         ...       ...     ...   \n",
              "914   443.243359  3.84540    8    2  0.280000           7         5   69.96   \n",
              "583   409.175004  1.07560    9    3  0.380952           3         5  113.78   \n",
              "855   501.184604  3.41160    9    1  0.416667           8         5  100.80   \n",
              "141   358.135366  2.63660    7    3  0.117647           4         3   89.07   \n",
              "1006  327.084161  4.10012    4    3  0.058824           4         3   68.01   \n",
              "\n",
              "      NumAromaticRings  \n",
              "1223                 0  \n",
              "111                  4  \n",
              "554                  4  \n",
              "526                  2  \n",
              "1480                 4  \n",
              "...                ...  \n",
              "914                  4  \n",
              "583                  1  \n",
              "855                  3  \n",
              "141                  3  \n",
              "1006                 3  \n",
              "\n",
              "[381 rows x 9 columns]"
            ],
            "text/html": [
              "\n",
              "  <div id=\"df-0fe7aee1-661b-4b00-8e67-83eef1c60aa9\">\n",
              "    <div class=\"colab-df-container\">\n",
              "      <div>\n",
              "<style scoped>\n",
              "    .dataframe tbody tr th:only-of-type {\n",
              "        vertical-align: middle;\n",
              "    }\n",
              "\n",
              "    .dataframe tbody tr th {\n",
              "        vertical-align: top;\n",
              "    }\n",
              "\n",
              "    .dataframe thead th {\n",
              "        text-align: right;\n",
              "    }\n",
              "</style>\n",
              "<table border=\"1\" class=\"dataframe\">\n",
              "  <thead>\n",
              "    <tr style=\"text-align: right;\">\n",
              "      <th></th>\n",
              "      <th>MW</th>\n",
              "      <th>LogP</th>\n",
              "      <th>HBA</th>\n",
              "      <th>HBD</th>\n",
              "      <th>CSP3</th>\n",
              "      <th>NumRotBond</th>\n",
              "      <th>NumRings</th>\n",
              "      <th>TPSA</th>\n",
              "      <th>NumAromaticRings</th>\n",
              "    </tr>\n",
              "  </thead>\n",
              "  <tbody>\n",
              "    <tr>\n",
              "      <th>1223</th>\n",
              "      <td>393.183461</td>\n",
              "      <td>1.30090</td>\n",
              "      <td>8</td>\n",
              "      <td>2</td>\n",
              "      <td>0.666667</td>\n",
              "      <td>5</td>\n",
              "      <td>4</td>\n",
              "      <td>102.42</td>\n",
              "      <td>0</td>\n",
              "    </tr>\n",
              "    <tr>\n",
              "      <th>111</th>\n",
              "      <td>384.119796</td>\n",
              "      <td>5.16730</td>\n",
              "      <td>5</td>\n",
              "      <td>1</td>\n",
              "      <td>0.100000</td>\n",
              "      <td>4</td>\n",
              "      <td>4</td>\n",
              "      <td>51.45</td>\n",
              "      <td>4</td>\n",
              "    </tr>\n",
              "    <tr>\n",
              "      <th>554</th>\n",
              "      <td>573.202145</td>\n",
              "      <td>5.00260</td>\n",
              "      <td>8</td>\n",
              "      <td>1</td>\n",
              "      <td>0.357143</td>\n",
              "      <td>8</td>\n",
              "      <td>5</td>\n",
              "      <td>88.83</td>\n",
              "      <td>4</td>\n",
              "    </tr>\n",
              "    <tr>\n",
              "      <th>526</th>\n",
              "      <td>337.190260</td>\n",
              "      <td>3.61658</td>\n",
              "      <td>6</td>\n",
              "      <td>3</td>\n",
              "      <td>0.421053</td>\n",
              "      <td>4</td>\n",
              "      <td>3</td>\n",
              "      <td>96.73</td>\n",
              "      <td>2</td>\n",
              "    </tr>\n",
              "    <tr>\n",
              "      <th>1480</th>\n",
              "      <td>357.158960</td>\n",
              "      <td>3.75170</td>\n",
              "      <td>6</td>\n",
              "      <td>2</td>\n",
              "      <td>0.142857</td>\n",
              "      <td>4</td>\n",
              "      <td>5</td>\n",
              "      <td>63.48</td>\n",
              "      <td>4</td>\n",
              "    </tr>\n",
              "    <tr>\n",
              "      <th>...</th>\n",
              "      <td>...</td>\n",
              "      <td>...</td>\n",
              "      <td>...</td>\n",
              "      <td>...</td>\n",
              "      <td>...</td>\n",
              "      <td>...</td>\n",
              "      <td>...</td>\n",
              "      <td>...</td>\n",
              "      <td>...</td>\n",
              "    </tr>\n",
              "    <tr>\n",
              "      <th>914</th>\n",
              "      <td>443.243359</td>\n",
              "      <td>3.84540</td>\n",
              "      <td>8</td>\n",
              "      <td>2</td>\n",
              "      <td>0.280000</td>\n",
              "      <td>7</td>\n",
              "      <td>5</td>\n",
              "      <td>69.96</td>\n",
              "      <td>4</td>\n",
              "    </tr>\n",
              "    <tr>\n",
              "      <th>583</th>\n",
              "      <td>409.175004</td>\n",
              "      <td>1.07560</td>\n",
              "      <td>9</td>\n",
              "      <td>3</td>\n",
              "      <td>0.380952</td>\n",
              "      <td>3</td>\n",
              "      <td>5</td>\n",
              "      <td>113.78</td>\n",
              "      <td>1</td>\n",
              "    </tr>\n",
              "    <tr>\n",
              "      <th>855</th>\n",
              "      <td>501.184604</td>\n",
              "      <td>3.41160</td>\n",
              "      <td>9</td>\n",
              "      <td>1</td>\n",
              "      <td>0.416667</td>\n",
              "      <td>8</td>\n",
              "      <td>5</td>\n",
              "      <td>100.80</td>\n",
              "      <td>3</td>\n",
              "    </tr>\n",
              "    <tr>\n",
              "      <th>141</th>\n",
              "      <td>358.135366</td>\n",
              "      <td>2.63660</td>\n",
              "      <td>7</td>\n",
              "      <td>3</td>\n",
              "      <td>0.117647</td>\n",
              "      <td>4</td>\n",
              "      <td>3</td>\n",
              "      <td>89.07</td>\n",
              "      <td>3</td>\n",
              "    </tr>\n",
              "    <tr>\n",
              "      <th>1006</th>\n",
              "      <td>327.084161</td>\n",
              "      <td>4.10012</td>\n",
              "      <td>4</td>\n",
              "      <td>3</td>\n",
              "      <td>0.058824</td>\n",
              "      <td>4</td>\n",
              "      <td>3</td>\n",
              "      <td>68.01</td>\n",
              "      <td>3</td>\n",
              "    </tr>\n",
              "  </tbody>\n",
              "</table>\n",
              "<p>381 rows × 9 columns</p>\n",
              "</div>\n",
              "      <button class=\"colab-df-convert\" onclick=\"convertToInteractive('df-0fe7aee1-661b-4b00-8e67-83eef1c60aa9')\"\n",
              "              title=\"Convert this dataframe to an interactive table.\"\n",
              "              style=\"display:none;\">\n",
              "        \n",
              "  <svg xmlns=\"http://www.w3.org/2000/svg\" height=\"24px\"viewBox=\"0 0 24 24\"\n",
              "       width=\"24px\">\n",
              "    <path d=\"M0 0h24v24H0V0z\" fill=\"none\"/>\n",
              "    <path d=\"M18.56 5.44l.94 2.06.94-2.06 2.06-.94-2.06-.94-.94-2.06-.94 2.06-2.06.94zm-11 1L8.5 8.5l.94-2.06 2.06-.94-2.06-.94L8.5 2.5l-.94 2.06-2.06.94zm10 10l.94 2.06.94-2.06 2.06-.94-2.06-.94-.94-2.06-.94 2.06-2.06.94z\"/><path d=\"M17.41 7.96l-1.37-1.37c-.4-.4-.92-.59-1.43-.59-.52 0-1.04.2-1.43.59L10.3 9.45l-7.72 7.72c-.78.78-.78 2.05 0 2.83L4 21.41c.39.39.9.59 1.41.59.51 0 1.02-.2 1.41-.59l7.78-7.78 2.81-2.81c.8-.78.8-2.07 0-2.86zM5.41 20L4 18.59l7.72-7.72 1.47 1.35L5.41 20z\"/>\n",
              "  </svg>\n",
              "      </button>\n",
              "      \n",
              "  <style>\n",
              "    .colab-df-container {\n",
              "      display:flex;\n",
              "      flex-wrap:wrap;\n",
              "      gap: 12px;\n",
              "    }\n",
              "\n",
              "    .colab-df-convert {\n",
              "      background-color: #E8F0FE;\n",
              "      border: none;\n",
              "      border-radius: 50%;\n",
              "      cursor: pointer;\n",
              "      display: none;\n",
              "      fill: #1967D2;\n",
              "      height: 32px;\n",
              "      padding: 0 0 0 0;\n",
              "      width: 32px;\n",
              "    }\n",
              "\n",
              "    .colab-df-convert:hover {\n",
              "      background-color: #E2EBFA;\n",
              "      box-shadow: 0px 1px 2px rgba(60, 64, 67, 0.3), 0px 1px 3px 1px rgba(60, 64, 67, 0.15);\n",
              "      fill: #174EA6;\n",
              "    }\n",
              "\n",
              "    [theme=dark] .colab-df-convert {\n",
              "      background-color: #3B4455;\n",
              "      fill: #D2E3FC;\n",
              "    }\n",
              "\n",
              "    [theme=dark] .colab-df-convert:hover {\n",
              "      background-color: #434B5C;\n",
              "      box-shadow: 0px 1px 3px 1px rgba(0, 0, 0, 0.15);\n",
              "      filter: drop-shadow(0px 1px 2px rgba(0, 0, 0, 0.3));\n",
              "      fill: #FFFFFF;\n",
              "    }\n",
              "  </style>\n",
              "\n",
              "      <script>\n",
              "        const buttonEl =\n",
              "          document.querySelector('#df-0fe7aee1-661b-4b00-8e67-83eef1c60aa9 button.colab-df-convert');\n",
              "        buttonEl.style.display =\n",
              "          google.colab.kernel.accessAllowed ? 'block' : 'none';\n",
              "\n",
              "        async function convertToInteractive(key) {\n",
              "          const element = document.querySelector('#df-0fe7aee1-661b-4b00-8e67-83eef1c60aa9');\n",
              "          const dataTable =\n",
              "            await google.colab.kernel.invokeFunction('convertToInteractive',\n",
              "                                                     [key], {});\n",
              "          if (!dataTable) return;\n",
              "\n",
              "          const docLinkHtml = 'Like what you see? Visit the ' +\n",
              "            '<a target=\"_blank\" href=https://colab.research.google.com/notebooks/data_table.ipynb>data table notebook</a>'\n",
              "            + ' to learn more about interactive tables.';\n",
              "          element.innerHTML = '';\n",
              "          dataTable['output_type'] = 'display_data';\n",
              "          await google.colab.output.renderOutput(dataTable, element);\n",
              "          const docLink = document.createElement('div');\n",
              "          docLink.innerHTML = docLinkHtml;\n",
              "          element.appendChild(docLink);\n",
              "        }\n",
              "      </script>\n",
              "    </div>\n",
              "  </div>\n",
              "  "
            ]
          },
          "metadata": {},
          "execution_count": 40
        }
      ]
    },
    {
      "cell_type": "code",
      "source": [
        "y_train"
      ],
      "metadata": {
        "colab": {
          "base_uri": "https://localhost:8080/"
        },
        "id": "tnTG4pQX-zCP",
        "outputId": "89878fac-8693-4bf6-da34-4890b2d07920"
      },
      "execution_count": 41,
      "outputs": [
        {
          "output_type": "execute_result",
          "data": {
            "text/plain": [
              "1328    7.89\n",
              "1776    9.19\n",
              "339     6.31\n",
              "824     7.22\n",
              "733     7.09\n",
              "        ... \n",
              "1130    7.60\n",
              "1294    7.82\n",
              "860     7.27\n",
              "1459    8.15\n",
              "1126    7.60\n",
              "Name: pIC50, Length: 1521, dtype: float64"
            ]
          },
          "metadata": {},
          "execution_count": 41
        }
      ]
    },
    {
      "cell_type": "code",
      "source": [
        "y_test"
      ],
      "metadata": {
        "colab": {
          "base_uri": "https://localhost:8080/"
        },
        "id": "ZPmthhQ3-0JO",
        "outputId": "3bd18f6c-a230-4e40-8efb-02cd1e94e4ad"
      },
      "execution_count": 42,
      "outputs": [
        {
          "output_type": "execute_result",
          "data": {
            "text/plain": [
              "1223    7.74\n",
              "111     5.52\n",
              "554     6.80\n",
              "526     6.75\n",
              "1480    8.18\n",
              "        ... \n",
              "914     7.34\n",
              "583     6.85\n",
              "855     7.26\n",
              "141     5.60\n",
              "1006    7.44\n",
              "Name: pIC50, Length: 381, dtype: float64"
            ]
          },
          "metadata": {},
          "execution_count": 42
        }
      ]
    },
    {
      "cell_type": "markdown",
      "source": [
        "## Let's perform regression prediction using RandomForest\n",
        "-------\n",
        "\n",
        "https://scikit-learn.org/stable/modules/generated/sklearn.ensemble.RandomForestRegressor.html"
      ],
      "metadata": {
        "id": "2kyL_Pq4-7bZ"
      }
    },
    {
      "cell_type": "code",
      "source": [
        "import sklearn.ensemble\n",
        "from sklearn.ensemble import RandomForestRegressor"
      ],
      "metadata": {
        "id": "-mTTYxyX-0m9"
      },
      "execution_count": 43,
      "outputs": []
    },
    {
      "cell_type": "markdown",
      "source": [
        "### 빈 모델 선언\n",
        "-----"
      ],
      "metadata": {
        "id": "o-PqeTc0_Cxd"
      }
    },
    {
      "cell_type": "code",
      "source": [
        "my_model = RandomForestRegressor()"
      ],
      "metadata": {
        "id": "7Yb7GRgM--SZ"
      },
      "execution_count": 44,
      "outputs": []
    },
    {
      "cell_type": "markdown",
      "source": [
        "### 학습 수행\n",
        "------"
      ],
      "metadata": {
        "id": "QiwiPAJ1_G8G"
      }
    },
    {
      "cell_type": "code",
      "source": [
        "my_model.fit(X_train, y_train)"
      ],
      "metadata": {
        "colab": {
          "base_uri": "https://localhost:8080/",
          "height": 75
        },
        "id": "E5bVkcxu-_-A",
        "outputId": "745d811b-0331-4070-c190-10856c8f83a8"
      },
      "execution_count": 45,
      "outputs": [
        {
          "output_type": "execute_result",
          "data": {
            "text/plain": [
              "RandomForestRegressor()"
            ],
            "text/html": [
              "<style>#sk-container-id-1 {color: black;background-color: white;}#sk-container-id-1 pre{padding: 0;}#sk-container-id-1 div.sk-toggleable {background-color: white;}#sk-container-id-1 label.sk-toggleable__label {cursor: pointer;display: block;width: 100%;margin-bottom: 0;padding: 0.3em;box-sizing: border-box;text-align: center;}#sk-container-id-1 label.sk-toggleable__label-arrow:before {content: \"▸\";float: left;margin-right: 0.25em;color: #696969;}#sk-container-id-1 label.sk-toggleable__label-arrow:hover:before {color: black;}#sk-container-id-1 div.sk-estimator:hover label.sk-toggleable__label-arrow:before {color: black;}#sk-container-id-1 div.sk-toggleable__content {max-height: 0;max-width: 0;overflow: hidden;text-align: left;background-color: #f0f8ff;}#sk-container-id-1 div.sk-toggleable__content pre {margin: 0.2em;color: black;border-radius: 0.25em;background-color: #f0f8ff;}#sk-container-id-1 input.sk-toggleable__control:checked~div.sk-toggleable__content {max-height: 200px;max-width: 100%;overflow: auto;}#sk-container-id-1 input.sk-toggleable__control:checked~label.sk-toggleable__label-arrow:before {content: \"▾\";}#sk-container-id-1 div.sk-estimator input.sk-toggleable__control:checked~label.sk-toggleable__label {background-color: #d4ebff;}#sk-container-id-1 div.sk-label input.sk-toggleable__control:checked~label.sk-toggleable__label {background-color: #d4ebff;}#sk-container-id-1 input.sk-hidden--visually {border: 0;clip: rect(1px 1px 1px 1px);clip: rect(1px, 1px, 1px, 1px);height: 1px;margin: -1px;overflow: hidden;padding: 0;position: absolute;width: 1px;}#sk-container-id-1 div.sk-estimator {font-family: monospace;background-color: #f0f8ff;border: 1px dotted black;border-radius: 0.25em;box-sizing: border-box;margin-bottom: 0.5em;}#sk-container-id-1 div.sk-estimator:hover {background-color: #d4ebff;}#sk-container-id-1 div.sk-parallel-item::after {content: \"\";width: 100%;border-bottom: 1px solid gray;flex-grow: 1;}#sk-container-id-1 div.sk-label:hover label.sk-toggleable__label {background-color: #d4ebff;}#sk-container-id-1 div.sk-serial::before {content: \"\";position: absolute;border-left: 1px solid gray;box-sizing: border-box;top: 0;bottom: 0;left: 50%;z-index: 0;}#sk-container-id-1 div.sk-serial {display: flex;flex-direction: column;align-items: center;background-color: white;padding-right: 0.2em;padding-left: 0.2em;position: relative;}#sk-container-id-1 div.sk-item {position: relative;z-index: 1;}#sk-container-id-1 div.sk-parallel {display: flex;align-items: stretch;justify-content: center;background-color: white;position: relative;}#sk-container-id-1 div.sk-item::before, #sk-container-id-1 div.sk-parallel-item::before {content: \"\";position: absolute;border-left: 1px solid gray;box-sizing: border-box;top: 0;bottom: 0;left: 50%;z-index: -1;}#sk-container-id-1 div.sk-parallel-item {display: flex;flex-direction: column;z-index: 1;position: relative;background-color: white;}#sk-container-id-1 div.sk-parallel-item:first-child::after {align-self: flex-end;width: 50%;}#sk-container-id-1 div.sk-parallel-item:last-child::after {align-self: flex-start;width: 50%;}#sk-container-id-1 div.sk-parallel-item:only-child::after {width: 0;}#sk-container-id-1 div.sk-dashed-wrapped {border: 1px dashed gray;margin: 0 0.4em 0.5em 0.4em;box-sizing: border-box;padding-bottom: 0.4em;background-color: white;}#sk-container-id-1 div.sk-label label {font-family: monospace;font-weight: bold;display: inline-block;line-height: 1.2em;}#sk-container-id-1 div.sk-label-container {text-align: center;}#sk-container-id-1 div.sk-container {/* jupyter's `normalize.less` sets `[hidden] { display: none; }` but bootstrap.min.css set `[hidden] { display: none !important; }` so we also need the `!important` here to be able to override the default hidden behavior on the sphinx rendered scikit-learn.org. See: https://github.com/scikit-learn/scikit-learn/issues/21755 */display: inline-block !important;position: relative;}#sk-container-id-1 div.sk-text-repr-fallback {display: none;}</style><div id=\"sk-container-id-1\" class=\"sk-top-container\"><div class=\"sk-text-repr-fallback\"><pre>RandomForestRegressor()</pre><b>In a Jupyter environment, please rerun this cell to show the HTML representation or trust the notebook. <br />On GitHub, the HTML representation is unable to render, please try loading this page with nbviewer.org.</b></div><div class=\"sk-container\" hidden><div class=\"sk-item\"><div class=\"sk-estimator sk-toggleable\"><input class=\"sk-toggleable__control sk-hidden--visually\" id=\"sk-estimator-id-1\" type=\"checkbox\" checked><label for=\"sk-estimator-id-1\" class=\"sk-toggleable__label sk-toggleable__label-arrow\">RandomForestRegressor</label><div class=\"sk-toggleable__content\"><pre>RandomForestRegressor()</pre></div></div></div></div></div>"
            ]
          },
          "metadata": {},
          "execution_count": 45
        }
      ]
    },
    {
      "cell_type": "markdown",
      "source": [
        "## 학습 끝!\n",
        "--------"
      ],
      "metadata": {
        "id": "Qm1uEP66_SYj"
      }
    },
    {
      "cell_type": "markdown",
      "source": [
        "학습이 얼마나 잘 되었는지 평가를 하자!\n",
        "\n",
        "test 셋의 정보를 주고 목적값을 예측.\n",
        "\n",
        "predict method사용."
      ],
      "metadata": {
        "id": "rMRUcHLa_VgO"
      }
    },
    {
      "cell_type": "code",
      "source": [
        "y_pred = my_model.predict(X_test)"
      ],
      "metadata": {
        "id": "xPVVpcoH_NK-"
      },
      "execution_count": 46,
      "outputs": []
    },
    {
      "cell_type": "code",
      "source": [
        "y_pred"
      ],
      "metadata": {
        "colab": {
          "base_uri": "https://localhost:8080/"
        },
        "id": "SrRnPf6y_aT-",
        "outputId": "fa0d11fe-01a2-4216-b73f-f89b3409d6dc"
      },
      "execution_count": 47,
      "outputs": [
        {
          "output_type": "execute_result",
          "data": {
            "text/plain": [
              "array([7.4688    , 5.40217   , 7.21253333, 7.42193333, 6.32865524,\n",
              "       8.33221071, 6.07956667, 6.584655  , 7.85018333, 7.01901786,\n",
              "       6.7879    , 8.35694167, 7.43884167, 5.93234   , 6.32753   ,\n",
              "       9.3868    , 7.289     , 7.4407    , 7.28655   , 7.40144667,\n",
              "       7.34733333, 6.555875  , 7.712165  , 7.38406667, 7.1044    ,\n",
              "       6.71716   , 5.83565   , 8.09256667, 8.32557476, 7.73105   ,\n",
              "       8.29314167, 9.4558    , 7.24079333, 7.77803333, 7.45575333,\n",
              "       6.77893667, 7.86747833, 7.07393571, 6.54993143, 7.1046    ,\n",
              "       7.22698167, 8.09608333, 7.04721571, 7.476325  , 7.95044317,\n",
              "       7.33336667, 7.20108636, 6.8757    , 6.76583167, 7.98042143,\n",
              "       8.29785   , 6.54531667, 7.13177333, 6.61989167, 8.59738333,\n",
              "       7.26118333, 6.26604667, 8.55354   , 6.40473667, 7.50729667,\n",
              "       8.6627    , 7.63326333, 7.76003333, 7.5064619 , 7.74626667,\n",
              "       7.75267333, 7.6365    , 6.705975  , 8.7703    , 7.37676667,\n",
              "       9.87878667, 8.245675  , 7.708745  , 6.7929    , 9.6984    ,\n",
              "       6.23073333, 7.77435833, 7.80525   , 6.48389167, 7.07620944,\n",
              "       6.63415067, 8.193485  , 6.13594024, 7.69755   , 6.8778681 ,\n",
              "       7.18926833, 7.36786667, 8.86911667, 7.34664548, 6.44786667,\n",
              "       6.62725   , 7.47313333, 8.245675  , 7.66388333, 8.29314167,\n",
              "       7.74317   , 6.97240167, 7.73746667, 8.46126667, 7.64135333,\n",
              "       6.78658333, 7.272225  , 8.5646    , 7.68187833, 7.54870167,\n",
              "       7.79183333, 7.68470984, 7.58026667, 7.45535   , 7.42377667,\n",
              "       5.6076    , 7.48204286, 7.480505  , 7.74414048, 7.83299667,\n",
              "       6.784445  , 6.47416   , 9.5843    , 6.52557333, 7.630025  ,\n",
              "       8.6704    , 7.38797063, 8.81965   , 8.59860667, 8.2641    ,\n",
              "       6.88859041, 5.6758    , 6.47595   , 7.01116944, 6.77756   ,\n",
              "       6.17327873, 7.2051    , 7.624975  , 8.228075  , 6.811425  ,\n",
              "       6.99541   , 9.6203    , 8.27317143, 8.07452   , 6.86503333,\n",
              "       6.6531    , 7.30988333, 7.62532333, 7.5904    , 7.01163   ,\n",
              "       7.06269667, 7.36332833, 6.37569333, 9.1997    , 7.03294048,\n",
              "       9.07305   , 6.30396667, 6.32621667, 7.08317833, 5.1731    ,\n",
              "       6.997175  , 7.352     , 6.95699333, 6.99204667, 7.77849167,\n",
              "       7.235415  , 6.92720667, 6.63386   , 7.530225  , 7.30531429,\n",
              "       7.96157   , 7.68639667, 9.24006667, 7.73793333, 8.339645  ,\n",
              "       7.32159   , 7.83591048, 7.6507    , 7.06134821, 7.318275  ,\n",
              "       7.69297976, 6.0362    , 9.791     , 6.9313    , 6.74309   ,\n",
              "       7.92490333, 7.88499167, 7.56334   , 6.56664762, 6.435     ,\n",
              "       7.48948   , 8.0681619 , 7.66290833, 6.83716667, 7.80168333,\n",
              "       8.56326667, 7.70831667, 7.37215   , 7.25175167, 7.40880833,\n",
              "       7.039305  , 8.3798    , 7.487425  , 7.28799167, 8.38099167,\n",
              "       7.48859   , 6.0354    , 6.29028333, 7.59688   , 7.63195   ,\n",
              "       6.89301303, 5.92886667, 7.28680833, 7.26526714, 7.453     ,\n",
              "       7.17181476, 8.7862    , 7.431975  , 7.75450833, 6.91478333,\n",
              "       7.77615   , 6.8342    , 8.80975   , 7.55676667, 6.7201    ,\n",
              "       6.25206619, 9.7023    , 6.99207548, 6.79926   , 7.68628333,\n",
              "       6.7159    , 7.341975  , 7.17198333, 7.3558    , 7.27187048,\n",
              "       7.55588333, 5.42678   , 7.02753333, 7.16028333, 6.17023333,\n",
              "       7.23210667, 6.52845   , 7.403425  , 7.513965  , 8.52836667,\n",
              "       6.57715905, 8.7446025 , 7.04156821, 7.54774167, 7.79156667,\n",
              "       7.778365  , 8.2236    , 7.85018333, 7.38885   , 7.22726833,\n",
              "       6.5353369 , 6.57715905, 6.87333333, 6.76463333, 6.82380833,\n",
              "       7.50703083, 9.6378    , 7.94683333, 7.45405   , 7.9979    ,\n",
              "       6.53315262, 7.07393571, 6.48028833, 8.02085   , 6.63415067,\n",
              "       6.53192321, 7.10265   , 6.62555   , 7.09248333, 7.041     ,\n",
              "       6.89196667, 6.3852    , 9.3377    , 7.26046167, 7.87537833,\n",
              "       7.22685   , 7.864425  , 7.17181476, 7.84385   , 8.0854    ,\n",
              "       7.17396167, 8.38850476, 7.67731476, 7.64543333, 7.44108333,\n",
              "       7.67620333, 7.26111833, 7.68470984, 6.15077167, 7.73606667,\n",
              "       7.309005  , 6.84017833, 7.72899   , 7.56080778, 6.777135  ,\n",
              "       9.9991    , 7.91598889, 7.54516   , 7.83691   , 6.57001333,\n",
              "       5.59558667, 7.27107786, 7.47951321, 7.70015833, 7.79286667,\n",
              "       8.9841    , 8.05133667, 7.24525714, 6.56731833, 9.46228667,\n",
              "       7.085575  , 8.15283333, 6.66194   , 6.940845  , 6.542725  ,\n",
              "       6.89301303, 6.784445  , 7.36798333, 8.57589   , 7.74795   ,\n",
              "       7.86747833, 7.16702   , 7.8339    , 6.9614    , 7.94729786,\n",
              "       7.4187    , 7.09718238, 7.09726667, 7.48859   , 7.8922    ,\n",
              "       8.21254   , 6.8285019 , 6.41816   , 7.68628333, 7.53355   ,\n",
              "       6.17327873, 8.1039    , 6.56930833, 7.05339333, 6.72940833,\n",
              "       7.61094167, 7.36219333, 7.3725    , 7.60498333, 6.79110714,\n",
              "       7.26526714, 6.90625429, 7.53032   , 6.63415067, 6.54063333,\n",
              "       6.85540333, 7.38562333, 7.26326667, 7.32508333, 8.48865   ,\n",
              "       6.46074333, 7.25175167, 7.21804048, 6.94451667, 7.81317791,\n",
              "       9.26489   , 7.31113333, 7.45436667, 7.630695  , 7.01005   ,\n",
              "       7.51521   , 7.85018333, 7.38103429, 8.36437333, 9.9009    ,\n",
              "       7.62310333, 7.54163833, 6.0593    , 8.7087    , 7.34264167,\n",
              "       8.06185   , 5.97412036, 6.62645   , 7.57326667, 5.6159    ,\n",
              "       6.7826369 ])"
            ]
          },
          "metadata": {},
          "execution_count": 47
        }
      ]
    },
    {
      "cell_type": "markdown",
      "source": [
        "### 예측이 잘 되었는지 확인하자!\n",
        "------\n",
        "#### scatter plot을 그려보자!"
      ],
      "metadata": {
        "id": "TSQ1P2cY_efy"
      }
    },
    {
      "cell_type": "code",
      "source": [
        "import matplotlib.pyplot as plt"
      ],
      "metadata": {
        "id": "ee7Zfw9h_iIV"
      },
      "execution_count": 48,
      "outputs": []
    },
    {
      "cell_type": "code",
      "source": [
        "plt.scatter(y_test, y_pred, marker='.')\n",
        "plt.xlabel(\"Experimental pIC50\")\n",
        "plt.ylabel(\"Predicted pIC50\")\n",
        "plt.grid()\n"
      ],
      "metadata": {
        "colab": {
          "base_uri": "https://localhost:8080/",
          "height": 279
        },
        "id": "Ges8xoYf_bMY",
        "outputId": "32c467d6-4da2-4243-f53c-4b308ad66d7f"
      },
      "execution_count": 51,
      "outputs": [
        {
          "output_type": "display_data",
          "data": {
            "text/plain": [
              "<Figure size 432x288 with 1 Axes>"
            ],
            "image/png": "[encoded data removed]"
          },
          "metadata": {
            "needs_background": "light"
          }
        }
      ]
    },
    {
      "cell_type": "markdown",
      "source": [
        "### 기준선 (y==x), 완벽한 예측의 경우, 를 추가해서 그려보자"
      ],
      "metadata": {
        "id": "hCvTLUG1_z18"
      }
    },
    {
      "cell_type": "code",
      "source": [
        "plt.scatter(y_test, y_pred, marker='.')\n",
        "plt.xlabel(\"Experimental pIC50\", fontsize='x-large')\n",
        "plt.ylabel(\"Predicted pIC50\", fontsize='x-large')\n",
        "plt.grid()\n",
        "plt.plot(range(4, 12), range(4, 12), \"r--\", label = \"y=x\")\n",
        "plt.legend()"
      ],
      "metadata": {
        "colab": {
          "base_uri": "https://localhost:8080/",
          "height": 301
        },
        "id": "1mNyeclL_kKj",
        "outputId": "c4334687-085f-4efa-d87a-618ffdbd2e8f"
      },
      "execution_count": 54,
      "outputs": [
        {
          "output_type": "execute_result",
          "data": {
            "text/plain": [
              "<matplotlib.legend.Legend at 0x7fc5110891f0>"
            ]
          },
          "metadata": {},
          "execution_count": 54
        },
        {
          "output_type": "display_data",
          "data": {
            "text/plain": [
              "<Figure size 432x288 with 1 Axes>"
            ],
            "image/png": "[encoded data removed]"
          },
          "metadata": {
            "needs_background": "light"
          }
        }
      ]
    },
    {
      "cell_type": "markdown",
      "source": [
        "### 모델의 정확도 정량화\n",
        "-------\n",
        "\n",
        "평균 제곱 오차(mean squared error)를 계산해보자. \n",
        "\n",
        "https://scikit-learn.org/stable/modules/generated/sklearn.metrics.mean_squared_error.html\n",
        "\n",
        "<img src=\"data:image/png;base64,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\">"
      ],
      "metadata": {
        "id": "_2uIcoXtAEYc"
      }
    },
    {
      "cell_type": "code",
      "source": [
        "from sklearn.metrics import mean_squared_error\n",
        "\n",
        "mse1 = mean_squared_error(y_test, y_pred)\n",
        "\n",
        "print(f\"Mean Squared Error (in pIC50 unit): {mse1:.3f}\")"
      ],
      "metadata": {
        "colab": {
          "base_uri": "https://localhost:8080/"
        },
        "id": "sJwW0UXJ_55N",
        "outputId": "35150e5a-4add-4d36-df85-814b9b3337d3"
      },
      "execution_count": 58,
      "outputs": [
        {
          "output_type": "stream",
          "name": "stdout",
          "text": [
            "Mean Squared Error (in pIC50 unit): 0.843\n"
          ]
        }
      ]
    },
    {
      "cell_type": "code",
      "source": [],
      "metadata": {
        "id": "Uo8wcKcTAafF"
      },
      "execution_count": null,
      "outputs": []
    }
  ]
}