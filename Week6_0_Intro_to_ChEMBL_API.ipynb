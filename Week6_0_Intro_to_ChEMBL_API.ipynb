{
  "nbformat": 4,
  "nbformat_minor": 0,
  "metadata": {
    "colab": {
      "provenance": [],
      "authorship_tag": "ABX9TyNsybdE1wfNBSx8TGl7f38I",
      "include_colab_link": true
    },
    "kernelspec": {
      "name": "python3",
      "display_name": "Python 3"
    },
    "language_info": {
      "name": "python"
    }
  },
  "cells": [
    {
      "cell_type": "markdown",
      "metadata": {
        "id": "view-in-github",
        "colab_type": "text"
      },
      "source": [
        "<a href=\"https://colab.research.google.com/github/JLee823/2023-1st-AI-assisted-drug-discovery-SNU/blob/main/Week6_0_Intro_to_ChEMBL_API.ipynb\" target=\"_parent\"><img src=\"https://colab.research.google.com/assets/colab-badge.svg\" alt=\"Open In Colab\"/></a>"
      ]
    },
    {
      "cell_type": "markdown",
      "source": [
        "# Introduction to ChEMBL API\n",
        "-------\n"
      ],
      "metadata": {
        "id": "MjCdktgNX5Nq"
      }
    },
    {
      "cell_type": "markdown",
      "source": [
        "In this notebook, we will briefly review how to download data from ChEMBL using ChEMBL API.\n",
        "\n",
        "Examples are adopted from https://github.com/chembl/chembl_webresource_client\n",
        "\n",
        "You can find more useful tips from the website above"
      ],
      "metadata": {
        "id": "tMDcNLXCX8KC"
      }
    },
    {
      "cell_type": "code",
      "source": [
        "pip install chembl_webresource_client"
      ],
      "metadata": {
        "colab": {
          "base_uri": "https://localhost:8080/"
        },
        "id": "Nav8urOwaeW5",
        "outputId": "0b36bb2c-98f6-4bbe-f671-f99d05b00860"
      },
      "execution_count": null,
      "outputs": [
        {
          "output_type": "stream",
          "name": "stdout",
          "text": [
            "Looking in indexes: https://pypi.org/simple, https://us-python.pkg.dev/colab-wheels/public/simple/\n",
            "Collecting chembl_webresource_client\n",
            "  Downloading chembl_webresource_client-0.10.8-py3-none-any.whl (55 kB)\n",
            "\u001b[2K     \u001b[90m━━━━━━━━━━━━━━━━━━━━━━━━━━━━━━━━━━━━━━━━\u001b[0m \u001b[32m55.2/55.2 KB\u001b[0m \u001b[31m5.7 MB/s\u001b[0m eta \u001b[36m0:00:00\u001b[0m\n",
            "\u001b[?25hRequirement already satisfied: requests>=2.18.4 in /usr/local/lib/python3.9/dist-packages (from chembl_webresource_client) (2.27.1)\n",
            "Collecting requests-cache~=0.7.0\n",
            "  Downloading requests_cache-0.7.5-py3-none-any.whl (39 kB)\n",
            "Requirement already satisfied: easydict in /usr/local/lib/python3.9/dist-packages (from chembl_webresource_client) (1.10)\n",
            "Requirement already satisfied: urllib3 in /usr/local/lib/python3.9/dist-packages (from chembl_webresource_client) (1.26.15)\n",
            "Requirement already satisfied: charset-normalizer~=2.0.0 in /usr/local/lib/python3.9/dist-packages (from requests>=2.18.4->chembl_webresource_client) (2.0.12)\n",
            "Requirement already satisfied: idna<4,>=2.5 in /usr/local/lib/python3.9/dist-packages (from requests>=2.18.4->chembl_webresource_client) (3.4)\n",
            "Requirement already satisfied: certifi>=2017.4.17 in /usr/local/lib/python3.9/dist-packages (from requests>=2.18.4->chembl_webresource_client) (2022.12.7)\n",
            "Collecting url-normalize<2.0,>=1.4\n",
            "  Downloading url_normalize-1.4.3-py2.py3-none-any.whl (6.8 kB)\n",
            "Collecting attrs<22.0,>=21.2\n",
            "  Downloading attrs-21.4.0-py2.py3-none-any.whl (60 kB)\n",
            "\u001b[2K     \u001b[90m━━━━━━━━━━━━━━━━━━━━━━━━━━━━━━━━━━━━━━━━\u001b[0m \u001b[32m60.6/60.6 KB\u001b[0m \u001b[31m8.3 MB/s\u001b[0m eta \u001b[36m0:00:00\u001b[0m\n",
            "\u001b[?25hRequirement already satisfied: pyyaml>=5.4 in /usr/local/lib/python3.9/dist-packages (from requests-cache~=0.7.0->chembl_webresource_client) (6.0)\n",
            "Requirement already satisfied: itsdangerous>=2.0.1 in /usr/local/lib/python3.9/dist-packages (from requests-cache~=0.7.0->chembl_webresource_client) (2.1.2)\n",
            "Requirement already satisfied: six in /usr/local/lib/python3.9/dist-packages (from url-normalize<2.0,>=1.4->requests-cache~=0.7.0->chembl_webresource_client) (1.16.0)\n",
            "Installing collected packages: url-normalize, attrs, requests-cache, chembl_webresource_client\n",
            "  Attempting uninstall: attrs\n",
            "    Found existing installation: attrs 22.2.0\n",
            "    Uninstalling attrs-22.2.0:\n",
            "      Successfully uninstalled attrs-22.2.0\n",
            "Successfully installed attrs-21.4.0 chembl_webresource_client-0.10.8 requests-cache-0.7.5 url-normalize-1.4.3\n"
          ]
        }
      ]
    },
    {
      "cell_type": "markdown",
      "source": [
        "## What types of information can be downloaded from ChEMBL\n",
        "------"
      ],
      "metadata": {
        "id": "uydtq_IHayTD"
      }
    },
    {
      "cell_type": "code",
      "execution_count": null,
      "metadata": {
        "id": "lbmX0jxpXxPN",
        "colab": {
          "base_uri": "https://localhost:8080/"
        },
        "outputId": "a6e0c751-e31a-42d3-ba7c-152d2aba04b2"
      },
      "outputs": [
        {
          "output_type": "stream",
          "name": "stdout",
          "text": [
            "['activity', 'activity_supplementary_data_by_activity', 'assay', 'assay_class', 'atc_class', 'binding_site', 'biotherapeutic', 'cell_line', 'chembl_id_lookup', 'compound_record', 'compound_structural_alert', 'description', 'document', 'document_similarity', 'drug', 'drug_indication', 'drug_warning', 'go_slim', 'image', 'mechanism', 'metabolism', 'molecule', 'molecule_form', 'official', 'organism', 'protein_classification', 'similarity', 'source', 'substructure', 'target', 'target_component', 'target_relation', 'tissue', 'xref_source']\n"
          ]
        }
      ],
      "source": [
        "from chembl_webresource_client.new_client import new_client\n",
        "\n",
        "available_resources = [resource for resource in dir(new_client) if not resource.startswith('_')]\n",
        "print(available_resources)"
      ]
    },
    {
      "cell_type": "markdown",
      "source": [
        "## Available filters\n",
        "\n",
        "The design of the client is based on Django QuerySet (https://docs.djangoproject.com/en/1.11/ref/models/querysets) and most important lookup types are supported. These are:\n",
        "\n",
        "- exact\n",
        "- iexact\n",
        "- contains\n",
        "- icontains\n",
        "- in\n",
        "- gt\n",
        "- gte\n",
        "- lt\n",
        "- lte\n",
        "- startswith\n",
        "- istartswith\n",
        "- endswith\n",
        "- iendswith\n",
        "- range\n",
        "- isnull\n",
        "- regex\n",
        "- iregex"
      ],
      "metadata": {
        "id": "cT4p3mMpbNTo"
      }
    },
    {
      "cell_type": "markdown",
      "source": [
        "# Molecules\n",
        "-------"
      ],
      "metadata": {
        "id": "xjlHV2Qga4kR"
      }
    },
    {
      "cell_type": "markdown",
      "source": [
        "Molecule records may be retrieved in a number of ways, such as lookup of single molecules using various identifiers or searching for compounds via similarity."
      ],
      "metadata": {
        "id": "G0M8n8Hea-eA"
      }
    },
    {
      "cell_type": "markdown",
      "source": [
        "## Find molecules using preferred name (pref_name)"
      ],
      "metadata": {
        "id": "M7tc0He0bRuf"
      }
    },
    {
      "cell_type": "code",
      "execution_count": 6,
      "metadata": {
        "id": "98e74042",
        "outputId": "34456c98-bac1-42aa-d77b-701ea2eabc14",
        "colab": {
          "base_uri": "https://localhost:8080/"
        }
      },
      "outputs": [
        {
          "output_type": "execute_result",
          "data": {
            "text/plain": [
              "[{'atc_classifications': ['B01AC06', 'N02BA01', 'N02BA51', 'A01AD05', 'N02BA71'], 'availability_type': 2, 'biotherapeutic': None, 'black_box_warning': 0, 'chebi_par_id': 15365, 'chirality': 2, 'cross_references': [{'xref_id': 'aspirin', 'xref_name': 'aspirin', 'xref_src': 'DailyMed'}, {'xref_id': '144203627', 'xref_name': 'SID: 144203627', 'xref_src': 'PubChem'}, {'xref_id': '144209315', 'xref_name': 'SID: 144209315', 'xref_src': 'PubChem'}, {'xref_id': '144210466', 'xref_name': 'SID: 144210466', 'xref_src': 'PubChem'}, {'xref_id': '170465039', 'xref_name': 'SID: 170465039', 'xref_src': 'PubChem'}, {'xref_id': '17389202', 'xref_name': 'SID: 17389202', 'xref_src': 'PubChem'}, {'xref_id': '17390036', 'xref_name': 'SID: 17390036', 'xref_src': 'PubChem'}, {'xref_id': '174007205', 'xref_name': 'SID: 174007205', 'xref_src': 'PubChem'}, {'xref_id': '26747283', 'xref_name': 'SID: 26747283', 'xref_src': 'PubChem'}, {'xref_id': '26752858', 'xref_name': 'SID: 26752858', 'xref_src': 'PubChem'}, {'xref_id': '47193676', 'xref_name': 'SID: 47193676', 'xref_src': 'PubChem'}, {'xref_id': '50105490', 'xref_name': 'SID: 50105490', 'xref_src': 'PubChem'}, {'xref_id': '85230910', 'xref_name': 'SID: 85230910', 'xref_src': 'PubChem'}, {'xref_id': '87798', 'xref_name': 'SID: 87798', 'xref_src': 'PubChem'}, {'xref_id': '90340586', 'xref_name': 'SID: 90340586', 'xref_src': 'PubChem'}, {'xref_id': '14', 'xref_name': 'aspirin', 'xref_src': 'TG-GATEs'}, {'xref_id': 'Aspirin', 'xref_name': None, 'xref_src': 'Wikipedia'}], 'dosed_ingredient': True, 'first_approval': 1950, 'first_in_class': 0, 'helm_notation': None, 'indication_class': 'Analgesic; Antirheumatic; Antipyretic', 'inorganic_flag': 0, 'max_phase': '4.0', 'molecule_chembl_id': 'CHEMBL25', 'molecule_hierarchy': {'active_chembl_id': 'CHEMBL25', 'molecule_chembl_id': 'CHEMBL25', 'parent_chembl_id': 'CHEMBL25'}, 'molecule_properties': {'alogp': '1.31', 'aromatic_rings': 1, 'cx_logd': '-2.16', 'cx_logp': '1.24', 'cx_most_apka': '3.41', 'cx_most_bpka': None, 'full_molformula': 'C9H8O4', 'full_mwt': '180.16', 'hba': 3, 'hba_lipinski': 4, 'hbd': 1, 'hbd_lipinski': 1, 'heavy_atoms': 13, 'molecular_species': 'ACID', 'mw_freebase': '180.16', 'mw_monoisotopic': '180.0423', 'np_likeness_score': '0.12', 'num_lipinski_ro5_violations': 0, 'num_ro5_violations': 0, 'psa': '63.60', 'qed_weighted': '0.55', 'ro3_pass': 'N', 'rtb': 2}, 'molecule_structures': {'canonical_smiles': 'CC(=O)Oc1ccccc1C(=O)O', 'molfile': '\\n     RDKit          2D\\n\\n 13 13  0  0  0  0  0  0  0  0999 V2000\\n   19.8052   -4.2758    0.0000 C   0  0  0  0  0  0  0  0  0  0  0  0\\n   19.8040   -5.0953    0.0000 C   0  0  0  0  0  0  0  0  0  0  0  0\\n   20.5121   -5.5043    0.0000 C   0  0  0  0  0  0  0  0  0  0  0  0\\n   21.2217   -5.0948    0.0000 C   0  0  0  0  0  0  0  0  0  0  0  0\\n   21.2189   -4.2722    0.0000 C   0  0  0  0  0  0  0  0  0  0  0  0\\n   20.5103   -3.8669    0.0000 C   0  0  0  0  0  0  0  0  0  0  0  0\\n   20.5078   -3.0497    0.0000 C   0  0  0  0  0  0  0  0  0  0  0  0\\n   21.2143   -2.6390    0.0000 O   0  0  0  0  0  0  0  0  0  0  0  0\\n   19.7989   -2.6432    0.0000 O   0  0  0  0  0  0  0  0  0  0  0  0\\n   21.9250   -3.8609    0.0000 O   0  0  0  0  0  0  0  0  0  0  0  0\\n   22.6343   -4.2668    0.0000 C   0  0  0  0  0  0  0  0  0  0  0  0\\n   23.3405   -3.8556    0.0000 C   0  0  0  0  0  0  0  0  0  0  0  0\\n   22.6374   -5.0840    0.0000 O   0  0  0  0  0  0  0  0  0  0  0  0\\n  1  2  2  0\\n  2  3  1  0\\n  3  4  2  0\\n  4  5  1  0\\n  5  6  2  0\\n  6  1  1  0\\n  6  7  1  0\\n  7  8  1  0\\n  7  9  2  0\\n  5 10  1  0\\n 10 11  1  0\\n 11 12  1  0\\n 11 13  2  0\\nM  END\\n\\n\\n> <chembl_id>\\nCHEMBL25\\n\\n> <chembl_pref_name>\\nASPIRIN\\n\\n', 'standard_inchi': 'InChI=1S/C9H8O4/c1-6(10)13-8-5-3-2-4-7(8)9(11)12/h2-5H,1H3,(H,11,12)', 'standard_inchi_key': 'BSYNRYMUTXBXSQ-UHFFFAOYSA-N'}, 'molecule_synonyms': [{'molecule_synonym': '8-hour bayer', 'syn_type': 'TRADE_NAME', 'synonyms': '8-HOUR BAYER'}, {'molecule_synonym': 'Acetosalic Acid', 'syn_type': 'TRADE_NAME', 'synonyms': 'Acetosalic Acid'}, {'molecule_synonym': 'Acetylsalic acid', 'syn_type': 'TRADE_NAME', 'synonyms': 'ACETYLSALIC ACID'}, {'molecule_synonym': 'Acetyl salicylate', 'syn_type': 'OTHER', 'synonyms': 'ACETYL SALICYLATE'}, {'molecule_synonym': 'Acetylsalicylic Acid', 'syn_type': 'INN', 'synonyms': 'Acetylsalicylic Acid'}, {'molecule_synonym': 'Acetylsalicylic Acid', 'syn_type': 'TRADE_NAME', 'synonyms': 'Acetylsalicylic Acid'}, {'molecule_synonym': 'Acetylsalicylic acid', 'syn_type': 'ATC', 'synonyms': 'ACETYLSALICYLIC ACID'}, {'molecule_synonym': 'Acetylsalicylic acid', 'syn_type': 'OTHER', 'synonyms': 'ACETYLSALICYLIC ACID'}, {'molecule_synonym': 'Acetylsalicylic acid (who-ip)', 'syn_type': 'OTHER', 'synonyms': 'ACETYLSALICYLIC ACID (WHO-IP)'}, {'molecule_synonym': 'Acetylsalicylicum acidum', 'syn_type': 'OTHER', 'synonyms': 'ACETYLSALICYLICUM ACIDUM'}, {'molecule_synonym': 'Acidum acetylsalicylicum', 'syn_type': 'OTHER', 'synonyms': 'ACIDUM ACETYLSALICYLICUM'}, {'molecule_synonym': 'Acidum acetylsalicylicum (who-ip)', 'syn_type': 'OTHER', 'synonyms': 'ACIDUM ACETYLSALICYLICUM (WHO-IP)'}, {'molecule_synonym': 'Alka rapid', 'syn_type': 'TRADE_NAME', 'synonyms': 'ALKA RAPID'}, {'molecule_synonym': 'Anadin all night', 'syn_type': 'TRADE_NAME', 'synonyms': 'ANADIN ALL NIGHT'}, {'molecule_synonym': 'Angettes 75', 'syn_type': 'TRADE_NAME', 'synonyms': 'ANGETTES 75'}, {'molecule_synonym': 'Aspirin', 'syn_type': 'USAN', 'synonyms': 'Aspirin'}, {'molecule_synonym': 'Aspirin', 'syn_type': 'BAN', 'synonyms': 'ASPIRIN'}, {'molecule_synonym': 'Aspirin', 'syn_type': 'BNF', 'synonyms': 'ASPIRIN'}, {'molecule_synonym': 'Aspirin', 'syn_type': 'FDA', 'synonyms': 'ASPIRIN'}, {'molecule_synonym': 'Aspirin', 'syn_type': 'JAN', 'synonyms': 'ASPIRIN'}, {'molecule_synonym': 'Aspirin', 'syn_type': 'MERCK_INDEX', 'synonyms': 'ASPIRIN'}, {'molecule_synonym': 'Aspirin', 'syn_type': 'OTHER', 'synonyms': 'ASPIRIN'}, {'molecule_synonym': 'Aspirin', 'syn_type': 'TRADE_NAME', 'synonyms': 'ASPIRIN'}, {'molecule_synonym': 'Aspirin', 'syn_type': 'USP', 'synonyms': 'ASPIRIN'}, {'molecule_synonym': 'Aspro clr', 'syn_type': 'TRADE_NAME', 'synonyms': 'ASPRO CLR'}, {'molecule_synonym': 'BAY1019036', 'syn_type': 'RESEARCH_CODE', 'synonyms': 'BAY1019036'}, {'molecule_synonym': 'Bayer extra strength aspirin for migraine pain', 'syn_type': 'TRADE_NAME', 'synonyms': 'BAYER EXTRA STRENGTH ASPIRIN FOR MIGRAINE PAIN'}, {'molecule_synonym': 'Benzoic acid, 2-(acetyloxy)-', 'syn_type': 'OTHER', 'synonyms': 'BENZOIC ACID, 2-(ACETYLOXY)-'}, {'molecule_synonym': 'Danamep', 'syn_type': 'TRADE_NAME', 'synonyms': 'DANAMEP'}, {'molecule_synonym': 'Disprin cv', 'syn_type': 'TRADE_NAME', 'synonyms': 'DISPRIN CV'}, {'molecule_synonym': 'Disprin direct', 'syn_type': 'TRADE_NAME', 'synonyms': 'DISPRIN DIRECT'}, {'molecule_synonym': 'Durlaza', 'syn_type': 'TRADE_NAME', 'synonyms': 'DURLAZA'}, {'molecule_synonym': 'Ecotrin', 'syn_type': 'TRADE_NAME', 'synonyms': 'Ecotrin'}, {'molecule_synonym': 'Enprin', 'syn_type': 'TRADE_NAME', 'synonyms': 'ENPRIN'}, {'molecule_synonym': 'Equi-Prin', 'syn_type': 'TRADE_NAME', 'synonyms': 'Equi-Prin'}, {'molecule_synonym': 'Gencardia', 'syn_type': 'TRADE_NAME', 'synonyms': 'GENCARDIA'}, {'molecule_synonym': 'Levius', 'syn_type': 'TRADE_NAME', 'synonyms': 'LEVIUS'}, {'molecule_synonym': 'Max strgh aspro clr', 'syn_type': 'TRADE_NAME', 'synonyms': 'MAX STRGH ASPRO CLR'}, {'molecule_synonym': 'Measurin', 'syn_type': 'TRADE_NAME', 'synonyms': 'MEASURIN'}, {'molecule_synonym': 'Micropirin ec', 'syn_type': 'TRADE_NAME', 'synonyms': 'MICROPIRIN EC'}, {'molecule_synonym': 'NSC-27223', 'syn_type': 'RESEARCH_CODE', 'synonyms': 'NSC-27223'}, {'molecule_synonym': 'NSC-406186', 'syn_type': 'RESEARCH_CODE', 'synonyms': 'NSC-406186'}, {'molecule_synonym': 'Nu-seals 300', 'syn_type': 'TRADE_NAME', 'synonyms': 'NU-SEALS 300'}, {'molecule_synonym': 'Nu-seals 600', 'syn_type': 'TRADE_NAME', 'synonyms': 'NU-SEALS 600'}, {'molecule_synonym': 'Nu-seals 75', 'syn_type': 'TRADE_NAME', 'synonyms': 'NU-SEALS 75'}, {'molecule_synonym': 'Nu-seals cardio 75', 'syn_type': 'TRADE_NAME', 'synonyms': 'NU-SEALS CARDIO 75'}, {'molecule_synonym': 'Paynocil', 'syn_type': 'TRADE_NAME', 'synonyms': 'PAYNOCIL'}, {'molecule_synonym': 'Platet', 'syn_type': 'TRADE_NAME', 'synonyms': 'PLATET'}, {'molecule_synonym': 'Platet 300', 'syn_type': 'TRADE_NAME', 'synonyms': 'PLATET 300'}, {'molecule_synonym': 'Postmi 300', 'syn_type': 'TRADE_NAME', 'synonyms': 'POSTMI 300'}, {'molecule_synonym': 'Postmi 75', 'syn_type': 'TRADE_NAME', 'synonyms': 'POSTMI 75'}, {'molecule_synonym': 'Salicylic Acid Acetate', 'syn_type': 'TRADE_NAME', 'synonyms': 'Salicylic Acid Acetate'}, {'molecule_synonym': 'Vazalore', 'syn_type': 'TRADE_NAME', 'synonyms': 'VAZALORE'}], 'molecule_type': 'Small molecule', 'natural_product': 0, 'oral': True, 'parenteral': False, 'polymer_flag': 0, 'pref_name': 'ASPIRIN', 'prodrug': 0, 'structure_type': 'MOL', 'therapeutic_flag': True, 'topical': False, 'usan_stem': None, 'usan_stem_definition': None, 'usan_substem': None, 'usan_year': None, 'withdrawn_flag': False}]"
            ]
          },
          "metadata": {},
          "execution_count": 6
        }
      ],
      "source": [
        "from chembl_webresource_client.new_client import new_client\n",
        "\n",
        "molecule = new_client.molecule\n",
        "mols = molecule.filter(pref_name__iexact='aspirin')\n",
        "mols"
      ]
    },
    {
      "cell_type": "markdown",
      "source": [
        "## Find a molecule by its synonyms\n",
        "\n",
        "- in case it is not found by pref_name\n",
        "- Use the `only` method where you can specify fields you want to be included in response"
      ],
      "metadata": {
        "id": "HCzHMphAdEWE"
      }
    },
    {
      "cell_type": "code",
      "source": [
        "from chembl_webresource_client.new_client import new_client\n",
        "\n",
        "molecule = new_client.molecule\n",
        "mols = molecule.filter(pref_name='viagra').only('molecule_chembl_id')\n",
        "mols\n"
      ],
      "metadata": {
        "colab": {
          "base_uri": "https://localhost:8080/"
        },
        "id": "5KVwBt2wcQeb",
        "outputId": "25b7b51c-343e-4f7d-bf6d-90dec551f3b1"
      },
      "execution_count": 13,
      "outputs": [
        {
          "output_type": "execute_result",
          "data": {
            "text/plain": [
              "[]"
            ]
          },
          "metadata": {},
          "execution_count": 13
        }
      ]
    },
    {
      "cell_type": "code",
      "source": [
        "mols = molecule.filter(molecule_synonyms__molecule_synonym__iexact='viagra').only('molecule_chembl_id')\n",
        "mols"
      ],
      "metadata": {
        "colab": {
          "base_uri": "https://localhost:8080/"
        },
        "id": "OuDEdn-ucY-C",
        "outputId": "3282dc66-0471-478a-fe44-360a767aa8ab"
      },
      "execution_count": 14,
      "outputs": [
        {
          "output_type": "execute_result",
          "data": {
            "text/plain": [
              "[{'molecule_chembl_id': 'CHEMBL192'}, {'molecule_chembl_id': 'CHEMBL1737'}]"
            ]
          },
          "metadata": {},
          "execution_count": 14
        }
      ]
    },
    {
      "cell_type": "markdown",
      "source": [
        "## Get a single molecule by ChEMBL id\n",
        "\n",
        "All the main entities in the ChEMBL database have a ChEMBL ID. It is a stable identifier designed for straightforward lookup of data."
      ],
      "metadata": {
        "id": "L8SAD-2cdIFJ"
      }
    },
    {
      "cell_type": "code",
      "source": [
        "from chembl_webresource_client.new_client import new_client\n",
        "\n",
        "molecule = new_client.molecule\n",
        "m1 = molecule.filter(chembl_id='CHEMBL192').only(['molecule_chembl_id', 'pref_name', 'molecule_structures'])\n",
        "m1"
      ],
      "metadata": {
        "colab": {
          "base_uri": "https://localhost:8080/"
        },
        "id": "lCtQv-fcdDf_",
        "outputId": "d075b5bf-6b54-4031-a2be-4fb707aeee55"
      },
      "execution_count": 15,
      "outputs": [
        {
          "output_type": "execute_result",
          "data": {
            "text/plain": [
              "[{'molecule_chembl_id': 'CHEMBL192', 'molecule_structures': {'canonical_smiles': 'CCCc1nn(C)c2c(=O)[nH]c(-c3cc(S(=O)(=O)N4CCN(C)CC4)ccc3OCC)nc12', 'molfile': '\\n     RDKit          2D\\n\\n 33 36  0  0  0  0  0  0  0  0999 V2000\\n    2.1000   -0.0042    0.0000 C   0  0  0  0  0  0  0  0  0  0  0  0\\n    2.1000    0.7000    0.0000 C   0  0  0  0  0  0  0  0  0  0  0  0\\n   -1.5375   -0.0042    0.0000 S   0  0  0  0  0  0  0  0  0  0  0  0\\n    1.4917   -0.3667    0.0000 N   0  0  0  0  0  0  0  0  0  0  0  0\\n    0.8792   -0.0042    0.0000 C   0  0  0  0  0  0  0  0  0  0  0  0\\n    2.8042    0.9083    0.0000 N   0  0  0  0  0  0  0  0  0  0  0  0\\n    1.4917    1.0625    0.0000 C   0  0  0  0  0  0  0  0  0  0  0  0\\n    0.8792    0.6833    0.0000 N   0  0  0  0  0  0  0  0  0  0  0  0\\n    3.2042    0.3458    0.0000 N   0  0  0  0  0  0  0  0  0  0  0  0\\n    2.8042   -0.2417    0.0000 C   0  0  0  0  0  0  0  0  0  0  0  0\\n    0.2875   -0.3750    0.0000 C   0  0  0  0  0  0  0  0  0  0  0  0\\n   -2.1583   -0.3750    0.0000 N   0  0  0  0  0  0  0  0  0  0  0  0\\n   -0.9333   -0.3750    0.0000 C   0  0  0  0  0  0  0  0  0  0  0  0\\n   -0.3208   -0.0333    0.0000 C   0  0  0  0  0  0  0  0  0  0  0  0\\n   -1.1875    0.6083    0.0000 O   0  0  0  0  0  0  0  0  0  0  0  0\\n   -1.8958    0.6083    0.0000 O   0  0  0  0  0  0  0  0  0  0  0  0\\n   -3.3958   -1.0917    0.0000 N   0  0  0  0  0  0  0  0  0  0  0  0\\n   -2.7833   -0.0042    0.0000 C   0  0  0  0  0  0  0  0  0  0  0  0\\n   -2.1583   -1.0917    0.0000 C   0  0  0  0  0  0  0  0  0  0  0  0\\n    0.2875   -1.1125    0.0000 C   0  0  0  0  0  0  0  0  0  0  0  0\\n    1.4917    1.7708    0.0000 O   0  0  0  0  0  0  0  0  0  0  0  0\\n   -0.9333   -1.1125    0.0000 C   0  0  0  0  0  0  0  0  0  0  0  0\\n   -0.3208   -1.4542    0.0000 C   0  0  0  0  0  0  0  0  0  0  0  0\\n   -3.3958   -0.3750    0.0000 C   0  0  0  0  0  0  0  0  0  0  0  0\\n   -2.7833   -1.4417    0.0000 C   0  0  0  0  0  0  0  0  0  0  0  0\\n    3.0750    1.5750    0.0000 C   0  0  0  0  0  0  0  0  0  0  0  0\\n    2.8042   -0.9500    0.0000 C   0  0  0  0  0  0  0  0  0  0  0  0\\n    0.8792   -1.4542    0.0000 O   0  0  0  0  0  0  0  0  0  0  0  0\\n   -3.9958   -1.4292    0.0000 C   0  0  0  0  0  0  0  0  0  0  0  0\\n    1.4958   -1.1000    0.0000 C   0  0  0  0  0  0  0  0  0  0  0  0\\n    3.4167   -1.3125    0.0000 C   0  0  0  0  0  0  0  0  0  0  0  0\\n    2.1125   -1.4500    0.0000 C   0  0  0  0  0  0  0  0  0  0  0  0\\n    4.0375   -0.9542    0.0000 C   0  0  0  0  0  0  0  0  0  0  0  0\\n  2  1  2  0\\n  3 13  1  0\\n  4  1  1  0\\n  5  4  2  0\\n  6  2  1  0\\n  7  2  1  0\\n  8  5  1  0\\n  9 10  2  0\\n 10  1  1  0\\n 11  5  1  0\\n 12  3  1  0\\n 13 14  2  0\\n 14 11  1  0\\n 15  3  2  0\\n 16  3  2  0\\n 17 25  1  0\\n 18 12  1  0\\n 19 12  1  0\\n 20 11  2  0\\n 21  7  2  0\\n 22 23  2  0\\n 23 20  1  0\\n 24 18  1  0\\n 25 19  1  0\\n 26  6  1  0\\n 27 10  1  0\\n 28 20  1  0\\n 29 17  1  0\\n 30 28  1  0\\n 31 27  1  0\\n 32 30  1  0\\n 33 31  1  0\\n  9  6  1  0\\n  8  7  1  0\\n 22 13  1  0\\n 17 24  1  0\\nM  END\\n\\n\\n> <chembl_id>\\nCHEMBL192\\n\\n> <chembl_pref_name>\\nSILDENAFIL\\n\\n', 'standard_inchi': 'InChI=1S/C22H30N6O4S/c1-5-7-17-19-20(27(4)25-17)22(29)24-21(23-19)16-14-15(8-9-18(16)32-6-2)33(30,31)28-12-10-26(3)11-13-28/h8-9,14H,5-7,10-13H2,1-4H3,(H,23,24,29)', 'standard_inchi_key': 'BNRNXUUZRGQAQC-UHFFFAOYSA-N'}, 'pref_name': 'SILDENAFIL'}]"
            ]
          },
          "metadata": {},
          "execution_count": 15
        }
      ]
    },
    {
      "cell_type": "markdown",
      "metadata": {
        "id": "cd1859fc"
      },
      "source": [
        "## Get many molecules by id"
      ]
    },
    {
      "cell_type": "code",
      "execution_count": 18,
      "metadata": {
        "id": "39e36529",
        "outputId": "8a022714-8b93-495d-947f-35f4085b7699",
        "colab": {
          "base_uri": "https://localhost:8080/"
        }
      },
      "outputs": [
        {
          "output_type": "execute_result",
          "data": {
            "text/plain": [
              "[{'atc_classifications': ['B01AC06', 'N02BA01', 'N02BA51', 'A01AD05', 'N02BA71'], 'availability_type': 2, 'biotherapeutic': None, 'black_box_warning': 0, 'chebi_par_id': 15365, 'chirality': 2, 'cross_references': [{'xref_id': 'aspirin', 'xref_name': 'aspirin', 'xref_src': 'DailyMed'}, {'xref_id': '144203627', 'xref_name': 'SID: 144203627', 'xref_src': 'PubChem'}, {'xref_id': '144209315', 'xref_name': 'SID: 144209315', 'xref_src': 'PubChem'}, {'xref_id': '144210466', 'xref_name': 'SID: 144210466', 'xref_src': 'PubChem'}, {'xref_id': '170465039', 'xref_name': 'SID: 170465039', 'xref_src': 'PubChem'}, {'xref_id': '17389202', 'xref_name': 'SID: 17389202', 'xref_src': 'PubChem'}, {'xref_id': '17390036', 'xref_name': 'SID: 17390036', 'xref_src': 'PubChem'}, {'xref_id': '174007205', 'xref_name': 'SID: 174007205', 'xref_src': 'PubChem'}, {'xref_id': '26747283', 'xref_name': 'SID: 26747283', 'xref_src': 'PubChem'}, {'xref_id': '26752858', 'xref_name': 'SID: 26752858', 'xref_src': 'PubChem'}, {'xref_id': '47193676', 'xref_name': 'SID: 47193676', 'xref_src': 'PubChem'}, {'xref_id': '50105490', 'xref_name': 'SID: 50105490', 'xref_src': 'PubChem'}, {'xref_id': '85230910', 'xref_name': 'SID: 85230910', 'xref_src': 'PubChem'}, {'xref_id': '87798', 'xref_name': 'SID: 87798', 'xref_src': 'PubChem'}, {'xref_id': '90340586', 'xref_name': 'SID: 90340586', 'xref_src': 'PubChem'}, {'xref_id': '14', 'xref_name': 'aspirin', 'xref_src': 'TG-GATEs'}, {'xref_id': 'Aspirin', 'xref_name': None, 'xref_src': 'Wikipedia'}], 'dosed_ingredient': True, 'first_approval': 1950, 'first_in_class': 0, 'helm_notation': None, 'indication_class': 'Analgesic; Antirheumatic; Antipyretic', 'inorganic_flag': 0, 'max_phase': '4.0', 'molecule_chembl_id': 'CHEMBL25', 'molecule_hierarchy': {'active_chembl_id': 'CHEMBL25', 'molecule_chembl_id': 'CHEMBL25', 'parent_chembl_id': 'CHEMBL25'}, 'molecule_properties': {'alogp': '1.31', 'aromatic_rings': 1, 'cx_logd': '-2.16', 'cx_logp': '1.24', 'cx_most_apka': '3.41', 'cx_most_bpka': None, 'full_molformula': 'C9H8O4', 'full_mwt': '180.16', 'hba': 3, 'hba_lipinski': 4, 'hbd': 1, 'hbd_lipinski': 1, 'heavy_atoms': 13, 'molecular_species': 'ACID', 'mw_freebase': '180.16', 'mw_monoisotopic': '180.0423', 'np_likeness_score': '0.12', 'num_lipinski_ro5_violations': 0, 'num_ro5_violations': 0, 'psa': '63.60', 'qed_weighted': '0.55', 'ro3_pass': 'N', 'rtb': 2}, 'molecule_structures': {'canonical_smiles': 'CC(=O)Oc1ccccc1C(=O)O', 'molfile': '\\n     RDKit          2D\\n\\n 13 13  0  0  0  0  0  0  0  0999 V2000\\n   19.8052   -4.2758    0.0000 C   0  0  0  0  0  0  0  0  0  0  0  0\\n   19.8040   -5.0953    0.0000 C   0  0  0  0  0  0  0  0  0  0  0  0\\n   20.5121   -5.5043    0.0000 C   0  0  0  0  0  0  0  0  0  0  0  0\\n   21.2217   -5.0948    0.0000 C   0  0  0  0  0  0  0  0  0  0  0  0\\n   21.2189   -4.2722    0.0000 C   0  0  0  0  0  0  0  0  0  0  0  0\\n   20.5103   -3.8669    0.0000 C   0  0  0  0  0  0  0  0  0  0  0  0\\n   20.5078   -3.0497    0.0000 C   0  0  0  0  0  0  0  0  0  0  0  0\\n   21.2143   -2.6390    0.0000 O   0  0  0  0  0  0  0  0  0  0  0  0\\n   19.7989   -2.6432    0.0000 O   0  0  0  0  0  0  0  0  0  0  0  0\\n   21.9250   -3.8609    0.0000 O   0  0  0  0  0  0  0  0  0  0  0  0\\n   22.6343   -4.2668    0.0000 C   0  0  0  0  0  0  0  0  0  0  0  0\\n   23.3405   -3.8556    0.0000 C   0  0  0  0  0  0  0  0  0  0  0  0\\n   22.6374   -5.0840    0.0000 O   0  0  0  0  0  0  0  0  0  0  0  0\\n  1  2  2  0\\n  2  3  1  0\\n  3  4  2  0\\n  4  5  1  0\\n  5  6  2  0\\n  6  1  1  0\\n  6  7  1  0\\n  7  8  1  0\\n  7  9  2  0\\n  5 10  1  0\\n 10 11  1  0\\n 11 12  1  0\\n 11 13  2  0\\nM  END\\n\\n\\n> <chembl_id>\\nCHEMBL25\\n\\n> <chembl_pref_name>\\nASPIRIN\\n\\n', 'standard_inchi': 'InChI=1S/C9H8O4/c1-6(10)13-8-5-3-2-4-7(8)9(11)12/h2-5H,1H3,(H,11,12)', 'standard_inchi_key': 'BSYNRYMUTXBXSQ-UHFFFAOYSA-N'}, 'molecule_synonyms': [{'molecule_synonym': '8-hour bayer', 'syn_type': 'TRADE_NAME', 'synonyms': '8-HOUR BAYER'}, {'molecule_synonym': 'Acetosalic Acid', 'syn_type': 'TRADE_NAME', 'synonyms': 'Acetosalic Acid'}, {'molecule_synonym': 'Acetylsalic acid', 'syn_type': 'TRADE_NAME', 'synonyms': 'ACETYLSALIC ACID'}, {'molecule_synonym': 'Acetyl salicylate', 'syn_type': 'OTHER', 'synonyms': 'ACETYL SALICYLATE'}, {'molecule_synonym': 'Acetylsalicylic Acid', 'syn_type': 'INN', 'synonyms': 'Acetylsalicylic Acid'}, {'molecule_synonym': 'Acetylsalicylic Acid', 'syn_type': 'TRADE_NAME', 'synonyms': 'Acetylsalicylic Acid'}, {'molecule_synonym': 'Acetylsalicylic acid', 'syn_type': 'ATC', 'synonyms': 'ACETYLSALICYLIC ACID'}, {'molecule_synonym': 'Acetylsalicylic acid', 'syn_type': 'OTHER', 'synonyms': 'ACETYLSALICYLIC ACID'}, {'molecule_synonym': 'Acetylsalicylic acid (who-ip)', 'syn_type': 'OTHER', 'synonyms': 'ACETYLSALICYLIC ACID (WHO-IP)'}, {'molecule_synonym': 'Acetylsalicylicum acidum', 'syn_type': 'OTHER', 'synonyms': 'ACETYLSALICYLICUM ACIDUM'}, {'molecule_synonym': 'Acidum acetylsalicylicum', 'syn_type': 'OTHER', 'synonyms': 'ACIDUM ACETYLSALICYLICUM'}, {'molecule_synonym': 'Acidum acetylsalicylicum (who-ip)', 'syn_type': 'OTHER', 'synonyms': 'ACIDUM ACETYLSALICYLICUM (WHO-IP)'}, {'molecule_synonym': 'Alka rapid', 'syn_type': 'TRADE_NAME', 'synonyms': 'ALKA RAPID'}, {'molecule_synonym': 'Anadin all night', 'syn_type': 'TRADE_NAME', 'synonyms': 'ANADIN ALL NIGHT'}, {'molecule_synonym': 'Angettes 75', 'syn_type': 'TRADE_NAME', 'synonyms': 'ANGETTES 75'}, {'molecule_synonym': 'Aspirin', 'syn_type': 'USAN', 'synonyms': 'Aspirin'}, {'molecule_synonym': 'Aspirin', 'syn_type': 'BAN', 'synonyms': 'ASPIRIN'}, {'molecule_synonym': 'Aspirin', 'syn_type': 'BNF', 'synonyms': 'ASPIRIN'}, {'molecule_synonym': 'Aspirin', 'syn_type': 'FDA', 'synonyms': 'ASPIRIN'}, {'molecule_synonym': 'Aspirin', 'syn_type': 'JAN', 'synonyms': 'ASPIRIN'}, {'molecule_synonym': 'Aspirin', 'syn_type': 'MERCK_INDEX', 'synonyms': 'ASPIRIN'}, {'molecule_synonym': 'Aspirin', 'syn_type': 'OTHER', 'synonyms': 'ASPIRIN'}, {'molecule_synonym': 'Aspirin', 'syn_type': 'TRADE_NAME', 'synonyms': 'ASPIRIN'}, {'molecule_synonym': 'Aspirin', 'syn_type': 'USP', 'synonyms': 'ASPIRIN'}, {'molecule_synonym': 'Aspro clr', 'syn_type': 'TRADE_NAME', 'synonyms': 'ASPRO CLR'}, {'molecule_synonym': 'BAY1019036', 'syn_type': 'RESEARCH_CODE', 'synonyms': 'BAY1019036'}, {'molecule_synonym': 'Bayer extra strength aspirin for migraine pain', 'syn_type': 'TRADE_NAME', 'synonyms': 'BAYER EXTRA STRENGTH ASPIRIN FOR MIGRAINE PAIN'}, {'molecule_synonym': 'Benzoic acid, 2-(acetyloxy)-', 'syn_type': 'OTHER', 'synonyms': 'BENZOIC ACID, 2-(ACETYLOXY)-'}, {'molecule_synonym': 'Danamep', 'syn_type': 'TRADE_NAME', 'synonyms': 'DANAMEP'}, {'molecule_synonym': 'Disprin cv', 'syn_type': 'TRADE_NAME', 'synonyms': 'DISPRIN CV'}, {'molecule_synonym': 'Disprin direct', 'syn_type': 'TRADE_NAME', 'synonyms': 'DISPRIN DIRECT'}, {'molecule_synonym': 'Durlaza', 'syn_type': 'TRADE_NAME', 'synonyms': 'DURLAZA'}, {'molecule_synonym': 'Ecotrin', 'syn_type': 'TRADE_NAME', 'synonyms': 'Ecotrin'}, {'molecule_synonym': 'Enprin', 'syn_type': 'TRADE_NAME', 'synonyms': 'ENPRIN'}, {'molecule_synonym': 'Equi-Prin', 'syn_type': 'TRADE_NAME', 'synonyms': 'Equi-Prin'}, {'molecule_synonym': 'Gencardia', 'syn_type': 'TRADE_NAME', 'synonyms': 'GENCARDIA'}, {'molecule_synonym': 'Levius', 'syn_type': 'TRADE_NAME', 'synonyms': 'LEVIUS'}, {'molecule_synonym': 'Max strgh aspro clr', 'syn_type': 'TRADE_NAME', 'synonyms': 'MAX STRGH ASPRO CLR'}, {'molecule_synonym': 'Measurin', 'syn_type': 'TRADE_NAME', 'synonyms': 'MEASURIN'}, {'molecule_synonym': 'Micropirin ec', 'syn_type': 'TRADE_NAME', 'synonyms': 'MICROPIRIN EC'}, {'molecule_synonym': 'NSC-27223', 'syn_type': 'RESEARCH_CODE', 'synonyms': 'NSC-27223'}, {'molecule_synonym': 'NSC-406186', 'syn_type': 'RESEARCH_CODE', 'synonyms': 'NSC-406186'}, {'molecule_synonym': 'Nu-seals 300', 'syn_type': 'TRADE_NAME', 'synonyms': 'NU-SEALS 300'}, {'molecule_synonym': 'Nu-seals 600', 'syn_type': 'TRADE_NAME', 'synonyms': 'NU-SEALS 600'}, {'molecule_synonym': 'Nu-seals 75', 'syn_type': 'TRADE_NAME', 'synonyms': 'NU-SEALS 75'}, {'molecule_synonym': 'Nu-seals cardio 75', 'syn_type': 'TRADE_NAME', 'synonyms': 'NU-SEALS CARDIO 75'}, {'molecule_synonym': 'Paynocil', 'syn_type': 'TRADE_NAME', 'synonyms': 'PAYNOCIL'}, {'molecule_synonym': 'Platet', 'syn_type': 'TRADE_NAME', 'synonyms': 'PLATET'}, {'molecule_synonym': 'Platet 300', 'syn_type': 'TRADE_NAME', 'synonyms': 'PLATET 300'}, {'molecule_synonym': 'Postmi 300', 'syn_type': 'TRADE_NAME', 'synonyms': 'POSTMI 300'}, {'molecule_synonym': 'Postmi 75', 'syn_type': 'TRADE_NAME', 'synonyms': 'POSTMI 75'}, {'molecule_synonym': 'Salicylic Acid Acetate', 'syn_type': 'TRADE_NAME', 'synonyms': 'Salicylic Acid Acetate'}, {'molecule_synonym': 'Vazalore', 'syn_type': 'TRADE_NAME', 'synonyms': 'VAZALORE'}], 'molecule_type': 'Small molecule', 'natural_product': 0, 'oral': True, 'parenteral': False, 'polymer_flag': 0, 'pref_name': 'ASPIRIN', 'prodrug': 0, 'structure_type': 'MOL', 'therapeutic_flag': True, 'topical': False, 'usan_stem': None, 'usan_stem_definition': None, 'usan_substem': None, 'usan_year': None, 'withdrawn_flag': False}, {'atc_classifications': ['C07AA05'], 'availability_type': 1, 'biotherapeutic': None, 'black_box_warning': 1, 'chebi_par_id': 8499, 'chirality': 0, 'cross_references': [{'xref_id': 'propranolol%20hydrochloride', 'xref_name': 'propranolol hydrochloride', 'xref_src': 'DailyMed'}, {'xref_id': '124881056', 'xref_name': 'SID: 124881056', 'xref_src': 'PubChem'}, {'xref_id': '26751802', 'xref_name': 'SID: 26751802', 'xref_src': 'PubChem'}, {'xref_id': '26755283', 'xref_name': 'SID: 26755283', 'xref_src': 'PubChem'}, {'xref_id': '50104497', 'xref_name': 'SID: 50104497', 'xref_src': 'PubChem'}, {'xref_id': '90341556', 'xref_name': 'SID: 90341556', 'xref_src': 'PubChem'}, {'xref_id': 'Propranolol', 'xref_name': None, 'xref_src': 'Wikipedia'}], 'dosed_ingredient': False, 'first_approval': 1967, 'first_in_class': 0, 'helm_notation': None, 'indication_class': 'Cardiac Depressant (anti-arrhythmic); Anti-Adrenergic (beta-receptor)', 'inorganic_flag': 0, 'max_phase': '4.0', 'molecule_chembl_id': 'CHEMBL27', 'molecule_hierarchy': {'active_chembl_id': 'CHEMBL27', 'molecule_chembl_id': 'CHEMBL27', 'parent_chembl_id': 'CHEMBL27'}, 'molecule_properties': {'alogp': '2.58', 'aromatic_rings': 2, 'cx_logd': '0.36', 'cx_logp': '2.58', 'cx_most_apka': None, 'cx_most_bpka': '9.67', 'full_molformula': 'C16H21NO2', 'full_mwt': '259.35', 'hba': 3, 'hba_lipinski': 3, 'hbd': 2, 'hbd_lipinski': 2, 'heavy_atoms': 19, 'molecular_species': 'BASE', 'mw_freebase': '259.35', 'mw_monoisotopic': '259.1572', 'np_likeness_score': '-0.47', 'num_lipinski_ro5_violations': 0, 'num_ro5_violations': 0, 'psa': '41.49', 'qed_weighted': '0.84', 'ro3_pass': 'N', 'rtb': 6}, 'molecule_structures': {'canonical_smiles': 'CC(C)NCC(O)COc1cccc2ccccc12', 'molfile': '\\n     RDKit          2D\\n\\n 19 20  0  0  0  0  0  0  0  0999 V2000\\n    0.9000   -3.2917    0.0000 C   0  0  0  0  0  0  0  0  0  0  0  0\\n    1.5167   -2.9375    0.0000 C   0  0  0  0  0  0  0  0  0  0  0  0\\n    1.5167   -2.2292    0.0000 O   0  0  0  0  0  0  0  0  0  0  0  0\\n    3.9708   -2.2292    0.0000 N   0  0  0  0  0  0  0  0  0  0  0  0\\n    0.9000   -4.0000    0.0000 C   0  0  0  0  0  0  0  0  0  0  0  0\\n    2.7458   -2.2292    0.0000 C   0  0  0  0  0  0  0  0  0  0  0  0\\n    2.1292   -1.8750    0.0000 C   0  0  0  0  0  0  0  0  0  0  0  0\\n    3.3583   -1.8750    0.0000 C   0  0  0  0  0  0  0  0  0  0  0  0\\n    2.7417   -2.9375    0.0000 O   0  0  0  0  0  0  0  0  0  0  0  0\\n    4.5833   -1.8750    0.0000 C   0  0  0  0  0  0  0  0  0  0  0  0\\n    2.1292   -4.0000    0.0000 C   0  0  0  0  0  0  0  0  0  0  0  0\\n    2.1292   -3.2917    0.0000 C   0  0  0  0  0  0  0  0  0  0  0  0\\n    0.2792   -2.9375    0.0000 C   0  0  0  0  0  0  0  0  0  0  0  0\\n    1.5167   -4.3542    0.0000 C   0  0  0  0  0  0  0  0  0  0  0  0\\n    0.2792   -4.3542    0.0000 C   0  0  0  0  0  0  0  0  0  0  0  0\\n    4.5875   -1.1667    0.0000 C   0  0  0  0  0  0  0  0  0  0  0  0\\n    5.2000   -2.2292    0.0000 C   0  0  0  0  0  0  0  0  0  0  0  0\\n   -0.3333   -3.2917    0.0000 C   0  0  0  0  0  0  0  0  0  0  0  0\\n   -0.3333   -4.0000    0.0000 C   0  0  0  0  0  0  0  0  0  0  0  0\\n  2  1  1  0\\n  3  2  1  0\\n  4  8  1  0\\n  5  1  2  0\\n  6  7  1  0\\n  7  3  1  0\\n  8  6  1  0\\n  9  6  1  0\\n 10  4  1  0\\n 11 14  2  0\\n 12  2  2  0\\n 13  1  1  0\\n 14  5  1  0\\n 15  5  1  0\\n 16 10  1  0\\n 17 10  1  0\\n 18 13  2  0\\n 19 15  2  0\\n 11 12  1  0\\n 18 19  1  0\\nM  END\\n\\n\\n> <chembl_id>\\nCHEMBL27\\n\\n> <chembl_pref_name>\\nPROPRANOLOL\\n\\n', 'standard_inchi': 'InChI=1S/C16H21NO2/c1-12(2)17-10-14(18)11-19-16-9-5-7-13-6-3-4-8-15(13)16/h3-9,12,14,17-18H,10-11H2,1-2H3', 'standard_inchi_key': 'AQHHHDLHHXJYJD-UHFFFAOYSA-N'}, 'molecule_synonyms': [{'molecule_synonym': 'AY-64043-', 'syn_type': 'RESEARCH_CODE', 'synonyms': 'AY-64043-'}, {'molecule_synonym': 'Betalong', 'syn_type': 'OTHER', 'synonyms': 'BETALONG'}, {'molecule_synonym': '.beta.-propranolol', 'syn_type': 'OTHER', 'synonyms': '.BETA.-PROPRANOLOL'}, {'molecule_synonym': 'Dl-propranolol', 'syn_type': 'OTHER', 'synonyms': 'DL-PROPRANOLOL'}, {'molecule_synonym': 'Euprovasin', 'syn_type': 'OTHER', 'synonyms': 'EUPROVASIN'}, {'molecule_synonym': 'Inderal', 'syn_type': 'OTHER', 'synonyms': 'Inderal'}, {'molecule_synonym': 'Inderide-40/25', 'syn_type': 'OTHER', 'synonyms': 'Inderide-40/25'}, {'molecule_synonym': 'Inderide-80/25', 'syn_type': 'OTHER', 'synonyms': 'Inderide-80/25'}, {'molecule_synonym': 'Propranolol', 'syn_type': 'FDA', 'synonyms': 'Propranolol'}, {'molecule_synonym': 'Propranolol', 'syn_type': 'ATC', 'synonyms': 'PROPRANOLOL'}, {'molecule_synonym': 'Propranolol', 'syn_type': 'BAN', 'synonyms': 'PROPRANOLOL'}, {'molecule_synonym': 'Propranolol', 'syn_type': 'INN', 'synonyms': 'PROPRANOLOL'}, {'molecule_synonym': 'Propranolol', 'syn_type': 'MERCK_INDEX', 'synonyms': 'PROPRANOLOL'}, {'molecule_synonym': 'Propranolol', 'syn_type': 'OTHER', 'synonyms': 'PROPRANOLOL'}, {'molecule_synonym': 'Proprasylyt', 'syn_type': 'OTHER', 'synonyms': 'PROPRASYLYT'}, {'molecule_synonym': 'Reducor', 'syn_type': 'OTHER', 'synonyms': 'REDUCOR'}], 'molecule_type': 'Small molecule', 'natural_product': 0, 'oral': True, 'parenteral': True, 'polymer_flag': 0, 'pref_name': 'PROPRANOLOL', 'prodrug': 0, 'structure_type': 'MOL', 'therapeutic_flag': True, 'topical': False, 'usan_stem': '-olol', 'usan_stem_definition': 'beta-blockers (propranolol type)', 'usan_substem': '-olol', 'usan_year': 1965, 'withdrawn_flag': False}, {'atc_classifications': ['G04BE03'], 'availability_type': 1, 'biotherapeutic': None, 'black_box_warning': 0, 'chebi_par_id': 9139, 'chirality': 2, 'cross_references': [{'xref_id': 'sildenafil%20citrate', 'xref_name': 'sildenafil citrate', 'xref_src': 'DailyMed'}, {'xref_id': '26748898', 'xref_name': 'SID: 26748898', 'xref_src': 'PubChem'}, {'xref_id': '50085897', 'xref_name': 'SID: 50085897', 'xref_src': 'PubChem'}], 'dosed_ingredient': True, 'first_approval': 1998, 'first_in_class': 0, 'helm_notation': None, 'indication_class': 'Impotence Therapy', 'inorganic_flag': 0, 'max_phase': '4.0', 'molecule_chembl_id': 'CHEMBL192', 'molecule_hierarchy': {'active_chembl_id': 'CHEMBL192', 'molecule_chembl_id': 'CHEMBL192', 'parent_chembl_id': 'CHEMBL192'}, 'molecule_properties': {'alogp': '1.61', 'aromatic_rings': 3, 'cx_logd': '1.16', 'cx_logp': '1.23', 'cx_most_apka': '7.63', 'cx_most_bpka': '5.98', 'full_molformula': 'C22H30N6O4S', 'full_mwt': '474.59', 'hba': 8, 'hba_lipinski': 10, 'hbd': 1, 'hbd_lipinski': 1, 'heavy_atoms': 33, 'molecular_species': 'NEUTRAL', 'mw_freebase': '474.59', 'mw_monoisotopic': '474.2049', 'np_likeness_score': '-1.51', 'num_lipinski_ro5_violations': 0, 'num_ro5_violations': 0, 'psa': '113.42', 'qed_weighted': '0.55', 'ro3_pass': 'N', 'rtb': 7}, 'molecule_structures': {'canonical_smiles': 'CCCc1nn(C)c2c(=O)[nH]c(-c3cc(S(=O)(=O)N4CCN(C)CC4)ccc3OCC)nc12', 'molfile': '\\n     RDKit          2D\\n\\n 33 36  0  0  0  0  0  0  0  0999 V2000\\n    2.1000   -0.0042    0.0000 C   0  0  0  0  0  0  0  0  0  0  0  0\\n    2.1000    0.7000    0.0000 C   0  0  0  0  0  0  0  0  0  0  0  0\\n   -1.5375   -0.0042    0.0000 S   0  0  0  0  0  0  0  0  0  0  0  0\\n    1.4917   -0.3667    0.0000 N   0  0  0  0  0  0  0  0  0  0  0  0\\n    0.8792   -0.0042    0.0000 C   0  0  0  0  0  0  0  0  0  0  0  0\\n    2.8042    0.9083    0.0000 N   0  0  0  0  0  0  0  0  0  0  0  0\\n    1.4917    1.0625    0.0000 C   0  0  0  0  0  0  0  0  0  0  0  0\\n    0.8792    0.6833    0.0000 N   0  0  0  0  0  0  0  0  0  0  0  0\\n    3.2042    0.3458    0.0000 N   0  0  0  0  0  0  0  0  0  0  0  0\\n    2.8042   -0.2417    0.0000 C   0  0  0  0  0  0  0  0  0  0  0  0\\n    0.2875   -0.3750    0.0000 C   0  0  0  0  0  0  0  0  0  0  0  0\\n   -2.1583   -0.3750    0.0000 N   0  0  0  0  0  0  0  0  0  0  0  0\\n   -0.9333   -0.3750    0.0000 C   0  0  0  0  0  0  0  0  0  0  0  0\\n   -0.3208   -0.0333    0.0000 C   0  0  0  0  0  0  0  0  0  0  0  0\\n   -1.1875    0.6083    0.0000 O   0  0  0  0  0  0  0  0  0  0  0  0\\n   -1.8958    0.6083    0.0000 O   0  0  0  0  0  0  0  0  0  0  0  0\\n   -3.3958   -1.0917    0.0000 N   0  0  0  0  0  0  0  0  0  0  0  0\\n   -2.7833   -0.0042    0.0000 C   0  0  0  0  0  0  0  0  0  0  0  0\\n   -2.1583   -1.0917    0.0000 C   0  0  0  0  0  0  0  0  0  0  0  0\\n    0.2875   -1.1125    0.0000 C   0  0  0  0  0  0  0  0  0  0  0  0\\n    1.4917    1.7708    0.0000 O   0  0  0  0  0  0  0  0  0  0  0  0\\n   -0.9333   -1.1125    0.0000 C   0  0  0  0  0  0  0  0  0  0  0  0\\n   -0.3208   -1.4542    0.0000 C   0  0  0  0  0  0  0  0  0  0  0  0\\n   -3.3958   -0.3750    0.0000 C   0  0  0  0  0  0  0  0  0  0  0  0\\n   -2.7833   -1.4417    0.0000 C   0  0  0  0  0  0  0  0  0  0  0  0\\n    3.0750    1.5750    0.0000 C   0  0  0  0  0  0  0  0  0  0  0  0\\n    2.8042   -0.9500    0.0000 C   0  0  0  0  0  0  0  0  0  0  0  0\\n    0.8792   -1.4542    0.0000 O   0  0  0  0  0  0  0  0  0  0  0  0\\n   -3.9958   -1.4292    0.0000 C   0  0  0  0  0  0  0  0  0  0  0  0\\n    1.4958   -1.1000    0.0000 C   0  0  0  0  0  0  0  0  0  0  0  0\\n    3.4167   -1.3125    0.0000 C   0  0  0  0  0  0  0  0  0  0  0  0\\n    2.1125   -1.4500    0.0000 C   0  0  0  0  0  0  0  0  0  0  0  0\\n    4.0375   -0.9542    0.0000 C   0  0  0  0  0  0  0  0  0  0  0  0\\n  2  1  2  0\\n  3 13  1  0\\n  4  1  1  0\\n  5  4  2  0\\n  6  2  1  0\\n  7  2  1  0\\n  8  5  1  0\\n  9 10  2  0\\n 10  1  1  0\\n 11  5  1  0\\n 12  3  1  0\\n 13 14  2  0\\n 14 11  1  0\\n 15  3  2  0\\n 16  3  2  0\\n 17 25  1  0\\n 18 12  1  0\\n 19 12  1  0\\n 20 11  2  0\\n 21  7  2  0\\n 22 23  2  0\\n 23 20  1  0\\n 24 18  1  0\\n 25 19  1  0\\n 26  6  1  0\\n 27 10  1  0\\n 28 20  1  0\\n 29 17  1  0\\n 30 28  1  0\\n 31 27  1  0\\n 32 30  1  0\\n 33 31  1  0\\n  9  6  1  0\\n  8  7  1  0\\n 22 13  1  0\\n 17 24  1  0\\nM  END\\n\\n\\n> <chembl_id>\\nCHEMBL192\\n\\n> <chembl_pref_name>\\nSILDENAFIL\\n\\n', 'standard_inchi': 'InChI=1S/C22H30N6O4S/c1-5-7-17-19-20(27(4)25-17)22(29)24-21(23-19)16-14-15(8-9-18(16)32-6-2)33(30,31)28-12-10-26(3)11-13-28/h8-9,14H,5-7,10-13H2,1-4H3,(H,23,24,29)', 'standard_inchi_key': 'BNRNXUUZRGQAQC-UHFFFAOYSA-N'}, 'molecule_synonyms': [{'molecule_synonym': 'Aphrodil', 'syn_type': 'OTHER', 'synonyms': 'APHRODIL'}, {'molecule_synonym': 'HIP0908', 'syn_type': 'RESEARCH_CODE', 'synonyms': 'HIP0908'}, {'molecule_synonym': 'HIP-0908', 'syn_type': 'RESEARCH_CODE', 'synonyms': 'HIP-0908'}, {'molecule_synonym': 'Nipatra', 'syn_type': 'TRADE_NAME', 'synonyms': 'NIPATRA'}, {'molecule_synonym': 'Patrex', 'syn_type': 'OTHER', 'synonyms': 'PATREX'}, {'molecule_synonym': 'Revatio', 'syn_type': 'TRADE_NAME', 'synonyms': 'REVATIO'}, {'molecule_synonym': 'Sildenafil', 'syn_type': 'FDA', 'synonyms': 'Sildenafil'}, {'molecule_synonym': 'Sildenafil', 'syn_type': 'ATC', 'synonyms': 'SILDENAFIL'}, {'molecule_synonym': 'Sildenafil', 'syn_type': 'BAN', 'synonyms': 'SILDENAFIL'}, {'molecule_synonym': 'Sildenafil', 'syn_type': 'BNF', 'synonyms': 'SILDENAFIL'}, {'molecule_synonym': 'Sildenafil', 'syn_type': 'INN', 'synonyms': 'SILDENAFIL'}, {'molecule_synonym': 'Sildenafil', 'syn_type': 'MERCK_INDEX', 'synonyms': 'SILDENAFIL'}, {'molecule_synonym': 'Sildenafil', 'syn_type': 'OTHER', 'synonyms': 'SILDENAFIL'}, {'molecule_synonym': 'Sildenafil actavis', 'syn_type': 'OTHER', 'synonyms': 'SILDENAFIL ACTAVIS'}, {'molecule_synonym': 'Sildenafil ratiopharm', 'syn_type': 'OTHER', 'synonyms': 'SILDENAFIL RATIOPHARM'}, {'molecule_synonym': 'Sildenafil teva', 'syn_type': 'OTHER', 'synonyms': 'SILDENAFIL TEVA'}, {'molecule_synonym': 'UK-92480', 'syn_type': 'RESEARCH_CODE', 'synonyms': 'UK-92480'}, {'molecule_synonym': 'Viagra', 'syn_type': 'TRADE_NAME', 'synonyms': 'VIAGRA'}, {'molecule_synonym': 'Vizarsin', 'syn_type': 'TRADE_NAME', 'synonyms': 'VIZARSIN'}], 'molecule_type': 'Small molecule', 'natural_product': 0, 'oral': True, 'parenteral': True, 'polymer_flag': 0, 'pref_name': 'SILDENAFIL', 'prodrug': 0, 'structure_type': 'MOL', 'therapeutic_flag': True, 'topical': False, 'usan_stem': '-afil', 'usan_stem_definition': 'phosphodiesterase type 5 inhibitors (PDE5) inhibitors: (PDE5) inhibitors containing a sulfonamide moiety', 'usan_substem': '-afil (denafil)', 'usan_year': 1997, 'withdrawn_flag': False}]"
            ]
          },
          "metadata": {},
          "execution_count": 18
        }
      ],
      "source": [
        "from chembl_webresource_client.new_client import new_client\n",
        "\n",
        "molecule = new_client.molecule\n",
        "mols = molecule.filter(molecule_chembl_id__in=['CHEMBL25', 'CHEMBL192', 'CHEMBL27'])\n",
        "mols"
      ]
    },
    {
      "cell_type": "code",
      "source": [
        "mols = molecule.filter(molecule_chembl_id__in=['CHEMBL25', 'CHEMBL192', 'CHEMBL27']).only(['molecule_chembl_id', 'pref_name'])\n",
        "mols"
      ],
      "metadata": {
        "colab": {
          "base_uri": "https://localhost:8080/"
        },
        "id": "JxmlH-YldMTV",
        "outputId": "08f9a55a-3623-4ef9-bab7-29fd41a46aa5"
      },
      "execution_count": 20,
      "outputs": [
        {
          "output_type": "execute_result",
          "data": {
            "text/plain": [
              "[{'molecule_chembl_id': 'CHEMBL25', 'pref_name': 'ASPIRIN'}, {'molecule_chembl_id': 'CHEMBL27', 'pref_name': 'PROPRANOLOL'}, {'molecule_chembl_id': 'CHEMBL192', 'pref_name': 'SILDENAFIL'}]"
            ]
          },
          "metadata": {},
          "execution_count": 20
        }
      ]
    },
    {
      "cell_type": "markdown",
      "metadata": {
        "id": "ace6f656"
      },
      "source": [
        "## Find compounds similar to given SMILES query with similarity threshold of 70%"
      ]
    },
    {
      "cell_type": "code",
      "execution_count": 21,
      "metadata": {
        "id": "b4322b1e",
        "outputId": "da6be543-0417-42a4-e31a-6bc1a74712da",
        "colab": {
          "base_uri": "https://localhost:8080/"
        }
      },
      "outputs": [
        {
          "output_type": "stream",
          "name": "stdout",
          "text": [
            "{'molecule_chembl_id': 'CHEMBL478779', 'similarity': '85.4166686534881591796875'}\n",
            "{'molecule_chembl_id': 'CHEMBL477889', 'similarity': '85.4166686534881591796875'}\n",
            "{'molecule_chembl_id': 'CHEMBL477888', 'similarity': '85.4166686534881591796875'}\n",
            "{'molecule_chembl_id': 'CHEMBL2304268', 'similarity': '70.1754391193389892578125'}\n"
          ]
        }
      ],
      "source": [
        "from chembl_webresource_client.new_client import new_client\n",
        "\n",
        "similarity = new_client.similarity\n",
        "res = similarity.filter(smiles=\"CO[C@@H](CCC#C\\C=C/CCCC(C)CCCCC=C)C(=O)[O-]\", similarity=70).only(['molecule_chembl_id', 'similarity'])\n",
        "for i in res:\n",
        "    print(i)"
      ]
    },
    {
      "cell_type": "markdown",
      "metadata": {
        "id": "f7e80996"
      },
      "source": [
        "## Find compounds similar to aspirin (CHEMBL25) with similarity threshold of 70%\n"
      ]
    },
    {
      "cell_type": "code",
      "execution_count": null,
      "metadata": {
        "id": "7ae1d3ed",
        "outputId": "42c31bf1-b602-47e6-c78b-b855bff04b76"
      },
      "outputs": [
        {
          "data": {
            "text/plain": [
              "[{'molecule_chembl_id': 'CHEMBL2296002', 'pref_name': None, 'similarity': '100'}, {'molecule_chembl_id': 'CHEMBL1697753', 'pref_name': 'ASPIRIN DL-LYSINE', 'similarity': '100'}, {'molecule_chembl_id': 'CHEMBL3833325', 'pref_name': 'CARBASPIRIN CALCIUM', 'similarity': '88.8888895511627197265625'}, {'molecule_chembl_id': 'CHEMBL3833404', 'pref_name': 'CARBASPIRIN', 'similarity': '88.8888895511627197265625'}, '...(remaining elements truncated)...']"
            ]
          },
          "execution_count": 9,
          "metadata": {},
          "output_type": "execute_result"
        }
      ],
      "source": [
        "from chembl_webresource_client.new_client import new_client\n",
        "\n",
        "similarity = new_client.similarity\n",
        "res = similarity.filter(chembl_id='CHEMBL25', similarity=70).only(['molecule_chembl_id', 'pref_name', 'similarity'])\n",
        "res"
      ]
    },
    {
      "cell_type": "markdown",
      "metadata": {
        "id": "c18f706b"
      },
      "source": [
        "## Find compounds with the same connectivity"
      ]
    },
    {
      "cell_type": "code",
      "execution_count": null,
      "metadata": {
        "id": "37cc4b97",
        "outputId": "ab1f5279-66bf-44dd-8afd-0cfdb788b4db"
      },
      "outputs": [
        {
          "name": "stdout",
          "output_type": "stream",
          "text": [
            "{'molecule_chembl_id': 'CHEMBL1431', 'pref_name': 'METFORMIN'}\n",
            "{'molecule_chembl_id': 'CHEMBL1703', 'pref_name': 'METFORMIN HYDROCHLORIDE'}\n",
            "{'molecule_chembl_id': 'CHEMBL3094198', 'pref_name': None}\n"
          ]
        }
      ],
      "source": [
        "from chembl_webresource_client.new_client import new_client\n",
        "\n",
        "molecule = new_client.molecule\n",
        "res = molecule.filter(molecule_structures__canonical_smiles__connectivity='CN(C)C(=N)N=C(N)N').only(['molecule_chembl_id', 'pref_name'])\n",
        "for i in res:\n",
        "    print(i)"
      ]
    },
    {
      "cell_type": "markdown",
      "metadata": {
        "id": "98b24326"
      },
      "source": [
        "## Get all approved drugs\n",
        "\n",
        "using `order_by` to sort them by molecular weight"
      ]
    },
    {
      "cell_type": "code",
      "execution_count": 22,
      "metadata": {
        "id": "fe2674a4",
        "outputId": "f7cf4349-5b42-4540-a8d0-d69c097f5eb1",
        "colab": {
          "base_uri": "https://localhost:8080/"
        }
      },
      "outputs": [
        {
          "output_type": "execute_result",
          "data": {
            "text/plain": [
              "[{'atc_classifications': ['V03AN03'], 'availability_type': 1, 'biotherapeutic': None, 'black_box_warning': 0, 'chebi_par_id': 30217, 'chirality': 2, 'cross_references': [], 'dosed_ingredient': True, 'first_approval': 2015, 'first_in_class': 0, 'helm_notation': None, 'indication_class': 'Gases, Diluent for', 'inorganic_flag': 1, 'max_phase': '4.0', 'molecule_chembl_id': 'CHEMBL1796997', 'molecule_hierarchy': {'active_chembl_id': 'CHEMBL1796997', 'molecule_chembl_id': 'CHEMBL1796997', 'parent_chembl_id': 'CHEMBL1796997'}, 'molecule_properties': {'alogp': None, 'aromatic_rings': None, 'cx_logd': None, 'cx_logp': None, 'cx_most_apka': None, 'cx_most_bpka': None, 'full_molformula': 'He', 'full_mwt': '4.00', 'hba': None, 'hba_lipinski': None, 'hbd': None, 'hbd_lipinski': None, 'heavy_atoms': None, 'molecular_species': None, 'mw_freebase': '4.00', 'mw_monoisotopic': '4.0026', 'np_likeness_score': None, 'num_lipinski_ro5_violations': None, 'num_ro5_violations': None, 'psa': None, 'qed_weighted': None, 'ro3_pass': None, 'rtb': None}, 'molecule_structures': {'canonical_smiles': '[He]', 'molfile': '\\n     RDKit          2D\\n\\n  1  0  0  0  0  0  0  0  0  0999 V2000\\n   -0.1083    0.0500    0.0000 He  0  0  0  0  0 15  0  0  0  0  0  0\\nM  END\\n\\n\\n> <chembl_id>\\nCHEMBL1796997\\n\\n> <chembl_pref_name>\\nHELIUM\\n\\n', 'standard_inchi': 'InChI=1S/He', 'standard_inchi_key': 'SWQJXJOGLNCZEY-UHFFFAOYSA-N'}, 'molecule_synonyms': [{'molecule_synonym': 'E939', 'syn_type': 'E_NUMBER', 'synonyms': 'E939'}, {'molecule_synonym': 'E-939', 'syn_type': 'RESEARCH_CODE', 'synonyms': 'E-939'}, {'molecule_synonym': 'Helium', 'syn_type': 'ATC', 'synonyms': 'HELIUM'}, {'molecule_synonym': 'Helium', 'syn_type': 'FDA', 'synonyms': 'HELIUM'}, {'molecule_synonym': 'Helium', 'syn_type': 'MERCK_INDEX', 'synonyms': 'HELIUM'}, {'molecule_synonym': 'Helium', 'syn_type': 'OTHER', 'synonyms': 'HELIUM'}, {'molecule_synonym': 'Helium', 'syn_type': 'USP', 'synonyms': 'HELIUM'}, {'molecule_synonym': 'Helium-4', 'syn_type': 'OTHER', 'synonyms': 'HELIUM-4'}, {'molecule_synonym': 'INS-939', 'syn_type': 'RESEARCH_CODE', 'synonyms': 'INS-939'}, {'molecule_synonym': 'INS NO.939', 'syn_type': 'RESEARCH_CODE', 'synonyms': 'INS NO.939'}], 'molecule_type': 'Small molecule', 'natural_product': 0, 'oral': False, 'parenteral': False, 'polymer_flag': 0, 'pref_name': 'HELIUM', 'prodrug': 0, 'structure_type': 'MOL', 'therapeutic_flag': False, 'topical': True, 'usan_stem': '-ium', 'usan_stem_definition': 'quaternary ammonium derivatives', 'usan_substem': '-ium', 'usan_year': None, 'withdrawn_flag': False}, {'atc_classifications': ['V09GX05'], 'availability_type': 1, 'biotherapeutic': None, 'black_box_warning': 0, 'chebi_par_id': None, 'chirality': 2, 'cross_references': [{'xref_id': 'ammonia%20n-13', 'xref_name': 'ammonia n-13', 'xref_src': 'DailyMed'}], 'dosed_ingredient': True, 'first_approval': 2007, 'first_in_class': 0, 'helm_notation': None, 'indication_class': 'Radioactive Agent; Diagnostic Aid (cardiac imaging); Diagnostic Aid (liver imaging)', 'inorganic_flag': 0, 'max_phase': '4.0', 'molecule_chembl_id': 'CHEMBL1201189', 'molecule_hierarchy': {'active_chembl_id': 'CHEMBL1160819', 'molecule_chembl_id': 'CHEMBL1201189', 'parent_chembl_id': 'CHEMBL1160819'}, 'molecule_properties': {'alogp': '0.16', 'aromatic_rings': 0, 'cx_logd': '-2.44', 'cx_logp': '-0.98', 'cx_most_apka': None, 'cx_most_bpka': '8.86', 'full_molformula': 'H3N', 'full_mwt': '16.03', 'hba': 1, 'hba_lipinski': 1, 'hbd': 1, 'hbd_lipinski': 3, 'heavy_atoms': 1, 'molecular_species': 'BASE', 'mw_freebase': '17.03', 'mw_monoisotopic': '17.0265', 'np_likeness_score': '0.00', 'num_lipinski_ro5_violations': 0, 'num_ro5_violations': 0, 'psa': '35.00', 'qed_weighted': '0.40', 'ro3_pass': 'Y', 'rtb': 0}, 'molecule_structures': {'canonical_smiles': '[13NH3]', 'molfile': '\\n     RDKit          2D\\n\\n  1  0  0  0  0  0  0  0  0  0999 V2000\\n    3.2125   -1.7500    0.0000 N   0  0  0  0  0  0  0  0  0  0  0  0\\nM  ISO  1   1  13\\nM  END\\n\\n\\n> <chembl_id>\\nCHEMBL1201189\\n\\n> <chembl_pref_name>\\nAMMONIA N 13\\n\\n', 'standard_inchi': 'InChI=1S/H3N/h1H3/i1-1', 'standard_inchi_key': 'QGZKDVFQNNGYKY-BJUDXGSMSA-N'}, 'molecule_synonyms': [{'molecule_synonym': '13n', 'syn_type': 'OTHER', 'synonyms': '13N'}, {'molecule_synonym': 'Ammonia (13n)', 'syn_type': 'ATC', 'synonyms': 'AMMONIA (13N)'}, {'molecule_synonym': 'Ammonia (13n)', 'syn_type': 'OTHER', 'synonyms': 'AMMONIA (13N)'}, {'molecule_synonym': 'Ammonia n 13', 'syn_type': 'OTHER', 'synonyms': 'AMMONIA N 13'}, {'molecule_synonym': 'Ammonia n 13', 'syn_type': 'TRADE_NAME', 'synonyms': 'AMMONIA N 13'}, {'molecule_synonym': 'Ammonia n 13', 'syn_type': 'USAN', 'synonyms': 'AMMONIA N 13'}, {'molecule_synonym': 'Ammonia n 13', 'syn_type': 'USP', 'synonyms': 'AMMONIA N 13'}, {'molecule_synonym': 'Ammonia n-13', 'syn_type': 'FDA', 'synonyms': 'AMMONIA N-13'}, {'molecule_synonym': 'Ammonia, n-13', 'syn_type': 'OTHER', 'synonyms': 'AMMONIA, N-13'}, {'molecule_synonym': 'Ammonia-(sup 13)n', 'syn_type': 'OTHER', 'synonyms': 'AMMONIA-(SUP 13)N'}, {'molecule_synonym': '((sup 13)n)ammonia', 'syn_type': 'OTHER', 'synonyms': '((SUP 13)N)AMMONIA'}], 'molecule_type': 'Small molecule', 'natural_product': 0, 'oral': False, 'parenteral': True, 'polymer_flag': 0, 'pref_name': 'AMMONIA N 13', 'prodrug': 0, 'structure_type': 'MOL', 'therapeutic_flag': False, 'topical': False, 'usan_stem': None, 'usan_stem_definition': None, 'usan_substem': None, 'usan_year': 1990, 'withdrawn_flag': False}, {'atc_classifications': [], 'availability_type': 1, 'biotherapeutic': None, 'black_box_warning': 0, 'chebi_par_id': 16134, 'chirality': 2, 'cross_references': [{'xref_id': 'ammonia%20n-13', 'xref_name': 'ammonia n-13', 'xref_src': 'DailyMed'}, {'xref_id': 'Ammonia', 'xref_name': None, 'xref_src': 'Wikipedia'}], 'dosed_ingredient': False, 'first_approval': 2007, 'first_in_class': 0, 'helm_notation': None, 'indication_class': 'Pharmaceutic Aid (solvent and source of ammonia),Radioactive Agent; Diagnostic Aid (cardiac imaging); Diagnostic Aid (liver imaging)', 'inorganic_flag': 0, 'max_phase': '4.0', 'molecule_chembl_id': 'CHEMBL1160819', 'molecule_hierarchy': {'active_chembl_id': 'CHEMBL1160819', 'molecule_chembl_id': 'CHEMBL1160819', 'parent_chembl_id': 'CHEMBL1160819'}, 'molecule_properties': {'alogp': '0.16', 'aromatic_rings': 0, 'cx_logd': '-2.44', 'cx_logp': '-0.98', 'cx_most_apka': None, 'cx_most_bpka': '8.86', 'full_molformula': 'H3N', 'full_mwt': '17.03', 'hba': 1, 'hba_lipinski': 1, 'hbd': 1, 'hbd_lipinski': 3, 'heavy_atoms': 1, 'molecular_species': 'BASE', 'mw_freebase': '17.03', 'mw_monoisotopic': '17.0265', 'np_likeness_score': '0.00', 'num_lipinski_ro5_violations': 0, 'num_ro5_violations': 0, 'psa': '35.00', 'qed_weighted': '0.40', 'ro3_pass': 'Y', 'rtb': 0}, 'molecule_structures': {'canonical_smiles': 'N', 'molfile': '\\n     RDKit          2D\\n\\n  1  0  0  0  0  0  0  0  0  0999 V2000\\n    0.0375    0.0500    0.0000 N   0  0  0  0  0  0  0  0  0  0  0  0\\nM  END\\n\\n\\n> <chembl_id>\\nCHEMBL1160819\\n\\n> <chembl_pref_name>\\nAMMONIA SOLUTION, STRONG\\n\\n', 'standard_inchi': 'InChI=1S/H3N/h1H3', 'standard_inchi_key': 'QGZKDVFQNNGYKY-UHFFFAOYSA-N'}, 'molecule_synonyms': [{'molecule_synonym': 'Ammonia', 'syn_type': 'INN', 'synonyms': 'Ammonia'}, {'molecule_synonym': 'Ammonia', 'syn_type': 'MERCK_INDEX', 'synonyms': 'AMMONIA'}, {'molecule_synonym': 'Ammonia', 'syn_type': 'OTHER', 'synonyms': 'AMMONIA'}, {'molecule_synonym': 'Ammonia,aromatic', 'syn_type': 'OTHER', 'synonyms': 'AMMONIA,AROMATIC'}, {'molecule_synonym': 'Ammonia gas', 'syn_type': 'OTHER', 'synonyms': 'AMMONIA GAS'}, {'molecule_synonym': 'Ammonia solution', 'syn_type': 'OTHER', 'synonyms': 'AMMONIA SOLUTION'}, {'molecule_synonym': 'Ammonia-solution', 'syn_type': 'OTHER', 'synonyms': 'AMMONIA-SOLUTION'}, {'molecule_synonym': 'Ammonia solution, strong', 'syn_type': 'NATIONAL_FORMULARY', 'synonyms': 'AMMONIA SOLUTION, STRONG'}, {'molecule_synonym': 'Ammonia solution, strong', 'syn_type': 'OTHER', 'synonyms': 'AMMONIA SOLUTION, STRONG'}, {'molecule_synonym': 'Ammonia spirit, aromatic', 'syn_type': 'OTHER', 'synonyms': 'AMMONIA SPIRIT, AROMATIC'}, {'molecule_synonym': 'Ammonia water', 'syn_type': 'JAN', 'synonyms': 'AMMONIA WATER'}, {'molecule_synonym': 'Ammonia water', 'syn_type': 'MERCK_INDEX', 'synonyms': 'AMMONIA WATER'}, {'molecule_synonym': 'Ammonia water', 'syn_type': 'OTHER', 'synonyms': 'AMMONIA WATER'}, {'molecule_synonym': 'Ammonium causticum', 'syn_type': 'OTHER', 'synonyms': 'AMMONIUM CAUSTICUM'}, {'molecule_synonym': 'Ammonium hydroxide', 'syn_type': 'OTHER', 'synonyms': 'AMMONIUM HYDROXIDE'}, {'molecule_synonym': 'Ammonium water', 'syn_type': 'OTHER', 'synonyms': 'AMMONIUM WATER'}, {'molecule_synonym': 'Aqua ammonia', 'syn_type': 'OTHER', 'synonyms': 'AQUA AMMONIA'}, {'molecule_synonym': 'Aqueous ammonia', 'syn_type': 'OTHER', 'synonyms': 'AQUEOUS AMMONIA'}, {'molecule_synonym': 'E-527', 'syn_type': 'RESEARCH_CODE', 'synonyms': 'E-527'}, {'molecule_synonym': 'INS-527', 'syn_type': 'RESEARCH_CODE', 'synonyms': 'INS-527'}, {'molecule_synonym': 'INS NO.527', 'syn_type': 'RESEARCH_CODE', 'synonyms': 'INS NO.527'}, {'molecule_synonym': 'Nitro-sil', 'syn_type': 'OTHER', 'synonyms': 'NITRO-SIL'}, {'molecule_synonym': 'R 717 (ammonia)', 'syn_type': 'OTHER', 'synonyms': 'R 717 (AMMONIA)'}, {'molecule_synonym': 'Refrigerent r717', 'syn_type': 'OTHER', 'synonyms': 'REFRIGERENT R717'}, {'molecule_synonym': 'Spirit of hartshorn', 'syn_type': 'OTHER', 'synonyms': 'SPIRIT OF HARTSHORN'}, {'molecule_synonym': 'Strong ammonia solution', 'syn_type': 'OTHER', 'synonyms': 'STRONG AMMONIA SOLUTION'}, {'molecule_synonym': 'Strong-ammonia solution', 'syn_type': 'OTHER', 'synonyms': 'STRONG-AMMONIA SOLUTION'}], 'molecule_type': 'Small molecule', 'natural_product': 0, 'oral': False, 'parenteral': True, 'polymer_flag': 0, 'pref_name': 'AMMONIA SOLUTION, STRONG', 'prodrug': 0, 'structure_type': 'MOL', 'therapeutic_flag': False, 'topical': False, 'usan_stem': None, 'usan_stem_definition': None, 'usan_substem': None, 'usan_year': 1990, 'withdrawn_flag': False}, {'atc_classifications': [], 'availability_type': 2, 'biotherapeutic': None, 'black_box_warning': 0, 'chebi_par_id': 15377, 'chirality': 2, 'cross_references': [{'xref_id': 'purified%20water', 'xref_name': 'purified water', 'xref_src': 'DailyMed'}, {'xref_id': 'sterile%20water%20for%20irrigation', 'xref_name': 'sterile water for irrigation', 'xref_src': 'DailyMed'}, {'xref_id': 'Properties_of_water', 'xref_name': None, 'xref_src': 'Wikipedia'}], 'dosed_ingredient': True, 'first_approval': 2011, 'first_in_class': 0, 'helm_notation': None, 'indication_class': 'Diagnostic Aid (radioactive, vascular disorders); Radioactive Agent,Radioactive Agent', 'inorganic_flag': 0, 'max_phase': '4.0', 'molecule_chembl_id': 'CHEMBL1098659', 'molecule_hierarchy': {'active_chembl_id': 'CHEMBL1098659', 'molecule_chembl_id': 'CHEMBL1098659', 'parent_chembl_id': 'CHEMBL1098659'}, 'molecule_properties': {'alogp': '-0.82', 'aromatic_rings': 0, 'cx_logd': '-0.65', 'cx_logp': '-0.65', 'cx_most_apka': None, 'cx_most_bpka': None, 'full_molformula': 'H2O', 'full_mwt': '18.02', 'hba': 0, 'hba_lipinski': 1, 'hbd': 0, 'hbd_lipinski': 2, 'heavy_atoms': 1, 'molecular_species': 'NEUTRAL', 'mw_freebase': '18.02', 'mw_monoisotopic': '18.0106', 'np_likeness_score': '0.00', 'num_lipinski_ro5_violations': 0, 'num_ro5_violations': 0, 'psa': '31.50', 'qed_weighted': '0.33', 'ro3_pass': 'Y', 'rtb': 0}, 'molecule_structures': {'canonical_smiles': 'O', 'molfile': '\\n     RDKit          2D\\n\\n  1  0  0  0  0  0  0  0  0  0999 V2000\\n   -2.3458    2.0333    0.0000 O   0  0  0  0  0  0  0  0  0  0  0  0\\nM  END\\n\\n\\n> <chembl_id>\\nCHEMBL1098659\\n\\n> <chembl_pref_name>\\nWATER\\n\\n', 'standard_inchi': 'InChI=1S/H2O/h1H2', 'standard_inchi_key': 'XLYOFNOQVPJJNP-UHFFFAOYSA-N'}, 'molecule_synonyms': [{'molecule_synonym': 'Adelheid aqua', 'syn_type': 'OTHER', 'synonyms': 'ADELHEID AQUA'}, {'molecule_synonym': 'Adelheidsquelle', 'syn_type': 'OTHER', 'synonyms': 'ADELHEIDSQUELLE'}, {'molecule_synonym': 'Aqua adelheid', 'syn_type': 'OTHER', 'synonyms': 'AQUA ADELHEID'}, {'molecule_synonym': 'Aqua pro injectione', 'syn_type': 'OTHER', 'synonyms': 'AQUA PRO INJECTIONE'}, {'molecule_synonym': 'Aqua purificata', 'syn_type': 'OTHER', 'synonyms': 'AQUA PURIFICATA'}, {'molecule_synonym': 'Aqua sterilisata pro injectione', 'syn_type': 'OTHER', 'synonyms': 'AQUA STERILISATA PRO INJECTIONE'}, {'molecule_synonym': 'Aqua wiesbaden', 'syn_type': 'OTHER', 'synonyms': 'AQUA WIESBADEN'}, {'molecule_synonym': 'Aqua wildbad', 'syn_type': 'OTHER', 'synonyms': 'AQUA WILDBAD'}, {'molecule_synonym': 'B1217', 'syn_type': 'RESEARCH_CODE', 'synonyms': 'B1217'}, {'molecule_synonym': 'NSC-147337', 'syn_type': 'RESEARCH_CODE', 'synonyms': 'NSC-147337'}, {'molecule_synonym': 'Purified water', 'syn_type': 'FDA', 'synonyms': 'PURIFIED WATER'}, {'molecule_synonym': 'Purified water', 'syn_type': 'USP', 'synonyms': 'PURIFIED WATER'}, {'molecule_synonym': 'Pur-wash', 'syn_type': 'TRADE_NAME', 'synonyms': 'PUR-WASH'}, {'molecule_synonym': 'R-718', 'syn_type': 'RESEARCH_CODE', 'synonyms': 'R-718'}, {'molecule_synonym': 'Sterile purified water', 'syn_type': 'USP', 'synonyms': 'STERILE PURIFIED WATER'}, {'molecule_synonym': 'Sterile water', 'syn_type': 'TRADE_NAME', 'synonyms': 'STERILE WATER'}, {'molecule_synonym': 'Sterile water for inhalation', 'syn_type': 'OTHER', 'synonyms': 'STERILE WATER FOR INHALATION'}, {'molecule_synonym': 'Sterile water for injection', 'syn_type': 'FDA', 'synonyms': 'STERILE WATER FOR INJECTION'}, {'molecule_synonym': 'Sterile water for injection', 'syn_type': 'TRADE_NAME', 'synonyms': 'STERILE WATER FOR INJECTION'}, {'molecule_synonym': 'Sterile water for injections', 'syn_type': 'OTHER', 'synonyms': 'STERILE WATER FOR INJECTIONS'}, {'molecule_synonym': 'Sterile water for irrigation', 'syn_type': 'FDA', 'synonyms': 'STERILE WATER FOR IRRIGATION'}, {'molecule_synonym': 'Ultrex ii ultrapure', 'syn_type': 'OTHER', 'synonyms': 'ULTREX II ULTRAPURE'}, {'molecule_synonym': 'Water', 'syn_type': 'MERCK_INDEX', 'synonyms': 'WATER'}, {'molecule_synonym': 'Water', 'syn_type': 'OTHER', 'synonyms': 'WATER'}, {'molecule_synonym': 'Water', 'syn_type': 'USP', 'synonyms': 'WATER'}, {'molecule_synonym': 'Water,bacteriostatic', 'syn_type': 'OTHER', 'synonyms': 'WATER,BACTERIOSTATIC'}, {'molecule_synonym': 'Water,bacteriostatic injection', 'syn_type': 'OTHER', 'synonyms': 'WATER,BACTERIOSTATIC INJECTION'}, {'molecule_synonym': 'Water,deionized', 'syn_type': 'OTHER', 'synonyms': 'WATER,DEIONIZED'}, {'molecule_synonym': 'Water, deionized', 'syn_type': 'OTHER', 'synonyms': 'WATER, DEIONIZED'}, {'molecule_synonym': 'Water,distilled', 'syn_type': 'OTHER', 'synonyms': 'WATER,DISTILLED'}, {'molecule_synonym': 'Water for hemodialysis', 'syn_type': 'OTHER', 'synonyms': 'WATER FOR HEMODIALYSIS'}, {'molecule_synonym': 'Water for inhalation, sterile', 'syn_type': 'OTHER', 'synonyms': 'WATER FOR INHALATION, STERILE'}, {'molecule_synonym': 'Water for injection', 'syn_type': 'BNF', 'synonyms': 'WATER FOR INJECTION'}, {'molecule_synonym': 'Water for injection', 'syn_type': 'OTHER', 'synonyms': 'WATER FOR INJECTION'}, {'molecule_synonym': 'Water for injections', 'syn_type': 'OTHER', 'synonyms': 'WATER FOR INJECTIONS'}, {'molecule_synonym': 'Water for irrigation,sterile', 'syn_type': 'OTHER', 'synonyms': 'WATER FOR IRRIGATION,STERILE'}, {'molecule_synonym': 'Water purified', 'syn_type': 'OTHER', 'synonyms': 'WATER PURIFIED'}, {'molecule_synonym': 'Water,purified', 'syn_type': 'OTHER', 'synonyms': 'WATER,PURIFIED'}, {'molecule_synonym': 'Water, purified', 'syn_type': 'OTHER', 'synonyms': 'WATER, PURIFIED'}, {'molecule_synonym': 'Water, purified sterile', 'syn_type': 'OTHER', 'synonyms': 'WATER, PURIFIED STERILE'}, {'molecule_synonym': 'Water,sanitized', 'syn_type': 'OTHER', 'synonyms': 'WATER,SANITIZED'}, {'molecule_synonym': 'Water,sterile', 'syn_type': 'OTHER', 'synonyms': 'WATER,STERILE'}, {'molecule_synonym': 'Water, sterile purified', 'syn_type': 'OTHER', 'synonyms': 'WATER, STERILE PURIFIED'}, {'molecule_synonym': 'Wiesbaden', 'syn_type': 'OTHER', 'synonyms': 'WIESBADEN'}, {'molecule_synonym': 'Wiesbaden aqua', 'syn_type': 'OTHER', 'synonyms': 'WIESBADEN AQUA'}, {'molecule_synonym': 'Wildbad aqua', 'syn_type': 'OTHER', 'synonyms': 'WILDBAD AQUA'}], 'molecule_type': 'Small molecule', 'natural_product': 0, 'oral': False, 'parenteral': False, 'polymer_flag': 0, 'pref_name': 'WATER', 'prodrug': 0, 'structure_type': 'MOL', 'therapeutic_flag': False, 'topical': True, 'usan_stem': 'deu-', 'usan_stem_definition': 'deuterated compounds', 'usan_substem': 'deu-', 'usan_year': 1963, 'withdrawn_flag': False}, '...(remaining elements truncated)...']"
            ]
          },
          "metadata": {},
          "execution_count": 22
        }
      ],
      "source": [
        "from chembl_webresource_client.new_client import new_client\n",
        "\n",
        "molecule = new_client.molecule\n",
        "approved_drugs = molecule.filter(max_phase=4).order_by('molecule_properties__mw_freebase')\n",
        "approved_drugs"
      ]
    },
    {
      "cell_type": "code",
      "source": [
        "print(len(approved_drugs))"
      ],
      "metadata": {
        "colab": {
          "base_uri": "https://localhost:8080/"
        },
        "id": "oNewAtcceqpS",
        "outputId": "263ffc57-86cf-4a95-8d4e-0d2e4eee659d"
      },
      "execution_count": 23,
      "outputs": [
        {
          "output_type": "stream",
          "name": "stdout",
          "text": [
            "4194\n"
          ]
        }
      ]
    },
    {
      "cell_type": "markdown",
      "metadata": {
        "id": "48e7f07e"
      },
      "source": [
        "## Get approved drugs for lung cancer\n",
        "-----\n",
        "EFO terms:  https://www.ebi.ac.uk/efo/"
      ]
    },
    {
      "cell_type": "code",
      "source": [
        "from chembl_webresource_client.new_client import new_client\n",
        "\n",
        "drug_indication = new_client.drug_indication\n",
        "molecules = new_client.molecule\n",
        "\n",
        "lung_cancer_ind = drug_indication.filter(efo_term__icontains=\"LUNG CARCINOMA\")\n",
        "lung_cancer_mols = molecules.filter(\n",
        "    molecule_chembl_id__in=[x['molecule_chembl_id'] for x in lung_cancer_ind])\n",
        "\n",
        "len(lung_cancer_mols)"
      ],
      "metadata": {
        "colab": {
          "base_uri": "https://localhost:8080/"
        },
        "id": "bWhqPQFxgJo6",
        "outputId": "1d35f695-249b-42c9-8aa6-c1889ae8a038"
      },
      "execution_count": 26,
      "outputs": [
        {
          "output_type": "execute_result",
          "data": {
            "text/plain": [
              "716"
            ]
          },
          "metadata": {},
          "execution_count": 26
        }
      ]
    },
    {
      "cell_type": "markdown",
      "metadata": {
        "id": "4ea9896c"
      },
      "source": [
        "## Get molecules with molecular weight <= 300"
      ]
    },
    {
      "cell_type": "code",
      "execution_count": 27,
      "metadata": {
        "id": "455a4c42",
        "outputId": "c62c1ef8-dc65-453b-a51b-014608f8b4ef",
        "colab": {
          "base_uri": "https://localhost:8080/"
        }
      },
      "outputs": [
        {
          "output_type": "execute_result",
          "data": {
            "text/plain": [
              "418451"
            ]
          },
          "metadata": {},
          "execution_count": 27
        }
      ],
      "source": [
        "from chembl_webresource_client.new_client import new_client\n",
        "\n",
        "molecule = new_client.molecule\n",
        "light_molecules = molecule.filter(molecule_properties__mw_freebase__lte=300)\n",
        "\n",
        "len(light_molecules)"
      ]
    },
    {
      "cell_type": "markdown",
      "metadata": {
        "id": "34db4c2a"
      },
      "source": [
        "## Filter drugs by approval year and name\n",
        "\n",
        "* USAN: https://en.wikipedia.org/wiki/United_States_Adopted_Name\n"
      ]
    },
    {
      "cell_type": "code",
      "execution_count": 25,
      "metadata": {
        "id": "69aaff66",
        "outputId": "beb35cb9-64cf-4f2e-96ed-0a277704d95b",
        "colab": {
          "base_uri": "https://localhost:8080/"
        }
      },
      "outputs": [
        {
          "output_type": "execute_result",
          "data": {
            "text/plain": [
              "[{'applicants': ['Apnar Pharma Lp', 'Teva Pharmaceuticals Usa Inc', 'Heritage Pharma Labs Inc Dba Avet Pharmaceuticals Labs Inc', 'Ranbaxy Laboratories Ltd', 'Sandoz Inc', 'Abbott Laboratories Pharmaceutical Products Div', 'Jubilant Cadista Pharmaceuticals Inc', 'Mylan Technologies Inc', 'Mylan Pharmaceuticals Inc A Viatris Co', 'Ivax Pharmaceuticals Inc Sub Teva Pharmaceuticals Usa'], 'atc_classification': [{'code': 'G04CA03', 'description': 'GENITO URINARY SYSTEM AND SEX HORMONES: UROLOGICALS: DRUGS USED IN BENIGN PROSTATIC HYPERTROPHY: Alpha-adrenoreceptor antagonists'}], 'availability_type': 1, 'biotherapeutic': None, 'black_box': 0, 'black_box_warning': '0', 'chirality': 0, 'development_phase': '4.0', 'drug_type': 1, 'first_approval': 1987, 'first_in_class': 0, 'helm_notation': None, 'indication_class': 'Antihypertensive', 'molecule_chembl_id': 'CHEMBL611', 'molecule_properties': {'alogp': '1.06', 'aromatic_rings': 2, 'cx_logd': '0.95', 'cx_logp': '1.18', 'cx_most_apka': None, 'cx_most_bpka': '7.24', 'full_molformula': 'C19H25N5O4', 'full_mwt': '387.44', 'hba': 8, 'hba_lipinski': 9, 'hbd': 1, 'hbd_lipinski': 2, 'heavy_atoms': 28, 'molecular_species': 'NEUTRAL', 'mw_freebase': '387.44', 'mw_monoisotopic': '387.1907', 'np_likeness_score': '-0.89', 'num_lipinski_ro5_violations': 0, 'num_ro5_violations': 0, 'psa': '103.04', 'qed_weighted': '0.83', 'ro3_pass': 'N', 'rtb': 4}, 'molecule_structures': {'canonical_smiles': 'COc1cc2nc(N3CCN(C(=O)C4CCCO4)CC3)nc(N)c2cc1OC', 'molfile': '\\n     RDKit          2D\\n\\n 28 31  0  0  0  0  0  0  0  0999 V2000\\n   -0.4208    0.3583    0.0000 C   0  0  0  0  0  0  0  0  0  0  0  0\\n   -0.4208    1.0625    0.0000 N   0  0  0  0  0  0  0  0  0  0  0  0\\n   -1.6458    1.0625    0.0000 C   0  0  0  0  0  0  0  0  0  0  0  0\\n   -1.0333    1.4250    0.0000 C   0  0  0  0  0  0  0  0  0  0  0  0\\n   -1.0333    0.0083    0.0000 N   0  0  0  0  0  0  0  0  0  0  0  0\\n   -1.6458    0.3583    0.0000 C   0  0  0  0  0  0  0  0  0  0  0  0\\n    0.1917   -0.0125    0.0000 N   0  0  0  0  0  0  0  0  0  0  0  0\\n    2.0167   -1.1167    0.0000 C   0  0  0  0  0  0  0  0  0  0  0  0\\n    1.4250   -0.7292    0.0000 N   0  0  0  0  0  0  0  0  0  0  0  0\\n   -2.2708    1.4250    0.0000 C   0  0  0  0  0  0  0  0  0  0  0  0\\n   -2.2708    0.0083    0.0000 C   0  0  0  0  0  0  0  0  0  0  0  0\\n   -2.8833    1.0625    0.0000 C   0  0  0  0  0  0  0  0  0  0  0  0\\n   -2.8833    0.3583    0.0000 C   0  0  0  0  0  0  0  0  0  0  0  0\\n    2.6750   -0.7667    0.0000 C   0  0  0  0  0  0  0  0  0  0  0  0\\n    0.1917   -0.7125    0.0000 C   0  0  0  0  0  0  0  0  0  0  0  0\\n    0.8042    0.3458    0.0000 C   0  0  0  0  0  0  0  0  0  0  0  0\\n    0.8042   -1.0917    0.0000 C   0  0  0  0  0  0  0  0  0  0  0  0\\n    1.4250   -0.0125    0.0000 C   0  0  0  0  0  0  0  0  0  0  0  0\\n    2.0167   -1.8042    0.0000 O   0  0  0  0  0  0  0  0  0  0  0  0\\n    3.2625   -1.1917    0.0000 O   0  0  0  0  0  0  0  0  0  0  0  0\\n   -1.0333    2.1333    0.0000 N   0  0  0  0  0  0  0  0  0  0  0  0\\n   -3.4958    1.4125    0.0000 O   0  0  0  0  0  0  0  0  0  0  0  0\\n   -3.4958   -0.0042    0.0000 O   0  0  0  0  0  0  0  0  0  0  0  0\\n    3.8292   -0.7667    0.0000 C   0  0  0  0  0  0  0  0  0  0  0  0\\n    2.9167   -0.0917    0.0000 C   0  0  0  0  0  0  0  0  0  0  0  0\\n   -4.1083    1.0625    0.0000 C   0  0  0  0  0  0  0  0  0  0  0  0\\n   -4.1083    0.3458    0.0000 C   0  0  0  0  0  0  0  0  0  0  0  0\\n    3.5792   -0.0917    0.0000 C   0  0  0  0  0  0  0  0  0  0  0  0\\n  2  1  1  0\\n  3  6  2  0\\n  4  2  2  0\\n  5  1  2  0\\n  6  5  1  0\\n  7  1  1  0\\n  8  9  1  0\\n  9 18  1  0\\n 10  3  1  0\\n 11  6  1  0\\n 12 13  1  0\\n 13 11  2  0\\n 14  8  1  0\\n 15  7  1  0\\n 16  7  1  0\\n 17 15  1  0\\n 18 16  1  0\\n 19  8  2  0\\n 20 14  1  0\\n 21  4  1  0\\n 22 12  1  0\\n 23 13  1  0\\n 24 20  1  0\\n 25 14  1  0\\n 26 22  1  0\\n 27 23  1  0\\n 28 25  1  0\\n  4  3  1  0\\n 17  9  1  0\\n 12 10  2  0\\n 28 24  1  0\\nM  END\\n', 'standard_inchi': 'InChI=1S/C19H25N5O4/c1-26-15-10-12-13(11-16(15)27-2)21-19(22-17(12)20)24-7-5-23(6-8-24)18(25)14-4-3-9-28-14/h10-11,14H,3-9H2,1-2H3,(H2,20,21,22)', 'standard_inchi_key': 'VCKUSRYTPJJLNI-UHFFFAOYSA-N'}, 'molecule_synonyms': [{'molecule_synonym': 'Hytrin', 'syn_type': 'OTHER', 'synonyms': 'Hytrin'}, {'molecule_synonym': 'Terazosabb', 'syn_type': 'OTHER', 'synonyms': 'TERAZOSABB'}, {'molecule_synonym': 'Terazosin', 'syn_type': 'FDA', 'synonyms': 'Terazosin'}, {'molecule_synonym': 'Terazosin', 'syn_type': 'ATC', 'synonyms': 'TERAZOSIN'}, {'molecule_synonym': 'Terazosin', 'syn_type': 'BAN', 'synonyms': 'TERAZOSIN'}, {'molecule_synonym': 'Terazosin', 'syn_type': 'INN', 'synonyms': 'TERAZOSIN'}, {'molecule_synonym': 'Terazosin', 'syn_type': 'MERCK_INDEX', 'synonyms': 'TERAZOSIN'}, {'molecule_synonym': 'Terazosin', 'syn_type': 'OTHER', 'synonyms': 'TERAZOSIN'}], 'ob_patent': None, 'oral': 1, 'parenteral': 0, 'prodrug': 0, 'research_codes': ['ABBOTT-45975 ANHYDROUS', 'ABBOTT-45975', 'NSC-759168'], 'rule_of_five': 1, 'sc_patent': None, 'synonyms': ['Terazosin'], 'topical': 0, 'usan_stem': '-azosin', 'usan_stem_definition': 'antihypertensives (prazosin type)', 'usan_stem_substem': '-azosin(-azosin)', 'usan_year': 1980, 'withdrawn_class': None, 'withdrawn_country': None, 'withdrawn_flag': '0', 'withdrawn_reason': None, 'withdrawn_year': None}, {'applicants': ['Apotex Inc', 'Ivax Pharmaceuticals Inc Sub Teva Pharmaceuticals Usa', 'Teva Pharmaceuticals Usa Inc', 'Viatris Specialty Llc', 'Pliva Inc', 'Nesher Pharmaceuticals Usa Llc', 'Watson Laboratories Inc', 'Chartwell Rx Sciences Llc', 'Upsher Smith Laboratories Llc', 'Accord Healthcare Inc'], 'atc_classification': [{'code': 'C02CA04', 'description': 'CARDIOVASCULAR SYSTEM: ANTIHYPERTENSIVES: ANTIADRENERGIC AGENTS, PERIPHERALLY ACTING: Alpha-adrenoreceptor antagonists'}], 'availability_type': 1, 'biotherapeutic': None, 'black_box': 0, 'black_box_warning': '0', 'chirality': 0, 'development_phase': '4.0', 'drug_type': 1, 'first_approval': 1990, 'first_in_class': 0, 'helm_notation': None, 'indication_class': 'Antihypertensive', 'molecule_chembl_id': 'CHEMBL707', 'molecule_properties': {'alogp': '1.72', 'aromatic_rings': 3, 'cx_logd': '1.91', 'cx_logp': '2.14', 'cx_most_apka': '12.67', 'cx_most_bpka': '7.24', 'full_molformula': 'C23H25N5O5', 'full_mwt': '451.48', 'hba': 9, 'hba_lipinski': 10, 'hbd': 1, 'hbd_lipinski': 2, 'heavy_atoms': 33, 'molecular_species': 'NEUTRAL', 'mw_freebase': '451.48', 'mw_monoisotopic': '451.1856', 'np_likeness_score': '-0.79', 'num_lipinski_ro5_violations': 0, 'num_ro5_violations': 0, 'psa': '112.27', 'qed_weighted': '0.63', 'ro3_pass': 'N', 'rtb': 4}, 'molecule_structures': {'canonical_smiles': 'COc1cc2nc(N3CCN(C(=O)C4COc5ccccc5O4)CC3)nc(N)c2cc1OC', 'molfile': '\\n     RDKit          2D\\n\\n 33 37  0  0  0  0  0  0  0  0999 V2000\\n    0.0167  -14.8292    0.0000 C   0  0  0  0  0  0  0  0  0  0  0  0\\n    0.0167  -15.5500    0.0000 N   0  0  0  0  0  0  0  0  0  0  0  0\\n   -1.2208  -15.5500    0.0000 C   0  0  0  0  0  0  0  0  0  0  0  0\\n   -0.6083  -15.9125    0.0000 C   0  0  0  0  0  0  0  0  0  0  0  0\\n   -0.6083  -14.4667    0.0000 N   0  0  0  0  0  0  0  0  0  0  0  0\\n    3.0792  -13.7542    0.0000 C   0  0  0  0  0  0  0  0  0  0  0  0\\n   -1.2208  -14.8292    0.0000 C   0  0  0  0  0  0  0  0  0  0  0  0\\n    2.4792  -13.4042    0.0000 C   0  0  0  0  0  0  0  0  0  0  0  0\\n    3.7042  -13.4167    0.0000 O   0  0  0  0  0  0  0  0  0  0  0  0\\n    0.6417  -14.4667    0.0000 N   0  0  0  0  0  0  0  0  0  0  0  0\\n    1.8667  -13.7542    0.0000 N   0  0  0  0  0  0  0  0  0  0  0  0\\n   -1.8333  -15.9125    0.0000 C   0  0  0  0  0  0  0  0  0  0  0  0\\n   -1.8333  -14.4667    0.0000 C   0  0  0  0  0  0  0  0  0  0  0  0\\n    3.6792  -14.8167    0.0000 O   0  0  0  0  0  0  0  0  0  0  0  0\\n    4.3042  -13.7667    0.0000 C   0  0  0  0  0  0  0  0  0  0  0  0\\n   -2.4583  -15.5500    0.0000 C   0  0  0  0  0  0  0  0  0  0  0  0\\n   -2.4583  -14.8292    0.0000 C   0  0  0  0  0  0  0  0  0  0  0  0\\n    3.0667  -14.4667    0.0000 C   0  0  0  0  0  0  0  0  0  0  0  0\\n    4.2917  -14.4667    0.0000 C   0  0  0  0  0  0  0  0  0  0  0  0\\n    0.6417  -13.7667    0.0000 C   0  0  0  0  0  0  0  0  0  0  0  0\\n    1.2542  -14.8167    0.0000 C   0  0  0  0  0  0  0  0  0  0  0  0\\n    1.2417  -13.4167    0.0000 C   0  0  0  0  0  0  0  0  0  0  0  0\\n    1.8667  -14.4667    0.0000 C   0  0  0  0  0  0  0  0  0  0  0  0\\n    2.4792  -12.7042    0.0000 O   0  0  0  0  0  0  0  0  0  0  0  0\\n   -0.6083  -16.6125    0.0000 N   0  0  0  0  0  0  0  0  0  0  0  0\\n   -3.0833  -15.9125    0.0000 O   0  0  0  0  0  0  0  0  0  0  0  0\\n   -3.0833  -14.4667    0.0000 O   0  0  0  0  0  0  0  0  0  0  0  0\\n    4.9417  -13.4250    0.0000 C   0  0  0  0  0  0  0  0  0  0  0  0\\n    4.9167  -14.8292    0.0000 C   0  0  0  0  0  0  0  0  0  0  0  0\\n   -3.6875  -14.8125    0.0000 C   0  0  0  0  0  0  0  0  0  0  0  0\\n   -3.6833  -15.5500    0.0000 C   0  0  0  0  0  0  0  0  0  0  0  0\\n    5.5542  -13.7875    0.0000 C   0  0  0  0  0  0  0  0  0  0  0  0\\n    5.5417  -14.4875    0.0000 C   0  0  0  0  0  0  0  0  0  0  0  0\\n  2  1  1  0\\n  3  7  2  0\\n  4  2  2  0\\n  5  1  2  0\\n  6  8  1  0\\n  7  5  1  0\\n  8 11  1  0\\n  9  6  1  0\\n 10  1  1  0\\n 11 22  1  0\\n 12  3  1  0\\n 13  7  1  0\\n 14 18  1  0\\n 15  9  1  0\\n 16 12  2  0\\n 17 13  2  0\\n 18  6  1  0\\n 19 14  1  0\\n 20 10  1  0\\n 21 10  1  0\\n 22 20  1  0\\n 23 21  1  0\\n 24  8  2  0\\n 25  4  1  0\\n 26 16  1  0\\n 27 17  1  0\\n 28 15  1  0\\n 29 19  1  0\\n 30 27  1  0\\n 31 26  1  0\\n 32 28  2  0\\n 33 29  2  0\\n  4  3  1  0\\n 23 11  1  0\\n 17 16  1  0\\n 15 19  2  0\\n 32 33  1  0\\nM  END\\n', 'standard_inchi': 'InChI=1S/C23H25N5O5/c1-30-18-11-14-15(12-19(18)31-2)25-23(26-21(14)24)28-9-7-27(8-10-28)22(29)20-13-32-16-5-3-4-6-17(16)33-20/h3-6,11-12,20H,7-10,13H2,1-2H3,(H2,24,25,26)', 'standard_inchi_key': 'RUZYUOTYCVRMRZ-UHFFFAOYSA-N'}, 'molecule_synonyms': [{'molecule_synonym': 'C02CA04', 'syn_type': 'RESEARCH_CODE', 'synonyms': 'C02CA04'}, {'molecule_synonym': 'Cardura', 'syn_type': 'OTHER', 'synonyms': 'Cardura'}, {'molecule_synonym': 'Doxazosin', 'syn_type': 'FDA', 'synonyms': 'Doxazosin'}, {'molecule_synonym': 'Doxazosin', 'syn_type': 'ATC', 'synonyms': 'DOXAZOSIN'}, {'molecule_synonym': 'Doxazosin', 'syn_type': 'BAN', 'synonyms': 'DOXAZOSIN'}, {'molecule_synonym': 'Doxazosin', 'syn_type': 'INN', 'synonyms': 'DOXAZOSIN'}, {'molecule_synonym': 'Doxazosin', 'syn_type': 'MERCK_INDEX', 'synonyms': 'DOXAZOSIN'}, {'molecule_synonym': 'Doxazosin', 'syn_type': 'OTHER', 'synonyms': 'DOXAZOSIN'}, {'molecule_synonym': 'UK-33274', 'syn_type': 'RESEARCH_CODE', 'synonyms': 'UK-33274'}], 'ob_patent': None, 'oral': 1, 'parenteral': 0, 'prodrug': 0, 'research_codes': ['UK-33274-27', 'NSC-759284', 'UK-33274', 'UK-33,274-27', 'C02CA04'], 'rule_of_five': 1, 'sc_patent': None, 'synonyms': ['Doxazosin'], 'topical': 0, 'usan_stem': '-azosin', 'usan_stem_definition': 'antihypertensives (prazosin type)', 'usan_stem_substem': '-azosin(-azosin)', 'usan_year': 1981, 'withdrawn_class': None, 'withdrawn_country': None, 'withdrawn_flag': '0', 'withdrawn_reason': None, 'withdrawn_year': None}]"
            ]
          },
          "metadata": {},
          "execution_count": 25
        }
      ],
      "source": [
        "from chembl_webresource_client.new_client import new_client\n",
        "\n",
        "drug = new_client.drug\n",
        "res = drug.filter(first_approval__gte=1980).filter(usan_stem=\"-azosin\")\n",
        "res"
      ]
    },
    {
      "cell_type": "markdown",
      "source": [
        "## Get molecules with molecular weight <= 300 AND pref_name ending with nib\n"
      ],
      "metadata": {
        "id": "KoxKe06-gRaC"
      }
    },
    {
      "cell_type": "code",
      "execution_count": 28,
      "metadata": {
        "id": "2908ff67",
        "outputId": "f85dd3fa-9726-4c12-bb73-f94e1069d2f9",
        "colab": {
          "base_uri": "https://localhost:8080/"
        }
      },
      "outputs": [
        {
          "output_type": "execute_result",
          "data": {
            "text/plain": [
              "[{'molecule_chembl_id': 'CHEMBL276711', 'pref_name': 'SEMAXANIB'}, {'molecule_chembl_id': 'CHEMBL4594348', 'pref_name': 'ELSUBRUTINIB'}]"
            ]
          },
          "metadata": {},
          "execution_count": 28
        }
      ],
      "source": [
        "from chembl_webresource_client.new_client import new_client\n",
        "\n",
        "molecule = new_client.molecule\n",
        "light_nib_molecules = molecule.filter(molecule_properties__mw_freebase__lte=300, pref_name__iendswith=\"nib\").only(['molecule_chembl_id', 'pref_name'])\n",
        "\n",
        "light_nib_molecules"
      ]
    },
    {
      "cell_type": "markdown",
      "metadata": {
        "id": "9f660ea4"
      },
      "source": [
        "## Get all molecules in ChEMBL with no Rule-of-Five violations\n",
        "-------\n",
        "Rule-of-Five (Lipinski's rule of five)\n",
        "1. No more than 5 hydrogen bond donors (the total number of nitrogen–hydrogen and oxygen–hydrogen bonds)\n",
        "2. No more than 10 hydrogen bond acceptors (all nitrogen or oxygen atoms)\n",
        "3. A molecular mass less than 500 daltons\n",
        "4. A calculated octanol-water partition coefficient (Clog P) that does not exceed 5"
      ]
    },
    {
      "cell_type": "code",
      "execution_count": 29,
      "metadata": {
        "id": "feff8ac3",
        "outputId": "4219467d-2b42-412f-9b90-0d79d8090acf",
        "colab": {
          "base_uri": "https://localhost:8080/"
        }
      },
      "outputs": [
        {
          "output_type": "execute_result",
          "data": {
            "text/plain": [
              "1631753"
            ]
          },
          "metadata": {},
          "execution_count": 29
        }
      ],
      "source": [
        "from chembl_webresource_client.new_client import new_client\n",
        "\n",
        "molecule = new_client.molecule\n",
        "no_violations = molecule.filter(molecule_properties__num_ro5_violations=0)\n",
        "len(no_violations)"
      ]
    },
    {
      "cell_type": "markdown",
      "metadata": {
        "id": "d02330f1"
      },
      "source": [
        "# Activities"
      ]
    },
    {
      "cell_type": "markdown",
      "metadata": {
        "id": "b6c15c49"
      },
      "source": [
        "## Get all IC50 activities related to the hERG target"
      ]
    },
    {
      "cell_type": "code",
      "execution_count": null,
      "metadata": {
        "id": "4d479051",
        "outputId": "df78f67a-d7b5-4779-81d1-e9a862d77017"
      },
      "outputs": [
        {
          "data": {
            "text/plain": [
              "13200"
            ]
          },
          "execution_count": 18,
          "metadata": {},
          "output_type": "execute_result"
        }
      ],
      "source": [
        "from chembl_webresource_client.new_client import new_client\n",
        "\n",
        "target = new_client.target\n",
        "activity = new_client.activity\n",
        "herg = target.filter(pref_name__iexact='hERG').only('target_chembl_id')[0]\n",
        "herg_activities = activity.filter(target_chembl_id=herg['target_chembl_id']).filter(standard_type=\"IC50\")\n",
        "\n",
        "len(herg_activities)"
      ]
    },
    {
      "cell_type": "markdown",
      "metadata": {
        "id": "dbb6091c"
      },
      "source": [
        "## Get all activities for a specific target with assay type B (binding):\n",
        "\n",
        "\n",
        "### Assay types in ChEMBL: \n",
        "* Binding (B) - Data measuring binding of compound to a molecular target, e.g. Ki, IC50, Kd.\n",
        "* Functional (F) - Data measuring the biological effect of a compound, e.g. \\%cell death in a cell line, rat weight.\n",
        "* ADMET (A) - ADME data e.g. t1/2, oral bioavailability.\n",
        "* Toxicity (T) - Data measuring toxicity of a compound, e.g., cytotoxicity.\n",
        "* Physicochemical (P) - Assays measuring physicochemical properties of the compounds in the absence of biological material e.g., chemical stability, solubility.\n",
        "* Unclassified (U) - A small proportion of assays cannot be classified into one of the above categories e.g., ratio of binding vs efficacy."
      ]
    },
    {
      "cell_type": "markdown",
      "source": [
        "Retreving only binding assay results"
      ],
      "metadata": {
        "id": "kmHiAip_hxo7"
      }
    },
    {
      "cell_type": "code",
      "execution_count": null,
      "metadata": {
        "id": "25694c6f",
        "outputId": "a369a97d-5dda-46a2-b4bc-1392a80e0bcb"
      },
      "outputs": [
        {
          "data": {
            "text/plain": [
              "860"
            ]
          },
          "execution_count": 19,
          "metadata": {},
          "output_type": "execute_result"
        }
      ],
      "source": [
        "from chembl_webresource_client.new_client import new_client\n",
        "\n",
        "activity = new_client.activity\n",
        "res = activity.filter(target_chembl_id='CHEMBL3938', assay_type='B')\n",
        "\n",
        "len(res)"
      ]
    },
    {
      "cell_type": "code",
      "source": [
        "res[0]"
      ],
      "metadata": {
        "colab": {
          "base_uri": "https://localhost:8080/"
        },
        "id": "ggO31BTLi2Wr",
        "outputId": "1a519d7f-4a42-489b-d7b6-a0eb443f3baf"
      },
      "execution_count": 40,
      "outputs": [
        {
          "output_type": "execute_result",
          "data": {
            "text/plain": [
              "{'activity_comment': 'Not Active',\n",
              " 'activity_id': 1650747,\n",
              " 'activity_properties': [],\n",
              " 'assay_chembl_id': 'CHEMBL860783',\n",
              " 'assay_description': 'Average Binding Constant for STK16; NA=Not Active at 10 uM',\n",
              " 'assay_type': 'B',\n",
              " 'assay_variant_accession': None,\n",
              " 'assay_variant_mutation': None,\n",
              " 'bao_endpoint': 'BAO_0000034',\n",
              " 'bao_format': 'BAO_0000357',\n",
              " 'bao_label': 'single protein format',\n",
              " 'canonical_smiles': 'CS(=O)(=O)CCNCc1ccc(-c2ccc3ncnc(Nc4ccc(OCc5cccc(F)c5)c(Cl)c4)c3c2)o1',\n",
              " 'data_validity_comment': None,\n",
              " 'data_validity_description': None,\n",
              " 'document_chembl_id': 'CHEMBL1144455',\n",
              " 'document_journal': 'Nat Biotechnol',\n",
              " 'document_year': 2005,\n",
              " 'ligand_efficiency': None,\n",
              " 'molecule_chembl_id': 'CHEMBL554',\n",
              " 'molecule_pref_name': 'LAPATINIB',\n",
              " 'parent_molecule_chembl_id': 'CHEMBL554',\n",
              " 'pchembl_value': None,\n",
              " 'potential_duplicate': 0,\n",
              " 'qudt_units': None,\n",
              " 'record_id': 405809,\n",
              " 'relation': None,\n",
              " 'src_id': 1,\n",
              " 'standard_flag': 0,\n",
              " 'standard_relation': None,\n",
              " 'standard_text_value': None,\n",
              " 'standard_type': 'Kd',\n",
              " 'standard_units': None,\n",
              " 'standard_upper_value': None,\n",
              " 'standard_value': None,\n",
              " 'target_chembl_id': 'CHEMBL3938',\n",
              " 'target_organism': 'Homo sapiens',\n",
              " 'target_pref_name': 'Serine/threonine-protein kinase 16',\n",
              " 'target_tax_id': '9606',\n",
              " 'text_value': None,\n",
              " 'toid': None,\n",
              " 'type': 'Kd',\n",
              " 'units': None,\n",
              " 'uo_units': None,\n",
              " 'upper_value': None,\n",
              " 'value': None}"
            ]
          },
          "metadata": {},
          "execution_count": 40
        }
      ]
    },
    {
      "cell_type": "markdown",
      "source": [
        "Retreving only binding assay results measured in IC50 or Kd values"
      ],
      "metadata": {
        "id": "am6Xon4uh2lm"
      }
    },
    {
      "cell_type": "code",
      "source": [
        "from chembl_webresource_client.new_client import new_client\n",
        "\n",
        "activity = new_client.activity\n",
        "res = activity.filter(target_chembl_id='CHEMBL3938', assay_type='B').filter(standard_type__in=[\"IC50\", \"Kd\"])\n",
        "len(res)"
      ],
      "metadata": {
        "colab": {
          "base_uri": "https://localhost:8080/"
        },
        "id": "thfWwhMCgvZN",
        "outputId": "023a9fc4-82ad-44fa-d268-54bba97b6b79"
      },
      "execution_count": 34,
      "outputs": [
        {
          "output_type": "execute_result",
          "data": {
            "text/plain": [
              "416"
            ]
          },
          "metadata": {},
          "execution_count": 34
        }
      ]
    },
    {
      "cell_type": "code",
      "source": [
        "res[0]"
      ],
      "metadata": {
        "colab": {
          "base_uri": "https://localhost:8080/"
        },
        "id": "Zy3nUhXoimmI",
        "outputId": "9b81328b-d2ce-471a-dc8a-16bc751854a1"
      },
      "execution_count": 38,
      "outputs": [
        {
          "output_type": "execute_result",
          "data": {
            "text/plain": [
              "{'activity_comment': 'Not Active',\n",
              " 'activity_id': 1650747,\n",
              " 'activity_properties': [],\n",
              " 'assay_chembl_id': 'CHEMBL860783',\n",
              " 'assay_description': 'Average Binding Constant for STK16; NA=Not Active at 10 uM',\n",
              " 'assay_type': 'B',\n",
              " 'assay_variant_accession': None,\n",
              " 'assay_variant_mutation': None,\n",
              " 'bao_endpoint': 'BAO_0000034',\n",
              " 'bao_format': 'BAO_0000357',\n",
              " 'bao_label': 'single protein format',\n",
              " 'canonical_smiles': 'CS(=O)(=O)CCNCc1ccc(-c2ccc3ncnc(Nc4ccc(OCc5cccc(F)c5)c(Cl)c4)c3c2)o1',\n",
              " 'data_validity_comment': None,\n",
              " 'data_validity_description': None,\n",
              " 'document_chembl_id': 'CHEMBL1144455',\n",
              " 'document_journal': 'Nat Biotechnol',\n",
              " 'document_year': 2005,\n",
              " 'ligand_efficiency': None,\n",
              " 'molecule_chembl_id': 'CHEMBL554',\n",
              " 'molecule_pref_name': 'LAPATINIB',\n",
              " 'parent_molecule_chembl_id': 'CHEMBL554',\n",
              " 'pchembl_value': None,\n",
              " 'potential_duplicate': 0,\n",
              " 'qudt_units': None,\n",
              " 'record_id': 405809,\n",
              " 'relation': None,\n",
              " 'src_id': 1,\n",
              " 'standard_flag': 0,\n",
              " 'standard_relation': None,\n",
              " 'standard_text_value': None,\n",
              " 'standard_type': 'Kd',\n",
              " 'standard_units': None,\n",
              " 'standard_upper_value': None,\n",
              " 'standard_value': None,\n",
              " 'target_chembl_id': 'CHEMBL3938',\n",
              " 'target_organism': 'Homo sapiens',\n",
              " 'target_pref_name': 'Serine/threonine-protein kinase 16',\n",
              " 'target_tax_id': '9606',\n",
              " 'text_value': None,\n",
              " 'toid': None,\n",
              " 'type': 'Kd',\n",
              " 'units': None,\n",
              " 'uo_units': None,\n",
              " 'upper_value': None,\n",
              " 'value': None}"
            ]
          },
          "metadata": {},
          "execution_count": 38
        }
      ]
    },
    {
      "cell_type": "markdown",
      "metadata": {
        "id": "32ca12cc"
      },
      "source": [
        "## Get all activities with a pChEMBL value for a molecule\n",
        "-----\n",
        "\n",
        "The pChEMBL value is currently defined as follows: \n",
        "\n",
        "−log10 (molar IC50, XC50, EC50, AC50, Ki, Kd or Potency). \n",
        "\n",
        "(ref: https://www.ncbi.nlm.nih.gov/pmc/articles/PMC3965067/)"
      ]
    },
    {
      "cell_type": "code",
      "execution_count": 42,
      "metadata": {
        "id": "d3b54ddc",
        "outputId": "fe22f5cc-a108-498a-b9fb-447e8d78aa68",
        "colab": {
          "base_uri": "https://localhost:8080/"
        }
      },
      "outputs": [
        {
          "output_type": "execute_result",
          "data": {
            "text/plain": [
              "145"
            ]
          },
          "metadata": {},
          "execution_count": 42
        }
      ],
      "source": [
        "from chembl_webresource_client.new_client import new_client\n",
        "\n",
        "activities = new_client.activity\n",
        "res = activities.filter(molecule_chembl_id=\"CHEMBL25\", pchembl_value__isnull=False)\n",
        "\n",
        "len(res)"
      ]
    },
    {
      "cell_type": "code",
      "source": [
        "res[0]"
      ],
      "metadata": {
        "colab": {
          "base_uri": "https://localhost:8080/"
        },
        "id": "oHxnHZjgjDOE",
        "outputId": "486b9727-908c-4257-a585-a2dddf3130f6"
      },
      "execution_count": 43,
      "outputs": [
        {
          "output_type": "execute_result",
          "data": {
            "text/plain": [
              "{'activity_comment': None,\n",
              " 'activity_id': 88326,\n",
              " 'activity_properties': [],\n",
              " 'assay_chembl_id': 'CHEMBL762032',\n",
              " 'assay_description': 'Inhibitory concentration required against Arachidonic acid (100 uM) induced platelet aggregatory activity',\n",
              " 'assay_type': 'F',\n",
              " 'assay_variant_accession': None,\n",
              " 'assay_variant_mutation': None,\n",
              " 'bao_endpoint': 'BAO_0000190',\n",
              " 'bao_format': 'BAO_0000019',\n",
              " 'bao_label': 'assay format',\n",
              " 'canonical_smiles': 'CC(=O)Oc1ccccc1C(=O)O',\n",
              " 'data_validity_comment': None,\n",
              " 'data_validity_description': None,\n",
              " 'document_chembl_id': 'CHEMBL1146621',\n",
              " 'document_journal': 'Bioorg Med Chem Lett',\n",
              " 'document_year': 2003,\n",
              " 'ligand_efficiency': None,\n",
              " 'molecule_chembl_id': 'CHEMBL25',\n",
              " 'molecule_pref_name': 'ASPIRIN',\n",
              " 'parent_molecule_chembl_id': 'CHEMBL25',\n",
              " 'pchembl_value': '4.46',\n",
              " 'potential_duplicate': 0,\n",
              " 'qudt_units': 'http://www.openphacts.org/units/Nanomolar',\n",
              " 'record_id': 174376,\n",
              " 'relation': '=',\n",
              " 'src_id': 1,\n",
              " 'standard_flag': 1,\n",
              " 'standard_relation': '=',\n",
              " 'standard_text_value': None,\n",
              " 'standard_type': 'IC50',\n",
              " 'standard_units': 'nM',\n",
              " 'standard_upper_value': None,\n",
              " 'standard_value': '34600.0',\n",
              " 'target_chembl_id': 'CHEMBL612545',\n",
              " 'target_organism': None,\n",
              " 'target_pref_name': 'Unchecked',\n",
              " 'target_tax_id': None,\n",
              " 'text_value': None,\n",
              " 'toid': None,\n",
              " 'type': 'IC50',\n",
              " 'units': 'uM',\n",
              " 'uo_units': 'UO_0000065',\n",
              " 'upper_value': None,\n",
              " 'value': '34.6'}"
            ]
          },
          "metadata": {},
          "execution_count": 43
        }
      ]
    },
    {
      "cell_type": "markdown",
      "metadata": {
        "id": "9e4af22d"
      },
      "source": [
        "## Search for ADMET-related inhibitor assays (type A)"
      ]
    },
    {
      "cell_type": "code",
      "execution_count": null,
      "metadata": {
        "id": "5a3cac4c",
        "outputId": "7e88d168-3dbe-47ea-e4b6-38733e86ef9e"
      },
      "outputs": [
        {
          "data": {
            "text/plain": [
              "[{'assay_category': None, 'assay_cell_type': None, 'assay_chembl_id': 'CHEMBL884521', 'assay_classifications': [], 'assay_organism': 'Rattus norvegicus', 'assay_parameters': [], 'assay_strain': None, 'assay_subcellular_fraction': None, 'assay_tax_id': 10116, 'assay_test_type': None, 'assay_tissue': None, 'assay_type': 'A', 'assay_type_description': 'ADME', 'bao_format': 'BAO_0000357', 'bao_label': 'single protein format', 'cell_chembl_id': None, 'confidence_description': 'Direct single protein target assigned', 'confidence_score': 9, 'description': 'Inhibition of cytochrome P450 progesterone 15-alpha hydroxylase', 'document_chembl_id': 'CHEMBL1125500', 'relationship_description': 'Direct protein target assigned', 'relationship_type': 'D', 'src_assay_id': None, 'src_id': 1, 'target_chembl_id': 'CHEMBL3705', 'tissue_chembl_id': None, 'variant_sequence': None}, {'assay_category': None, 'assay_cell_type': None, 'assay_chembl_id': 'CHEMBL615148', 'assay_classifications': [], 'assay_organism': 'Rattus norvegicus', 'assay_parameters': [], 'assay_strain': None, 'assay_subcellular_fraction': None, 'assay_tax_id': 10116, 'assay_test_type': None, 'assay_tissue': None, 'assay_type': 'A', 'assay_type_description': 'ADME', 'bao_format': 'BAO_0000019', 'bao_label': 'assay format', 'cell_chembl_id': None, 'confidence_description': 'Default value - Target unknown or has yet to be assigned', 'confidence_score': 0, 'description': 'Inhibition of cytochrome P450 progesterone 16-alpha hydroxylase', 'document_chembl_id': 'CHEMBL1125500', 'relationship_description': 'Default value - Target has yet to be curated', 'relationship_type': 'U', 'src_assay_id': None, 'src_id': 1, 'target_chembl_id': 'CHEMBL612558', 'tissue_chembl_id': None, 'variant_sequence': None}, {'assay_category': None, 'assay_cell_type': None, 'assay_chembl_id': 'CHEMBL615199', 'assay_classifications': [], 'assay_organism': 'Rattus norvegicus', 'assay_parameters': [], 'assay_strain': None, 'assay_subcellular_fraction': None, 'assay_tax_id': 10116, 'assay_test_type': None, 'assay_tissue': None, 'assay_type': 'A', 'assay_type_description': 'ADME', 'bao_format': 'BAO_0000357', 'bao_label': 'single protein format', 'cell_chembl_id': None, 'confidence_description': 'Direct single protein target assigned', 'confidence_score': 9, 'description': 'Inhibition of cytochrome P450 progesterone 2-alpha-hydroxylase', 'document_chembl_id': 'CHEMBL1125500', 'relationship_description': 'Direct protein target assigned', 'relationship_type': 'D', 'src_assay_id': None, 'src_id': 1, 'target_chembl_id': 'CHEMBL4971', 'tissue_chembl_id': None, 'variant_sequence': None}, {'assay_category': None, 'assay_cell_type': None, 'assay_chembl_id': 'CHEMBL883800', 'assay_classifications': [], 'assay_organism': 'Rattus norvegicus', 'assay_parameters': [], 'assay_strain': None, 'assay_subcellular_fraction': 'Microsome', 'assay_tax_id': 10116, 'assay_test_type': None, 'assay_tissue': None, 'assay_type': 'A', 'assay_type_description': 'ADME', 'bao_format': 'BAO_0000251', 'bao_label': 'microsome format', 'cell_chembl_id': None, 'confidence_description': 'Homologous single protein target assigned', 'confidence_score': 8, 'description': 'Inhibition of progesterone 6-beta-hydroxylase in rat hepatic microsomes', 'document_chembl_id': 'CHEMBL1125500', 'relationship_description': 'Homologous protein target assigned', 'relationship_type': 'H', 'src_assay_id': None, 'src_id': 1, 'target_chembl_id': 'CHEMBL340', 'tissue_chembl_id': None, 'variant_sequence': None}, '...(remaining elements truncated)...']"
            ]
          },
          "execution_count": 21,
          "metadata": {},
          "output_type": "execute_result"
        }
      ],
      "source": [
        "from chembl_webresource_client.new_client import new_client\n",
        "assay = new_client.assay\n",
        "res = assay.filter(description__icontains='inhibit', assay_type='A')\n",
        "res"
      ]
    }
  ]
}