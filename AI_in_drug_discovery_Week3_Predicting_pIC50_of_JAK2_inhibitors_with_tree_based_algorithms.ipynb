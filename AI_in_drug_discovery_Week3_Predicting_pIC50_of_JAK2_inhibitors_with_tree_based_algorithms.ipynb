{
  "cells": [
    {
      "cell_type": "markdown",
      "metadata": {
        "id": "view-in-github",
        "colab_type": "text"
      },
      "source": [
        "<a href=\"https://colab.research.google.com/github/JLee823/2023-1st-AI-assisted-drug-discovery-SNU/blob/main/AI_in_drug_discovery_Week3_Predicting_pIC50_of_JAK2_inhibitors_with_tree_based_algorithms.ipynb\" target=\"_parent\"><img src=\"https://colab.research.google.com/assets/colab-badge.svg\" alt=\"Open In Colab\"/></a>"
      ]
    },
    {
      "cell_type": "markdown",
      "metadata": {
        "id": "Y0jlajCk7KNB"
      },
      "source": [
        "# Predicting activity of JAK2 inhibitors\n",
        "## Goal of the class\n",
        "* Practice the **regression model** using biological data\n",
        "\n",
        "## Janus kinase\n",
        "Janus kinase (JAK) is a family of intracellular, non-receptor tyrosine kinases that transduce cytokine-mediated signals via the JAK-STAT pathway. They were initially named \"just another kinase\" 1 and 2 (since they were just two of many discoveries in a PCR-based screen of kinases),[1] but were ultimately published as \"Janus kinase\". The name is taken from the two-faced Roman god of beginnings, endings and duality, Janus, because the JAKs possess two near-identical phosphate-transferring domains. One domain exhibits the kinase activity, while the other negatively regulates the kinase activity of the first.\n",
        "\n",
        "![picture](https://upload.wikimedia.org/wikipedia/commons/thumb/3/35/Protein_JAK2_PDB_2b7a.png/500px-Protein_JAK2_PDB_2b7a.png)"
      ]
    },
    {
      "cell_type": "code",
      "source": [
        "!pip install rdkit"
      ],
      "metadata": {
        "id": "zb3VfjKX8_gA",
        "colab": {
          "base_uri": "https://localhost:8080/"
        },
        "outputId": "00c20fb5-9ea6-48fe-db06-370da1ee55fd"
      },
      "execution_count": 14,
      "outputs": [
        {
          "output_type": "stream",
          "name": "stdout",
          "text": [
            "Looking in indexes: https://pypi.org/simple, https://us-python.pkg.dev/colab-wheels/public/simple/\n",
            "Requirement already satisfied: rdkit in /usr/local/lib/python3.9/dist-packages (2022.9.5)\n",
            "Requirement already satisfied: Pillow in /usr/local/lib/python3.9/dist-packages (from rdkit) (8.4.0)\n",
            "Requirement already satisfied: numpy in /usr/local/lib/python3.9/dist-packages (from rdkit) (1.22.4)\n"
          ]
        }
      ]
    },
    {
      "cell_type": "markdown",
      "source": [
        "rdkit을 읽어들이자. "
      ],
      "metadata": {
        "id": "DJTzkJvNpS9U"
      }
    },
    {
      "cell_type": "code",
      "execution_count": 15,
      "metadata": {
        "id": "3sbJfT1P7KNM"
      },
      "outputs": [],
      "source": [
        "import rdkit\n",
        "import rdkit.Chem as Chem\n",
        "import rdkit.Chem.AllChem as AllChem"
      ]
    },
    {
      "cell_type": "markdown",
      "source": [
        "추가적으로 필요한 다음 package들을 읽어들인다. "
      ],
      "metadata": {
        "id": "xTbJ1iANpUlX"
      }
    },
    {
      "cell_type": "code",
      "execution_count": 16,
      "metadata": {
        "id": "qUdvD0nN7KNO"
      },
      "outputs": [],
      "source": [
        "import matplotlib as mpl\n",
        "import matplotlib.pyplot as plt\n",
        "import pandas as pd\n",
        "import numpy as np\n",
        "import sklearn\n",
        "from tqdm import tqdm # to show a progress bar. "
      ]
    },
    {
      "cell_type": "markdown",
      "metadata": {
        "id": "GwNL4DeF7KNO"
      },
      "source": [
        "* data was obtained from this reference: https://advances.sciencemag.org/content/4/7/eaap7885"
      ]
    },
    {
      "cell_type": "markdown",
      "source": [
        "드랍박스의 링크로 부터 파일을 다운로드 받자. \n",
        "\n",
        "이를 위해서 wget 프로그램을 이용해서 jak2_data.csv 파일을 다운로드 받는다. "
      ],
      "metadata": {
        "id": "pKIrOJzi4dqJ"
      }
    },
    {
      "cell_type": "code",
      "source": [
        "!wget -O jak2_data.csv https://www.dropbox.com/s/322tzexv1e6wcnb/jak2_data.csv?dl=0"
      ],
      "metadata": {
        "colab": {
          "base_uri": "https://localhost:8080/"
        },
        "id": "_TeifAYD30EH",
        "outputId": "1449eb68-3957-4a4a-a407-d925f183a40e"
      },
      "execution_count": 17,
      "outputs": [
        {
          "output_type": "stream",
          "name": "stdout",
          "text": [
            "--2023-03-21 01:59:52--  https://www.dropbox.com/s/322tzexv1e6wcnb/jak2_data.csv?dl=0\n",
            "Resolving www.dropbox.com (www.dropbox.com)... 162.125.7.18, 2620:100:601c:18::a27d:612\n",
            "Connecting to www.dropbox.com (www.dropbox.com)|162.125.7.18|:443... connected.\n",
            "HTTP request sent, awaiting response... 302 Found\n",
            "Location: /s/raw/322tzexv1e6wcnb/jak2_data.csv [following]\n",
            "--2023-03-21 01:59:52--  https://www.dropbox.com/s/raw/322tzexv1e6wcnb/jak2_data.csv\n",
            "Reusing existing connection to www.dropbox.com:443.\n",
            "HTTP request sent, awaiting response... 302 Found\n",
            "Location: https://uc609540e4443c9322565a3d3719.dl.dropboxusercontent.com/cd/0/inline/B4ppW5_pPU1IEakjldsh6-Z7cKF3Fb8PVP0qXVQo4xPr_wW4KoYH7MrIeBseNmiMtoxbd4EFyW67YD2GXlkZiFlTBepS9MJvR0ysgacQRJu1UKTZt7y1HqoEsvld2XqooLZ3JzDH8JBEfxHHeCFw0WXIu3-C5lGVxkvKVJiB2ETR_g/file# [following]\n",
            "--2023-03-21 01:59:52--  https://uc609540e4443c9322565a3d3719.dl.dropboxusercontent.com/cd/0/inline/B4ppW5_pPU1IEakjldsh6-Z7cKF3Fb8PVP0qXVQo4xPr_wW4KoYH7MrIeBseNmiMtoxbd4EFyW67YD2GXlkZiFlTBepS9MJvR0ysgacQRJu1UKTZt7y1HqoEsvld2XqooLZ3JzDH8JBEfxHHeCFw0WXIu3-C5lGVxkvKVJiB2ETR_g/file\n",
            "Resolving uc609540e4443c9322565a3d3719.dl.dropboxusercontent.com (uc609540e4443c9322565a3d3719.dl.dropboxusercontent.com)... 162.125.4.15, 2620:100:601c:15::a27d:60f\n",
            "Connecting to uc609540e4443c9322565a3d3719.dl.dropboxusercontent.com (uc609540e4443c9322565a3d3719.dl.dropboxusercontent.com)|162.125.4.15|:443... connected.\n",
            "HTTP request sent, awaiting response... 200 OK\n",
            "Length: 113369 (111K) [text/plain]\n",
            "Saving to: ‘jak2_data.csv’\n",
            "\n",
            "jak2_data.csv       100%[===================>] 110.71K  --.-KB/s    in 0.02s   \n",
            "\n",
            "2023-03-21 01:59:53 (5.76 MB/s) - ‘jak2_data.csv’ saved [113369/113369]\n",
            "\n"
          ]
        }
      ]
    },
    {
      "cell_type": "code",
      "source": [
        "%%time\n",
        "fout = open(\"jak2_data_canonical.csv\", \"w\")\n",
        "fout.write(\"SMILES,pIC50\\n\")\n",
        "\n",
        "with open(\"jak2_data.csv\") as fp:\n",
        "  l = fp.readline()\n",
        "  idx = 0\n",
        "  for l in fp:\n",
        "    smiles, ic50 = l.strip().split(',')\n",
        "    mol = Chem.MolFromSmiles(smiles)\n",
        "    if mol is None: # if not a valid SMILES.\n",
        "      continue\n",
        "    new_smi = Chem.MolToSmiles(mol, canonical=True)\n",
        "    fout.write(f\"{new_smi},{ic50}\\n\")\n",
        "    idx += 1\n",
        "print(f\"Total number of converted molecules: {idx}\")\n",
        "fout.close()"
      ],
      "metadata": {
        "colab": {
          "base_uri": "https://localhost:8080/"
        },
        "id": "ivcuFpAQqeNa",
        "outputId": "4aece406-9e5e-4af8-c20e-9ee1e0076ead"
      },
      "execution_count": 18,
      "outputs": [
        {
          "output_type": "stream",
          "name": "stdout",
          "text": [
            "Total number of converted molecules: 1911\n",
            "CPU times: user 964 ms, sys: 6.85 ms, total: 970 ms\n",
            "Wall time: 990 ms\n"
          ]
        }
      ]
    },
    {
      "cell_type": "code",
      "execution_count": 19,
      "metadata": {
        "id": "WZYiBMWa7KNO"
      },
      "outputs": [],
      "source": [
        "data = pd.read_csv(\"jak2_data_canonical.csv\") # CSV 파일을 읽어들이자!"
      ]
    },
    {
      "cell_type": "code",
      "execution_count": 20,
      "metadata": {
        "colab": {
          "base_uri": "https://localhost:8080/",
          "height": 424
        },
        "id": "_yWuxR-M7KNQ",
        "outputId": "4186c6ba-366c-480f-ef2f-8875849a0aa4"
      },
      "outputs": [
        {
          "output_type": "execute_result",
          "data": {
            "text/plain": [
              "                                                 SMILES  pIC50\n",
              "0            O=S(=O)(Nc1cccc(-c2cnc3ccccc3n2)c1)c1cccs1   4.26\n",
              "1     O=c1cc(-c2nc(-c3ccc(-c4cn(CCP(=O)(O)O)nn4)cc3)...   4.34\n",
              "2                NC(=O)c1ccc2c(c1)nc(C1CCC(O)CC1)n2CCCO   4.53\n",
              "3                   NCCCn1c(C2CCNCC2)nc2cc(C(N)=O)ccc21   4.56\n",
              "4                     CNC(=S)Nc1cccc(-c2cnc3ccccc3n2)c1   4.59\n",
              "...                                                 ...    ...\n",
              "1906        CC(=O)N1CCCCC(Nc2ncccc2-c2cnc3[nH]ccc3n2)C1  10.72\n",
              "1907  CN1CCN(c2ncc(-c3cnc4[nH]ccc4n3)c(NC3CCCN(S(=O)...  10.76\n",
              "1908  CC1CN(S(=O)(=O)CC2CCC(N(C)c3[nH]cnc4nccc3-4)CC...  10.78\n",
              "1909      CS(=O)(=O)N1CCC(Nc2ncccc2-c2cnc3[nH]ccc3n2)C1  10.97\n",
              "1910       COC(=O)N1CCCCC(Nc2ncccc2-c2cnc3[nH]ccc3n2)C1  10.97\n",
              "\n",
              "[1911 rows x 2 columns]"
            ],
            "text/html": [
              "\n",
              "  <div id=\"df-d972547c-a136-4462-9738-454414a81583\">\n",
              "    <div class=\"colab-df-container\">\n",
              "      <div>\n",
              "<style scoped>\n",
              "    .dataframe tbody tr th:only-of-type {\n",
              "        vertical-align: middle;\n",
              "    }\n",
              "\n",
              "    .dataframe tbody tr th {\n",
              "        vertical-align: top;\n",
              "    }\n",
              "\n",
              "    .dataframe thead th {\n",
              "        text-align: right;\n",
              "    }\n",
              "</style>\n",
              "<table border=\"1\" class=\"dataframe\">\n",
              "  <thead>\n",
              "    <tr style=\"text-align: right;\">\n",
              "      <th></th>\n",
              "      <th>SMILES</th>\n",
              "      <th>pIC50</th>\n",
              "    </tr>\n",
              "  </thead>\n",
              "  <tbody>\n",
              "    <tr>\n",
              "      <th>0</th>\n",
              "      <td>O=S(=O)(Nc1cccc(-c2cnc3ccccc3n2)c1)c1cccs1</td>\n",
              "      <td>4.26</td>\n",
              "    </tr>\n",
              "    <tr>\n",
              "      <th>1</th>\n",
              "      <td>O=c1cc(-c2nc(-c3ccc(-c4cn(CCP(=O)(O)O)nn4)cc3)...</td>\n",
              "      <td>4.34</td>\n",
              "    </tr>\n",
              "    <tr>\n",
              "      <th>2</th>\n",
              "      <td>NC(=O)c1ccc2c(c1)nc(C1CCC(O)CC1)n2CCCO</td>\n",
              "      <td>4.53</td>\n",
              "    </tr>\n",
              "    <tr>\n",
              "      <th>3</th>\n",
              "      <td>NCCCn1c(C2CCNCC2)nc2cc(C(N)=O)ccc21</td>\n",
              "      <td>4.56</td>\n",
              "    </tr>\n",
              "    <tr>\n",
              "      <th>4</th>\n",
              "      <td>CNC(=S)Nc1cccc(-c2cnc3ccccc3n2)c1</td>\n",
              "      <td>4.59</td>\n",
              "    </tr>\n",
              "    <tr>\n",
              "      <th>...</th>\n",
              "      <td>...</td>\n",
              "      <td>...</td>\n",
              "    </tr>\n",
              "    <tr>\n",
              "      <th>1906</th>\n",
              "      <td>CC(=O)N1CCCCC(Nc2ncccc2-c2cnc3[nH]ccc3n2)C1</td>\n",
              "      <td>10.72</td>\n",
              "    </tr>\n",
              "    <tr>\n",
              "      <th>1907</th>\n",
              "      <td>CN1CCN(c2ncc(-c3cnc4[nH]ccc4n3)c(NC3CCCN(S(=O)...</td>\n",
              "      <td>10.76</td>\n",
              "    </tr>\n",
              "    <tr>\n",
              "      <th>1908</th>\n",
              "      <td>CC1CN(S(=O)(=O)CC2CCC(N(C)c3[nH]cnc4nccc3-4)CC...</td>\n",
              "      <td>10.78</td>\n",
              "    </tr>\n",
              "    <tr>\n",
              "      <th>1909</th>\n",
              "      <td>CS(=O)(=O)N1CCC(Nc2ncccc2-c2cnc3[nH]ccc3n2)C1</td>\n",
              "      <td>10.97</td>\n",
              "    </tr>\n",
              "    <tr>\n",
              "      <th>1910</th>\n",
              "      <td>COC(=O)N1CCCCC(Nc2ncccc2-c2cnc3[nH]ccc3n2)C1</td>\n",
              "      <td>10.97</td>\n",
              "    </tr>\n",
              "  </tbody>\n",
              "</table>\n",
              "<p>1911 rows × 2 columns</p>\n",
              "</div>\n",
              "      <button class=\"colab-df-convert\" onclick=\"convertToInteractive('df-d972547c-a136-4462-9738-454414a81583')\"\n",
              "              title=\"Convert this dataframe to an interactive table.\"\n",
              "              style=\"display:none;\">\n",
              "        \n",
              "  <svg xmlns=\"http://www.w3.org/2000/svg\" height=\"24px\"viewBox=\"0 0 24 24\"\n",
              "       width=\"24px\">\n",
              "    <path d=\"M0 0h24v24H0V0z\" fill=\"none\"/>\n",
              "    <path d=\"M18.56 5.44l.94 2.06.94-2.06 2.06-.94-2.06-.94-.94-2.06-.94 2.06-2.06.94zm-11 1L8.5 8.5l.94-2.06 2.06-.94-2.06-.94L8.5 2.5l-.94 2.06-2.06.94zm10 10l.94 2.06.94-2.06 2.06-.94-2.06-.94-.94-2.06-.94 2.06-2.06.94z\"/><path d=\"M17.41 7.96l-1.37-1.37c-.4-.4-.92-.59-1.43-.59-.52 0-1.04.2-1.43.59L10.3 9.45l-7.72 7.72c-.78.78-.78 2.05 0 2.83L4 21.41c.39.39.9.59 1.41.59.51 0 1.02-.2 1.41-.59l7.78-7.78 2.81-2.81c.8-.78.8-2.07 0-2.86zM5.41 20L4 18.59l7.72-7.72 1.47 1.35L5.41 20z\"/>\n",
              "  </svg>\n",
              "      </button>\n",
              "      \n",
              "  <style>\n",
              "    .colab-df-container {\n",
              "      display:flex;\n",
              "      flex-wrap:wrap;\n",
              "      gap: 12px;\n",
              "    }\n",
              "\n",
              "    .colab-df-convert {\n",
              "      background-color: #E8F0FE;\n",
              "      border: none;\n",
              "      border-radius: 50%;\n",
              "      cursor: pointer;\n",
              "      display: none;\n",
              "      fill: #1967D2;\n",
              "      height: 32px;\n",
              "      padding: 0 0 0 0;\n",
              "      width: 32px;\n",
              "    }\n",
              "\n",
              "    .colab-df-convert:hover {\n",
              "      background-color: #E2EBFA;\n",
              "      box-shadow: 0px 1px 2px rgba(60, 64, 67, 0.3), 0px 1px 3px 1px rgba(60, 64, 67, 0.15);\n",
              "      fill: #174EA6;\n",
              "    }\n",
              "\n",
              "    [theme=dark] .colab-df-convert {\n",
              "      background-color: #3B4455;\n",
              "      fill: #D2E3FC;\n",
              "    }\n",
              "\n",
              "    [theme=dark] .colab-df-convert:hover {\n",
              "      background-color: #434B5C;\n",
              "      box-shadow: 0px 1px 3px 1px rgba(0, 0, 0, 0.15);\n",
              "      filter: drop-shadow(0px 1px 2px rgba(0, 0, 0, 0.3));\n",
              "      fill: #FFFFFF;\n",
              "    }\n",
              "  </style>\n",
              "\n",
              "      <script>\n",
              "        const buttonEl =\n",
              "          document.querySelector('#df-d972547c-a136-4462-9738-454414a81583 button.colab-df-convert');\n",
              "        buttonEl.style.display =\n",
              "          google.colab.kernel.accessAllowed ? 'block' : 'none';\n",
              "\n",
              "        async function convertToInteractive(key) {\n",
              "          const element = document.querySelector('#df-d972547c-a136-4462-9738-454414a81583');\n",
              "          const dataTable =\n",
              "            await google.colab.kernel.invokeFunction('convertToInteractive',\n",
              "                                                     [key], {});\n",
              "          if (!dataTable) return;\n",
              "\n",
              "          const docLinkHtml = 'Like what you see? Visit the ' +\n",
              "            '<a target=\"_blank\" href=https://colab.research.google.com/notebooks/data_table.ipynb>data table notebook</a>'\n",
              "            + ' to learn more about interactive tables.';\n",
              "          element.innerHTML = '';\n",
              "          dataTable['output_type'] = 'display_data';\n",
              "          await google.colab.output.renderOutput(dataTable, element);\n",
              "          const docLink = document.createElement('div');\n",
              "          docLink.innerHTML = docLinkHtml;\n",
              "          element.appendChild(docLink);\n",
              "        }\n",
              "      </script>\n",
              "    </div>\n",
              "  </div>\n",
              "  "
            ]
          },
          "metadata": {},
          "execution_count": 20
        }
      ],
      "source": [
        "data"
      ]
    },
    {
      "cell_type": "markdown",
      "source": [
        "Origianal data에서는 1911 개의 activity 데이터가 존재한다. \n",
        "\n",
        "그러나 이 데이터에는 중복 데이터가 존재할 수 있으므로 중복 제거를 pandas DataFrame의 **drop_duplicates**라는 method를 사용해서 제거해준다. \n"
      ],
      "metadata": {
        "id": "7ZDGt0qJscQU"
      }
    },
    {
      "cell_type": "code",
      "source": [
        "data.drop_duplicates(subset=\"SMILES\", keep='first', inplace=True, ignore_index=True)"
      ],
      "metadata": {
        "id": "K_K07A69rli_"
      },
      "execution_count": 21,
      "outputs": []
    },
    {
      "cell_type": "markdown",
      "source": [
        "위의 명령을 수행하면 SMILES column을 기준으로 중복인 행을 제거한다. \n",
        "\n",
        "keep='first'는 처음 나오는 entry를 유지한다는 뜻이다. \n",
        "\n",
        "inplace는 주어진 DataFrame자체를 바로 변경시킨다는 뜻이다. "
      ],
      "metadata": {
        "id": "t76QLtPMssUJ"
      }
    },
    {
      "cell_type": "markdown",
      "source": [
        "* 첫번째 몇 개의 행의 내용을 확인해보자. "
      ],
      "metadata": {
        "id": "DfEBJnT24r_-"
      }
    },
    {
      "cell_type": "code",
      "source": [
        "data.head()"
      ],
      "metadata": {
        "colab": {
          "base_uri": "https://localhost:8080/",
          "height": 206
        },
        "id": "LxhXZYX8ro23",
        "outputId": "28490ae7-9660-4887-93fa-355584191e0a"
      },
      "execution_count": 22,
      "outputs": [
        {
          "output_type": "execute_result",
          "data": {
            "text/plain": [
              "                                              SMILES  pIC50\n",
              "0         O=S(=O)(Nc1cccc(-c2cnc3ccccc3n2)c1)c1cccs1   4.26\n",
              "1  O=c1cc(-c2nc(-c3ccc(-c4cn(CCP(=O)(O)O)nn4)cc3)...   4.34\n",
              "2             NC(=O)c1ccc2c(c1)nc(C1CCC(O)CC1)n2CCCO   4.53\n",
              "3                NCCCn1c(C2CCNCC2)nc2cc(C(N)=O)ccc21   4.56\n",
              "4                  CNC(=S)Nc1cccc(-c2cnc3ccccc3n2)c1   4.59"
            ],
            "text/html": [
              "\n",
              "  <div id=\"df-32a75c73-a03c-4373-ab5d-6bb8572e5500\">\n",
              "    <div class=\"colab-df-container\">\n",
              "      <div>\n",
              "<style scoped>\n",
              "    .dataframe tbody tr th:only-of-type {\n",
              "        vertical-align: middle;\n",
              "    }\n",
              "\n",
              "    .dataframe tbody tr th {\n",
              "        vertical-align: top;\n",
              "    }\n",
              "\n",
              "    .dataframe thead th {\n",
              "        text-align: right;\n",
              "    }\n",
              "</style>\n",
              "<table border=\"1\" class=\"dataframe\">\n",
              "  <thead>\n",
              "    <tr style=\"text-align: right;\">\n",
              "      <th></th>\n",
              "      <th>SMILES</th>\n",
              "      <th>pIC50</th>\n",
              "    </tr>\n",
              "  </thead>\n",
              "  <tbody>\n",
              "    <tr>\n",
              "      <th>0</th>\n",
              "      <td>O=S(=O)(Nc1cccc(-c2cnc3ccccc3n2)c1)c1cccs1</td>\n",
              "      <td>4.26</td>\n",
              "    </tr>\n",
              "    <tr>\n",
              "      <th>1</th>\n",
              "      <td>O=c1cc(-c2nc(-c3ccc(-c4cn(CCP(=O)(O)O)nn4)cc3)...</td>\n",
              "      <td>4.34</td>\n",
              "    </tr>\n",
              "    <tr>\n",
              "      <th>2</th>\n",
              "      <td>NC(=O)c1ccc2c(c1)nc(C1CCC(O)CC1)n2CCCO</td>\n",
              "      <td>4.53</td>\n",
              "    </tr>\n",
              "    <tr>\n",
              "      <th>3</th>\n",
              "      <td>NCCCn1c(C2CCNCC2)nc2cc(C(N)=O)ccc21</td>\n",
              "      <td>4.56</td>\n",
              "    </tr>\n",
              "    <tr>\n",
              "      <th>4</th>\n",
              "      <td>CNC(=S)Nc1cccc(-c2cnc3ccccc3n2)c1</td>\n",
              "      <td>4.59</td>\n",
              "    </tr>\n",
              "  </tbody>\n",
              "</table>\n",
              "</div>\n",
              "      <button class=\"colab-df-convert\" onclick=\"convertToInteractive('df-32a75c73-a03c-4373-ab5d-6bb8572e5500')\"\n",
              "              title=\"Convert this dataframe to an interactive table.\"\n",
              "              style=\"display:none;\">\n",
              "        \n",
              "  <svg xmlns=\"http://www.w3.org/2000/svg\" height=\"24px\"viewBox=\"0 0 24 24\"\n",
              "       width=\"24px\">\n",
              "    <path d=\"M0 0h24v24H0V0z\" fill=\"none\"/>\n",
              "    <path d=\"M18.56 5.44l.94 2.06.94-2.06 2.06-.94-2.06-.94-.94-2.06-.94 2.06-2.06.94zm-11 1L8.5 8.5l.94-2.06 2.06-.94-2.06-.94L8.5 2.5l-.94 2.06-2.06.94zm10 10l.94 2.06.94-2.06 2.06-.94-2.06-.94-.94-2.06-.94 2.06-2.06.94z\"/><path d=\"M17.41 7.96l-1.37-1.37c-.4-.4-.92-.59-1.43-.59-.52 0-1.04.2-1.43.59L10.3 9.45l-7.72 7.72c-.78.78-.78 2.05 0 2.83L4 21.41c.39.39.9.59 1.41.59.51 0 1.02-.2 1.41-.59l7.78-7.78 2.81-2.81c.8-.78.8-2.07 0-2.86zM5.41 20L4 18.59l7.72-7.72 1.47 1.35L5.41 20z\"/>\n",
              "  </svg>\n",
              "      </button>\n",
              "      \n",
              "  <style>\n",
              "    .colab-df-container {\n",
              "      display:flex;\n",
              "      flex-wrap:wrap;\n",
              "      gap: 12px;\n",
              "    }\n",
              "\n",
              "    .colab-df-convert {\n",
              "      background-color: #E8F0FE;\n",
              "      border: none;\n",
              "      border-radius: 50%;\n",
              "      cursor: pointer;\n",
              "      display: none;\n",
              "      fill: #1967D2;\n",
              "      height: 32px;\n",
              "      padding: 0 0 0 0;\n",
              "      width: 32px;\n",
              "    }\n",
              "\n",
              "    .colab-df-convert:hover {\n",
              "      background-color: #E2EBFA;\n",
              "      box-shadow: 0px 1px 2px rgba(60, 64, 67, 0.3), 0px 1px 3px 1px rgba(60, 64, 67, 0.15);\n",
              "      fill: #174EA6;\n",
              "    }\n",
              "\n",
              "    [theme=dark] .colab-df-convert {\n",
              "      background-color: #3B4455;\n",
              "      fill: #D2E3FC;\n",
              "    }\n",
              "\n",
              "    [theme=dark] .colab-df-convert:hover {\n",
              "      background-color: #434B5C;\n",
              "      box-shadow: 0px 1px 3px 1px rgba(0, 0, 0, 0.15);\n",
              "      filter: drop-shadow(0px 1px 2px rgba(0, 0, 0, 0.3));\n",
              "      fill: #FFFFFF;\n",
              "    }\n",
              "  </style>\n",
              "\n",
              "      <script>\n",
              "        const buttonEl =\n",
              "          document.querySelector('#df-32a75c73-a03c-4373-ab5d-6bb8572e5500 button.colab-df-convert');\n",
              "        buttonEl.style.display =\n",
              "          google.colab.kernel.accessAllowed ? 'block' : 'none';\n",
              "\n",
              "        async function convertToInteractive(key) {\n",
              "          const element = document.querySelector('#df-32a75c73-a03c-4373-ab5d-6bb8572e5500');\n",
              "          const dataTable =\n",
              "            await google.colab.kernel.invokeFunction('convertToInteractive',\n",
              "                                                     [key], {});\n",
              "          if (!dataTable) return;\n",
              "\n",
              "          const docLinkHtml = 'Like what you see? Visit the ' +\n",
              "            '<a target=\"_blank\" href=https://colab.research.google.com/notebooks/data_table.ipynb>data table notebook</a>'\n",
              "            + ' to learn more about interactive tables.';\n",
              "          element.innerHTML = '';\n",
              "          dataTable['output_type'] = 'display_data';\n",
              "          await google.colab.output.renderOutput(dataTable, element);\n",
              "          const docLink = document.createElement('div');\n",
              "          docLink.innerHTML = docLinkHtml;\n",
              "          element.appendChild(docLink);\n",
              "        }\n",
              "      </script>\n",
              "    </div>\n",
              "  </div>\n",
              "  "
            ]
          },
          "metadata": {},
          "execution_count": 22
        }
      ]
    },
    {
      "cell_type": "code",
      "source": [
        "data.tail()"
      ],
      "metadata": {
        "colab": {
          "base_uri": "https://localhost:8080/",
          "height": 206
        },
        "id": "-yA1KYmd4qzk",
        "outputId": "434afaff-8c8c-4d46-8e5f-49980e141d1d"
      },
      "execution_count": 23,
      "outputs": [
        {
          "output_type": "execute_result",
          "data": {
            "text/plain": [
              "                                                 SMILES  pIC50\n",
              "1715  CC(C)CS(=O)(=O)N1CCCC(Nc2nc(N)ncc2-c2cnc3[nH]c...  10.71\n",
              "1716        CC(=O)N1CCCCC(Nc2ncccc2-c2cnc3[nH]ccc3n2)C1  10.72\n",
              "1717  CN1CCN(c2ncc(-c3cnc4[nH]ccc4n3)c(NC3CCCN(S(=O)...  10.76\n",
              "1718  CC1CN(S(=O)(=O)CC2CCC(N(C)c3[nH]cnc4nccc3-4)CC...  10.78\n",
              "1719       COC(=O)N1CCCCC(Nc2ncccc2-c2cnc3[nH]ccc3n2)C1  10.97"
            ],
            "text/html": [
              "\n",
              "  <div id=\"df-bad63bd9-8729-42ea-a7a4-1c1866088b50\">\n",
              "    <div class=\"colab-df-container\">\n",
              "      <div>\n",
              "<style scoped>\n",
              "    .dataframe tbody tr th:only-of-type {\n",
              "        vertical-align: middle;\n",
              "    }\n",
              "\n",
              "    .dataframe tbody tr th {\n",
              "        vertical-align: top;\n",
              "    }\n",
              "\n",
              "    .dataframe thead th {\n",
              "        text-align: right;\n",
              "    }\n",
              "</style>\n",
              "<table border=\"1\" class=\"dataframe\">\n",
              "  <thead>\n",
              "    <tr style=\"text-align: right;\">\n",
              "      <th></th>\n",
              "      <th>SMILES</th>\n",
              "      <th>pIC50</th>\n",
              "    </tr>\n",
              "  </thead>\n",
              "  <tbody>\n",
              "    <tr>\n",
              "      <th>1715</th>\n",
              "      <td>CC(C)CS(=O)(=O)N1CCCC(Nc2nc(N)ncc2-c2cnc3[nH]c...</td>\n",
              "      <td>10.71</td>\n",
              "    </tr>\n",
              "    <tr>\n",
              "      <th>1716</th>\n",
              "      <td>CC(=O)N1CCCCC(Nc2ncccc2-c2cnc3[nH]ccc3n2)C1</td>\n",
              "      <td>10.72</td>\n",
              "    </tr>\n",
              "    <tr>\n",
              "      <th>1717</th>\n",
              "      <td>CN1CCN(c2ncc(-c3cnc4[nH]ccc4n3)c(NC3CCCN(S(=O)...</td>\n",
              "      <td>10.76</td>\n",
              "    </tr>\n",
              "    <tr>\n",
              "      <th>1718</th>\n",
              "      <td>CC1CN(S(=O)(=O)CC2CCC(N(C)c3[nH]cnc4nccc3-4)CC...</td>\n",
              "      <td>10.78</td>\n",
              "    </tr>\n",
              "    <tr>\n",
              "      <th>1719</th>\n",
              "      <td>COC(=O)N1CCCCC(Nc2ncccc2-c2cnc3[nH]ccc3n2)C1</td>\n",
              "      <td>10.97</td>\n",
              "    </tr>\n",
              "  </tbody>\n",
              "</table>\n",
              "</div>\n",
              "      <button class=\"colab-df-convert\" onclick=\"convertToInteractive('df-bad63bd9-8729-42ea-a7a4-1c1866088b50')\"\n",
              "              title=\"Convert this dataframe to an interactive table.\"\n",
              "              style=\"display:none;\">\n",
              "        \n",
              "  <svg xmlns=\"http://www.w3.org/2000/svg\" height=\"24px\"viewBox=\"0 0 24 24\"\n",
              "       width=\"24px\">\n",
              "    <path d=\"M0 0h24v24H0V0z\" fill=\"none\"/>\n",
              "    <path d=\"M18.56 5.44l.94 2.06.94-2.06 2.06-.94-2.06-.94-.94-2.06-.94 2.06-2.06.94zm-11 1L8.5 8.5l.94-2.06 2.06-.94-2.06-.94L8.5 2.5l-.94 2.06-2.06.94zm10 10l.94 2.06.94-2.06 2.06-.94-2.06-.94-.94-2.06-.94 2.06-2.06.94z\"/><path d=\"M17.41 7.96l-1.37-1.37c-.4-.4-.92-.59-1.43-.59-.52 0-1.04.2-1.43.59L10.3 9.45l-7.72 7.72c-.78.78-.78 2.05 0 2.83L4 21.41c.39.39.9.59 1.41.59.51 0 1.02-.2 1.41-.59l7.78-7.78 2.81-2.81c.8-.78.8-2.07 0-2.86zM5.41 20L4 18.59l7.72-7.72 1.47 1.35L5.41 20z\"/>\n",
              "  </svg>\n",
              "      </button>\n",
              "      \n",
              "  <style>\n",
              "    .colab-df-container {\n",
              "      display:flex;\n",
              "      flex-wrap:wrap;\n",
              "      gap: 12px;\n",
              "    }\n",
              "\n",
              "    .colab-df-convert {\n",
              "      background-color: #E8F0FE;\n",
              "      border: none;\n",
              "      border-radius: 50%;\n",
              "      cursor: pointer;\n",
              "      display: none;\n",
              "      fill: #1967D2;\n",
              "      height: 32px;\n",
              "      padding: 0 0 0 0;\n",
              "      width: 32px;\n",
              "    }\n",
              "\n",
              "    .colab-df-convert:hover {\n",
              "      background-color: #E2EBFA;\n",
              "      box-shadow: 0px 1px 2px rgba(60, 64, 67, 0.3), 0px 1px 3px 1px rgba(60, 64, 67, 0.15);\n",
              "      fill: #174EA6;\n",
              "    }\n",
              "\n",
              "    [theme=dark] .colab-df-convert {\n",
              "      background-color: #3B4455;\n",
              "      fill: #D2E3FC;\n",
              "    }\n",
              "\n",
              "    [theme=dark] .colab-df-convert:hover {\n",
              "      background-color: #434B5C;\n",
              "      box-shadow: 0px 1px 3px 1px rgba(0, 0, 0, 0.15);\n",
              "      filter: drop-shadow(0px 1px 2px rgba(0, 0, 0, 0.3));\n",
              "      fill: #FFFFFF;\n",
              "    }\n",
              "  </style>\n",
              "\n",
              "      <script>\n",
              "        const buttonEl =\n",
              "          document.querySelector('#df-bad63bd9-8729-42ea-a7a4-1c1866088b50 button.colab-df-convert');\n",
              "        buttonEl.style.display =\n",
              "          google.colab.kernel.accessAllowed ? 'block' : 'none';\n",
              "\n",
              "        async function convertToInteractive(key) {\n",
              "          const element = document.querySelector('#df-bad63bd9-8729-42ea-a7a4-1c1866088b50');\n",
              "          const dataTable =\n",
              "            await google.colab.kernel.invokeFunction('convertToInteractive',\n",
              "                                                     [key], {});\n",
              "          if (!dataTable) return;\n",
              "\n",
              "          const docLinkHtml = 'Like what you see? Visit the ' +\n",
              "            '<a target=\"_blank\" href=https://colab.research.google.com/notebooks/data_table.ipynb>data table notebook</a>'\n",
              "            + ' to learn more about interactive tables.';\n",
              "          element.innerHTML = '';\n",
              "          dataTable['output_type'] = 'display_data';\n",
              "          await google.colab.output.renderOutput(dataTable, element);\n",
              "          const docLink = document.createElement('div');\n",
              "          docLink.innerHTML = docLinkHtml;\n",
              "          element.appendChild(docLink);\n",
              "        }\n",
              "      </script>\n",
              "    </div>\n",
              "  </div>\n",
              "  "
            ]
          },
          "metadata": {},
          "execution_count": 23
        }
      ]
    },
    {
      "cell_type": "code",
      "source": [
        "data.describe()"
      ],
      "metadata": {
        "colab": {
          "base_uri": "https://localhost:8080/",
          "height": 300
        },
        "id": "hcF2mpjzr8o9",
        "outputId": "13f90498-7370-4293-9602-1fa84d87e275"
      },
      "execution_count": 24,
      "outputs": [
        {
          "output_type": "execute_result",
          "data": {
            "text/plain": [
              "             pIC50\n",
              "count  1720.000000\n",
              "mean      7.350105\n",
              "std       1.213571\n",
              "min       4.260000\n",
              "25%       6.557500\n",
              "50%       7.340000\n",
              "75%       8.080000\n",
              "max      10.970000"
            ],
            "text/html": [
              "\n",
              "  <div id=\"df-42704077-2f40-4fed-99a5-f6dc9ed6f405\">\n",
              "    <div class=\"colab-df-container\">\n",
              "      <div>\n",
              "<style scoped>\n",
              "    .dataframe tbody tr th:only-of-type {\n",
              "        vertical-align: middle;\n",
              "    }\n",
              "\n",
              "    .dataframe tbody tr th {\n",
              "        vertical-align: top;\n",
              "    }\n",
              "\n",
              "    .dataframe thead th {\n",
              "        text-align: right;\n",
              "    }\n",
              "</style>\n",
              "<table border=\"1\" class=\"dataframe\">\n",
              "  <thead>\n",
              "    <tr style=\"text-align: right;\">\n",
              "      <th></th>\n",
              "      <th>pIC50</th>\n",
              "    </tr>\n",
              "  </thead>\n",
              "  <tbody>\n",
              "    <tr>\n",
              "      <th>count</th>\n",
              "      <td>1720.000000</td>\n",
              "    </tr>\n",
              "    <tr>\n",
              "      <th>mean</th>\n",
              "      <td>7.350105</td>\n",
              "    </tr>\n",
              "    <tr>\n",
              "      <th>std</th>\n",
              "      <td>1.213571</td>\n",
              "    </tr>\n",
              "    <tr>\n",
              "      <th>min</th>\n",
              "      <td>4.260000</td>\n",
              "    </tr>\n",
              "    <tr>\n",
              "      <th>25%</th>\n",
              "      <td>6.557500</td>\n",
              "    </tr>\n",
              "    <tr>\n",
              "      <th>50%</th>\n",
              "      <td>7.340000</td>\n",
              "    </tr>\n",
              "    <tr>\n",
              "      <th>75%</th>\n",
              "      <td>8.080000</td>\n",
              "    </tr>\n",
              "    <tr>\n",
              "      <th>max</th>\n",
              "      <td>10.970000</td>\n",
              "    </tr>\n",
              "  </tbody>\n",
              "</table>\n",
              "</div>\n",
              "      <button class=\"colab-df-convert\" onclick=\"convertToInteractive('df-42704077-2f40-4fed-99a5-f6dc9ed6f405')\"\n",
              "              title=\"Convert this dataframe to an interactive table.\"\n",
              "              style=\"display:none;\">\n",
              "        \n",
              "  <svg xmlns=\"http://www.w3.org/2000/svg\" height=\"24px\"viewBox=\"0 0 24 24\"\n",
              "       width=\"24px\">\n",
              "    <path d=\"M0 0h24v24H0V0z\" fill=\"none\"/>\n",
              "    <path d=\"M18.56 5.44l.94 2.06.94-2.06 2.06-.94-2.06-.94-.94-2.06-.94 2.06-2.06.94zm-11 1L8.5 8.5l.94-2.06 2.06-.94-2.06-.94L8.5 2.5l-.94 2.06-2.06.94zm10 10l.94 2.06.94-2.06 2.06-.94-2.06-.94-.94-2.06-.94 2.06-2.06.94z\"/><path d=\"M17.41 7.96l-1.37-1.37c-.4-.4-.92-.59-1.43-.59-.52 0-1.04.2-1.43.59L10.3 9.45l-7.72 7.72c-.78.78-.78 2.05 0 2.83L4 21.41c.39.39.9.59 1.41.59.51 0 1.02-.2 1.41-.59l7.78-7.78 2.81-2.81c.8-.78.8-2.07 0-2.86zM5.41 20L4 18.59l7.72-7.72 1.47 1.35L5.41 20z\"/>\n",
              "  </svg>\n",
              "      </button>\n",
              "      \n",
              "  <style>\n",
              "    .colab-df-container {\n",
              "      display:flex;\n",
              "      flex-wrap:wrap;\n",
              "      gap: 12px;\n",
              "    }\n",
              "\n",
              "    .colab-df-convert {\n",
              "      background-color: #E8F0FE;\n",
              "      border: none;\n",
              "      border-radius: 50%;\n",
              "      cursor: pointer;\n",
              "      display: none;\n",
              "      fill: #1967D2;\n",
              "      height: 32px;\n",
              "      padding: 0 0 0 0;\n",
              "      width: 32px;\n",
              "    }\n",
              "\n",
              "    .colab-df-convert:hover {\n",
              "      background-color: #E2EBFA;\n",
              "      box-shadow: 0px 1px 2px rgba(60, 64, 67, 0.3), 0px 1px 3px 1px rgba(60, 64, 67, 0.15);\n",
              "      fill: #174EA6;\n",
              "    }\n",
              "\n",
              "    [theme=dark] .colab-df-convert {\n",
              "      background-color: #3B4455;\n",
              "      fill: #D2E3FC;\n",
              "    }\n",
              "\n",
              "    [theme=dark] .colab-df-convert:hover {\n",
              "      background-color: #434B5C;\n",
              "      box-shadow: 0px 1px 3px 1px rgba(0, 0, 0, 0.15);\n",
              "      filter: drop-shadow(0px 1px 2px rgba(0, 0, 0, 0.3));\n",
              "      fill: #FFFFFF;\n",
              "    }\n",
              "  </style>\n",
              "\n",
              "      <script>\n",
              "        const buttonEl =\n",
              "          document.querySelector('#df-42704077-2f40-4fed-99a5-f6dc9ed6f405 button.colab-df-convert');\n",
              "        buttonEl.style.display =\n",
              "          google.colab.kernel.accessAllowed ? 'block' : 'none';\n",
              "\n",
              "        async function convertToInteractive(key) {\n",
              "          const element = document.querySelector('#df-42704077-2f40-4fed-99a5-f6dc9ed6f405');\n",
              "          const dataTable =\n",
              "            await google.colab.kernel.invokeFunction('convertToInteractive',\n",
              "                                                     [key], {});\n",
              "          if (!dataTable) return;\n",
              "\n",
              "          const docLinkHtml = 'Like what you see? Visit the ' +\n",
              "            '<a target=\"_blank\" href=https://colab.research.google.com/notebooks/data_table.ipynb>data table notebook</a>'\n",
              "            + ' to learn more about interactive tables.';\n",
              "          element.innerHTML = '';\n",
              "          dataTable['output_type'] = 'display_data';\n",
              "          await google.colab.output.renderOutput(dataTable, element);\n",
              "          const docLink = document.createElement('div');\n",
              "          docLink.innerHTML = docLinkHtml;\n",
              "          element.appendChild(docLink);\n",
              "        }\n",
              "      </script>\n",
              "    </div>\n",
              "  </div>\n",
              "  "
            ]
          },
          "metadata": {},
          "execution_count": 24
        }
      ]
    },
    {
      "cell_type": "code",
      "source": [
        "data[\"pIC50\"].hist(bins=30)"
      ],
      "metadata": {
        "colab": {
          "base_uri": "https://localhost:8080/",
          "height": 283
        },
        "id": "TBAd5xaEr_qc",
        "outputId": "bc522a90-cc20-45a9-d3e1-366677999e07"
      },
      "execution_count": 25,
      "outputs": [
        {
          "output_type": "execute_result",
          "data": {
            "text/plain": [
              "<Axes: >"
            ]
          },
          "metadata": {},
          "execution_count": 25
        },
        {
          "output_type": "display_data",
          "data": {
            "text/plain": [
              "<Figure size 432x288 with 1 Axes>"
            ],
            "image/png": "[encoded data removed]"
          },
          "metadata": {
            "needs_background": "light"
          }
        }
      ]
    },
    {
      "cell_type": "markdown",
      "metadata": {
        "id": "WRyvKzH17KNS"
      },
      "source": [
        "## IC50 \n",
        "The **half maximal inhibitory concentration (IC50)** is a measure of the potency of a substance in inhibiting a specific biological or biochemical function. \n",
        "\n",
        "IC50 is a quantitative measure that indicates **how much of a particular inhibitory substance (e.g. drug) is needed to inhibit, in vitro, a given biological process or biological component by 50%.** \n",
        "\n",
        "The biological component could be an enzyme, cell, cell receptor or microorganism. IC50 values are typically expressed as molar concentration.\n",
        "\n",
        "**In general, the IC50 value of a typical drug is around several nM.**\n",
        "\n",
        "$\\mathrm{pIC50} = -\\log_{10}(IC50)$"
      ]
    },
    {
      "cell_type": "markdown",
      "metadata": {
        "id": "HG5RENs17KNl"
      },
      "source": [
        "## Let's convert smiles to mols first\n",
        "-----\n"
      ]
    },
    {
      "cell_type": "markdown",
      "source": [
        "SMILES를 mol 타입 변수로 모두 변경하자. "
      ],
      "metadata": {
        "id": "rulNYoODpF6d"
      }
    },
    {
      "cell_type": "code",
      "source": [
        "%%time\n",
        "mols = [Chem.MolFromSmiles(x) for x in data[\"SMILES\"]]"
      ],
      "metadata": {
        "colab": {
          "base_uri": "https://localhost:8080/"
        },
        "id": "_j2pW84lpJSF",
        "outputId": "f086bcfb-5aa9-4c4e-fb66-0a002ec98720"
      },
      "execution_count": 26,
      "outputs": [
        {
          "output_type": "stream",
          "name": "stdout",
          "text": [
            "CPU times: user 418 ms, sys: 25.8 ms, total: 444 ms\n",
            "Wall time: 448 ms\n"
          ]
        }
      ]
    },
    {
      "cell_type": "markdown",
      "source": [
        "## Converting Mol instances to feature vectors\n",
        "-----"
      ],
      "metadata": {
        "id": "Y85eXI33pdh6"
      }
    },
    {
      "cell_type": "markdown",
      "source": [
        "### 1. Converting mol to fingerprint\n",
        "-----\n",
        "\n",
        "이제 Mol type 변수를 ECFP2 또는 ECFP4의 형태로 변형하여 feature vector로 표현해보자. \n"
      ],
      "metadata": {
        "id": "4U1qw5FixSZ2"
      }
    },
    {
      "cell_type": "code",
      "source": [
        "radius = 2; nbits = 1024\n",
        "fp_list = []\n",
        "for m in tqdm(mols):\n",
        "  fp = AllChem.GetMorganFingerprintAsBitVect(m, radius, nBits=nbits) # if radius = 2, then fp is an ECFP4\n",
        "  fp_list.append(fp.ToList())"
      ],
      "metadata": {
        "colab": {
          "base_uri": "https://localhost:8080/"
        },
        "id": "7kW0q0aWv4DQ",
        "outputId": "9552fca8-5d81-4b65-9413-11908d9c15c1"
      },
      "execution_count": 27,
      "outputs": [
        {
          "output_type": "stream",
          "name": "stderr",
          "text": [
            "100%|██████████| 1720/1720 [00:00<00:00, 7573.93it/s]\n"
          ]
        }
      ]
    },
    {
      "cell_type": "code",
      "source": [
        "fp_df = pd.DataFrame(fp_list)"
      ],
      "metadata": {
        "id": "Ql0z6N6yxYGJ"
      },
      "execution_count": 28,
      "outputs": []
    },
    {
      "cell_type": "code",
      "source": [
        "fp_df"
      ],
      "metadata": {
        "colab": {
          "base_uri": "https://localhost:8080/",
          "height": 424
        },
        "id": "QWXObsiNxcKe",
        "outputId": "b03bb0ae-4353-456b-c13f-0e4dfc7b108a"
      },
      "execution_count": 29,
      "outputs": [
        {
          "output_type": "execute_result",
          "data": {
            "text/plain": [
              "      0     1     2     3     4     5     6     7     8     9     ...  1014  \\\n",
              "0        0     0     0     0     0     0     0     0     0     0  ...     0   \n",
              "1        0     0     0     0     0     0     0     0     0     0  ...     0   \n",
              "2        0     0     0     0     0     0     0     0     0     0  ...     0   \n",
              "3        0     0     0     0     0     0     0     0     0     0  ...     0   \n",
              "4        0     0     0     0     0     0     0     0     0     0  ...     0   \n",
              "...    ...   ...   ...   ...   ...   ...   ...   ...   ...   ...  ...   ...   \n",
              "1715     0     1     0     0     1     0     0     0     1     0  ...     0   \n",
              "1716     0     0     0     0     1     0     0     0     1     0  ...     0   \n",
              "1717     0     0     0     0     1     0     0     0     1     0  ...     0   \n",
              "1718     0     1     0     0     0     0     0     0     0     0  ...     0   \n",
              "1719     0     0     0     0     1     0     0     0     1     0  ...     0   \n",
              "\n",
              "      1015  1016  1017  1018  1019  1020  1021  1022  1023  \n",
              "0        0     0     0     0     0     0     0     0     0  \n",
              "1        0     0     0     0     0     0     0     0     0  \n",
              "2        0     0     0     0     1     0     0     0     0  \n",
              "3        0     0     0     0     1     0     0     0     0  \n",
              "4        0     0     0     0     0     0     0     0     0  \n",
              "...    ...   ...   ...   ...   ...   ...   ...   ...   ...  \n",
              "1715     0     0     0     0     1     0     0     0     0  \n",
              "1716     0     0     1     0     1     0     0     0     0  \n",
              "1717     0     0     0     1     1     0     0     0     0  \n",
              "1718     0     0     0     0     1     0     0     0     0  \n",
              "1719     0     0     0     0     1     0     0     0     0  \n",
              "\n",
              "[1720 rows x 1024 columns]"
            ],
            "text/html": [
              "\n",
              "  <div id=\"df-2854d62f-02a0-4351-a707-6bba8e390023\">\n",
              "    <div class=\"colab-df-container\">\n",
              "      <div>\n",
              "<style scoped>\n",
              "    .dataframe tbody tr th:only-of-type {\n",
              "        vertical-align: middle;\n",
              "    }\n",
              "\n",
              "    .dataframe tbody tr th {\n",
              "        vertical-align: top;\n",
              "    }\n",
              "\n",
              "    .dataframe thead th {\n",
              "        text-align: right;\n",
              "    }\n",
              "</style>\n",
              "<table border=\"1\" class=\"dataframe\">\n",
              "  <thead>\n",
              "    <tr style=\"text-align: right;\">\n",
              "      <th></th>\n",
              "      <th>0</th>\n",
              "      <th>1</th>\n",
              "      <th>2</th>\n",
              "      <th>3</th>\n",
              "      <th>4</th>\n",
              "      <th>5</th>\n",
              "      <th>6</th>\n",
              "      <th>7</th>\n",
              "      <th>8</th>\n",
              "      <th>9</th>\n",
              "      <th>...</th>\n",
              "      <th>1014</th>\n",
              "      <th>1015</th>\n",
              "      <th>1016</th>\n",
              "      <th>1017</th>\n",
              "      <th>1018</th>\n",
              "      <th>1019</th>\n",
              "      <th>1020</th>\n",
              "      <th>1021</th>\n",
              "      <th>1022</th>\n",
              "      <th>1023</th>\n",
              "    </tr>\n",
              "  </thead>\n",
              "  <tbody>\n",
              "    <tr>\n",
              "      <th>0</th>\n",
              "      <td>0</td>\n",
              "      <td>0</td>\n",
              "      <td>0</td>\n",
              "      <td>0</td>\n",
              "      <td>0</td>\n",
              "      <td>0</td>\n",
              "      <td>0</td>\n",
              "      <td>0</td>\n",
              "      <td>0</td>\n",
              "      <td>0</td>\n",
              "      <td>...</td>\n",
              "      <td>0</td>\n",
              "      <td>0</td>\n",
              "      <td>0</td>\n",
              "      <td>0</td>\n",
              "      <td>0</td>\n",
              "      <td>0</td>\n",
              "      <td>0</td>\n",
              "      <td>0</td>\n",
              "      <td>0</td>\n",
              "      <td>0</td>\n",
              "    </tr>\n",
              "    <tr>\n",
              "      <th>1</th>\n",
              "      <td>0</td>\n",
              "      <td>0</td>\n",
              "      <td>0</td>\n",
              "      <td>0</td>\n",
              "      <td>0</td>\n",
              "      <td>0</td>\n",
              "      <td>0</td>\n",
              "      <td>0</td>\n",
              "      <td>0</td>\n",
              "      <td>0</td>\n",
              "      <td>...</td>\n",
              "      <td>0</td>\n",
              "      <td>0</td>\n",
              "      <td>0</td>\n",
              "      <td>0</td>\n",
              "      <td>0</td>\n",
              "      <td>0</td>\n",
              "      <td>0</td>\n",
              "      <td>0</td>\n",
              "      <td>0</td>\n",
              "      <td>0</td>\n",
              "    </tr>\n",
              "    <tr>\n",
              "      <th>2</th>\n",
              "      <td>0</td>\n",
              "      <td>0</td>\n",
              "      <td>0</td>\n",
              "      <td>0</td>\n",
              "      <td>0</td>\n",
              "      <td>0</td>\n",
              "      <td>0</td>\n",
              "      <td>0</td>\n",
              "      <td>0</td>\n",
              "      <td>0</td>\n",
              "      <td>...</td>\n",
              "      <td>0</td>\n",
              "      <td>0</td>\n",
              "      <td>0</td>\n",
              "      <td>0</td>\n",
              "      <td>0</td>\n",
              "      <td>1</td>\n",
              "      <td>0</td>\n",
              "      <td>0</td>\n",
              "      <td>0</td>\n",
              "      <td>0</td>\n",
              "    </tr>\n",
              "    <tr>\n",
              "      <th>3</th>\n",
              "      <td>0</td>\n",
              "      <td>0</td>\n",
              "      <td>0</td>\n",
              "      <td>0</td>\n",
              "      <td>0</td>\n",
              "      <td>0</td>\n",
              "      <td>0</td>\n",
              "      <td>0</td>\n",
              "      <td>0</td>\n",
              "      <td>0</td>\n",
              "      <td>...</td>\n",
              "      <td>0</td>\n",
              "      <td>0</td>\n",
              "      <td>0</td>\n",
              "      <td>0</td>\n",
              "      <td>0</td>\n",
              "      <td>1</td>\n",
              "      <td>0</td>\n",
              "      <td>0</td>\n",
              "      <td>0</td>\n",
              "      <td>0</td>\n",
              "    </tr>\n",
              "    <tr>\n",
              "      <th>4</th>\n",
              "      <td>0</td>\n",
              "      <td>0</td>\n",
              "      <td>0</td>\n",
              "      <td>0</td>\n",
              "      <td>0</td>\n",
              "      <td>0</td>\n",
              "      <td>0</td>\n",
              "      <td>0</td>\n",
              "      <td>0</td>\n",
              "      <td>0</td>\n",
              "      <td>...</td>\n",
              "      <td>0</td>\n",
              "      <td>0</td>\n",
              "      <td>0</td>\n",
              "      <td>0</td>\n",
              "      <td>0</td>\n",
              "      <td>0</td>\n",
              "      <td>0</td>\n",
              "      <td>0</td>\n",
              "      <td>0</td>\n",
              "      <td>0</td>\n",
              "    </tr>\n",
              "    <tr>\n",
              "      <th>...</th>\n",
              "      <td>...</td>\n",
              "      <td>...</td>\n",
              "      <td>...</td>\n",
              "      <td>...</td>\n",
              "      <td>...</td>\n",
              "      <td>...</td>\n",
              "      <td>...</td>\n",
              "      <td>...</td>\n",
              "      <td>...</td>\n",
              "      <td>...</td>\n",
              "      <td>...</td>\n",
              "      <td>...</td>\n",
              "      <td>...</td>\n",
              "      <td>...</td>\n",
              "      <td>...</td>\n",
              "      <td>...</td>\n",
              "      <td>...</td>\n",
              "      <td>...</td>\n",
              "      <td>...</td>\n",
              "      <td>...</td>\n",
              "      <td>...</td>\n",
              "    </tr>\n",
              "    <tr>\n",
              "      <th>1715</th>\n",
              "      <td>0</td>\n",
              "      <td>1</td>\n",
              "      <td>0</td>\n",
              "      <td>0</td>\n",
              "      <td>1</td>\n",
              "      <td>0</td>\n",
              "      <td>0</td>\n",
              "      <td>0</td>\n",
              "      <td>1</td>\n",
              "      <td>0</td>\n",
              "      <td>...</td>\n",
              "      <td>0</td>\n",
              "      <td>0</td>\n",
              "      <td>0</td>\n",
              "      <td>0</td>\n",
              "      <td>0</td>\n",
              "      <td>1</td>\n",
              "      <td>0</td>\n",
              "      <td>0</td>\n",
              "      <td>0</td>\n",
              "      <td>0</td>\n",
              "    </tr>\n",
              "    <tr>\n",
              "      <th>1716</th>\n",
              "      <td>0</td>\n",
              "      <td>0</td>\n",
              "      <td>0</td>\n",
              "      <td>0</td>\n",
              "      <td>1</td>\n",
              "      <td>0</td>\n",
              "      <td>0</td>\n",
              "      <td>0</td>\n",
              "      <td>1</td>\n",
              "      <td>0</td>\n",
              "      <td>...</td>\n",
              "      <td>0</td>\n",
              "      <td>0</td>\n",
              "      <td>0</td>\n",
              "      <td>1</td>\n",
              "      <td>0</td>\n",
              "      <td>1</td>\n",
              "      <td>0</td>\n",
              "      <td>0</td>\n",
              "      <td>0</td>\n",
              "      <td>0</td>\n",
              "    </tr>\n",
              "    <tr>\n",
              "      <th>1717</th>\n",
              "      <td>0</td>\n",
              "      <td>0</td>\n",
              "      <td>0</td>\n",
              "      <td>0</td>\n",
              "      <td>1</td>\n",
              "      <td>0</td>\n",
              "      <td>0</td>\n",
              "      <td>0</td>\n",
              "      <td>1</td>\n",
              "      <td>0</td>\n",
              "      <td>...</td>\n",
              "      <td>0</td>\n",
              "      <td>0</td>\n",
              "      <td>0</td>\n",
              "      <td>0</td>\n",
              "      <td>1</td>\n",
              "      <td>1</td>\n",
              "      <td>0</td>\n",
              "      <td>0</td>\n",
              "      <td>0</td>\n",
              "      <td>0</td>\n",
              "    </tr>\n",
              "    <tr>\n",
              "      <th>1718</th>\n",
              "      <td>0</td>\n",
              "      <td>1</td>\n",
              "      <td>0</td>\n",
              "      <td>0</td>\n",
              "      <td>0</td>\n",
              "      <td>0</td>\n",
              "      <td>0</td>\n",
              "      <td>0</td>\n",
              "      <td>0</td>\n",
              "      <td>0</td>\n",
              "      <td>...</td>\n",
              "      <td>0</td>\n",
              "      <td>0</td>\n",
              "      <td>0</td>\n",
              "      <td>0</td>\n",
              "      <td>0</td>\n",
              "      <td>1</td>\n",
              "      <td>0</td>\n",
              "      <td>0</td>\n",
              "      <td>0</td>\n",
              "      <td>0</td>\n",
              "    </tr>\n",
              "    <tr>\n",
              "      <th>1719</th>\n",
              "      <td>0</td>\n",
              "      <td>0</td>\n",
              "      <td>0</td>\n",
              "      <td>0</td>\n",
              "      <td>1</td>\n",
              "      <td>0</td>\n",
              "      <td>0</td>\n",
              "      <td>0</td>\n",
              "      <td>1</td>\n",
              "      <td>0</td>\n",
              "      <td>...</td>\n",
              "      <td>0</td>\n",
              "      <td>0</td>\n",
              "      <td>0</td>\n",
              "      <td>0</td>\n",
              "      <td>0</td>\n",
              "      <td>1</td>\n",
              "      <td>0</td>\n",
              "      <td>0</td>\n",
              "      <td>0</td>\n",
              "      <td>0</td>\n",
              "    </tr>\n",
              "  </tbody>\n",
              "</table>\n",
              "<p>1720 rows × 1024 columns</p>\n",
              "</div>\n",
              "      <button class=\"colab-df-convert\" onclick=\"convertToInteractive('df-2854d62f-02a0-4351-a707-6bba8e390023')\"\n",
              "              title=\"Convert this dataframe to an interactive table.\"\n",
              "              style=\"display:none;\">\n",
              "        \n",
              "  <svg xmlns=\"http://www.w3.org/2000/svg\" height=\"24px\"viewBox=\"0 0 24 24\"\n",
              "       width=\"24px\">\n",
              "    <path d=\"M0 0h24v24H0V0z\" fill=\"none\"/>\n",
              "    <path d=\"M18.56 5.44l.94 2.06.94-2.06 2.06-.94-2.06-.94-.94-2.06-.94 2.06-2.06.94zm-11 1L8.5 8.5l.94-2.06 2.06-.94-2.06-.94L8.5 2.5l-.94 2.06-2.06.94zm10 10l.94 2.06.94-2.06 2.06-.94-2.06-.94-.94-2.06-.94 2.06-2.06.94z\"/><path d=\"M17.41 7.96l-1.37-1.37c-.4-.4-.92-.59-1.43-.59-.52 0-1.04.2-1.43.59L10.3 9.45l-7.72 7.72c-.78.78-.78 2.05 0 2.83L4 21.41c.39.39.9.59 1.41.59.51 0 1.02-.2 1.41-.59l7.78-7.78 2.81-2.81c.8-.78.8-2.07 0-2.86zM5.41 20L4 18.59l7.72-7.72 1.47 1.35L5.41 20z\"/>\n",
              "  </svg>\n",
              "      </button>\n",
              "      \n",
              "  <style>\n",
              "    .colab-df-container {\n",
              "      display:flex;\n",
              "      flex-wrap:wrap;\n",
              "      gap: 12px;\n",
              "    }\n",
              "\n",
              "    .colab-df-convert {\n",
              "      background-color: #E8F0FE;\n",
              "      border: none;\n",
              "      border-radius: 50%;\n",
              "      cursor: pointer;\n",
              "      display: none;\n",
              "      fill: #1967D2;\n",
              "      height: 32px;\n",
              "      padding: 0 0 0 0;\n",
              "      width: 32px;\n",
              "    }\n",
              "\n",
              "    .colab-df-convert:hover {\n",
              "      background-color: #E2EBFA;\n",
              "      box-shadow: 0px 1px 2px rgba(60, 64, 67, 0.3), 0px 1px 3px 1px rgba(60, 64, 67, 0.15);\n",
              "      fill: #174EA6;\n",
              "    }\n",
              "\n",
              "    [theme=dark] .colab-df-convert {\n",
              "      background-color: #3B4455;\n",
              "      fill: #D2E3FC;\n",
              "    }\n",
              "\n",
              "    [theme=dark] .colab-df-convert:hover {\n",
              "      background-color: #434B5C;\n",
              "      box-shadow: 0px 1px 3px 1px rgba(0, 0, 0, 0.15);\n",
              "      filter: drop-shadow(0px 1px 2px rgba(0, 0, 0, 0.3));\n",
              "      fill: #FFFFFF;\n",
              "    }\n",
              "  </style>\n",
              "\n",
              "      <script>\n",
              "        const buttonEl =\n",
              "          document.querySelector('#df-2854d62f-02a0-4351-a707-6bba8e390023 button.colab-df-convert');\n",
              "        buttonEl.style.display =\n",
              "          google.colab.kernel.accessAllowed ? 'block' : 'none';\n",
              "\n",
              "        async function convertToInteractive(key) {\n",
              "          const element = document.querySelector('#df-2854d62f-02a0-4351-a707-6bba8e390023');\n",
              "          const dataTable =\n",
              "            await google.colab.kernel.invokeFunction('convertToInteractive',\n",
              "                                                     [key], {});\n",
              "          if (!dataTable) return;\n",
              "\n",
              "          const docLinkHtml = 'Like what you see? Visit the ' +\n",
              "            '<a target=\"_blank\" href=https://colab.research.google.com/notebooks/data_table.ipynb>data table notebook</a>'\n",
              "            + ' to learn more about interactive tables.';\n",
              "          element.innerHTML = '';\n",
              "          dataTable['output_type'] = 'display_data';\n",
              "          await google.colab.output.renderOutput(dataTable, element);\n",
              "          const docLink = document.createElement('div');\n",
              "          docLink.innerHTML = docLinkHtml;\n",
              "          element.appendChild(docLink);\n",
              "        }\n",
              "      </script>\n",
              "    </div>\n",
              "  </div>\n",
              "  "
            ]
          },
          "metadata": {},
          "execution_count": 29
        }
      ]
    },
    {
      "cell_type": "code",
      "source": [
        "fp_df.to_csv(\"jak2_fp_descriptors.csv\")"
      ],
      "metadata": {
        "id": "1-mJAhP6x71Y"
      },
      "execution_count": 30,
      "outputs": []
    },
    {
      "cell_type": "code",
      "source": [
        "fp_df.to_pickle(\"jak2_fp_descriptors.pkl\")"
      ],
      "metadata": {
        "id": "vwuwhqqKx-oq"
      },
      "execution_count": 31,
      "outputs": []
    },
    {
      "cell_type": "markdown",
      "source": [
        "### 2. Creating molecular descriptors using RDKit\n",
        "-----\n"
      ],
      "metadata": {
        "id": "9862qhZmuo3-"
      }
    },
    {
      "cell_type": "code",
      "source": [
        "import numpy as np\n",
        "from rdkit.Chem import Descriptors\n",
        "from rdkit.Chem import rdMolDescriptors\n",
        "from rdkit import DataStructs\n",
        "from rdkit.Chem import MolFromSmiles\n",
        "from rdkit.Chem.GraphDescriptors import (BalabanJ, BertzCT, Chi0, Chi0n, Chi0v, Chi1,\n",
        "                                         Chi1n, Chi1v, Chi2n, Chi2v, Chi3n, Chi3v, Chi4n, Chi4v,\n",
        "                                         HallKierAlpha, Ipc, Kappa1, Kappa2, Kappa3)\n",
        "\n",
        "from rdkit.Chem.EState.EState_VSA import (EState_VSA1, EState_VSA10, EState_VSA11, EState_VSA2, EState_VSA3,\n",
        "                                          EState_VSA4, EState_VSA5, EState_VSA6, EState_VSA7, EState_VSA8, EState_VSA9,\n",
        "                                          VSA_EState1, VSA_EState10, VSA_EState2, VSA_EState3, VSA_EState4, VSA_EState5,\n",
        "                                          VSA_EState6, VSA_EState7, VSA_EState8, VSA_EState9,)\n",
        "\n",
        "from rdkit.Chem.Descriptors import (ExactMolWt, MolWt, HeavyAtomMolWt, MaxAbsPartialCharge, MinPartialCharge,\n",
        "                                    MaxPartialCharge, MinAbsPartialCharge, NumRadicalElectrons, NumValenceElectrons)\n",
        "from rdkit.Chem.EState.EState import (MaxAbsEStateIndex, MaxEStateIndex, MinAbsEStateIndex, MinEStateIndex,)\n",
        "from rdkit.Chem.Lipinski import (FractionCSP3, HeavyAtomCount, NHOHCount, NOCount, NumAliphaticCarbocycles,\n",
        "                                 NumAliphaticHeterocycles, NumAliphaticRings, NumAromaticCarbocycles, NumAromaticHeterocycles,\n",
        "                                 NumAromaticRings, NumHAcceptors, NumHDonors, NumHeteroatoms, RingCount,\n",
        "                                 NumRotatableBonds, NumSaturatedCarbocycles, NumSaturatedHeterocycles, NumSaturatedRings,)\n",
        "from rdkit.Chem.Crippen import (MolLogP, MolMR,)\n",
        "from rdkit.Chem.MolSurf import (LabuteASA, PEOE_VSA1, PEOE_VSA10, PEOE_VSA11, PEOE_VSA12, PEOE_VSA13, PEOE_VSA14,\n",
        "                                PEOE_VSA2, PEOE_VSA3,PEOE_VSA4, PEOE_VSA5, PEOE_VSA6, PEOE_VSA7, PEOE_VSA8, PEOE_VSA9,\n",
        "                                SMR_VSA1, SMR_VSA10, SMR_VSA2, SMR_VSA3, SMR_VSA4, SMR_VSA5, SMR_VSA6,\n",
        "                                SMR_VSA7, SMR_VSA8, SMR_VSA9, SlogP_VSA1, SlogP_VSA10, SlogP_VSA11, SlogP_VSA12,\n",
        "                                SlogP_VSA2, SlogP_VSA3,SlogP_VSA4, SlogP_VSA5, SlogP_VSA6, SlogP_VSA7, SlogP_VSA8,\n",
        "                                SlogP_VSA9, TPSA,)\n",
        "from rdkit.Chem.Fragments import (fr_Al_COO, fr_Al_OH, fr_Al_OH_noTert, fr_ArN, fr_Ar_COO, fr_Ar_N, fr_Ar_NH,\n",
        " fr_Ar_OH, fr_COO, fr_COO2, fr_C_O, fr_C_O_noCOO, fr_C_S, fr_HOCCN, fr_Imine, fr_NH0, fr_NH1,\n",
        " fr_NH2, fr_N_O, fr_Ndealkylation1, fr_Ndealkylation2, fr_Nhpyrrole, fr_SH, fr_aldehyde, fr_alkyl_carbamate,\n",
        " fr_alkyl_halide, fr_allylic_oxid, fr_amide, fr_amidine, fr_aniline, fr_aryl_methyl, fr_azide, fr_azo, fr_barbitur,\n",
        " fr_benzene, fr_benzodiazepine, fr_bicyclic, fr_diazo, fr_dihydropyridine, fr_epoxide, fr_ester, fr_ether, fr_furan,\n",
        " fr_guanido, fr_halogen, fr_hdrzine, fr_hdrzone, fr_imidazole, fr_imide, fr_isocyan, fr_isothiocyan, fr_ketone,\n",
        " fr_ketone_Topliss, fr_lactam, fr_lactone, fr_methoxy, fr_morpholine, fr_nitrile, fr_nitro, fr_nitro_arom,\n",
        " fr_nitro_arom_nonortho, fr_nitroso, fr_oxazole, fr_oxime, fr_para_hydroxylation, fr_phenol,\n",
        " fr_phenol_noOrthoHbond, fr_phos_acid, fr_phos_ester, fr_piperdine, fr_piperzine, fr_priamide, fr_prisulfonamd,\n",
        " fr_pyridine, fr_quatN, fr_sulfide, fr_sulfonamd, fr_sulfone, fr_term_acetylene, fr_tetrazole, fr_thiazole, fr_thiocyan,\n",
        " fr_thiophene, fr_unbrch_alkane, fr_urea)\n",
        "\n",
        "\n",
        "def calc_rdkit_descriptors(mol):\n",
        "    AllChem.ComputeGasteigerCharges(mol)\n",
        "    if np.isnan(MinPartialCharge(mol)):\n",
        "        print(\"NaN!\", Chem.MolToSmiles(mol))\n",
        "        descriptors = None\n",
        "    else:\n",
        "        descriptors = [\n",
        "                BalabanJ(mol) , # 0\n",
        "                0.0001*BertzCT(mol) , # 1\n",
        "                0.1*Chi0(mol) , # 2\n",
        "                0.1*Chi0n(mol) , # 3\n",
        "                0.1*Chi0v(mol) , # 4\n",
        "                0.1*Chi1(mol) , # 5\n",
        "                0.1*Chi1n(mol) , # 6\n",
        "                0.1*Chi1v(mol) , # 7\n",
        "                0.1*Chi2n(mol) , # 8\n",
        "                0.1*Chi2v(mol) , # 9\n",
        "                0.1*Chi3n(mol) , # 10\n",
        "                0.1*Chi3v(mol) , # 11\n",
        "                0.1*Chi4n(mol) , # 12\n",
        "                0.1*Chi4v(mol) , # 13\n",
        "                0.01*EState_VSA1(mol) , # 14\n",
        "                0.01*EState_VSA10(mol) , #15\n",
        "                0.01*EState_VSA11(mol) , #16\n",
        "                0.01*EState_VSA2(mol) , #17\n",
        "                0.01*EState_VSA3(mol) , #18\n",
        "                0.01*EState_VSA4(mol) ,\n",
        "                0.01*EState_VSA5(mol) , #20\n",
        "                0.01*EState_VSA6(mol) ,\n",
        "                0.01*EState_VSA7(mol) ,\n",
        "                0.01*EState_VSA8(mol) ,\n",
        "                0.01*EState_VSA9(mol) ,\n",
        "                0.001*ExactMolWt(mol) , #25\n",
        "                FractionCSP3(mol) ,\n",
        "                HallKierAlpha(mol) ,\n",
        "                0.01*HeavyAtomCount(mol) ,\n",
        "                0.001*HeavyAtomMolWt(mol) ,\n",
        "                0.1*Kappa1(mol) , #30\n",
        "                0.1*Kappa2(mol) ,\n",
        "                0.001*Kappa3(mol) ,\n",
        "                0.01*LabuteASA(mol) ,\n",
        "                0.1*MaxAbsEStateIndex(mol) ,\n",
        "                MaxAbsPartialCharge(mol) , #35\n",
        "                0.1*MaxEStateIndex(mol) ,\n",
        "                MaxPartialCharge(mol) , #37\n",
        "                MinAbsEStateIndex(mol) ,\n",
        "                MinAbsPartialCharge(mol) , #39\n",
        "                MinEStateIndex(mol) , #40\n",
        "                MinPartialCharge(mol) ,\n",
        "                0.1*MolLogP(mol) ,\n",
        "                0.01*MolMR(mol) ,\n",
        "                0.001*MolWt(mol) ,\n",
        "                0.1*NHOHCount(mol) , #45\n",
        "                0.1*NOCount(mol) ,\n",
        "                NumAliphaticCarbocycles(mol) ,\n",
        "                NumAliphaticHeterocycles(mol) ,\n",
        "                0.1*NumAliphaticRings(mol) ,\n",
        "                NumAromaticCarbocycles(mol) , #50\n",
        "                NumAromaticHeterocycles(mol) ,\n",
        "                NumAromaticRings(mol) ,\n",
        "                0.1*NumHAcceptors(mol) ,\n",
        "                0.1*NumHDonors(mol) ,\n",
        "                0.1*NumHeteroatoms(mol) , #55\n",
        "                NumRadicalElectrons(mol) ,\n",
        "                0.1*NumRotatableBonds(mol) ,\n",
        "                NumSaturatedCarbocycles(mol) ,\n",
        "                NumSaturatedHeterocycles(mol) ,\n",
        "                0.1*NumSaturatedRings(mol) , #60\n",
        "                0.01*NumValenceElectrons(mol) ,\n",
        "                0.01*PEOE_VSA1(mol) ,\n",
        "                0.01*PEOE_VSA10(mol) ,\n",
        "                0.01*PEOE_VSA11(mol) ,\n",
        "                0.01*PEOE_VSA12(mol) , #65\n",
        "                0.01*PEOE_VSA13(mol) ,\n",
        "                0.01*PEOE_VSA14(mol) ,\n",
        "                0.01*PEOE_VSA2(mol) ,\n",
        "                0.01*PEOE_VSA3(mol) ,\n",
        "                0.01*PEOE_VSA4(mol) , #70\n",
        "                0.01*PEOE_VSA5(mol) ,\n",
        "                0.01*PEOE_VSA6(mol) ,\n",
        "                0.01*PEOE_VSA7(mol) ,\n",
        "                0.01*PEOE_VSA8(mol) ,\n",
        "                0.01*PEOE_VSA9(mol) , # 75\n",
        "                0.1*RingCount(mol) ,\n",
        "                0.01*SMR_VSA1(mol) ,\n",
        "                0.01*SMR_VSA10(mol) ,\n",
        "                0.01*SMR_VSA2(mol) ,\n",
        "                0.01*SMR_VSA3(mol) , # 80\n",
        "                0.01*SMR_VSA4(mol) ,\n",
        "                0.01*SMR_VSA5(mol) ,\n",
        "                0.01*SMR_VSA6(mol) ,\n",
        "                0.01*SMR_VSA7(mol) ,\n",
        "                0.01*SMR_VSA8(mol) , #85\n",
        "                0.01*SMR_VSA9(mol) ,\n",
        "                0.01*SlogP_VSA1(mol) ,\n",
        "                0.01*SlogP_VSA10(mol) ,\n",
        "                0.01*SlogP_VSA11(mol) ,\n",
        "                0.01*SlogP_VSA12(mol) ,#90\n",
        "                0.01*SlogP_VSA2(mol) , #91\n",
        "                0.01*SlogP_VSA3(mol) ,\n",
        "                0.01*SlogP_VSA4(mol) ,\n",
        "                0.01*SlogP_VSA5(mol) ,\n",
        "                0.01*SlogP_VSA6(mol) , #95\n",
        "                0.01*SlogP_VSA7(mol) ,\n",
        "                0.01*SlogP_VSA8(mol) , #97\n",
        "                0.01*SlogP_VSA9(mol) ,\n",
        "                0.01*TPSA(mol) ,\n",
        "                0.01*VSA_EState1(mol) ,#100\n",
        "                0.01*VSA_EState10(mol) ,\n",
        "                0.01*VSA_EState2(mol) ,\n",
        "                0.01*VSA_EState3(mol) ,\n",
        "                0.01*VSA_EState4(mol) ,\n",
        "                0.01*VSA_EState5(mol) , #105\n",
        "                0.01*VSA_EState6(mol) ,\n",
        "                0.01*VSA_EState7(mol) ,\n",
        "                0.01*VSA_EState8(mol) ,\n",
        "                0.01*VSA_EState9(mol) ,\n",
        "                fr_Al_COO(mol) , #110\n",
        "                fr_Al_OH(mol) ,\n",
        "                fr_Al_OH_noTert(mol) ,\n",
        "                fr_ArN(mol) ,\n",
        "                fr_Ar_COO(mol) ,\n",
        "                fr_Ar_N(mol) ,\n",
        "                fr_Ar_NH(mol) ,\n",
        "                fr_Ar_OH(mol) ,\n",
        "                fr_COO(mol) ,\n",
        "                fr_COO2(mol) ,\n",
        "                fr_C_O(mol) ,\n",
        "                fr_C_O_noCOO(mol) ,\n",
        "                fr_C_S(mol) ,\n",
        "                fr_HOCCN(mol) ,\n",
        "                fr_Imine(mol) ,\n",
        "                fr_NH0(mol) ,\n",
        "                fr_NH1(mol) ,\n",
        "                fr_NH2(mol) ,\n",
        "                fr_N_O(mol) ,\n",
        "                fr_Ndealkylation1(mol) ,\n",
        "                fr_Ndealkylation2(mol) ,\n",
        "                fr_Nhpyrrole(mol) ,\n",
        "                fr_SH(mol) ,\n",
        "                fr_aldehyde(mol) ,\n",
        "                fr_alkyl_carbamate(mol) ,\n",
        "                fr_alkyl_halide(mol) ,\n",
        "                fr_allylic_oxid(mol) ,\n",
        "                fr_amide(mol) ,\n",
        "                fr_amidine(mol) ,\n",
        "                fr_aniline(mol) ,\n",
        "                fr_aryl_methyl(mol) ,\n",
        "                fr_azide(mol) ,\n",
        "                fr_azo(mol) ,\n",
        "                fr_barbitur(mol) ,\n",
        "                fr_benzene(mol) ,\n",
        "                fr_benzodiazepine(mol) ,\n",
        "                fr_bicyclic(mol) ,\n",
        "                fr_diazo(mol) ,\n",
        "                fr_dihydropyridine(mol) ,\n",
        "                fr_epoxide(mol) ,\n",
        "                fr_ester(mol) ,\n",
        "                fr_ether(mol) ,\n",
        "                fr_furan(mol) ,\n",
        "                fr_guanido(mol) ,\n",
        "                fr_halogen(mol) ,\n",
        "                fr_hdrzine(mol) ,\n",
        "                fr_hdrzone(mol) ,\n",
        "                fr_imidazole(mol) ,\n",
        "                fr_imide(mol) ,\n",
        "                fr_isocyan(mol) ,\n",
        "                fr_isothiocyan(mol) ,\n",
        "                fr_ketone(mol) ,\n",
        "                fr_ketone_Topliss(mol) ,\n",
        "                fr_lactam(mol) ,\n",
        "                fr_lactone(mol) ,\n",
        "                fr_methoxy(mol) ,\n",
        "                fr_morpholine(mol) ,\n",
        "                fr_nitrile(mol) ,\n",
        "                fr_nitro(mol) ,\n",
        "                fr_nitro_arom(mol) ,\n",
        "                fr_nitro_arom_nonortho(mol) ,\n",
        "                fr_nitroso(mol) ,\n",
        "                fr_oxazole(mol) ,\n",
        "                fr_oxime(mol) ,\n",
        "                fr_para_hydroxylation(mol) ,\n",
        "                fr_phenol(mol) ,\n",
        "                fr_phenol_noOrthoHbond(mol) ,\n",
        "                fr_phos_acid(mol) ,\n",
        "                fr_phos_ester(mol) ,\n",
        "                fr_piperdine(mol) ,\n",
        "                fr_piperzine(mol) ,\n",
        "                fr_priamide(mol) ,\n",
        "                fr_prisulfonamd(mol) ,\n",
        "                fr_pyridine(mol) ,\n",
        "                fr_quatN(mol) ,\n",
        "                fr_sulfide(mol) ,\n",
        "                fr_sulfonamd(mol) ,\n",
        "                fr_sulfone(mol) ,\n",
        "                fr_term_acetylene(mol) ,\n",
        "                fr_tetrazole(mol) ,\n",
        "                fr_thiazole(mol) ,\n",
        "                fr_thiocyan(mol) ,\n",
        "                fr_thiophene(mol),\n",
        "                fr_unbrch_alkane(mol) ,\n",
        "                fr_urea(mol) , #rdkit properties # 196\n",
        "                ]               \n",
        "    return descriptors"
      ],
      "metadata": {
        "id": "uQXJZOBfjqFa"
      },
      "execution_count": 32,
      "outputs": []
    },
    {
      "cell_type": "markdown",
      "source": [
        "이제 모든 분자들의 descriptor를 계산하여 "
      ],
      "metadata": {
        "id": "oixgCZKavszS"
      }
    },
    {
      "cell_type": "code",
      "source": [
        "desc_list = []\n",
        "for m in tqdm(mols):\n",
        "  desc = calc_rdkit_descriptors(m)\n",
        "  desc_list.append(desc)"
      ],
      "metadata": {
        "colab": {
          "base_uri": "https://localhost:8080/"
        },
        "id": "MNdxF1kFu4p_",
        "outputId": "2c577eb2-4ddf-416e-8782-5fb2762266eb"
      },
      "execution_count": 33,
      "outputs": [
        {
          "output_type": "stream",
          "name": "stderr",
          "text": [
            "100%|██████████| 1720/1720 [00:46<00:00, 37.31it/s]\n"
          ]
        }
      ]
    },
    {
      "cell_type": "code",
      "source": [
        "desc_df = pd.DataFrame(desc_list)"
      ],
      "metadata": {
        "id": "AD8vXZ42vm1h"
      },
      "execution_count": 34,
      "outputs": []
    },
    {
      "cell_type": "code",
      "source": [
        "desc_df"
      ],
      "metadata": {
        "colab": {
          "base_uri": "https://localhost:8080/",
          "height": 488
        },
        "id": "x-SUk76Svqds",
        "outputId": "675030b1-0480-4c37-b94b-2ee5e0102fe8"
      },
      "execution_count": 35,
      "outputs": [
        {
          "output_type": "execute_result",
          "data": {
            "text/plain": [
              "           0         1         2         3         4         5         6    \\\n",
              "0     1.689101  0.113993  1.727781  1.295562  1.458862  1.211612  0.750316   \n",
              "1     1.470192  0.161964  2.528588  1.866737  1.956180  1.724813  1.085660   \n",
              "2     2.013741  0.070242  1.639698  1.311095  1.311095  1.109656  0.818758   \n",
              "3     2.049364  0.067247  1.552673  1.271652  1.271652  1.070271  0.791201   \n",
              "4     1.976973  0.080089  1.465649  1.149883  1.231532  1.025835  0.657054   \n",
              "...        ...       ...       ...       ...       ...       ...       ...   \n",
              "1715  1.589335  0.114440  2.130275  1.703780  1.785430  1.431450  0.998991   \n",
              "1716  1.616056  0.092104  1.793251  1.477409  1.477409  1.270351  0.898088   \n",
              "1717  1.409628  0.136054  2.691564  2.281306  2.362956  1.807143  1.342757   \n",
              "1718  1.343210  0.089316  2.059565  1.715912  1.797562  1.388618  1.048325   \n",
              "1719  1.594247  0.094060  1.863962  1.518234  1.518234  1.324151  0.909326   \n",
              "\n",
              "           7         8         9    ...  185  186  187  188  189  190  191  \\\n",
              "0     0.986598  0.536235  0.821928  ...    0    1    0    0    0    0    0   \n",
              "1     1.265420  0.809001  0.986659  ...    0    0    0    0    0    0    0   \n",
              "2     0.818758  0.627199  0.627199  ...    0    0    0    0    0    0    0   \n",
              "3     0.791201  0.585589  0.585589  ...    0    0    0    0    0    0    0   \n",
              "4     0.697878  0.452889  0.493713  ...    0    0    0    0    0    0    0   \n",
              "...        ...       ...       ...  ...  ...  ...  ...  ...  ...  ...  ...   \n",
              "1715  1.159907  0.797115  0.998471  ...    0    1    0    0    0    0    0   \n",
              "1716  0.898088  0.666841  0.666841  ...    0    0    0    0    0    0    0   \n",
              "1717  1.503673  1.165754  1.374602  ...    0    1    0    0    0    0    0   \n",
              "1718  1.209242  0.873419  1.074775  ...    0    1    0    0    0    0    0   \n",
              "1719  0.909326  0.661942  0.661942  ...    0    0    0    0    0    0    0   \n",
              "\n",
              "      192  193  194  \n",
              "0       1    0    0  \n",
              "1       0    0    0  \n",
              "2       0    0    0  \n",
              "3       0    0    0  \n",
              "4       0    0    0  \n",
              "...   ...  ...  ...  \n",
              "1715    0    0    0  \n",
              "1716    0    0    0  \n",
              "1717    0    0    0  \n",
              "1718    0    0    0  \n",
              "1719    0    0    0  \n",
              "\n",
              "[1720 rows x 195 columns]"
            ],
            "text/html": [
              "\n",
              "  <div id=\"df-8f69679b-b520-4915-931b-5e1421d9f599\">\n",
              "    <div class=\"colab-df-container\">\n",
              "      <div>\n",
              "<style scoped>\n",
              "    .dataframe tbody tr th:only-of-type {\n",
              "        vertical-align: middle;\n",
              "    }\n",
              "\n",
              "    .dataframe tbody tr th {\n",
              "        vertical-align: top;\n",
              "    }\n",
              "\n",
              "    .dataframe thead th {\n",
              "        text-align: right;\n",
              "    }\n",
              "</style>\n",
              "<table border=\"1\" class=\"dataframe\">\n",
              "  <thead>\n",
              "    <tr style=\"text-align: right;\">\n",
              "      <th></th>\n",
              "      <th>0</th>\n",
              "      <th>1</th>\n",
              "      <th>2</th>\n",
              "      <th>3</th>\n",
              "      <th>4</th>\n",
              "      <th>5</th>\n",
              "      <th>6</th>\n",
              "      <th>7</th>\n",
              "      <th>8</th>\n",
              "      <th>9</th>\n",
              "      <th>...</th>\n",
              "      <th>185</th>\n",
              "      <th>186</th>\n",
              "      <th>187</th>\n",
              "      <th>188</th>\n",
              "      <th>189</th>\n",
              "      <th>190</th>\n",
              "      <th>191</th>\n",
              "      <th>192</th>\n",
              "      <th>193</th>\n",
              "      <th>194</th>\n",
              "    </tr>\n",
              "  </thead>\n",
              "  <tbody>\n",
              "    <tr>\n",
              "      <th>0</th>\n",
              "      <td>1.689101</td>\n",
              "      <td>0.113993</td>\n",
              "      <td>1.727781</td>\n",
              "      <td>1.295562</td>\n",
              "      <td>1.458862</td>\n",
              "      <td>1.211612</td>\n",
              "      <td>0.750316</td>\n",
              "      <td>0.986598</td>\n",
              "      <td>0.536235</td>\n",
              "      <td>0.821928</td>\n",
              "      <td>...</td>\n",
              "      <td>0</td>\n",
              "      <td>1</td>\n",
              "      <td>0</td>\n",
              "      <td>0</td>\n",
              "      <td>0</td>\n",
              "      <td>0</td>\n",
              "      <td>0</td>\n",
              "      <td>1</td>\n",
              "      <td>0</td>\n",
              "      <td>0</td>\n",
              "    </tr>\n",
              "    <tr>\n",
              "      <th>1</th>\n",
              "      <td>1.470192</td>\n",
              "      <td>0.161964</td>\n",
              "      <td>2.528588</td>\n",
              "      <td>1.866737</td>\n",
              "      <td>1.956180</td>\n",
              "      <td>1.724813</td>\n",
              "      <td>1.085660</td>\n",
              "      <td>1.265420</td>\n",
              "      <td>0.809001</td>\n",
              "      <td>0.986659</td>\n",
              "      <td>...</td>\n",
              "      <td>0</td>\n",
              "      <td>0</td>\n",
              "      <td>0</td>\n",
              "      <td>0</td>\n",
              "      <td>0</td>\n",
              "      <td>0</td>\n",
              "      <td>0</td>\n",
              "      <td>0</td>\n",
              "      <td>0</td>\n",
              "      <td>0</td>\n",
              "    </tr>\n",
              "    <tr>\n",
              "      <th>2</th>\n",
              "      <td>2.013741</td>\n",
              "      <td>0.070242</td>\n",
              "      <td>1.639698</td>\n",
              "      <td>1.311095</td>\n",
              "      <td>1.311095</td>\n",
              "      <td>1.109656</td>\n",
              "      <td>0.818758</td>\n",
              "      <td>0.818758</td>\n",
              "      <td>0.627199</td>\n",
              "      <td>0.627199</td>\n",
              "      <td>...</td>\n",
              "      <td>0</td>\n",
              "      <td>0</td>\n",
              "      <td>0</td>\n",
              "      <td>0</td>\n",
              "      <td>0</td>\n",
              "      <td>0</td>\n",
              "      <td>0</td>\n",
              "      <td>0</td>\n",
              "      <td>0</td>\n",
              "      <td>0</td>\n",
              "    </tr>\n",
              "    <tr>\n",
              "      <th>3</th>\n",
              "      <td>2.049364</td>\n",
              "      <td>0.067247</td>\n",
              "      <td>1.552673</td>\n",
              "      <td>1.271652</td>\n",
              "      <td>1.271652</td>\n",
              "      <td>1.070271</td>\n",
              "      <td>0.791201</td>\n",
              "      <td>0.791201</td>\n",
              "      <td>0.585589</td>\n",
              "      <td>0.585589</td>\n",
              "      <td>...</td>\n",
              "      <td>0</td>\n",
              "      <td>0</td>\n",
              "      <td>0</td>\n",
              "      <td>0</td>\n",
              "      <td>0</td>\n",
              "      <td>0</td>\n",
              "      <td>0</td>\n",
              "      <td>0</td>\n",
              "      <td>0</td>\n",
              "      <td>0</td>\n",
              "    </tr>\n",
              "    <tr>\n",
              "      <th>4</th>\n",
              "      <td>1.976973</td>\n",
              "      <td>0.080089</td>\n",
              "      <td>1.465649</td>\n",
              "      <td>1.149883</td>\n",
              "      <td>1.231532</td>\n",
              "      <td>1.025835</td>\n",
              "      <td>0.657054</td>\n",
              "      <td>0.697878</td>\n",
              "      <td>0.452889</td>\n",
              "      <td>0.493713</td>\n",
              "      <td>...</td>\n",
              "      <td>0</td>\n",
              "      <td>0</td>\n",
              "      <td>0</td>\n",
              "      <td>0</td>\n",
              "      <td>0</td>\n",
              "      <td>0</td>\n",
              "      <td>0</td>\n",
              "      <td>0</td>\n",
              "      <td>0</td>\n",
              "      <td>0</td>\n",
              "    </tr>\n",
              "    <tr>\n",
              "      <th>...</th>\n",
              "      <td>...</td>\n",
              "      <td>...</td>\n",
              "      <td>...</td>\n",
              "      <td>...</td>\n",
              "      <td>...</td>\n",
              "      <td>...</td>\n",
              "      <td>...</td>\n",
              "      <td>...</td>\n",
              "      <td>...</td>\n",
              "      <td>...</td>\n",
              "      <td>...</td>\n",
              "      <td>...</td>\n",
              "      <td>...</td>\n",
              "      <td>...</td>\n",
              "      <td>...</td>\n",
              "      <td>...</td>\n",
              "      <td>...</td>\n",
              "      <td>...</td>\n",
              "      <td>...</td>\n",
              "      <td>...</td>\n",
              "      <td>...</td>\n",
              "    </tr>\n",
              "    <tr>\n",
              "      <th>1715</th>\n",
              "      <td>1.589335</td>\n",
              "      <td>0.114440</td>\n",
              "      <td>2.130275</td>\n",
              "      <td>1.703780</td>\n",
              "      <td>1.785430</td>\n",
              "      <td>1.431450</td>\n",
              "      <td>0.998991</td>\n",
              "      <td>1.159907</td>\n",
              "      <td>0.797115</td>\n",
              "      <td>0.998471</td>\n",
              "      <td>...</td>\n",
              "      <td>0</td>\n",
              "      <td>1</td>\n",
              "      <td>0</td>\n",
              "      <td>0</td>\n",
              "      <td>0</td>\n",
              "      <td>0</td>\n",
              "      <td>0</td>\n",
              "      <td>0</td>\n",
              "      <td>0</td>\n",
              "      <td>0</td>\n",
              "    </tr>\n",
              "    <tr>\n",
              "      <th>1716</th>\n",
              "      <td>1.616056</td>\n",
              "      <td>0.092104</td>\n",
              "      <td>1.793251</td>\n",
              "      <td>1.477409</td>\n",
              "      <td>1.477409</td>\n",
              "      <td>1.270351</td>\n",
              "      <td>0.898088</td>\n",
              "      <td>0.898088</td>\n",
              "      <td>0.666841</td>\n",
              "      <td>0.666841</td>\n",
              "      <td>...</td>\n",
              "      <td>0</td>\n",
              "      <td>0</td>\n",
              "      <td>0</td>\n",
              "      <td>0</td>\n",
              "      <td>0</td>\n",
              "      <td>0</td>\n",
              "      <td>0</td>\n",
              "      <td>0</td>\n",
              "      <td>0</td>\n",
              "      <td>0</td>\n",
              "    </tr>\n",
              "    <tr>\n",
              "      <th>1717</th>\n",
              "      <td>1.409628</td>\n",
              "      <td>0.136054</td>\n",
              "      <td>2.691564</td>\n",
              "      <td>2.281306</td>\n",
              "      <td>2.362956</td>\n",
              "      <td>1.807143</td>\n",
              "      <td>1.342757</td>\n",
              "      <td>1.503673</td>\n",
              "      <td>1.165754</td>\n",
              "      <td>1.374602</td>\n",
              "      <td>...</td>\n",
              "      <td>0</td>\n",
              "      <td>1</td>\n",
              "      <td>0</td>\n",
              "      <td>0</td>\n",
              "      <td>0</td>\n",
              "      <td>0</td>\n",
              "      <td>0</td>\n",
              "      <td>0</td>\n",
              "      <td>0</td>\n",
              "      <td>0</td>\n",
              "    </tr>\n",
              "    <tr>\n",
              "      <th>1718</th>\n",
              "      <td>1.343210</td>\n",
              "      <td>0.089316</td>\n",
              "      <td>2.059565</td>\n",
              "      <td>1.715912</td>\n",
              "      <td>1.797562</td>\n",
              "      <td>1.388618</td>\n",
              "      <td>1.048325</td>\n",
              "      <td>1.209242</td>\n",
              "      <td>0.873419</td>\n",
              "      <td>1.074775</td>\n",
              "      <td>...</td>\n",
              "      <td>0</td>\n",
              "      <td>1</td>\n",
              "      <td>0</td>\n",
              "      <td>0</td>\n",
              "      <td>0</td>\n",
              "      <td>0</td>\n",
              "      <td>0</td>\n",
              "      <td>0</td>\n",
              "      <td>0</td>\n",
              "      <td>0</td>\n",
              "    </tr>\n",
              "    <tr>\n",
              "      <th>1719</th>\n",
              "      <td>1.594247</td>\n",
              "      <td>0.094060</td>\n",
              "      <td>1.863962</td>\n",
              "      <td>1.518234</td>\n",
              "      <td>1.518234</td>\n",
              "      <td>1.324151</td>\n",
              "      <td>0.909326</td>\n",
              "      <td>0.909326</td>\n",
              "      <td>0.661942</td>\n",
              "      <td>0.661942</td>\n",
              "      <td>...</td>\n",
              "      <td>0</td>\n",
              "      <td>0</td>\n",
              "      <td>0</td>\n",
              "      <td>0</td>\n",
              "      <td>0</td>\n",
              "      <td>0</td>\n",
              "      <td>0</td>\n",
              "      <td>0</td>\n",
              "      <td>0</td>\n",
              "      <td>0</td>\n",
              "    </tr>\n",
              "  </tbody>\n",
              "</table>\n",
              "<p>1720 rows × 195 columns</p>\n",
              "</div>\n",
              "      <button class=\"colab-df-convert\" onclick=\"convertToInteractive('df-8f69679b-b520-4915-931b-5e1421d9f599')\"\n",
              "              title=\"Convert this dataframe to an interactive table.\"\n",
              "              style=\"display:none;\">\n",
              "        \n",
              "  <svg xmlns=\"http://www.w3.org/2000/svg\" height=\"24px\"viewBox=\"0 0 24 24\"\n",
              "       width=\"24px\">\n",
              "    <path d=\"M0 0h24v24H0V0z\" fill=\"none\"/>\n",
              "    <path d=\"M18.56 5.44l.94 2.06.94-2.06 2.06-.94-2.06-.94-.94-2.06-.94 2.06-2.06.94zm-11 1L8.5 8.5l.94-2.06 2.06-.94-2.06-.94L8.5 2.5l-.94 2.06-2.06.94zm10 10l.94 2.06.94-2.06 2.06-.94-2.06-.94-.94-2.06-.94 2.06-2.06.94z\"/><path d=\"M17.41 7.96l-1.37-1.37c-.4-.4-.92-.59-1.43-.59-.52 0-1.04.2-1.43.59L10.3 9.45l-7.72 7.72c-.78.78-.78 2.05 0 2.83L4 21.41c.39.39.9.59 1.41.59.51 0 1.02-.2 1.41-.59l7.78-7.78 2.81-2.81c.8-.78.8-2.07 0-2.86zM5.41 20L4 18.59l7.72-7.72 1.47 1.35L5.41 20z\"/>\n",
              "  </svg>\n",
              "      </button>\n",
              "      \n",
              "  <style>\n",
              "    .colab-df-container {\n",
              "      display:flex;\n",
              "      flex-wrap:wrap;\n",
              "      gap: 12px;\n",
              "    }\n",
              "\n",
              "    .colab-df-convert {\n",
              "      background-color: #E8F0FE;\n",
              "      border: none;\n",
              "      border-radius: 50%;\n",
              "      cursor: pointer;\n",
              "      display: none;\n",
              "      fill: #1967D2;\n",
              "      height: 32px;\n",
              "      padding: 0 0 0 0;\n",
              "      width: 32px;\n",
              "    }\n",
              "\n",
              "    .colab-df-convert:hover {\n",
              "      background-color: #E2EBFA;\n",
              "      box-shadow: 0px 1px 2px rgba(60, 64, 67, 0.3), 0px 1px 3px 1px rgba(60, 64, 67, 0.15);\n",
              "      fill: #174EA6;\n",
              "    }\n",
              "\n",
              "    [theme=dark] .colab-df-convert {\n",
              "      background-color: #3B4455;\n",
              "      fill: #D2E3FC;\n",
              "    }\n",
              "\n",
              "    [theme=dark] .colab-df-convert:hover {\n",
              "      background-color: #434B5C;\n",
              "      box-shadow: 0px 1px 3px 1px rgba(0, 0, 0, 0.15);\n",
              "      filter: drop-shadow(0px 1px 2px rgba(0, 0, 0, 0.3));\n",
              "      fill: #FFFFFF;\n",
              "    }\n",
              "  </style>\n",
              "\n",
              "      <script>\n",
              "        const buttonEl =\n",
              "          document.querySelector('#df-8f69679b-b520-4915-931b-5e1421d9f599 button.colab-df-convert');\n",
              "        buttonEl.style.display =\n",
              "          google.colab.kernel.accessAllowed ? 'block' : 'none';\n",
              "\n",
              "        async function convertToInteractive(key) {\n",
              "          const element = document.querySelector('#df-8f69679b-b520-4915-931b-5e1421d9f599');\n",
              "          const dataTable =\n",
              "            await google.colab.kernel.invokeFunction('convertToInteractive',\n",
              "                                                     [key], {});\n",
              "          if (!dataTable) return;\n",
              "\n",
              "          const docLinkHtml = 'Like what you see? Visit the ' +\n",
              "            '<a target=\"_blank\" href=https://colab.research.google.com/notebooks/data_table.ipynb>data table notebook</a>'\n",
              "            + ' to learn more about interactive tables.';\n",
              "          element.innerHTML = '';\n",
              "          dataTable['output_type'] = 'display_data';\n",
              "          await google.colab.output.renderOutput(dataTable, element);\n",
              "          const docLink = document.createElement('div');\n",
              "          docLink.innerHTML = docLinkHtml;\n",
              "          element.appendChild(docLink);\n",
              "        }\n",
              "      </script>\n",
              "    </div>\n",
              "  </div>\n",
              "  "
            ]
          },
          "metadata": {},
          "execution_count": 35
        }
      ]
    },
    {
      "cell_type": "markdown",
      "metadata": {
        "id": "1NKi4mlK7KNl"
      },
      "source": [
        "### 2. Creating molecular descriptors using Mordred\n",
        "----"
      ]
    },
    {
      "cell_type": "markdown",
      "source": [
        "Mordred를 설치하자. "
      ],
      "metadata": {
        "id": "kIKTo8n0owvC"
      }
    },
    {
      "cell_type": "code",
      "source": [
        "pip install mordred"
      ],
      "metadata": {
        "colab": {
          "base_uri": "https://localhost:8080/"
        },
        "id": "CTj1rv44owCR",
        "outputId": "358f25aa-f3a3-4a30-8d52-32e1ece3290e"
      },
      "execution_count": 36,
      "outputs": [
        {
          "output_type": "stream",
          "name": "stdout",
          "text": [
            "Looking in indexes: https://pypi.org/simple, https://us-python.pkg.dev/colab-wheels/public/simple/\n",
            "Collecting mordred\n",
            "  Downloading mordred-1.2.0.tar.gz (128 kB)\n",
            "\u001b[?25l     \u001b[90m━━━━━━━━━━━━━━━━━━━━━━━━━━━━━━━━━━━━━━━━\u001b[0m \u001b[32m0.0/128.8 KB\u001b[0m \u001b[31m?\u001b[0m eta \u001b[36m-:--:--\u001b[0m\r\u001b[2K     \u001b[90m━━━━━━━━━━━━━━━━━━━━━━━━━━━━━━━━━━━━━━\u001b[0m \u001b[32m128.8/128.8 KB\u001b[0m \u001b[31m11.7 MB/s\u001b[0m eta \u001b[36m0:00:00\u001b[0m\n",
            "\u001b[?25h  Preparing metadata (setup.py) ... \u001b[?25l\u001b[?25hdone\n",
            "Requirement already satisfied: six==1.* in /usr/local/lib/python3.9/dist-packages (from mordred) (1.15.0)\n",
            "Requirement already satisfied: numpy==1.* in /usr/local/lib/python3.9/dist-packages (from mordred) (1.22.4)\n",
            "Collecting networkx==2.*\n",
            "  Downloading networkx-2.8.8-py3-none-any.whl (2.0 MB)\n",
            "\u001b[2K     \u001b[90m━━━━━━━━━━━━━━━━━━━━━━━━━━━━━━━━━━━━━━━━\u001b[0m \u001b[32m2.0/2.0 MB\u001b[0m \u001b[31m67.7 MB/s\u001b[0m eta \u001b[36m0:00:00\u001b[0m\n",
            "\u001b[?25hBuilding wheels for collected packages: mordred\n",
            "  Building wheel for mordred (setup.py) ... \u001b[?25l\u001b[?25hdone\n",
            "  Created wheel for mordred: filename=mordred-1.2.0-py3-none-any.whl size=176723 sha256=3bdbf033d62782433a13ac0572f23bd25c143a9a4e6e956c3a0a00db49b8038d\n",
            "  Stored in directory: /root/.cache/pip/wheels/05/95/d1/9e913738f0e8362b3676917b953a60afd76d2b0b99ff8a71ec\n",
            "Successfully built mordred\n",
            "Installing collected packages: networkx, mordred\n",
            "  Attempting uninstall: networkx\n",
            "    Found existing installation: networkx 3.0\n",
            "    Uninstalling networkx-3.0:\n",
            "      Successfully uninstalled networkx-3.0\n",
            "Successfully installed mordred-1.2.0 networkx-2.8.8\n"
          ]
        }
      ]
    },
    {
      "cell_type": "code",
      "source": [
        "from rdkit import Chem\n",
        "from mordred import Calculator, descriptors\n",
        "\n",
        "# create descriptor calculator with all descriptors\n",
        "calc = Calculator(descriptors, ignore_3D=True)"
      ],
      "metadata": {
        "id": "LyxhnBO1ozsr"
      },
      "execution_count": 37,
      "outputs": []
    },
    {
      "cell_type": "code",
      "source": [
        "%%time\n",
        "mordred_df = calc.pandas(mols)"
      ],
      "metadata": {
        "colab": {
          "base_uri": "https://localhost:8080/"
        },
        "id": "Myl20TBHo2sl",
        "outputId": "829e0e33-14cf-4724-a138-e7d63263a9fa"
      },
      "execution_count": null,
      "outputs": [
        {
          "output_type": "stream",
          "name": "stderr",
          "text": [
            " 58%|█████▊    | 1005/1720 [09:16<09:23,  1.27it/s]"
          ]
        },
        {
          "output_type": "stream",
          "name": "stdout",
          "text": [
            "/usr/local/lib/python3.9/dist-packages/numpy/core/fromnumeric.py:86: RuntimeWarning: overflow encountered in reduce\n",
            "  return ufunc.reduce(obj, axis, dtype, out, **passkwargs)\n"
          ]
        },
        {
          "output_type": "stream",
          "name": "stderr",
          "text": [
            " 75%|███████▍  | 1286/1720 [11:51<03:02,  2.38it/s]"
          ]
        }
      ]
    },
    {
      "cell_type": "code",
      "execution_count": null,
      "metadata": {
        "id": "KTGdSVau7KNp"
      },
      "outputs": [],
      "source": [
        "mordred_df"
      ]
    },
    {
      "cell_type": "code",
      "source": [
        "mordred_df.to_csv(\"jak2_mordred_descriptors.csv\")"
      ],
      "metadata": {
        "id": "VgAwET9HtFEd"
      },
      "execution_count": null,
      "outputs": []
    },
    {
      "cell_type": "code",
      "source": [
        "mordred_df.to_pickle(\"jak2_mordred_descriptors.pkl\")"
      ],
      "metadata": {
        "id": "VgYmfFuRtXc1"
      },
      "execution_count": null,
      "outputs": []
    },
    {
      "cell_type": "markdown",
      "source": [
        "# FingerPrint 기반의 RandomForest 모델 학습"
      ],
      "metadata": {
        "id": "BeupcB4NyOuA"
      }
    },
    {
      "cell_type": "markdown",
      "metadata": {
        "id": "AeL8YBz07KNp"
      },
      "source": [
        "### Feature 와 Target 값을 정의해주자. \n",
        "-----\n",
        "1. 첫번째로 ECFP2 fingerprint를 feature vector로 사용하고 pIC50 값을 target value로 설정하자. \n"
      ]
    },
    {
      "cell_type": "code",
      "execution_count": null,
      "metadata": {
        "id": "DDXrg-L17KNp"
      },
      "outputs": [],
      "source": [
        "X = fp_df\n",
        "y = data[\"pIC50\"]"
      ]
    },
    {
      "cell_type": "code",
      "execution_count": null,
      "metadata": {
        "id": "xe7QMhJe7KNp"
      },
      "outputs": [],
      "source": [
        "X"
      ]
    },
    {
      "cell_type": "code",
      "execution_count": null,
      "metadata": {
        "id": "vrKKpWun7KNs"
      },
      "outputs": [],
      "source": [
        "y"
      ]
    },
    {
      "cell_type": "code",
      "source": [
        "y.hist(bins=20)"
      ],
      "metadata": {
        "id": "kfKPvxD46438"
      },
      "execution_count": null,
      "outputs": []
    },
    {
      "cell_type": "markdown",
      "metadata": {
        "id": "HM3Bl_l87KNs"
      },
      "source": [
        "## Training set과 test set을 나누자!\n",
        "* sklearn의 train_test_split 함수를 이용하면 손쉽게 분리할 수 있다. "
      ]
    },
    {
      "cell_type": "code",
      "execution_count": null,
      "metadata": {
        "id": "Bj01SOvo7KNu"
      },
      "outputs": [],
      "source": [
        "import sklearn.model_selection\n",
        "X_train, X_test, y_train, y_test = sklearn.model_selection.train_test_split(X, y, test_size=0.2, random_state=42)"
      ]
    },
    {
      "cell_type": "code",
      "execution_count": null,
      "metadata": {
        "id": "VG6ylfLm7KNu"
      },
      "outputs": [],
      "source": [
        "X_train[:10] # 학습용 데이터"
      ]
    },
    {
      "cell_type": "code",
      "execution_count": null,
      "metadata": {
        "id": "R1e6AHm37KNv"
      },
      "outputs": [],
      "source": [
        "X_test[:10] # 평가용 데이터"
      ]
    },
    {
      "cell_type": "code",
      "execution_count": null,
      "metadata": {
        "id": "vXG52Y4B7KNv"
      },
      "outputs": [],
      "source": [
        "y_train[:10]"
      ]
    },
    {
      "cell_type": "code",
      "execution_count": null,
      "metadata": {
        "id": "zVe3qa0d7KNv"
      },
      "outputs": [],
      "source": [
        "y_test[:10]"
      ]
    },
    {
      "cell_type": "markdown",
      "metadata": {
        "id": "qhIGa0Nj7KNv"
      },
      "source": [
        "## Let's perform regression prediction using RandomForest\n",
        "-------\n",
        "\n",
        "https://scikit-learn.org/stable/modules/generated/sklearn.ensemble.RandomForestRegressor.html"
      ]
    },
    {
      "cell_type": "code",
      "execution_count": null,
      "metadata": {
        "id": "GK_FgV_w7KNv"
      },
      "outputs": [],
      "source": [
        "import sklearn.ensemble\n",
        "from sklearn.ensemble import RandomForestRegressor"
      ]
    },
    {
      "cell_type": "markdown",
      "metadata": {
        "id": "vGZBIwfV7KNv"
      },
      "source": [
        "## 빈 모델을 하나 생성"
      ]
    },
    {
      "cell_type": "code",
      "execution_count": null,
      "metadata": {
        "id": "KzonWcpR7KNv"
      },
      "outputs": [],
      "source": [
        "my_model = RandomForestRegressor(random_state=42)"
      ]
    },
    {
      "cell_type": "markdown",
      "metadata": {
        "id": "952E2S9G7KNv"
      },
      "source": [
        "## 실제로 학습 진행!"
      ]
    },
    {
      "cell_type": "code",
      "execution_count": null,
      "metadata": {
        "id": "KoYEipPZ7KNv"
      },
      "outputs": [],
      "source": [
        "%%time\n",
        "my_model.fit(X_train, y_train)"
      ]
    },
    {
      "cell_type": "markdown",
      "metadata": {
        "id": "XInOPrS-7KNw"
      },
      "source": [
        "### 모델 평가\n",
        "-----\n",
        "* test 셋의 정보를 주고 목적값을 예측. \n",
        "* predict method사용. "
      ]
    },
    {
      "cell_type": "code",
      "execution_count": null,
      "metadata": {
        "id": "cCivlhaU7KNw"
      },
      "outputs": [],
      "source": [
        "y_pred = my_model.predict(X_test)"
      ]
    },
    {
      "cell_type": "code",
      "source": [
        "y_pred"
      ],
      "metadata": {
        "id": "etRZonI8tqtH"
      },
      "execution_count": null,
      "outputs": []
    },
    {
      "cell_type": "markdown",
      "metadata": {
        "id": "ydCN2poc7KNz"
      },
      "source": [
        "## 회귀 예측이 잘 되었는지 확인하자!\n",
        "### scatter plot을 그려보자!"
      ]
    },
    {
      "cell_type": "code",
      "execution_count": null,
      "metadata": {
        "id": "lhI9COEN7KNz"
      },
      "outputs": [],
      "source": [
        "plt.scatter(y_test, y_pred)\n",
        "plt.xlabel(\"Experimental pIC50\")\n",
        "plt.ylabel(\"Predicted pIC50\")\n",
        "plt.grid()"
      ]
    },
    {
      "cell_type": "markdown",
      "metadata": {
        "id": "48CFwVPa7KNz"
      },
      "source": [
        "### 기준선 (y==x), 완벽한 예측의 경우, 를 추가해서 그려보자\n",
        "-------"
      ]
    },
    {
      "cell_type": "code",
      "execution_count": null,
      "metadata": {
        "id": "jVw7Lw2l7KNz"
      },
      "outputs": [],
      "source": [
        "plt.scatter(y_test, y_pred)\n",
        "plt.xlabel(\"Experimental pIC50\", fontsize='xx-large')\n",
        "plt.ylabel(\"Predicted pIC50\", fontsize='xx-large')\n",
        "plt.grid()\n",
        "plt.plot(range(4, 12), range(4, 12), \"r--\", label = \"y=x\")\n",
        "plt.legend()"
      ]
    },
    {
      "cell_type": "code",
      "execution_count": null,
      "metadata": {
        "id": "ociCJXCw7KN0"
      },
      "outputs": [],
      "source": [
        "from sklearn.metrics import mean_squared_error"
      ]
    },
    {
      "cell_type": "markdown",
      "metadata": {
        "id": "zxQ-5Wq47KN0"
      },
      "source": [
        "### 오차를 계산해보자.\n",
        "-------"
      ]
    },
    {
      "cell_type": "markdown",
      "source": [
        "#### Mean Sqaured Error (MSE)\n",
        "-----"
      ],
      "metadata": {
        "id": "3DVbHZ8Bzocd"
      }
    },
    {
      "cell_type": "markdown",
      "metadata": {
        "id": "Xl4vQCq27KN0"
      },
      "source": [
        "* regression에서 가장 많이 사용하는 측정치는 mean squared error 이다. \n",
        "* 평균 제곱 오차\n",
        "\n",
        "![picture](data:image/png;base64,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)"
      ]
    },
    {
      "cell_type": "code",
      "execution_count": null,
      "metadata": {
        "id": "hmOEUxUD7KN0"
      },
      "outputs": [],
      "source": [
        "mse1 = mean_squared_error(y_test, y_pred)"
      ]
    },
    {
      "cell_type": "code",
      "source": [
        "print(f\"Mean Squared Error of this model is {mse1:.3f} (pIC50 unit)\")"
      ],
      "metadata": {
        "id": "huNWuCn9uiah"
      },
      "execution_count": null,
      "outputs": []
    },
    {
      "cell_type": "markdown",
      "source": [
        "#### Pearson correlation coefficient\n",
        "------\n",
        "\n",
        "<img src=\"https://editor.analyticsvidhya.com/uploads/39170Formula.JPG\" width=\"500\">"
      ],
      "metadata": {
        "id": "3wo-zOzPzhzB"
      }
    },
    {
      "cell_type": "code",
      "source": [
        "np.corrcoef(y_test, y_pred)"
      ],
      "metadata": {
        "id": "ibzptEEf0B2j"
      },
      "execution_count": null,
      "outputs": []
    },
    {
      "cell_type": "code",
      "source": [
        "print(f\"Pearson's correlation coefficient of our model is {np.corrcoef(y_test,y_pred)[0,1]:.3f}\")"
      ],
      "metadata": {
        "id": "IMXQFwK80Fkl"
      },
      "execution_count": null,
      "outputs": []
    },
    {
      "cell_type": "markdown",
      "source": [
        "최종적으로 우리가 ECFP4를 이용해서 학습시킨 모델은 \n",
        "MSE 0.49 pIC50 value (0.68 kcal/mol) 정도의 오차를 가지고, \n",
        "상관 계수 0.832를 가진다는 것을 확인할 수 있었다. \n",
        "\n"
      ],
      "metadata": {
        "id": "41Rgf9si4-z5"
      }
    },
    {
      "cell_type": "markdown",
      "source": [
        "# 1.2: 이번에는 유사한 문제를 classification 문제로 치환하여 풀어보자. \n",
        "--------"
      ],
      "metadata": {
        "id": "MlxVIm2R40gS"
      }
    },
    {
      "cell_type": "markdown",
      "source": [
        "일반적으로 1~10 $\\mu$M 이하의 IC50 값을 가질 때, active한 hit molecule이라고 판단한다. \n",
        "\n",
        "이번 예제에서 사용하는 데이터에는 낮은 IC50 값을 가지는 분자들이 많으므로 기준을 조금 더 높게 잡아서 0.1 $\\mu$M의 IC50 값을 active와 inactive의 기준으로 삼아서 binary classification을 수행하는 모델을 만들어보자. \n"
      ],
      "metadata": {
        "id": "v9K8UoAL5jg0"
      }
    },
    {
      "cell_type": "markdown",
      "source": [
        "일단 주어진 pIC50 값을 기반으로 pIC50가 6이 넘는 경우 True, 그렇지 않은 경우 False로 변환시켜 준다. "
      ],
      "metadata": {
        "id": "l5OpcS786FHO"
      }
    },
    {
      "cell_type": "code",
      "source": [
        "y_binary = [t > 7.0 for t in y]"
      ],
      "metadata": {
        "id": "IBoZfz8N5-ik"
      },
      "execution_count": null,
      "outputs": []
    },
    {
      "cell_type": "code",
      "source": [
        "np.sum(y_binary)"
      ],
      "metadata": {
        "id": "QX9VPYvM6qhe"
      },
      "execution_count": null,
      "outputs": []
    },
    {
      "cell_type": "markdown",
      "source": [
        "Active한 분자의 개수가 1068개임을 알 수 있다. "
      ],
      "metadata": {
        "id": "tRm9s4yx7vlq"
      }
    },
    {
      "cell_type": "markdown",
      "source": [
        "조금 더 다루기 쉽도록 pandas의 Series instance로 바꾸어주자. "
      ],
      "metadata": {
        "id": "Q-8RqoTG75XE"
      }
    },
    {
      "cell_type": "code",
      "source": [
        "y_binary = pd.Series(y_binary)"
      ],
      "metadata": {
        "id": "XB6kxxtn7o-m"
      },
      "execution_count": null,
      "outputs": []
    },
    {
      "cell_type": "code",
      "source": [
        "y_binary.describe()"
      ],
      "metadata": {
        "id": "wb1itXVk8NgO"
      },
      "execution_count": null,
      "outputs": []
    },
    {
      "cell_type": "code",
      "source": [
        "X_train, X_test, y_train, y_test = sklearn.model_selection.train_test_split(X, y_binary, test_size=0.2, random_state=42)"
      ],
      "metadata": {
        "id": "NeY9_JFl8jnH"
      },
      "execution_count": null,
      "outputs": []
    },
    {
      "cell_type": "code",
      "source": [
        "y_train.head()"
      ],
      "metadata": {
        "id": "_ejYv4Wd86_I"
      },
      "execution_count": null,
      "outputs": []
    },
    {
      "cell_type": "code",
      "source": [
        "X_train.head()"
      ],
      "metadata": {
        "id": "3_MRS2v688-g"
      },
      "execution_count": null,
      "outputs": []
    },
    {
      "cell_type": "markdown",
      "source": [
        "Classifier 모델을 선언하자. \n",
        "\n",
        "RandomForestClassifier에 관한 자세한 설명은 아래의 공식 문서를 참고하자.\n",
        "\n",
        "https://scikit-learn.org/stable/modules/generated/sklearn.ensemble.RandomForestClassifier.html"
      ],
      "metadata": {
        "id": "UEu-PHQv9SGM"
      }
    },
    {
      "cell_type": "code",
      "source": [
        "clf = sklearn.ensemble.RandomForestClassifier()"
      ],
      "metadata": {
        "id": "jREwheeV9B7D"
      },
      "execution_count": null,
      "outputs": []
    },
    {
      "cell_type": "code",
      "source": [
        "%%time\n",
        "clf.fit(X_train, y_train)"
      ],
      "metadata": {
        "id": "zEfqwjru9ci8"
      },
      "execution_count": null,
      "outputs": []
    },
    {
      "cell_type": "code",
      "source": [
        "y_pred = clf.predict(X_test)"
      ],
      "metadata": {
        "id": "yiM44-lk9hCy"
      },
      "execution_count": null,
      "outputs": []
    },
    {
      "cell_type": "code",
      "source": [
        "y_pred"
      ],
      "metadata": {
        "id": "DFNe35eE9qhe"
      },
      "execution_count": null,
      "outputs": []
    },
    {
      "cell_type": "markdown",
      "source": [
        "이제 이항 분류기의 성능을 검증하자. \n",
        "\n",
        "이항 분류 문제의 성능을 검증하는데에는 여러가지 기준 값(metric)들이 있다. \n",
        "\n",
        "* scikit-learn에 구현되어 있는 metric 함수들. \n",
        "https://scikit-learn.org/stable/modules/model_evaluation.html\n",
        "\n",
        "이 중에서 이항 분류의 경우, accuracy, recall, MCC, F1-score등이 많이 사용된다. "
      ],
      "metadata": {
        "id": "eFtTNWu890Z-"
      }
    },
    {
      "cell_type": "markdown",
      "source": [
        "<img src=\"https://miro.medium.com/v2/format:webp/0*-oGC3SE8sPCPdmxs.jpg\" width=\"800\">"
      ],
      "metadata": {
        "id": "FdS_RGFO_DP2"
      }
    },
    {
      "cell_type": "markdown",
      "source": [
        "<img src=\"https://www.researchgate.net/publication/268874045/figure/fig3/AS:295410393468929@1447442734103/The-definitions-of-confusion-matrix-derived-accuracy-measures.png\" width=\"800\">\n"
      ],
      "metadata": {
        "id": "qa2IzORU-QTP"
      }
    },
    {
      "cell_type": "code",
      "source": [
        "# accuracy\n",
        "acc = sklearn.metrics.accuracy_score(y_test, y_pred)\n",
        "# Recall (sensitivity)\n",
        "recall = sklearn.metrics.recall_score(y_test, y_pred)\n",
        "# Precision \n",
        "prec = sklearn.metrics.precision_score(y_test, y_pred)\n",
        "print(f\"Accuracy:  {acc:.3f}\")\n",
        "print(f\"Recall:    {recall:.3f}\")\n",
        "print(f\"Precision: {prec:.3f}\")"
      ],
      "metadata": {
        "id": "Ky7i5Ln59tAU"
      },
      "execution_count": null,
      "outputs": []
    },
    {
      "cell_type": "markdown",
      "source": [
        "많이 사용되는 accuracy, recall, precision 값들은 True와 False의 비율이 맞지 않을 경우, 잘 못된 결과를 줄 가능성이 높다. \n",
        "\n",
        "따라서 balaced measure인 F1-score나 Matthews correlation coefficient 값을 사용하는 것이 일반적으로 더 좋다. \n",
        "\n",
        "F1-score: https://scikit-learn.org/stable/modules/generated/sklearn.metrics.f1_score.html#sklearn.metrics.f1_score\n",
        "\n",
        "MCC: https://scikit-learn.org/stable/modules/generated/sklearn.metrics.matthews_corrcoef.html#sklearn.metrics.matthews_corrcoef"
      ],
      "metadata": {
        "id": "pQs_Z3qZAbKE"
      }
    },
    {
      "cell_type": "code",
      "source": [
        "# F1-score\n",
        "f1=sklearn.metrics.f1_score(y_test, y_pred)\n",
        "\n",
        "# MCC\n",
        "mcc=sklearn.metrics.matthews_corrcoef(y_test, y_pred)"
      ],
      "metadata": {
        "id": "97yM6FSQAJtD"
      },
      "execution_count": null,
      "outputs": []
    },
    {
      "cell_type": "code",
      "source": [
        "print(f\"F1-score: {f1:.3f}\")\n",
        "print(f\"MCC:      {mcc:.3f}\")"
      ],
      "metadata": {
        "id": "n1MrbXuyA1ss"
      },
      "execution_count": null,
      "outputs": []
    },
    {
      "cell_type": "markdown",
      "source": [
        "### ROC 곡선 그리기 \n",
        "------\n",
        "Receiver operating characteristic (ROC) curve는 분류 모델의 성능을 비교하기 위해서 많이 사용되는 곡선이다. \n",
        "\n",
        "일반적으로 ROC 곡선은 prediction probability를 기준으로 sorting한 후, \bFalse positive rate (FPR)을 X축으로 하고, True positive rate (TRP)을 Y축으로 하여 그리게 된다. \n",
        "\n",
        "따라서 이상적인 predictor의 경우, 곡선이 왼쪽 위에 붙게 되고 곡선 아래의 영역의 넓이 (Area under the curve, AUC)는 1이 된다. \n",
        "\n",
        "반대로 랜덤하게 예측되는 경우, 대각선을 따르게 되고, AUC 값은 0.5가 된다. \n",
        "\n",
        "따라서 AUC 값이 1에 가까울 수록 더 좋은 classifier라는 것을 의미한다. \n",
        "\n",
        "ROC 곡선은 다음과 같이 **RocCurveDisplay** 함수를 이용해서 그릴 수 있다. \n"
      ],
      "metadata": {
        "id": "DkbXCFCREkFB"
      }
    },
    {
      "cell_type": "code",
      "source": [
        "from sklearn.metrics import RocCurveDisplay"
      ],
      "metadata": {
        "id": "qCm3G2YCB0WO"
      },
      "execution_count": null,
      "outputs": []
    },
    {
      "cell_type": "code",
      "source": [
        "fig=plt.figure(figsize=(12,12))\n",
        "RocCurveDisplay.from_estimator(clf, X_test, y_test)\n",
        "plt.plot([0, 1], [0, 1], \"k--\", label=\"chance level (AUC = 0.5)\")\n",
        "plt.axis(\"square\")\n",
        "plt.xlabel(\"False Positive Rate\")\n",
        "plt.ylabel(\"True Positive Rate\")\n",
        "plt.title(\"Active vs. Inactive prediction ROC curve\")\n",
        "plt.tight_layout()\n",
        "plt.legend()\n",
        "plt.show()"
      ],
      "metadata": {
        "id": "QzlEt5NyCUmt"
      },
      "execution_count": null,
      "outputs": []
    },
    {
      "cell_type": "markdown",
      "source": [
        "무작위 예측에 (0.5) 어느 정도 모델의 성능이 좋은지 확인할 수 있다. "
      ],
      "metadata": {
        "id": "_tzsY-W3Erik"
      }
    },
    {
      "cell_type": "markdown",
      "metadata": {
        "id": "fPSsGNBF7KN0"
      },
      "source": [
        "# RDKit descriptor를 input으로 사용한 모델을 만들어 보자. \n",
        "-------\n"
      ]
    },
    {
      "cell_type": "code",
      "source": [
        "X = desc_df\n",
        "y = data[\"pIC50\"]"
      ],
      "metadata": {
        "id": "npI8xpqe0X-q"
      },
      "execution_count": null,
      "outputs": []
    },
    {
      "cell_type": "code",
      "source": [
        "X_train, X_test, y_train, y_test = sklearn.model_selection.train_test_split(X, y, test_size=0.2, random_state=42)"
      ],
      "metadata": {
        "id": "Cc4PBhRv0ei1"
      },
      "execution_count": null,
      "outputs": []
    },
    {
      "cell_type": "code",
      "source": [
        "X_train.head()"
      ],
      "metadata": {
        "id": "_-HhXE_9eHbo"
      },
      "execution_count": null,
      "outputs": []
    },
    {
      "cell_type": "code",
      "source": [
        "X_train.tail()"
      ],
      "metadata": {
        "id": "_Tj6_IDQ8aOx"
      },
      "execution_count": null,
      "outputs": []
    },
    {
      "cell_type": "code",
      "source": [
        "X_test.head()"
      ],
      "metadata": {
        "id": "KQEG5H1Realx"
      },
      "execution_count": null,
      "outputs": []
    },
    {
      "cell_type": "code",
      "source": [
        "X_test.tail()"
      ],
      "metadata": {
        "id": "nOQoCGUo8c34"
      },
      "execution_count": null,
      "outputs": []
    },
    {
      "cell_type": "code",
      "source": [
        "rdkit_desc_model = RandomForestRegressor()"
      ],
      "metadata": {
        "id": "StSOAEHz0io9"
      },
      "execution_count": null,
      "outputs": []
    },
    {
      "cell_type": "code",
      "source": [
        "%%time\n",
        "rdkit_desc_model.fit(X_train, y_train)"
      ],
      "metadata": {
        "id": "a0DPW9Ul0p8Z"
      },
      "execution_count": null,
      "outputs": []
    },
    {
      "cell_type": "code",
      "source": [
        "y_pred = rdkit_desc_model.predict(X_test)"
      ],
      "metadata": {
        "id": "W-nHOSkn1ZUk"
      },
      "execution_count": null,
      "outputs": []
    },
    {
      "cell_type": "code",
      "source": [
        "plt.scatter(y_test, y_pred)\n",
        "plt.xlabel(\"Experimental pIC50\", fontsize='xx-large')\n",
        "plt.ylabel(\"Predicted pIC50\", fontsize='xx-large')\n",
        "plt.grid()\n",
        "plt.plot(range(4, 12), range(4, 12), \"r--\", label = \"y=x\")\n",
        "plt.legend()"
      ],
      "metadata": {
        "id": "pBLV6skV1dxe"
      },
      "execution_count": null,
      "outputs": []
    },
    {
      "cell_type": "code",
      "source": [
        "desc_model_mse = mean_squared_error(y_test, y_pred)\n",
        "desc_model_corr = np.corrcoef(y_test, y_pred)"
      ],
      "metadata": {
        "id": "Orr7HAQY1i7w"
      },
      "execution_count": null,
      "outputs": []
    },
    {
      "cell_type": "code",
      "source": [
        "print(f\"Mean Squared Error:       {desc_model_mse:.3f}\")\n",
        "print(f\"Correlation Coefficient:  {desc_model_corr[0,1]:.3f}\")"
      ],
      "metadata": {
        "id": "DDSEE6fS1qaL"
      },
      "execution_count": null,
      "outputs": []
    },
    {
      "cell_type": "markdown",
      "metadata": {
        "id": "Mm3mq3Ub7KN0"
      },
      "source": [
        "## 트리의 개수를 증가시켜서 모델을 학습시켜보자!"
      ]
    },
    {
      "cell_type": "code",
      "execution_count": null,
      "metadata": {
        "id": "Wftr9IEV7KN0"
      },
      "outputs": [],
      "source": [
        "desc_model_v2 = RandomForestRegressor(n_estimators=300, random_state=42)"
      ]
    },
    {
      "cell_type": "code",
      "execution_count": null,
      "metadata": {
        "id": "s9u2AH-g7KN0"
      },
      "outputs": [],
      "source": [
        "%%time\n",
        "desc_model_v2.fit(X_train, y_train)"
      ]
    },
    {
      "cell_type": "code",
      "execution_count": null,
      "metadata": {
        "id": "TrAdsPz87KN0"
      },
      "outputs": [],
      "source": [
        "y_pred2 = desc_model_v2.predict(X_test)"
      ]
    },
    {
      "cell_type": "code",
      "execution_count": null,
      "metadata": {
        "id": "VsBjboH17KN0"
      },
      "outputs": [],
      "source": [
        "desc_mse2 = mean_squared_error(y_test, y_pred2)"
      ]
    },
    {
      "cell_type": "code",
      "execution_count": null,
      "metadata": {
        "id": "0MC0eq187KN0"
      },
      "outputs": [],
      "source": [
        "print(desc_mse2)"
      ]
    },
    {
      "cell_type": "code",
      "execution_count": null,
      "metadata": {
        "id": "kc8cqvcL7KN0"
      },
      "outputs": [],
      "source": [
        "print(f\"Previous MSE: {desc_model_mse:.3f}\")\n",
        "print(f\"Current MSE:  {desc_mse2:.3f}\")"
      ]
    },
    {
      "cell_type": "code",
      "execution_count": null,
      "metadata": {
        "id": "ZNFsEbIi7KN0"
      },
      "outputs": [],
      "source": [
        "plt.scatter(y_test, y_pred, marker='.', color='r', label=\"Ntree=100\")\n",
        "plt.scatter(y_test, y_pred2, marker='.', color='b', label='Ntree=300')\n",
        "plt.xlabel(\"Experimental pIC50\")\n",
        "plt.ylabel(\"Predicted pIC50\")\n",
        "plt.grid()\n",
        "plt.plot(range(4, 12), range(4, 12), \"r--\", label = \"y=x\")\n",
        "plt.legend()"
      ]
    },
    {
      "cell_type": "markdown",
      "metadata": {
        "id": "YAwn3n5W7KN1"
      },
      "source": [
        "# Tree 개수 500개에 도전!"
      ]
    },
    {
      "cell_type": "code",
      "execution_count": null,
      "metadata": {
        "id": "9m-bafdC7KN1"
      },
      "outputs": [],
      "source": [
        "my_model_v3 = RandomForestRegressor(n_estimators=500, random_state=42)"
      ]
    },
    {
      "cell_type": "code",
      "execution_count": null,
      "metadata": {
        "id": "qKsEyYpg7KN3"
      },
      "outputs": [],
      "source": [
        "%%time\n",
        "my_model_v3.fit(X_train, y_train)"
      ]
    },
    {
      "cell_type": "code",
      "execution_count": null,
      "metadata": {
        "id": "5Qi8yvC17KN3"
      },
      "outputs": [],
      "source": [
        "y_pred_v3 = my_model_v3.predict(X_test)"
      ]
    },
    {
      "cell_type": "code",
      "execution_count": null,
      "metadata": {
        "id": "ycQphgio7KN3"
      },
      "outputs": [],
      "source": [
        "mse3 = mean_squared_error(y_test, y_pred_v3)"
      ]
    },
    {
      "cell_type": "code",
      "execution_count": null,
      "metadata": {
        "id": "83hFalTi7KN3"
      },
      "outputs": [],
      "source": [
        "print(f\"Mean Squared Error: {mse3:.3f}\")"
      ]
    },
    {
      "cell_type": "markdown",
      "metadata": {
        "id": "YykYLJNa7KN3"
      },
      "source": [
        "* 에러가 조금 증가했다!\n",
        "* 이 결과는 트리 개수를 늘리는 것이 항상 모델의 정확도를 향상시키지는 않는다는 것을 보여준다. \n",
        "\n",
        "\n",
        "그렇다면, 최적의 트리 개수는 몇 개 일까? \n",
        "\n",
        "default option말고 option을 바꾸어 주면 더 좋은 결과를 얻을 수 있을까? \n",
        "\n",
        "이러한 물음에 답하기 위해서 수행할 수 있는 방법을 바로 hyperparameter optimization이라고 부른다. \n",
        "\n",
        "이는 다음 시간에 좀 더 깊이 있게 다루도록 하겠다. "
      ]
    },
    {
      "cell_type": "markdown",
      "metadata": {
        "id": "gpVdGyQa7KN3"
      },
      "source": [
        "# Feature Importance 확인. "
      ]
    },
    {
      "cell_type": "code",
      "execution_count": null,
      "metadata": {
        "id": "-jxExsne7KN3"
      },
      "outputs": [],
      "source": [
        "desc_model_v2.feature_importances_"
      ]
    },
    {
      "cell_type": "code",
      "source": [
        "importances = desc_model_v2.feature_importances_\n",
        "std = np.std([tree.feature_importances_ for tree in desc_model_v2.estimators_], axis=0)"
      ],
      "metadata": {
        "id": "KMZBqNXP6P71"
      },
      "execution_count": null,
      "outputs": []
    },
    {
      "cell_type": "code",
      "source": [
        "forest_importances = pd.Series(importances)"
      ],
      "metadata": {
        "id": "gP4seKpq8RcJ"
      },
      "execution_count": null,
      "outputs": []
    },
    {
      "cell_type": "code",
      "source": [
        "import pandas as pd\n",
        "\n",
        "fig = plt.figure(figsize=(24, 12))\n",
        "ax = fig.add_subplot(111)\n",
        "forest_importances.plot.bar(yerr=std, ax=ax)\n",
        "ax.set_title(\"Feature importances using MDI\")\n",
        "ax.set_ylabel(\"Mean decrease in impurity\")\n",
        "fig.tight_layout()"
      ],
      "metadata": {
        "id": "ywnKbO3A6bQb"
      },
      "execution_count": null,
      "outputs": []
    },
    {
      "cell_type": "code",
      "source": [
        "forest_importances"
      ],
      "metadata": {
        "id": "gSJ7hBRE7fcC"
      },
      "execution_count": null,
      "outputs": []
    },
    {
      "cell_type": "code",
      "source": [
        "forest_importances.sort_values(ascending=False)"
      ],
      "metadata": {
        "id": "UgL6zCgs7jAA"
      },
      "execution_count": null,
      "outputs": []
    },
    {
      "cell_type": "code",
      "source": [
        "forest_importances.sort_values(ascending=False)[:20]"
      ],
      "metadata": {
        "id": "TzTM5set_4p7"
      },
      "execution_count": null,
      "outputs": []
    },
    {
      "cell_type": "code",
      "source": [
        "fig = plt.figure(figsize=(24, 12))\n",
        "ax = fig.add_subplot(111)\n",
        "forest_importances.sort_values(ascending=False)[:20].plot.bar(ax=ax)\n",
        "ax.set_title(\"Feature importances using MDI\", fontsize=32)\n",
        "ax.set_ylabel(\"Mean decrease in impurity\", fontsize=32)\n",
        "plt.xticks(fontsize=16)\n",
        "plt.yticks(fontsize=16)\n",
        "fig.tight_layout()"
      ],
      "metadata": {
        "id": "M5K2IAPu8gGd"
      },
      "execution_count": null,
      "outputs": []
    },
    {
      "cell_type": "markdown",
      "source": [
        "## 예제: MorganFingerprint를 사용하여 feature importance 분석을 해보자. "
      ],
      "metadata": {
        "id": "44snICSv8hS0"
      }
    },
    {
      "cell_type": "code",
      "source": [
        "fp_importance = pd.Series(my_model.feature_importances_)"
      ],
      "metadata": {
        "id": "P53lO0fPCeOS"
      },
      "execution_count": null,
      "outputs": []
    },
    {
      "cell_type": "code",
      "source": [
        "fp_importance"
      ],
      "metadata": {
        "id": "BZMutyjzCULI"
      },
      "execution_count": null,
      "outputs": []
    },
    {
      "cell_type": "code",
      "source": [
        "fp_importance_sorted = fp_importance.sort_values(ascending=False)"
      ],
      "metadata": {
        "id": "OY_seJGTBwI9"
      },
      "execution_count": null,
      "outputs": []
    },
    {
      "cell_type": "code",
      "source": [
        "fp_importance_sorted"
      ],
      "metadata": {
        "id": "JHkhXeF0B7gc"
      },
      "execution_count": null,
      "outputs": []
    },
    {
      "cell_type": "code",
      "source": [
        "max_idx = fp_importance_sorted.index[0]\n",
        "print(f\"The most important bit index is {max_idx}\")"
      ],
      "metadata": {
        "id": "A67nLvW3W4zj"
      },
      "execution_count": null,
      "outputs": []
    },
    {
      "cell_type": "code",
      "source": [
        "print(\"These are the top bit indices\")\n",
        "print(\"=\"*30)\n",
        "for idx in range(20):\n",
        "  print(f\"Rank\\t{idx}\\t{fp_importance_sorted.index[idx]}\")"
      ],
      "metadata": {
        "id": "0cXQNr_LY3OX"
      },
      "execution_count": null,
      "outputs": []
    },
    {
      "cell_type": "code",
      "source": [
        "fig = plt.figure(figsize=(24, 12))\n",
        "ax = fig.add_subplot(111)\n",
        "fp_importance_sorted[:20].plot.bar(ax=ax)\n",
        "ax.set_title(\"Feature importances using ECFP2 bits\", fontsize=32)\n",
        "ax.set_ylabel(\"Mean decrease in impurity\", fontsize=32)\n",
        "plt.xticks(fontsize=16)\n",
        "plt.yticks(fontsize=16)\n",
        "fig.tight_layout()"
      ],
      "metadata": {
        "id": "NUfh7ISZB3Ql"
      },
      "execution_count": null,
      "outputs": []
    },
    {
      "cell_type": "code",
      "source": [
        "from rdkit.Chem import Draw"
      ],
      "metadata": {
        "id": "BGfjNGZCCDhX"
      },
      "execution_count": null,
      "outputs": []
    },
    {
      "cell_type": "code",
      "source": [
        "# Set the max_rows option to None to print all rows\n",
        "pd.set_option('display.max_rows', None)"
      ],
      "metadata": {
        "id": "1wZTHhXeEV3H"
      },
      "execution_count": null,
      "outputs": []
    },
    {
      "cell_type": "code",
      "source": [
        "print(data[\"SMILES\"][fp_df[max_idx]==1])"
      ],
      "metadata": {
        "id": "77hZ08BsEsfF"
      },
      "execution_count": null,
      "outputs": []
    },
    {
      "cell_type": "code",
      "source": [
        "last_idx = data[\"SMILES\"][fp_df[max_idx]==1].index[-1]\n",
        "print(last_idx)"
      ],
      "metadata": {
        "id": "0HlYb-BPXRgW"
      },
      "execution_count": null,
      "outputs": []
    },
    {
      "cell_type": "code",
      "source": [
        "data[\"SMILES\"].iloc[last_idx]"
      ],
      "metadata": {
        "id": "NsV-qaXPCd-s"
      },
      "execution_count": null,
      "outputs": []
    },
    {
      "cell_type": "code",
      "source": [
        "mol=Chem.MolFromSmiles(data[\"SMILES\"].iloc[last_idx])"
      ],
      "metadata": {
        "id": "A0nY65N1DLdq"
      },
      "execution_count": null,
      "outputs": []
    },
    {
      "cell_type": "code",
      "source": [
        "bi = {}\n",
        "fp = AllChem.GetMorganFingerprintAsBitVect(mol, radius=radius, nBits=nbits, bitInfo=bi)"
      ],
      "metadata": {
        "id": "fuLBBGH3Ck58"
      },
      "execution_count": null,
      "outputs": []
    },
    {
      "cell_type": "code",
      "source": [
        "bi"
      ],
      "metadata": {
        "id": "bJoiUl2SC664"
      },
      "execution_count": null,
      "outputs": []
    },
    {
      "cell_type": "code",
      "source": [
        "Draw.DrawMorganBit(mol, fp_importance_sorted.index[0], bi)"
      ],
      "metadata": {
        "id": "lcc4sOyPFIMg"
      },
      "execution_count": null,
      "outputs": []
    },
    {
      "cell_type": "markdown",
      "source": [
        "# Using XGBoost\n",
        "-------\n",
        "XGBoost는 Gradient Boosting 방법을 이용한 Tree-based algorithm입니다. \n",
        "\n",
        "Original reference: https://arxiv.org/abs/1603.02754\n",
        "Project page: https://xgboost.readthedocs.io/en/stable/\n",
        "github: https://github.com/dmlc/xgboost\n",
        "\n",
        "많은 경우 RandomForest방법에 비해서 좋은 성능을 주는 것으로 알려져있으며 데이터 기반 예측 경진대회인 Keggle에서 가장 많이 우승한 방법 중의 하나입니다. \n",
        "\n",
        "https://www.kaggle.com/"
      ],
      "metadata": {
        "id": "o8MARagNZvhF"
      }
    },
    {
      "cell_type": "markdown",
      "source": [
        "최근의 colab은 xgboost 라이브러리를 기본으로 제공합니다. \n",
        "\n",
        "xgboost 모듈을 불러옵시다. "
      ],
      "metadata": {
        "id": "mrskwJqUfixe"
      }
    },
    {
      "cell_type": "code",
      "source": [
        "import xgboost"
      ],
      "metadata": {
        "id": "BG7ODtjqZ7Ss"
      },
      "execution_count": null,
      "outputs": []
    },
    {
      "cell_type": "code",
      "source": [
        "xgboost.__version__"
      ],
      "metadata": {
        "id": "J-fS6xHZZ8_k"
      },
      "execution_count": null,
      "outputs": []
    },
    {
      "cell_type": "code",
      "source": [
        "X_train[:10]"
      ],
      "metadata": {
        "id": "OUZ63OwxbCDl"
      },
      "execution_count": null,
      "outputs": []
    },
    {
      "cell_type": "code",
      "source": [
        "X_train.describe()"
      ],
      "metadata": {
        "id": "fsbcMBwufttA"
      },
      "execution_count": null,
      "outputs": []
    },
    {
      "cell_type": "code",
      "source": [
        "y_train.head()"
      ],
      "metadata": {
        "id": "mXLGMGQzbGO-"
      },
      "execution_count": null,
      "outputs": []
    },
    {
      "cell_type": "code",
      "source": [
        "# create model instance\n",
        "bst = xgboost.XGBRegressor(n_estimators=100, learning_rate=0.1, random_state=42)\n",
        "# fit model\n",
        "bst.fit(X_train, y_train)\n",
        "# make predictions\n",
        "y_pred_xg = bst.predict(X_test)"
      ],
      "metadata": {
        "id": "nfW-wqYgZ_2X"
      },
      "execution_count": null,
      "outputs": []
    },
    {
      "cell_type": "code",
      "source": [
        "xg_mse = mean_squared_error(y_test, y_pred_xg)"
      ],
      "metadata": {
        "id": "8e0E_kQsaris"
      },
      "execution_count": null,
      "outputs": []
    },
    {
      "cell_type": "code",
      "source": [
        "print(f\"Mean Squared Error of the default XGBoost method: {xg_mse:.3f}\")"
      ],
      "metadata": {
        "id": "fVWyX-ORa5FE"
      },
      "execution_count": null,
      "outputs": []
    },
    {
      "cell_type": "markdown",
      "source": [
        "# 연습1: fingerprint의 bit를 2048로 늘려서 학습시켜 보자. \n",
        "\n"
      ],
      "metadata": {
        "id": "85zFN4s8DODe"
      }
    },
    {
      "cell_type": "markdown",
      "source": [
        "# 연습2: Mordred package를 이용해서 만든 descriptor를 이용해서 학습시켜보자. "
      ],
      "metadata": {
        "id": "hJVFh7w-WwKb"
      }
    },
    {
      "cell_type": "markdown",
      "source": [
        "# 연습3: ExtraTree method를 이용해서 비슷한 모델을 학습시켜 보자. \n",
        "----\n",
        "Scikit-learn에는 RandomForest외에도 다양한 Tree-based algorithm들이 구현되어 있다. \n",
        "그 중의 하나가 ExtraTree algorithm이다. \n",
        "\n",
        "https://scikit-learn.org/stable/modules/classes.html#module-sklearn.ensemble\n",
        "\n",
        "ExtraTree algorithm을 이용해서 같은 데이터 학습을 수행해보고 더 나은 결과를 얻을 수 있는지 확인해보라. \n"
      ],
      "metadata": {
        "id": "1rVDtztycQwH"
      }
    },
    {
      "cell_type": "code",
      "source": [],
      "metadata": {
        "id": "a6XfIQyLcQbD"
      },
      "execution_count": null,
      "outputs": []
    }
  ],
  "metadata": {
    "kernelspec": {
      "display_name": "Python 3",
      "language": "python",
      "name": "python3"
    },
    "language_info": {
      "codemirror_mode": {
        "name": "ipython",
        "version": 3
      },
      "file_extension": ".py",
      "mimetype": "text/x-python",
      "name": "python",
      "nbconvert_exporter": "python",
      "pygments_lexer": "ipython3",
      "version": "3.7.9"
    },
    "colab": {
      "provenance": [],
      "include_colab_link": true
    }
  },
  "nbformat": 4,
  "nbformat_minor": 0
}